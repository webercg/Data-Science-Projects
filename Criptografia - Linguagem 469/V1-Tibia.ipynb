{
 "cells": [
  {
   "cell_type": "code",
   "execution_count": 4,
   "metadata": {},
   "outputs": [],
   "source": [
    "from scipy import linalg\n",
    "import numpy as np"
   ]
  },
  {
   "cell_type": "markdown",
   "metadata": {},
   "source": [
    "# Criptografia de Hill"
   ]
  },
  {
   "cell_type": "markdown",
   "metadata": {},
   "source": [
    "## Chave criptografia"
   ]
  },
  {
   "cell_type": "code",
   "execution_count": 5,
   "metadata": {},
   "outputs": [
    {
     "data": {
      "text/plain": [
       "array([[1, 1, 1, 1],\n",
       "       [1, 3, 6, 1],\n",
       "       [1, 1, 4, 1],\n",
       "       [4, 6, 1, 1]])"
      ]
     },
     "execution_count": 5,
     "metadata": {},
     "output_type": "execute_result"
    }
   ],
   "source": [
    "matrix_bonelord = np.array([[3,1,6,1],[1,2,1,1],[1,1,3,1],[4,6,1,1]])\n",
    "matrix_bonelord\n",
    "\n",
    "matrix_beholder = np.array([[1,1,1,1],[1,3,6,1],[1,1,4,1],[4,6,1,1]])\n",
    "matrix_beholder"
   ]
  },
  {
   "cell_type": "code",
   "execution_count": 6,
   "metadata": {},
   "outputs": [
    {
     "data": {
      "text/plain": [
       "array([[-8.88888889e-01, -8.33333333e-01,  1.38888889e+00,\n",
       "         3.33333333e-01],\n",
       "       [ 3.33333333e-01,  5.00000000e-01, -8.33333333e-01,\n",
       "         1.38777878e-17],\n",
       "       [-3.33333333e-01,  0.00000000e+00,  3.33333333e-01,\n",
       "         0.00000000e+00],\n",
       "       [ 1.88888889e+00,  3.33333333e-01, -8.88888889e-01,\n",
       "        -3.33333333e-01]])"
      ]
     },
     "execution_count": 6,
     "metadata": {},
     "output_type": "execute_result"
    }
   ],
   "source": [
    "inv_matrix_bonelord = linalg.inv(matrix_bonelord)\n",
    "inv_matrix_bonelord\n",
    "\n",
    "inv_matrix_beholder = linalg.inv(matrix_beholder)\n",
    "inv_matrix_beholder"
   ]
  },
  {
   "cell_type": "markdown",
   "metadata": {},
   "source": [
    "chave * mensagem_recebida = mensagem_decodificada"
   ]
  },
  {
   "cell_type": "markdown",
   "metadata": {},
   "source": [
    "(4x4) * (4 x n_colunas) = (4x4)"
   ]
  },
  {
   "cell_type": "code",
   "execution_count": 7,
   "metadata": {},
   "outputs": [],
   "source": [
    "candidatos_chave_criptografia = [matrix_bonelord, inv_matrix_bonelord, matrix_beholder, inv_matrix_beholder]"
   ]
  },
  {
   "cell_type": "markdown",
   "metadata": {},
   "source": [
    "## Mensagem"
   ]
  },
  {
   "cell_type": "markdown",
   "metadata": {},
   "source": [
    "A mensagem 'blinky' foi criptografada e recebemos ela em forma de números \"1\". Essa mensagem 'Tibia' foi primeiro transformada numa matriz e multiplicada pela chave de criptografia e obtemos os números \"1\" que foram dispostos em uma matriz.\n",
    "\n",
    "Como requerimento, esses números devem se dispor em uma matriz com 4 linhas  (mesmo numero de colunas da matriz chave da criptografia), o número de colunas que essa matriz contem dependerá do tamanho de quantos algarismos a mensagem recebida \"1\" possui.\n",
    "\n",
    "Nesse primeiro momento vamos testar \n",
    "n_colunas = 2, \n",
    "n_colunas = 3,\n",
    "n_colunas = 4\n",
    "\n",
    "\n",
    "também vamos supor que 1 seja preenchido na matriz de forma linear da direita para esquerda e outra alternativa de cima pra baixo."
   ]
  },
  {
   "cell_type": "code",
   "execution_count": 8,
   "metadata": {},
   "outputs": [],
   "source": [
    "msg = 'blinky'\n",
    "numero_msg = 486486\n",
    "numero_filler = 1\n",
    "\n",
    "### Candidatos á matrizes codificada para mensagem 'Blinky'\n",
    "\n",
    "\n",
    "## n_colunas = 1\n",
    "matrix_msg1 =  np.array([[1],\n",
    "                         [1],\n",
    "                         [1],\n",
    "                         [1]])\n",
    "\n",
    "\n",
    "## n_colunas = 2\n",
    "matrix_msg2 =  np.array([[1,1],\n",
    "                         [1,1],\n",
    "                         [1,1],\n",
    "                         [1,1]])\n",
    "\n",
    "## n_colunas = 3\n",
    "matrix_msg3 =  np.array([[1,1,1],\n",
    "                         [1,1,1],\n",
    "                         [1,1,1],\n",
    "                         [1,1,1]])\n",
    "\n",
    "\n",
    "## n_colunas = 5\n",
    "matrix_msg4 =  np.array([[1,1,1,1],\n",
    "                         [1,1,1,1],\n",
    "                         [1,1,1,1],\n",
    "                         [1,1,1,1]])\n",
    "\n",
    "\n"
   ]
  },
  {
   "cell_type": "code",
   "execution_count": 9,
   "metadata": {},
   "outputs": [],
   "source": [
    "candidatos_matriz_msg = [matrix_msg1,matrix_msg2,matrix_msg3,matrix_msg4]"
   ]
  },
  {
   "cell_type": "markdown",
   "metadata": {},
   "source": [
    "# Candidatos a solução"
   ]
  },
  {
   "cell_type": "markdown",
   "metadata": {},
   "source": [
    "## Inversa * Matriz Mensagem"
   ]
  },
  {
   "cell_type": "markdown",
   "metadata": {},
   "source": [
    "A * X = B   \n",
    "Onde A = Matriz chave  \n",
    "X = Matriz equivalente á palavra 'Blinky'  \n",
    "B = Matriz_msg  "
   ]
  },
  {
   "cell_type": "code",
   "execution_count": 10,
   "metadata": {},
   "outputs": [
    {
     "data": {
      "text/plain": [
       "[array([[ 0.],\n",
       "        [-0.],\n",
       "        [ 0.],\n",
       "        [ 1.]]),\n",
       " array([[ 0.,  0.],\n",
       "        [-0., -0.],\n",
       "        [ 0.,  0.],\n",
       "        [ 1.,  1.]]),\n",
       " array([[ 0.,  0.,  0.],\n",
       "        [-0., -0., -0.],\n",
       "        [ 0.,  0.,  0.],\n",
       "        [ 1.,  1.,  1.]]),\n",
       " array([[ 0.,  0.,  0.,  0.],\n",
       "        [-0., -0., -0., -0.],\n",
       "        [ 0.,  0.,  0.,  0.],\n",
       "        [ 1.,  1.,  1.,  1.]]),\n",
       " array([[11.],\n",
       "        [ 5.],\n",
       "        [ 6.],\n",
       "        [12.]]),\n",
       " array([[11., 11.],\n",
       "        [ 5.,  5.],\n",
       "        [ 6.,  6.],\n",
       "        [12., 12.]]),\n",
       " array([[11., 11., 11.],\n",
       "        [ 5.,  5.,  5.],\n",
       "        [ 6.,  6.,  6.],\n",
       "        [12., 12., 12.]]),\n",
       " array([[11., 11., 11., 11.],\n",
       "        [ 5.,  5.,  5.,  5.],\n",
       "        [ 6.,  6.,  6.,  6.],\n",
       "        [12., 12., 12., 12.]]),\n",
       " array([[0.],\n",
       "        [0.],\n",
       "        [0.],\n",
       "        [1.]]),\n",
       " array([[0., 0.],\n",
       "        [0., 0.],\n",
       "        [0., 0.],\n",
       "        [1., 1.]]),\n",
       " array([[0., 0., 0.],\n",
       "        [0., 0., 0.],\n",
       "        [0., 0., 0.],\n",
       "        [1., 1., 1.]]),\n",
       " array([[0., 0., 0., 0.],\n",
       "        [0., 0., 0., 0.],\n",
       "        [0., 0., 0., 0.],\n",
       "        [1., 1., 1., 1.]]),\n",
       " array([[ 4.],\n",
       "        [11.],\n",
       "        [ 7.],\n",
       "        [12.]]),\n",
       " array([[ 4.,  4.],\n",
       "        [11., 11.],\n",
       "        [ 7.,  7.],\n",
       "        [12., 12.]]),\n",
       " array([[ 4.,  4.,  4.],\n",
       "        [11., 11., 11.],\n",
       "        [ 7.,  7.,  7.],\n",
       "        [12., 12., 12.]]),\n",
       " array([[ 4.,  4.,  4.,  4.],\n",
       "        [11., 11., 11., 11.],\n",
       "        [ 7.,  7.,  7.,  7.],\n",
       "        [12., 12., 12., 12.]])]"
      ]
     },
     "execution_count": 10,
     "metadata": {},
     "output_type": "execute_result"
    }
   ],
   "source": [
    "candidatos_solucoes = []\n",
    "\n",
    "for chave in candidatos_chave_criptografia:\n",
    "    \n",
    "    for matriz_msg in candidatos_matriz_msg:\n",
    "\n",
    "        solucao = linalg.solve(chave,matriz_msg)\n",
    "\n",
    "        candidatos_solucoes.append(solucao) \n",
    "        \n",
    "candidatos_solucoes"
   ]
  },
  {
   "cell_type": "markdown",
   "metadata": {},
   "source": [
    "## Arredondamento elementos para numero inteiro"
   ]
  },
  {
   "cell_type": "code",
   "execution_count": 11,
   "metadata": {},
   "outputs": [],
   "source": [
    "def arredonda_elementos_para_inteiros(solucao):\n",
    "    \n",
    "    n_lin, n_col = solucao.shape\n",
    "    ## Arredondando os numeros da matriz para inteiros\n",
    "    for col in range(n_col):\n",
    "        for lin in range(n_lin):\n",
    "            solucao[lin][col] = round(solucao[lin][col])\n",
    "    \n",
    "    return solucao            "
   ]
  },
  {
   "cell_type": "code",
   "execution_count": 12,
   "metadata": {},
   "outputs": [],
   "source": [
    "#solucao = candidatos_solucoes[0]\n",
    "#solucao"
   ]
  },
  {
   "cell_type": "code",
   "execution_count": 13,
   "metadata": {},
   "outputs": [],
   "source": [
    "#solucao = arredonda_elementos_para_inteiros(solucao)\n",
    "#solucao"
   ]
  },
  {
   "cell_type": "code",
   "execution_count": 14,
   "metadata": {},
   "outputs": [
    {
     "data": {
      "text/plain": [
       "[array([[0.],\n",
       "        [0.],\n",
       "        [0.],\n",
       "        [1.]]),\n",
       " array([[0., 0.],\n",
       "        [0., 0.],\n",
       "        [0., 0.],\n",
       "        [1., 1.]]),\n",
       " array([[0., 0., 0.],\n",
       "        [0., 0., 0.],\n",
       "        [0., 0., 0.],\n",
       "        [1., 1., 1.]]),\n",
       " array([[0., 0., 0., 0.],\n",
       "        [0., 0., 0., 0.],\n",
       "        [0., 0., 0., 0.],\n",
       "        [1., 1., 1., 1.]]),\n",
       " array([[11.],\n",
       "        [ 5.],\n",
       "        [ 6.],\n",
       "        [12.]]),\n",
       " array([[11., 11.],\n",
       "        [ 5.,  5.],\n",
       "        [ 6.,  6.],\n",
       "        [12., 12.]]),\n",
       " array([[11., 11., 11.],\n",
       "        [ 5.,  5.,  5.],\n",
       "        [ 6.,  6.,  6.],\n",
       "        [12., 12., 12.]]),\n",
       " array([[11., 11., 11., 11.],\n",
       "        [ 5.,  5.,  5.,  5.],\n",
       "        [ 6.,  6.,  6.,  6.],\n",
       "        [12., 12., 12., 12.]]),\n",
       " array([[0.],\n",
       "        [0.],\n",
       "        [0.],\n",
       "        [1.]]),\n",
       " array([[0., 0.],\n",
       "        [0., 0.],\n",
       "        [0., 0.],\n",
       "        [1., 1.]]),\n",
       " array([[0., 0., 0.],\n",
       "        [0., 0., 0.],\n",
       "        [0., 0., 0.],\n",
       "        [1., 1., 1.]]),\n",
       " array([[0., 0., 0., 0.],\n",
       "        [0., 0., 0., 0.],\n",
       "        [0., 0., 0., 0.],\n",
       "        [1., 1., 1., 1.]]),\n",
       " array([[ 4.],\n",
       "        [11.],\n",
       "        [ 7.],\n",
       "        [12.]]),\n",
       " array([[ 4.,  4.],\n",
       "        [11., 11.],\n",
       "        [ 7.,  7.],\n",
       "        [12., 12.]]),\n",
       " array([[ 4.,  4.,  4.],\n",
       "        [11., 11., 11.],\n",
       "        [ 7.,  7.,  7.],\n",
       "        [12., 12., 12.]]),\n",
       " array([[ 4.,  4.,  4.,  4.],\n",
       "        [11., 11., 11., 11.],\n",
       "        [ 7.,  7.,  7.,  7.],\n",
       "        [12., 12., 12., 12.]])]"
      ]
     },
     "execution_count": 14,
     "metadata": {},
     "output_type": "execute_result"
    }
   ],
   "source": [
    "for num, solucao in enumerate(candidatos_solucoes):\n",
    "    solucao = arredonda_elementos_para_inteiros(solucao)\n",
    "    candidatos_solucoes[num] = solucao\n",
    "candidatos_solucoes"
   ]
  },
  {
   "cell_type": "markdown",
   "metadata": {},
   "source": [
    "## Simplificação Matriz"
   ]
  },
  {
   "cell_type": "markdown",
   "metadata": {},
   "source": [
    "Seta primeiro elemento = 1\n",
    "e demais elementos positivos e multiplos de 26"
   ]
  },
  {
   "cell_type": "code",
   "execution_count": 15,
   "metadata": {},
   "outputs": [],
   "source": [
    "def matriz_simplificada_b_igual_1(solucao):\n",
    "    \n",
    "    ## transforma todos os valores para que o primeiro valor seja = 1\n",
    "    valor_b = solucao[0][0]\n",
    "    solucao = solucao - valor_b + 1\n",
    "\n",
    "    return solucao"
   ]
  },
  {
   "cell_type": "code",
   "execution_count": 16,
   "metadata": {},
   "outputs": [],
   "source": [
    "#solucao = candidatos_solucoes[12]\n",
    "#solucao"
   ]
  },
  {
   "cell_type": "code",
   "execution_count": 17,
   "metadata": {},
   "outputs": [],
   "source": [
    "#matriz_simplificada_b_igual_1(solucao)"
   ]
  },
  {
   "cell_type": "code",
   "execution_count": 18,
   "metadata": {},
   "outputs": [],
   "source": [
    "def matriz_simplificada(solucao):\n",
    "\n",
    "    n_lin, n_col = solucao.shape\n",
    "    \n",
    "    ## Transforma elementos para numeros multiplos de 26\n",
    "    for col in range(n_col):\n",
    "        for lin in range(n_lin):\n",
    "            \n",
    "                valor = solucao[lin][col]\n",
    "                x = valor//26\n",
    "                i = valor-x*26\n",
    "                solucao[lin][col] = i\n",
    "\n",
    "    return solucao\n",
    "    "
   ]
  },
  {
   "cell_type": "code",
   "execution_count": 19,
   "metadata": {},
   "outputs": [],
   "source": [
    "#solucao = candidatos_solucoes[12]\n",
    "#solucao"
   ]
  },
  {
   "cell_type": "code",
   "execution_count": 20,
   "metadata": {},
   "outputs": [],
   "source": [
    "#solucao = matriz_simplificada_b_igual_1(solucao)\n",
    "#solucao"
   ]
  },
  {
   "cell_type": "code",
   "execution_count": 21,
   "metadata": {},
   "outputs": [],
   "source": [
    "#solucao = matriz_simplificada(solucao)\n",
    "#solucao"
   ]
  },
  {
   "cell_type": "code",
   "execution_count": 22,
   "metadata": {},
   "outputs": [
    {
     "data": {
      "text/plain": [
       "[array([[1.],\n",
       "        [1.],\n",
       "        [1.],\n",
       "        [2.]]),\n",
       " array([[1., 1.],\n",
       "        [1., 1.],\n",
       "        [1., 1.],\n",
       "        [2., 2.]]),\n",
       " array([[1., 1., 1.],\n",
       "        [1., 1., 1.],\n",
       "        [1., 1., 1.],\n",
       "        [2., 2., 2.]]),\n",
       " array([[1., 1., 1., 1.],\n",
       "        [1., 1., 1., 1.],\n",
       "        [1., 1., 1., 1.],\n",
       "        [2., 2., 2., 2.]]),\n",
       " array([[ 1.],\n",
       "        [21.],\n",
       "        [22.],\n",
       "        [ 2.]]),\n",
       " array([[ 1.,  1.],\n",
       "        [21., 21.],\n",
       "        [22., 22.],\n",
       "        [ 2.,  2.]]),\n",
       " array([[ 1.,  1.,  1.],\n",
       "        [21., 21., 21.],\n",
       "        [22., 22., 22.],\n",
       "        [ 2.,  2.,  2.]]),\n",
       " array([[ 1.,  1.,  1.,  1.],\n",
       "        [21., 21., 21., 21.],\n",
       "        [22., 22., 22., 22.],\n",
       "        [ 2.,  2.,  2.,  2.]]),\n",
       " array([[1.],\n",
       "        [1.],\n",
       "        [1.],\n",
       "        [2.]]),\n",
       " array([[1., 1.],\n",
       "        [1., 1.],\n",
       "        [1., 1.],\n",
       "        [2., 2.]]),\n",
       " array([[1., 1., 1.],\n",
       "        [1., 1., 1.],\n",
       "        [1., 1., 1.],\n",
       "        [2., 2., 2.]]),\n",
       " array([[1., 1., 1., 1.],\n",
       "        [1., 1., 1., 1.],\n",
       "        [1., 1., 1., 1.],\n",
       "        [2., 2., 2., 2.]]),\n",
       " array([[1.],\n",
       "        [8.],\n",
       "        [4.],\n",
       "        [9.]]),\n",
       " array([[1., 1.],\n",
       "        [8., 8.],\n",
       "        [4., 4.],\n",
       "        [9., 9.]]),\n",
       " array([[1., 1., 1.],\n",
       "        [8., 8., 8.],\n",
       "        [4., 4., 4.],\n",
       "        [9., 9., 9.]]),\n",
       " array([[1., 1., 1., 1.],\n",
       "        [8., 8., 8., 8.],\n",
       "        [4., 4., 4., 4.],\n",
       "        [9., 9., 9., 9.]])]"
      ]
     },
     "execution_count": 22,
     "metadata": {},
     "output_type": "execute_result"
    }
   ],
   "source": [
    "for num, solucao in enumerate(candidatos_solucoes):\n",
    "    solucao = matriz_simplificada_b_igual_1(solucao)\n",
    "    solucao = matriz_simplificada(solucao)\n",
    "    candidatos_solucoes[num] = solucao\n",
    "candidatos_solucoes"
   ]
  },
  {
   "cell_type": "markdown",
   "metadata": {},
   "source": [
    "## Substituição"
   ]
  },
  {
   "cell_type": "markdown",
   "metadata": {},
   "source": [
    "Sabemos que o primeiro elemento dessas matrizes é b, se b = primero elemento como ficam os outros elementos? eles correspondem a palavra 'blinky'??"
   ]
  },
  {
   "cell_type": "code",
   "execution_count": 36,
   "metadata": {},
   "outputs": [],
   "source": [
    "alfabeto = ['s','t','u','v','w','x','y','z','a','b','c','d','e','f','g','h','i','j','k','l','m','n','o','p','q','r','s_']\n",
    "\n",
    "def posicao_relacao_b(alfabeto, letra):\n",
    "    pos = alfabeto.index(letra) + alfabeto.index('t') -1\n",
    "    return pos"
   ]
  },
  {
   "cell_type": "code",
   "execution_count": 38,
   "metadata": {},
   "outputs": [
    {
     "data": {
      "text/plain": [
       "(8, 9, 10)"
      ]
     },
     "execution_count": 38,
     "metadata": {},
     "output_type": "execute_result"
    }
   ],
   "source": [
    "posicao_relacao_b(alfabeto,'a'), posicao_relacao_b(alfabeto,'b'), posicao_relacao_b(alfabeto,'c')"
   ]
  },
  {
   "cell_type": "code",
   "execution_count": 39,
   "metadata": {},
   "outputs": [],
   "source": [
    "def dicionario_matriz_relacao_b(solucao):\n",
    "    dicionario_solucao = {posicao_relacao_b(alfabeto,i):i for i in alfabeto}\n",
    "    return dicionario_solucao"
   ]
  },
  {
   "cell_type": "code",
   "execution_count": 40,
   "metadata": {},
   "outputs": [
    {
     "data": {
      "text/plain": [
       "{0: 's',\n",
       " 1: 't',\n",
       " 2: 'u',\n",
       " 3: 'v',\n",
       " 4: 'w',\n",
       " 5: 'x',\n",
       " 6: 'y',\n",
       " 7: 'z',\n",
       " 8: 'a',\n",
       " 9: 'b',\n",
       " 10: 'c',\n",
       " 11: 'd',\n",
       " 12: 'e',\n",
       " 13: 'f',\n",
       " 14: 'g',\n",
       " 15: 'h',\n",
       " 16: 'i',\n",
       " 17: 'j',\n",
       " 18: 'k',\n",
       " 19: 'l',\n",
       " 20: 'm',\n",
       " 21: 'n',\n",
       " 22: 'o',\n",
       " 23: 'p',\n",
       " 24: 'q',\n",
       " 25: 'r',\n",
       " 26: 's_'}"
      ]
     },
     "execution_count": 40,
     "metadata": {},
     "output_type": "execute_result"
    }
   ],
   "source": [
    "dicionario_global = dicionario_matriz_relacao_b(solucao)\n",
    "dicionario_global"
   ]
  },
  {
   "cell_type": "code",
   "execution_count": 41,
   "metadata": {},
   "outputs": [],
   "source": [
    "import pandas as pd\n",
    "def substitui_para_letras(solucao,dicionario):\n",
    "    n_lin, n_col = solucao.shape\n",
    "\n",
    "    df_solucao = pd.DataFrame(solucao , columns = [i for i in range(n_col)])\n",
    "    \n",
    "    for col in df_solucao.columns:\n",
    "        df_solucao[col] = df_solucao[col].astype(int)\n",
    "        df_solucao[col] = df_solucao[col].map( dicionario ).astype(str)\n",
    "        solucao = df_solucao.to_numpy()\n",
    "    \n",
    "    return solucao"
   ]
  },
  {
   "cell_type": "code",
   "execution_count": 42,
   "metadata": {},
   "outputs": [
    {
     "data": {
      "text/plain": [
       "array([[1.],\n",
       "       [1.],\n",
       "       [1.],\n",
       "       [2.]])"
      ]
     },
     "execution_count": 42,
     "metadata": {},
     "output_type": "execute_result"
    }
   ],
   "source": [
    "solucao = candidatos_solucoes[0]\n",
    "solucao"
   ]
  },
  {
   "cell_type": "code",
   "execution_count": 43,
   "metadata": {},
   "outputs": [
    {
     "data": {
      "text/plain": [
       "array([['t'],\n",
       "       ['t'],\n",
       "       ['t'],\n",
       "       ['u']], dtype=object)"
      ]
     },
     "execution_count": 43,
     "metadata": {},
     "output_type": "execute_result"
    }
   ],
   "source": [
    "solucao = substitui_para_letras(solucao, dicionario_global)\n",
    "solucao"
   ]
  },
  {
   "cell_type": "code",
   "execution_count": 44,
   "metadata": {},
   "outputs": [
    {
     "data": {
      "text/plain": [
       "[array([['t'],\n",
       "        ['t'],\n",
       "        ['t'],\n",
       "        ['u']], dtype=object),\n",
       " array([['t', 't'],\n",
       "        ['t', 't'],\n",
       "        ['t', 't'],\n",
       "        ['u', 'u']], dtype=object),\n",
       " array([['t', 't', 't'],\n",
       "        ['t', 't', 't'],\n",
       "        ['t', 't', 't'],\n",
       "        ['u', 'u', 'u']], dtype=object),\n",
       " array([['t', 't', 't', 't'],\n",
       "        ['t', 't', 't', 't'],\n",
       "        ['t', 't', 't', 't'],\n",
       "        ['u', 'u', 'u', 'u']], dtype=object),\n",
       " array([['t'],\n",
       "        ['n'],\n",
       "        ['o'],\n",
       "        ['u']], dtype=object),\n",
       " array([['t', 't'],\n",
       "        ['n', 'n'],\n",
       "        ['o', 'o'],\n",
       "        ['u', 'u']], dtype=object),\n",
       " array([['t', 't', 't'],\n",
       "        ['n', 'n', 'n'],\n",
       "        ['o', 'o', 'o'],\n",
       "        ['u', 'u', 'u']], dtype=object),\n",
       " array([['t', 't', 't', 't'],\n",
       "        ['n', 'n', 'n', 'n'],\n",
       "        ['o', 'o', 'o', 'o'],\n",
       "        ['u', 'u', 'u', 'u']], dtype=object),\n",
       " array([['t'],\n",
       "        ['t'],\n",
       "        ['t'],\n",
       "        ['u']], dtype=object),\n",
       " array([['t', 't'],\n",
       "        ['t', 't'],\n",
       "        ['t', 't'],\n",
       "        ['u', 'u']], dtype=object),\n",
       " array([['t', 't', 't'],\n",
       "        ['t', 't', 't'],\n",
       "        ['t', 't', 't'],\n",
       "        ['u', 'u', 'u']], dtype=object),\n",
       " array([['t', 't', 't', 't'],\n",
       "        ['t', 't', 't', 't'],\n",
       "        ['t', 't', 't', 't'],\n",
       "        ['u', 'u', 'u', 'u']], dtype=object),\n",
       " array([['t'],\n",
       "        ['a'],\n",
       "        ['w'],\n",
       "        ['b']], dtype=object),\n",
       " array([['t', 't'],\n",
       "        ['a', 'a'],\n",
       "        ['w', 'w'],\n",
       "        ['b', 'b']], dtype=object),\n",
       " array([['t', 't', 't'],\n",
       "        ['a', 'a', 'a'],\n",
       "        ['w', 'w', 'w'],\n",
       "        ['b', 'b', 'b']], dtype=object),\n",
       " array([['t', 't', 't', 't'],\n",
       "        ['a', 'a', 'a', 'a'],\n",
       "        ['w', 'w', 'w', 'w'],\n",
       "        ['b', 'b', 'b', 'b']], dtype=object)]"
      ]
     },
     "execution_count": 44,
     "metadata": {},
     "output_type": "execute_result"
    }
   ],
   "source": [
    "for num, solucao in enumerate(candidatos_solucoes):\n",
    "    solucao = substitui_para_letras(solucao, dicionario_global)\n",
    "    candidatos_solucoes[num] = solucao\n",
    "candidatos_solucoes"
   ]
  },
  {
   "cell_type": "code",
   "execution_count": 45,
   "metadata": {},
   "outputs": [
    {
     "name": "stdout",
     "output_type": "stream",
     "text": [
      "Solução = 0 - Letras_Match =  t - Matches = 20.0% \n",
      "Solução = 1 - Letras_Match =  t - Matches = 20.0% \n",
      "Solução = 2 - Letras_Match =  t - Matches = 20.0% \n",
      "Solução = 3 - Letras_Match =  t - Matches = 20.0% \n",
      "Solução = 4 - Letras_Match =  t - Matches = 20.0% \n",
      "Solução = 5 - Letras_Match =  t - Matches = 20.0% \n",
      "Solução = 6 - Letras_Match =  t - Matches = 20.0% \n",
      "Solução = 7 - Letras_Match =  t - Matches = 20.0% \n",
      "Solução = 8 - Letras_Match =  t - Matches = 20.0% \n",
      "Solução = 9 - Letras_Match =  t - Matches = 20.0% \n",
      "Solução = 10 - Letras_Match =  t - Matches = 20.0% \n",
      "Solução = 11 - Letras_Match =  t - Matches = 20.0% \n",
      "Solução = 12 - Letras_Match =  t b a - Matches = 60.0% \n",
      "Solução = 13 - Letras_Match =  t b a - Matches = 60.0% \n",
      "Solução = 14 - Letras_Match =  t b a - Matches = 60.0% \n",
      "Solução = 15 - Letras_Match =  t b a - Matches = 60.0% \n"
     ]
    }
   ],
   "source": [
    "for num_sol, solucao in enumerate(candidatos_solucoes):\n",
    "    contador_match = 0\n",
    "    letras_match = ''\n",
    "    \n",
    "    for letra in 'tibia':\n",
    "        if letra in solucao:\n",
    "            contador_match = contador_match+1\n",
    "            letras_match = letras_match + ' ' + letra\n",
    "            \n",
    "    prop_match = contador_match / len('tibia') *100\n",
    "    print(\"Solução = {} - Letras_Match = {} - Matches = {}% \".format(num_sol,letras_match,prop_match))"
   ]
  },
  {
   "cell_type": "code",
   "execution_count": 50,
   "metadata": {},
   "outputs": [
    {
     "data": {
      "text/plain": [
       "array([['t'],\n",
       "       ['a'],\n",
       "       ['w'],\n",
       "       ['b']], dtype=object)"
      ]
     },
     "execution_count": 50,
     "metadata": {},
     "output_type": "execute_result"
    }
   ],
   "source": [
    "candidatos_solucoes[12]"
   ]
  },
  {
   "cell_type": "markdown",
   "metadata": {},
   "source": [
    "## Pista 1+1: = 1,13,49,94"
   ]
  },
  {
   "cell_type": "markdown",
   "metadata": {},
   "source": [
    "Parecem elementos de progressão veremos qual a raiz dessa progressão (se é que existe uma)"
   ]
  },
  {
   "cell_type": "code",
   "execution_count": 137,
   "metadata": {},
   "outputs": [
    {
     "name": "stdout",
     "output_type": "stream",
     "text": [
      "1 0.0\n",
      "2 0.5\n",
      "3 1.1657341758564144e-15\n",
      "4 0.25\n",
      "5 0.6000000000000008\n",
      "6 0.5\n",
      "7 0.8571428571428572\n",
      "8 0.625\n",
      "9 0.33333333333333354\n",
      "10 0.8000000000000004\n",
      "11 0.45454545454545403\n",
      "12 0.75\n",
      "13 0.7692307692307692\n",
      "14 0.8571428571428572\n",
      "15 0.8\n",
      "16 0.8125\n",
      "17 0.8235294117647058\n",
      "18 0.6666666666666667\n",
      "19 0.8947368421052635\n",
      "20 0.6500000000000001\n",
      "21 0.5714285714285714\n",
      "22 0.5454545454545455\n",
      "23 0.5217391304347826\n",
      "24 0.875\n",
      "25 0.9199999999999999\n",
      "26 0.8461538461538461\n",
      "27 0.7777777777777779\n",
      "28 0.7142857142857143\n",
      "29 0.6551724137931035\n",
      "30 0.6\n",
      "31 0.5483870967741935\n",
      "32 0.90625\n",
      "33 0.8181818181818183\n",
      "34 0.7352941176470588\n",
      "35 0.6571428571428569\n",
      "36 0.5833333333333334\n",
      "37 0.5135135135135134\n",
      "38 0.44736842105263175\n",
      "39 0.38461538461538447\n",
      "40 0.32500000000000007\n",
      "41 0.2926829268292683\n",
      "42 0.2857142857142857\n",
      "43 0.27906976744186046\n",
      "44 0.27272727272727276\n",
      "45 0.26666666666666666\n",
      "46 0.2608695652173913\n",
      "47 0.2765957446808511\n",
      "48 0.9375\n",
      "49 0.9183673469387754\n",
      "50 0.96\n",
      "51 0.9411764705882353\n",
      "52 0.923076923076923\n",
      "53 0.9056603773584906\n",
      "54 0.888888888888889\n",
      "55 0.8727272727272727\n",
      "56 0.8571428571428571\n",
      "57 0.8421052631578947\n",
      "58 0.8275862068965517\n",
      "59 0.8135593220338984\n",
      "60 0.7999999999999999\n",
      "61 0.7868852459016393\n",
      "62 0.7741935483870968\n",
      "63 0.7619047619047619\n",
      "64 0.75\n",
      "65 0.7384615384615385\n",
      "66 0.7272727272727273\n",
      "67 0.7164179104477612\n",
      "68 0.7058823529411765\n",
      "69 0.6956521739130436\n",
      "70 0.6857142857142857\n",
      "71 0.676056338028169\n",
      "72 0.6666666666666667\n",
      "73 0.6575342465753424\n",
      "74 0.6486486486486487\n",
      "75 0.64\n",
      "76 0.631578947368421\n",
      "77 0.6233766233766234\n",
      "78 0.6153846153846154\n",
      "79 0.6075949367088608\n",
      "80 0.6000000000000001\n",
      "81 0.5925925925925926\n",
      "82 0.5853658536585366\n",
      "83 0.5783132530120482\n",
      "84 0.5714285714285715\n",
      "85 0.5647058823529412\n",
      "86 0.5581395348837209\n",
      "87 0.5517241379310345\n",
      "88 0.5454545454545454\n",
      "89 0.5393258426966292\n"
     ]
    }
   ],
   "source": [
    "for k in range(1,90):\n",
    "    L = [1,13,49,94]\n",
    "    \n",
    "    ###decimais L por K:\n",
    "    decimais_originais = [i/k%1 for i in L]\n",
    "    \n",
    "    ## subtrai o max de todos (para checar se a matriz 0,0,0,0 ocorre (todos elementos sao iguais))\n",
    "    decimais = np.array(decimais_originais).max() - np.array(decimais_originais)\n",
    "    \n",
    "    max_lista = decimais.max()\n",
    "    \n",
    "    ## os valores unicos são iguais?\n",
    "    \n",
    "    print(k,max_lista)"
   ]
  },
  {
   "cell_type": "markdown",
   "metadata": {},
   "source": [
    "Candidatos á raiz: 3"
   ]
  },
  {
   "cell_type": "markdown",
   "metadata": {},
   "source": [
    "1 * 3*n = 1,13,49,94 onde \n",
    "n assume um valor inteiro"
   ]
  },
  {
   "cell_type": "markdown",
   "metadata": {},
   "source": [
    "para \n",
    "- n = 0 temos:   1 * 3 * 0 = 1\n",
    "- n = 3 temos:   1 * 3 * 3 = 13\n",
    "- n = 16 temos:   1 * 3 * 3 = 49\n",
    "- n = 31 temos:   1 * 3 * 31 = 94"
   ]
  },
  {
   "cell_type": "code",
   "execution_count": null,
   "metadata": {},
   "outputs": [],
   "source": []
  },
  {
   "cell_type": "code",
   "execution_count": null,
   "metadata": {},
   "outputs": [],
   "source": []
  },
  {
   "cell_type": "code",
   "execution_count": null,
   "metadata": {},
   "outputs": [],
   "source": []
  },
  {
   "cell_type": "code",
   "execution_count": null,
   "metadata": {},
   "outputs": [],
   "source": []
  }
 ],
 "metadata": {
  "kernelspec": {
   "display_name": "Python 3",
   "language": "python",
   "name": "python3"
  },
  "language_info": {
   "codemirror_mode": {
    "name": "ipython",
    "version": 3
   },
   "file_extension": ".py",
   "mimetype": "text/x-python",
   "name": "python",
   "nbconvert_exporter": "python",
   "pygments_lexer": "ipython3",
   "version": "3.8.3"
  }
 },
 "nbformat": 4,
 "nbformat_minor": 4
}

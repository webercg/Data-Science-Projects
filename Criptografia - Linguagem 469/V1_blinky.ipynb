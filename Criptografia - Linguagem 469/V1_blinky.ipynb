{
 "cells": [
  {
   "cell_type": "code",
   "execution_count": 1,
   "metadata": {},
   "outputs": [],
   "source": [
    "from scipy import linalg\n",
    "import numpy as np"
   ]
  },
  {
   "cell_type": "markdown",
   "metadata": {},
   "source": [
    "# Criptografia de Hill"
   ]
  },
  {
   "cell_type": "markdown",
   "metadata": {},
   "source": [
    "## Chave criptografia"
   ]
  },
  {
   "cell_type": "code",
   "execution_count": 63,
   "metadata": {},
   "outputs": [
    {
     "data": {
      "text/plain": [
       "array([[3, 1, 6, 1],\n",
       "       [1, 2, 1, 1],\n",
       "       [1, 1, 3, 1],\n",
       "       [4, 6, 1, 1]])"
      ]
     },
     "execution_count": 63,
     "metadata": {},
     "output_type": "execute_result"
    }
   ],
   "source": [
    "matrix_bonelord = np.array([[3,1,6,1],[1,2,1,1],[1,1,3,1],[4,6,1,1]])\n",
    "matrix_bonelord"
   ]
  },
  {
   "cell_type": "code",
   "execution_count": 64,
   "metadata": {},
   "outputs": [
    {
     "data": {
      "text/plain": [
       "array([[ 1.14285714,  2.14285714, -2.85714286, -0.42857143],\n",
       "       [-0.85714286, -1.85714286,  2.14285714,  0.57142857],\n",
       "       [-0.42857143, -1.42857143,  1.57142857,  0.28571429],\n",
       "       [ 1.        ,  4.        , -3.        , -1.        ]])"
      ]
     },
     "execution_count": 64,
     "metadata": {},
     "output_type": "execute_result"
    }
   ],
   "source": [
    "inv_matrix_bonelord = linalg.inv(matrix_bonelord)\n",
    "inv_matrix_bonelord"
   ]
  },
  {
   "cell_type": "markdown",
   "metadata": {},
   "source": [
    "chave * mensagem_recebida = mensagem_decodificada"
   ]
  },
  {
   "cell_type": "markdown",
   "metadata": {},
   "source": [
    "(4x4) * (4 x n_colunas) = (4x4)"
   ]
  },
  {
   "cell_type": "code",
   "execution_count": 65,
   "metadata": {},
   "outputs": [],
   "source": [
    "candidatos_chave_criptografia = [matrix_bonelord, inv_matrix_bonelord]"
   ]
  },
  {
   "cell_type": "markdown",
   "metadata": {},
   "source": [
    "## Mensagem"
   ]
  },
  {
   "cell_type": "markdown",
   "metadata": {},
   "source": [
    "A mensagem 'blinky' foi criptografada e recebemos ela em forma de números \"486486\". Essa mensagem 'blinky' foi primeiro transformada numa matriz e multiplicada pela chave de criptografia e obtemos os números 486486 que foram dispostos em uma matriz.\n",
    "\n",
    "Como requerimento, esses números devem se dispor em uma matriz com 4 linhas  (mesmo numero de colunas da matriz chave da criptografia), o número de colunas que essa matriz contem dependerá do tamanho de quantos algarismos a mensagem recebida \"486486\" possui.\n",
    "\n",
    "Nesse primeiro momento vamos testar \n",
    "n_colunas = 2, \n",
    "n_colunas = 3,\n",
    "n_colunas = 4\n",
    "\n",
    "\n",
    "também vamos supor que 486486 seja preenchido na matriz de forma linear da direita para esquerda e outra alternativa de cima pra baixo."
   ]
  },
  {
   "cell_type": "code",
   "execution_count": 66,
   "metadata": {},
   "outputs": [],
   "source": [
    "msg = 'blinky'\n",
    "numero_msg = 486486\n",
    "numero_filler = 1\n",
    "\n",
    "### Candidatos á matrizes codificada para mensagem 'Blinky'\n",
    "\n",
    "## n_colunas = 2\n",
    "matrix_msg1 =  np.array([[4,8],\n",
    "                         [6,4],\n",
    "                         [8,6],\n",
    "                         [1,1]])\n",
    "\n",
    "matrix_msg2 =  np.array([[4,8],\n",
    "                         [8,6],\n",
    "                         [6,1],\n",
    "                         [4,1]])\n",
    "\n",
    "\n",
    "## n_colunas = 3\n",
    "matrix_msg3 =  np.array([[4,8,6],\n",
    "                         [4,8,6],\n",
    "                         [1,1,1],\n",
    "                         [1,1,1]])\n",
    "\n",
    "matrix_msg4 =  np.array([[4,8,1],\n",
    "                         [8,6,1],\n",
    "                         [6,1,1],\n",
    "                         [4,1,1]])\n",
    "\n",
    "\n",
    "## Coluna filler se repete da primeira coluna\n",
    "matrix_msg5 =  np.array([[4,8,4],\n",
    "                         [8,6,8],\n",
    "                         [6,1,6],\n",
    "                         [4,1,4]])\n",
    "\n",
    "\n",
    "## n_colunas = 5\n",
    "matrix_msg6 =  np.array([[4,8,6,4],\n",
    "                         [8,6,1,1],\n",
    "                         [1,1,1,1],\n",
    "                         [1,1,1,1]])\n",
    "\n",
    "matrix_msg7 =  np.array([[4,8,1,1],\n",
    "                         [8,6,1,1],\n",
    "                         [6,1,1,1],\n",
    "                         [4,1,1,1]])\n",
    "\n",
    "\n",
    "## Coluna filler se repetem lendo as primeiras colunas\n",
    "matrix_msg8 =  np.array([[4,8,4,8],\n",
    "                         [8,6,8,6],\n",
    "                         [6,1,6,1],\n",
    "                         [4,1,4,1]])\n",
    "\n"
   ]
  },
  {
   "cell_type": "code",
   "execution_count": 67,
   "metadata": {},
   "outputs": [],
   "source": [
    "candidatos_matriz_msg = [matrix_msg1,matrix_msg2,matrix_msg3,matrix_msg4,matrix_msg5,matrix_msg6,matrix_msg7,matrix_msg8]"
   ]
  },
  {
   "cell_type": "markdown",
   "metadata": {},
   "source": [
    "# Candidatos a solução"
   ]
  },
  {
   "cell_type": "markdown",
   "metadata": {},
   "source": [
    "## Inversa * Matriz Mensagem"
   ]
  },
  {
   "cell_type": "markdown",
   "metadata": {},
   "source": [
    "A * X = B   \n",
    "Onde A = Matriz chave  \n",
    "X = Matriz equivalente á palavra 'Blinky'  \n",
    "B = Matriz_msg  "
   ]
  },
  {
   "cell_type": "code",
   "execution_count": 68,
   "metadata": {},
   "outputs": [
    {
     "data": {
      "text/plain": [
       "[array([[-5.85714286,  0.14285714],\n",
       "        [ 3.14285714, -0.85714286],\n",
       "        [ 2.57142857,  0.57142857],\n",
       "        [ 3.        ,  5.        ]]),\n",
       " array([[  2.85714286,  18.71428571],\n",
       "        [ -3.14285714, -15.28571429],\n",
       "        [ -2.57142857, -10.14285714],\n",
       "        [ 14.        ,  28.        ]]),\n",
       " array([[  9.85714286,  23.        ,  16.42857143],\n",
       "        [ -8.14285714, -19.        , -13.57142857],\n",
       "        [ -5.57142857, -13.        ,  -9.28571429],\n",
       "        [ 16.        ,  36.        ,  26.        ]]),\n",
       " array([[  2.85714286,  18.71428571,   0.        ],\n",
       "        [ -3.14285714, -15.28571429,  -0.        ],\n",
       "        [ -2.57142857, -10.14285714,   0.        ],\n",
       "        [ 14.        ,  28.        ,   1.        ]]),\n",
       " array([[  2.85714286,  18.71428571,   2.85714286],\n",
       "        [ -3.14285714, -15.28571429,  -3.14285714],\n",
       "        [ -2.57142857, -10.14285714,  -2.57142857],\n",
       "        [ 14.        ,  28.        ,  14.        ]]),\n",
       " array([[ 18.42857143,  18.71428571,   5.71428571,   3.42857143],\n",
       "        [-15.57142857, -15.28571429,  -4.28571429,  -2.57142857],\n",
       "        [-11.28571429, -10.14285714,  -2.14285714,  -1.28571429],\n",
       "        [ 32.        ,  28.        ,   6.        ,   4.        ]]),\n",
       " array([[  2.85714286,  18.71428571,   0.        ,   0.        ],\n",
       "        [ -3.14285714, -15.28571429,  -0.        ,  -0.        ],\n",
       "        [ -2.57142857, -10.14285714,   0.        ,   0.        ],\n",
       "        [ 14.        ,  28.        ,   1.        ,   1.        ]]),\n",
       " array([[  2.85714286,  18.71428571,   2.85714286,  18.71428571],\n",
       "        [ -3.14285714, -15.28571429,  -3.14285714, -15.28571429],\n",
       "        [ -2.57142857, -10.14285714,  -2.57142857, -10.14285714],\n",
       "        [ 14.        ,  28.        ,  14.        ,  28.        ]]),\n",
       " array([[67., 65.],\n",
       "        [25., 23.],\n",
       "        [35., 31.],\n",
       "        [61., 63.]]),\n",
       " array([[60., 37.],\n",
       "        [30., 22.],\n",
       "        [34., 18.],\n",
       "        [74., 70.]]),\n",
       " array([[23., 39., 31.],\n",
       "        [14., 26., 20.],\n",
       "        [12., 20., 16.],\n",
       "        [42., 82., 62.]]),\n",
       " array([[60., 37., 11.],\n",
       "        [30., 22.,  5.],\n",
       "        [34., 18.,  6.],\n",
       "        [74., 70., 12.]]),\n",
       " array([[60., 37., 60.],\n",
       "        [30., 22., 30.],\n",
       "        [34., 18., 34.],\n",
       "        [74., 70., 74.]]),\n",
       " array([[27., 37., 26., 20.],\n",
       "        [22., 22., 10.,  8.],\n",
       "        [16., 18., 11.,  9.],\n",
       "        [66., 70., 32., 24.]]),\n",
       " array([[60., 37., 11., 11.],\n",
       "        [30., 22.,  5.,  5.],\n",
       "        [34., 18.,  6.,  6.],\n",
       "        [74., 70., 12., 12.]]),\n",
       " array([[60., 37., 60., 37.],\n",
       "        [30., 22., 30., 22.],\n",
       "        [34., 18., 34., 18.],\n",
       "        [74., 70., 74., 70.]])]"
      ]
     },
     "execution_count": 68,
     "metadata": {},
     "output_type": "execute_result"
    }
   ],
   "source": [
    "candidatos_solucoes = []\n",
    "\n",
    "for chave in candidatos_chave_criptografia:\n",
    "    \n",
    "    for matriz_msg in candidatos_matriz_msg:\n",
    "\n",
    "        solucao = linalg.solve(chave,matriz_msg)\n",
    "\n",
    "        candidatos_solucoes.append(solucao) \n",
    "        \n",
    "candidatos_solucoes"
   ]
  },
  {
   "cell_type": "markdown",
   "metadata": {},
   "source": [
    "## Arredondamento elementos para numero inteiro"
   ]
  },
  {
   "cell_type": "code",
   "execution_count": 69,
   "metadata": {},
   "outputs": [],
   "source": [
    "def arredonda_elementos_para_inteiros(solucao):\n",
    "    \n",
    "    n_lin, n_col = solucao.shape\n",
    "    ## Arredondando os numeros da matriz para inteiros\n",
    "    for col in range(n_col):\n",
    "        for lin in range(n_lin):\n",
    "            solucao[lin][col] = round(solucao[lin][col])\n",
    "    \n",
    "    return solucao            "
   ]
  },
  {
   "cell_type": "code",
   "execution_count": 70,
   "metadata": {},
   "outputs": [],
   "source": [
    "#solucao = candidatos_solucoes[0]\n",
    "#solucao"
   ]
  },
  {
   "cell_type": "code",
   "execution_count": 71,
   "metadata": {},
   "outputs": [],
   "source": [
    "#solucao = arredonda_elementos_para_inteiros(solucao)\n",
    "#solucao"
   ]
  },
  {
   "cell_type": "code",
   "execution_count": 72,
   "metadata": {},
   "outputs": [
    {
     "data": {
      "text/plain": [
       "[array([[-6.,  0.],\n",
       "        [ 3., -1.],\n",
       "        [ 3.,  1.],\n",
       "        [ 3.,  5.]]),\n",
       " array([[  3.,  19.],\n",
       "        [ -3., -15.],\n",
       "        [ -3., -10.],\n",
       "        [ 14.,  28.]]),\n",
       " array([[ 10.,  23.,  16.],\n",
       "        [ -8., -19., -14.],\n",
       "        [ -6., -13.,  -9.],\n",
       "        [ 16.,  36.,  26.]]),\n",
       " array([[  3.,  19.,   0.],\n",
       "        [ -3., -15.,   0.],\n",
       "        [ -3., -10.,   0.],\n",
       "        [ 14.,  28.,   1.]]),\n",
       " array([[  3.,  19.,   3.],\n",
       "        [ -3., -15.,  -3.],\n",
       "        [ -3., -10.,  -3.],\n",
       "        [ 14.,  28.,  14.]]),\n",
       " array([[ 18.,  19.,   6.,   3.],\n",
       "        [-16., -15.,  -4.,  -3.],\n",
       "        [-11., -10.,  -2.,  -1.],\n",
       "        [ 32.,  28.,   6.,   4.]]),\n",
       " array([[  3.,  19.,   0.,   0.],\n",
       "        [ -3., -15.,   0.,   0.],\n",
       "        [ -3., -10.,   0.,   0.],\n",
       "        [ 14.,  28.,   1.,   1.]]),\n",
       " array([[  3.,  19.,   3.,  19.],\n",
       "        [ -3., -15.,  -3., -15.],\n",
       "        [ -3., -10.,  -3., -10.],\n",
       "        [ 14.,  28.,  14.,  28.]]),\n",
       " array([[67., 65.],\n",
       "        [25., 23.],\n",
       "        [35., 31.],\n",
       "        [61., 63.]]),\n",
       " array([[60., 37.],\n",
       "        [30., 22.],\n",
       "        [34., 18.],\n",
       "        [74., 70.]]),\n",
       " array([[23., 39., 31.],\n",
       "        [14., 26., 20.],\n",
       "        [12., 20., 16.],\n",
       "        [42., 82., 62.]]),\n",
       " array([[60., 37., 11.],\n",
       "        [30., 22.,  5.],\n",
       "        [34., 18.,  6.],\n",
       "        [74., 70., 12.]]),\n",
       " array([[60., 37., 60.],\n",
       "        [30., 22., 30.],\n",
       "        [34., 18., 34.],\n",
       "        [74., 70., 74.]]),\n",
       " array([[27., 37., 26., 20.],\n",
       "        [22., 22., 10.,  8.],\n",
       "        [16., 18., 11.,  9.],\n",
       "        [66., 70., 32., 24.]]),\n",
       " array([[60., 37., 11., 11.],\n",
       "        [30., 22.,  5.,  5.],\n",
       "        [34., 18.,  6.,  6.],\n",
       "        [74., 70., 12., 12.]]),\n",
       " array([[60., 37., 60., 37.],\n",
       "        [30., 22., 30., 22.],\n",
       "        [34., 18., 34., 18.],\n",
       "        [74., 70., 74., 70.]])]"
      ]
     },
     "execution_count": 72,
     "metadata": {},
     "output_type": "execute_result"
    }
   ],
   "source": [
    "for num, solucao in enumerate(candidatos_solucoes):\n",
    "    solucao = arredonda_elementos_para_inteiros(solucao)\n",
    "    candidatos_solucoes[num] = solucao\n",
    "candidatos_solucoes"
   ]
  },
  {
   "cell_type": "markdown",
   "metadata": {},
   "source": [
    "## Simplificação Matriz"
   ]
  },
  {
   "cell_type": "markdown",
   "metadata": {},
   "source": [
    "Seta primeiro elemento = 1\n",
    "e demais elementos positivos e multiplos de 26"
   ]
  },
  {
   "cell_type": "code",
   "execution_count": 73,
   "metadata": {},
   "outputs": [],
   "source": [
    "def matriz_simplificada_b_igual_1(solucao):\n",
    "    \n",
    "    ## transforma todos os valores para que o primeiro valor seja = 1\n",
    "    valor_b = solucao[0][0]\n",
    "    solucao = solucao - valor_b + 1\n",
    "\n",
    "    return solucao"
   ]
  },
  {
   "cell_type": "code",
   "execution_count": 74,
   "metadata": {},
   "outputs": [],
   "source": [
    "#solucao = candidatos_solucoes[12]\n",
    "#solucao"
   ]
  },
  {
   "cell_type": "code",
   "execution_count": 75,
   "metadata": {},
   "outputs": [],
   "source": [
    "#matriz_simplificada_b_igual_1(solucao)"
   ]
  },
  {
   "cell_type": "code",
   "execution_count": 76,
   "metadata": {},
   "outputs": [],
   "source": [
    "def matriz_simplificada(solucao):\n",
    "\n",
    "    n_lin, n_col = solucao.shape\n",
    "    \n",
    "    ## Transforma elementos para numeros multiplos de 26\n",
    "    for col in range(n_col):\n",
    "        for lin in range(n_lin):\n",
    "            \n",
    "                valor = solucao[lin][col]\n",
    "                x = valor//26\n",
    "                i = valor-x*26\n",
    "                solucao[lin][col] = i\n",
    "\n",
    "    return solucao\n",
    "    "
   ]
  },
  {
   "cell_type": "code",
   "execution_count": 77,
   "metadata": {},
   "outputs": [],
   "source": [
    "#solucao = candidatos_solucoes[12]\n",
    "#solucao"
   ]
  },
  {
   "cell_type": "code",
   "execution_count": 78,
   "metadata": {},
   "outputs": [],
   "source": [
    "#solucao = matriz_simplificada_b_igual_1(solucao)\n",
    "#solucao"
   ]
  },
  {
   "cell_type": "code",
   "execution_count": 79,
   "metadata": {},
   "outputs": [],
   "source": [
    "#solucao = matriz_simplificada(solucao)\n",
    "#solucao"
   ]
  },
  {
   "cell_type": "code",
   "execution_count": 80,
   "metadata": {},
   "outputs": [
    {
     "data": {
      "text/plain": [
       "[array([[ 1.,  7.],\n",
       "        [10.,  6.],\n",
       "        [10.,  8.],\n",
       "        [10., 12.]]),\n",
       " array([[ 1., 17.],\n",
       "        [21.,  9.],\n",
       "        [21., 14.],\n",
       "        [12.,  0.]]),\n",
       " array([[ 1., 14.,  7.],\n",
       "        [ 9., 24.,  3.],\n",
       "        [11.,  4.,  8.],\n",
       "        [ 7.,  1., 17.]]),\n",
       " array([[ 1., 17., 24.],\n",
       "        [21.,  9., 24.],\n",
       "        [21., 14., 24.],\n",
       "        [12.,  0., 25.]]),\n",
       " array([[ 1., 17.,  1.],\n",
       "        [21.,  9., 21.],\n",
       "        [21., 14., 21.],\n",
       "        [12.,  0., 12.]]),\n",
       " array([[ 1.,  2., 15., 12.],\n",
       "        [19., 20.,  5.,  6.],\n",
       "        [24., 25.,  7.,  8.],\n",
       "        [15., 11., 15., 13.]]),\n",
       " array([[ 1., 17., 24., 24.],\n",
       "        [21.,  9., 24., 24.],\n",
       "        [21., 14., 24., 24.],\n",
       "        [12.,  0., 25., 25.]]),\n",
       " array([[ 1., 17.,  1., 17.],\n",
       "        [21.,  9., 21.,  9.],\n",
       "        [21., 14., 21., 14.],\n",
       "        [12.,  0., 12.,  0.]]),\n",
       " array([[ 1., 25.],\n",
       "        [11.,  9.],\n",
       "        [21., 17.],\n",
       "        [21., 23.]]),\n",
       " array([[ 1.,  4.],\n",
       "        [23., 15.],\n",
       "        [ 1., 11.],\n",
       "        [15., 11.]]),\n",
       " array([[ 1., 17.,  9.],\n",
       "        [18.,  4., 24.],\n",
       "        [16., 24., 20.],\n",
       "        [20.,  8., 14.]]),\n",
       " array([[ 1.,  4.,  4.],\n",
       "        [23., 15., 24.],\n",
       "        [ 1., 11., 25.],\n",
       "        [15., 11.,  5.]]),\n",
       " array([[ 1.,  4.,  1.],\n",
       "        [23., 15., 23.],\n",
       "        [ 1., 11.,  1.],\n",
       "        [15., 11., 15.]]),\n",
       " array([[ 1., 11.,  0., 20.],\n",
       "        [22., 22., 10.,  8.],\n",
       "        [16., 18., 11.,  9.],\n",
       "        [14., 18.,  6., 24.]]),\n",
       " array([[ 1.,  4.,  4.,  4.],\n",
       "        [23., 15., 24., 24.],\n",
       "        [ 1., 11., 25., 25.],\n",
       "        [15., 11.,  5.,  5.]]),\n",
       " array([[ 1.,  4.,  1.,  4.],\n",
       "        [23., 15., 23., 15.],\n",
       "        [ 1., 11.,  1., 11.],\n",
       "        [15., 11., 15., 11.]])]"
      ]
     },
     "execution_count": 80,
     "metadata": {},
     "output_type": "execute_result"
    }
   ],
   "source": [
    "for num, solucao in enumerate(candidatos_solucoes):\n",
    "    solucao = matriz_simplificada_b_igual_1(solucao)\n",
    "    solucao = matriz_simplificada(solucao)\n",
    "    candidatos_solucoes[num] = solucao\n",
    "candidatos_solucoes"
   ]
  },
  {
   "cell_type": "markdown",
   "metadata": {},
   "source": [
    "## Substituição"
   ]
  },
  {
   "cell_type": "markdown",
   "metadata": {},
   "source": [
    "Sabemos que o primeiro elemento dessas matrizes é b, se b = primero elemento como ficam os outros elementos? eles correspondem a palavra 'blinky'??"
   ]
  },
  {
   "cell_type": "code",
   "execution_count": 81,
   "metadata": {},
   "outputs": [],
   "source": [
    "alfabeto = ['a','b','c','d','e','f','g','h','i','j','k','l','m','n','o','p','q','r','s','t','u','v','w','x','y','z','a_']\n",
    "\n",
    "def posicao_relacao_b(alfabeto, letra):\n",
    "    pos = alfabeto.index(letra) + alfabeto.index('b') -1\n",
    "    return pos"
   ]
  },
  {
   "cell_type": "code",
   "execution_count": 82,
   "metadata": {},
   "outputs": [
    {
     "data": {
      "text/plain": [
       "(0, 1, 2)"
      ]
     },
     "execution_count": 82,
     "metadata": {},
     "output_type": "execute_result"
    }
   ],
   "source": [
    "posicao_relacao_b(alfabeto,'a'), posicao_relacao_b(alfabeto,'b'), posicao_relacao_b(alfabeto,'c')"
   ]
  },
  {
   "cell_type": "code",
   "execution_count": 83,
   "metadata": {},
   "outputs": [],
   "source": [
    "def dicionario_matriz_relacao_b(solucao):\n",
    "    dicionario_solucao = {posicao_relacao_b(alfabeto,i):i for i in alfabeto}\n",
    "    return dicionario_solucao"
   ]
  },
  {
   "cell_type": "code",
   "execution_count": 84,
   "metadata": {},
   "outputs": [
    {
     "data": {
      "text/plain": [
       "{0: 'a',\n",
       " 1: 'b',\n",
       " 2: 'c',\n",
       " 3: 'd',\n",
       " 4: 'e',\n",
       " 5: 'f',\n",
       " 6: 'g',\n",
       " 7: 'h',\n",
       " 8: 'i',\n",
       " 9: 'j',\n",
       " 10: 'k',\n",
       " 11: 'l',\n",
       " 12: 'm',\n",
       " 13: 'n',\n",
       " 14: 'o',\n",
       " 15: 'p',\n",
       " 16: 'q',\n",
       " 17: 'r',\n",
       " 18: 's',\n",
       " 19: 't',\n",
       " 20: 'u',\n",
       " 21: 'v',\n",
       " 22: 'w',\n",
       " 23: 'x',\n",
       " 24: 'y',\n",
       " 25: 'z',\n",
       " 26: 'a_'}"
      ]
     },
     "execution_count": 84,
     "metadata": {},
     "output_type": "execute_result"
    }
   ],
   "source": [
    "dicionario_global = dicionario_matriz_relacao_b(solucao)\n",
    "dicionario_global"
   ]
  },
  {
   "cell_type": "code",
   "execution_count": 85,
   "metadata": {},
   "outputs": [],
   "source": [
    "import pandas as pd\n",
    "def substitui_para_letras(solucao,dicionario):\n",
    "    n_lin, n_col = solucao.shape\n",
    "\n",
    "    df_solucao = pd.DataFrame(solucao , columns = [i for i in range(n_col)])\n",
    "    \n",
    "    for col in df_solucao.columns:\n",
    "        df_solucao[col] = df_solucao[col].astype(int)\n",
    "        df_solucao[col] = df_solucao[col].map( dicionario ).astype(str)\n",
    "        solucao = df_solucao.to_numpy()\n",
    "    \n",
    "    return solucao"
   ]
  },
  {
   "cell_type": "code",
   "execution_count": 86,
   "metadata": {},
   "outputs": [
    {
     "data": {
      "text/plain": [
       "array([[ 1.,  7.],\n",
       "       [10.,  6.],\n",
       "       [10.,  8.],\n",
       "       [10., 12.]])"
      ]
     },
     "execution_count": 86,
     "metadata": {},
     "output_type": "execute_result"
    }
   ],
   "source": [
    "solucao = candidatos_solucoes[0]\n",
    "solucao"
   ]
  },
  {
   "cell_type": "code",
   "execution_count": 87,
   "metadata": {},
   "outputs": [
    {
     "data": {
      "text/plain": [
       "array([['b', 'h'],\n",
       "       ['k', 'g'],\n",
       "       ['k', 'i'],\n",
       "       ['k', 'm']], dtype=object)"
      ]
     },
     "execution_count": 87,
     "metadata": {},
     "output_type": "execute_result"
    }
   ],
   "source": [
    "solucao = substitui_para_letras(solucao, dicionario_global)\n",
    "solucao"
   ]
  },
  {
   "cell_type": "code",
   "execution_count": 88,
   "metadata": {},
   "outputs": [
    {
     "data": {
      "text/plain": [
       "[array([['b', 'h'],\n",
       "        ['k', 'g'],\n",
       "        ['k', 'i'],\n",
       "        ['k', 'm']], dtype=object),\n",
       " array([['b', 'r'],\n",
       "        ['v', 'j'],\n",
       "        ['v', 'o'],\n",
       "        ['m', 'a']], dtype=object),\n",
       " array([['b', 'o', 'h'],\n",
       "        ['j', 'y', 'd'],\n",
       "        ['l', 'e', 'i'],\n",
       "        ['h', 'b', 'r']], dtype=object),\n",
       " array([['b', 'r', 'y'],\n",
       "        ['v', 'j', 'y'],\n",
       "        ['v', 'o', 'y'],\n",
       "        ['m', 'a', 'z']], dtype=object),\n",
       " array([['b', 'r', 'b'],\n",
       "        ['v', 'j', 'v'],\n",
       "        ['v', 'o', 'v'],\n",
       "        ['m', 'a', 'm']], dtype=object),\n",
       " array([['b', 'c', 'p', 'm'],\n",
       "        ['t', 'u', 'f', 'g'],\n",
       "        ['y', 'z', 'h', 'i'],\n",
       "        ['p', 'l', 'p', 'n']], dtype=object),\n",
       " array([['b', 'r', 'y', 'y'],\n",
       "        ['v', 'j', 'y', 'y'],\n",
       "        ['v', 'o', 'y', 'y'],\n",
       "        ['m', 'a', 'z', 'z']], dtype=object),\n",
       " array([['b', 'r', 'b', 'r'],\n",
       "        ['v', 'j', 'v', 'j'],\n",
       "        ['v', 'o', 'v', 'o'],\n",
       "        ['m', 'a', 'm', 'a']], dtype=object),\n",
       " array([['b', 'z'],\n",
       "        ['l', 'j'],\n",
       "        ['v', 'r'],\n",
       "        ['v', 'x']], dtype=object),\n",
       " array([['b', 'e'],\n",
       "        ['x', 'p'],\n",
       "        ['b', 'l'],\n",
       "        ['p', 'l']], dtype=object),\n",
       " array([['b', 'r', 'j'],\n",
       "        ['s', 'e', 'y'],\n",
       "        ['q', 'y', 'u'],\n",
       "        ['u', 'i', 'o']], dtype=object),\n",
       " array([['b', 'e', 'e'],\n",
       "        ['x', 'p', 'y'],\n",
       "        ['b', 'l', 'z'],\n",
       "        ['p', 'l', 'f']], dtype=object),\n",
       " array([['b', 'e', 'b'],\n",
       "        ['x', 'p', 'x'],\n",
       "        ['b', 'l', 'b'],\n",
       "        ['p', 'l', 'p']], dtype=object),\n",
       " array([['b', 'l', 'a', 'u'],\n",
       "        ['w', 'w', 'k', 'i'],\n",
       "        ['q', 's', 'l', 'j'],\n",
       "        ['o', 's', 'g', 'y']], dtype=object),\n",
       " array([['b', 'e', 'e', 'e'],\n",
       "        ['x', 'p', 'y', 'y'],\n",
       "        ['b', 'l', 'z', 'z'],\n",
       "        ['p', 'l', 'f', 'f']], dtype=object),\n",
       " array([['b', 'e', 'b', 'e'],\n",
       "        ['x', 'p', 'x', 'p'],\n",
       "        ['b', 'l', 'b', 'l'],\n",
       "        ['p', 'l', 'p', 'l']], dtype=object)]"
      ]
     },
     "execution_count": 88,
     "metadata": {},
     "output_type": "execute_result"
    }
   ],
   "source": [
    "for num, solucao in enumerate(candidatos_solucoes):\n",
    "    solucao = substitui_para_letras(solucao, dicionario_global)\n",
    "    candidatos_solucoes[num] = solucao\n",
    "candidatos_solucoes"
   ]
  },
  {
   "cell_type": "code",
   "execution_count": 89,
   "metadata": {},
   "outputs": [
    {
     "name": "stdout",
     "output_type": "stream",
     "text": [
      "Solução = 0 - Letras_Match =  b i k - Matches = 50.0% \n",
      "Solução = 1 - Letras_Match =  b - Matches = 16.666666666666664% \n",
      "Solução = 2 - Letras_Match =  b l i y - Matches = 66.66666666666666% \n",
      "Solução = 3 - Letras_Match =  b y - Matches = 33.33333333333333% \n",
      "Solução = 4 - Letras_Match =  b - Matches = 16.666666666666664% \n",
      "Solução = 5 - Letras_Match =  b l i n y - Matches = 83.33333333333334% \n",
      "Solução = 6 - Letras_Match =  b y - Matches = 33.33333333333333% \n",
      "Solução = 7 - Letras_Match =  b - Matches = 16.666666666666664% \n",
      "Solução = 8 - Letras_Match =  b l - Matches = 33.33333333333333% \n",
      "Solução = 9 - Letras_Match =  b l - Matches = 33.33333333333333% \n",
      "Solução = 10 - Letras_Match =  b i y - Matches = 50.0% \n",
      "Solução = 11 - Letras_Match =  b l y - Matches = 50.0% \n",
      "Solução = 12 - Letras_Match =  b l - Matches = 33.33333333333333% \n",
      "Solução = 13 - Letras_Match =  b l i k y - Matches = 83.33333333333334% \n",
      "Solução = 14 - Letras_Match =  b l y - Matches = 50.0% \n",
      "Solução = 15 - Letras_Match =  b l - Matches = 33.33333333333333% \n"
     ]
    }
   ],
   "source": [
    "for num_sol, solucao in enumerate(candidatos_solucoes):\n",
    "    contador_match = 0\n",
    "    letras_match = ''\n",
    "    \n",
    "    for letra in 'blinky':\n",
    "        if letra in solucao:\n",
    "            contador_match = contador_match+1\n",
    "            letras_match = letras_match + ' ' + letra\n",
    "            \n",
    "    prop_match = contador_match / len('blinky') *100\n",
    "    print(\"Solução = {} - Letras_Match = {} - Matches = {}% \".format(num_sol,letras_match,prop_match))"
   ]
  },
  {
   "cell_type": "code",
   "execution_count": 92,
   "metadata": {},
   "outputs": [
    {
     "data": {
      "text/plain": [
       "array([['b', 'o', 'h'],\n",
       "       ['j', 'y', 'd'],\n",
       "       ['l', 'e', 'i'],\n",
       "       ['h', 'b', 'r']], dtype=object)"
      ]
     },
     "execution_count": 92,
     "metadata": {},
     "output_type": "execute_result"
    }
   ],
   "source": [
    "candidatos_solucoes[2]"
   ]
  },
  {
   "cell_type": "markdown",
   "metadata": {},
   "source": [
    "## Pista 1+1: = 1,13,49,94"
   ]
  },
  {
   "cell_type": "markdown",
   "metadata": {},
   "source": [
    "Parecem elementos de progressão veremos qual a raiz dessa progressão (se é que existe uma)"
   ]
  },
  {
   "cell_type": "code",
   "execution_count": 137,
   "metadata": {},
   "outputs": [
    {
     "name": "stdout",
     "output_type": "stream",
     "text": [
      "1 0.0\n",
      "2 0.5\n",
      "3 1.1657341758564144e-15\n",
      "4 0.25\n",
      "5 0.6000000000000008\n",
      "6 0.5\n",
      "7 0.8571428571428572\n",
      "8 0.625\n",
      "9 0.33333333333333354\n",
      "10 0.8000000000000004\n",
      "11 0.45454545454545403\n",
      "12 0.75\n",
      "13 0.7692307692307692\n",
      "14 0.8571428571428572\n",
      "15 0.8\n",
      "16 0.8125\n",
      "17 0.8235294117647058\n",
      "18 0.6666666666666667\n",
      "19 0.8947368421052635\n",
      "20 0.6500000000000001\n",
      "21 0.5714285714285714\n",
      "22 0.5454545454545455\n",
      "23 0.5217391304347826\n",
      "24 0.875\n",
      "25 0.9199999999999999\n",
      "26 0.8461538461538461\n",
      "27 0.7777777777777779\n",
      "28 0.7142857142857143\n",
      "29 0.6551724137931035\n",
      "30 0.6\n",
      "31 0.5483870967741935\n",
      "32 0.90625\n",
      "33 0.8181818181818183\n",
      "34 0.7352941176470588\n",
      "35 0.6571428571428569\n",
      "36 0.5833333333333334\n",
      "37 0.5135135135135134\n",
      "38 0.44736842105263175\n",
      "39 0.38461538461538447\n",
      "40 0.32500000000000007\n",
      "41 0.2926829268292683\n",
      "42 0.2857142857142857\n",
      "43 0.27906976744186046\n",
      "44 0.27272727272727276\n",
      "45 0.26666666666666666\n",
      "46 0.2608695652173913\n",
      "47 0.2765957446808511\n",
      "48 0.9375\n",
      "49 0.9183673469387754\n",
      "50 0.96\n",
      "51 0.9411764705882353\n",
      "52 0.923076923076923\n",
      "53 0.9056603773584906\n",
      "54 0.888888888888889\n",
      "55 0.8727272727272727\n",
      "56 0.8571428571428571\n",
      "57 0.8421052631578947\n",
      "58 0.8275862068965517\n",
      "59 0.8135593220338984\n",
      "60 0.7999999999999999\n",
      "61 0.7868852459016393\n",
      "62 0.7741935483870968\n",
      "63 0.7619047619047619\n",
      "64 0.75\n",
      "65 0.7384615384615385\n",
      "66 0.7272727272727273\n",
      "67 0.7164179104477612\n",
      "68 0.7058823529411765\n",
      "69 0.6956521739130436\n",
      "70 0.6857142857142857\n",
      "71 0.676056338028169\n",
      "72 0.6666666666666667\n",
      "73 0.6575342465753424\n",
      "74 0.6486486486486487\n",
      "75 0.64\n",
      "76 0.631578947368421\n",
      "77 0.6233766233766234\n",
      "78 0.6153846153846154\n",
      "79 0.6075949367088608\n",
      "80 0.6000000000000001\n",
      "81 0.5925925925925926\n",
      "82 0.5853658536585366\n",
      "83 0.5783132530120482\n",
      "84 0.5714285714285715\n",
      "85 0.5647058823529412\n",
      "86 0.5581395348837209\n",
      "87 0.5517241379310345\n",
      "88 0.5454545454545454\n",
      "89 0.5393258426966292\n"
     ]
    }
   ],
   "source": [
    "for k in range(1,90):\n",
    "    L = [1,13,49,94]\n",
    "    \n",
    "    ###decimais L por K:\n",
    "    decimais_originais = [i/k%1 for i in L]\n",
    "    \n",
    "    ## subtrai o max de todos (para checar se a matriz 0,0,0,0 ocorre (todos elementos sao iguais))\n",
    "    decimais = np.array(decimais_originais).max() - np.array(decimais_originais)\n",
    "    \n",
    "    max_lista = decimais.max()\n",
    "    \n",
    "    ## os valores unicos são iguais?\n",
    "    \n",
    "    print(k,max_lista)"
   ]
  },
  {
   "cell_type": "markdown",
   "metadata": {},
   "source": [
    "Candidatos á raiz: 3"
   ]
  },
  {
   "cell_type": "markdown",
   "metadata": {},
   "source": [
    "1 * 3*n = 1,13,49,94 onde \n",
    "n assume um valor inteiro"
   ]
  },
  {
   "cell_type": "markdown",
   "metadata": {},
   "source": [
    "para \n",
    "- n = 0 temos:   1 * 3 * 0 = 1\n",
    "- n = 3 temos:   1 * 3 * 3 = 13\n",
    "- n = 16 temos:   1 * 3 * 3 = 49\n",
    "- n = 31 temos:   1 * 3 * 31 = 94"
   ]
  },
  {
   "cell_type": "code",
   "execution_count": null,
   "metadata": {},
   "outputs": [],
   "source": []
  },
  {
   "cell_type": "code",
   "execution_count": null,
   "metadata": {},
   "outputs": [],
   "source": []
  },
  {
   "cell_type": "code",
   "execution_count": null,
   "metadata": {},
   "outputs": [],
   "source": []
  },
  {
   "cell_type": "code",
   "execution_count": null,
   "metadata": {},
   "outputs": [],
   "source": []
  }
 ],
 "metadata": {
  "kernelspec": {
   "display_name": "Python 3",
   "language": "python",
   "name": "python3"
  },
  "language_info": {
   "codemirror_mode": {
    "name": "ipython",
    "version": 3
   },
   "file_extension": ".py",
   "mimetype": "text/x-python",
   "name": "python",
   "nbconvert_exporter": "python",
   "pygments_lexer": "ipython3",
   "version": "3.8.3"
  }
 },
 "nbformat": 4,
 "nbformat_minor": 4
}

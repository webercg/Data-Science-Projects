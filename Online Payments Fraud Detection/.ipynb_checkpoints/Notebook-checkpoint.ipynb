{
 "cells": [
  {
   "cell_type": "markdown",
   "metadata": {},
   "source": [
    "Dataset: https://www.kaggle.com/datasets/rupakroy/online-payments-fraud-detection-dataset"
   ]
  },
  {
   "cell_type": "markdown",
   "metadata": {},
   "source": [
    "Columns:\n",
    "    \n",
    "step: represents a unit of time where 1 step equals 1 hour  \n",
    "type: type of online transaction  \n",
    "amount: the amount of the transaction  \n",
    "nameOrig: customer starting the transaction  \n",
    "oldbalanceOrg: balance before the transaction  \n",
    "newbalanceOrig: balance after the transaction  \n",
    "nameDest: recipient of the transaction  \n",
    "oldbalanceDest: initial balance of recipient before the transaction  \n",
    "newbalanceDest: the new balance of recipient after the transaction  \n",
    "isFraud: fraud transaction  "
   ]
  },
  {
   "cell_type": "markdown",
   "metadata": {},
   "source": [
    "# 1 Importação de bibliotecas"
   ]
  },
  {
   "cell_type": "code",
   "execution_count": 39,
   "metadata": {},
   "outputs": [],
   "source": [
    "#Manipulação de dados\n",
    "import pandas as pd\n",
    "import numpy as np\n",
    "\n",
    "#Visualização de dados\n",
    "import matplotlib.pyplot as plt\n",
    "import seaborn as sns\n",
    "from IPython import get_ipython\n",
    "import warnings\n",
    "warnings.filterwarnings(\"ignore\")\n",
    "\n",
    "# Prototipação\n",
    "from lazypredict.Supervised import LazyClassifier\n",
    "\n",
    "#Balanceamento de dados\n",
    "from imblearn.under_sampling import NearMiss\n",
    "\n",
    "#ML\n",
    "from sklearn.model_selection import train_test_split\n",
    "from xgboost import XGBClassifier\n",
    "\n",
    "#Tuning\n",
    "from sklearn.model_selection import GridSearchCV\n",
    "\n",
    "#Model evaluation\n",
    "from sklearn.metrics import make_scorer\n",
    "from sklearn.metrics import f1_score\n",
    "from sklearn.metrics import accuracy_score\n",
    "from sklearn.metrics import recall_score\n",
    "from sklearn.metrics import roc_auc_score\n",
    "from sklearn.metrics import balanced_accuracy_score\n",
    "from sklearn.model_selection import cross_val_score, KFold\n",
    "from sklearn.metrics import accuracy_score, classification_report, confusion_matrix"
   ]
  },
  {
   "cell_type": "markdown",
   "metadata": {},
   "source": [
    "# 2 Leitura dos dados"
   ]
  },
  {
   "cell_type": "code",
   "execution_count": 2,
   "metadata": {},
   "outputs": [],
   "source": [
    "df = pd.read_csv('PS_20174392719_1491204439457_log.csv')"
   ]
  },
  {
   "cell_type": "code",
   "execution_count": 3,
   "metadata": {},
   "outputs": [
    {
     "data": {
      "text/html": [
       "<div>\n",
       "<style scoped>\n",
       "    .dataframe tbody tr th:only-of-type {\n",
       "        vertical-align: middle;\n",
       "    }\n",
       "\n",
       "    .dataframe tbody tr th {\n",
       "        vertical-align: top;\n",
       "    }\n",
       "\n",
       "    .dataframe thead th {\n",
       "        text-align: right;\n",
       "    }\n",
       "</style>\n",
       "<table border=\"1\" class=\"dataframe\">\n",
       "  <thead>\n",
       "    <tr style=\"text-align: right;\">\n",
       "      <th></th>\n",
       "      <th>step</th>\n",
       "      <th>type</th>\n",
       "      <th>amount</th>\n",
       "      <th>nameOrig</th>\n",
       "      <th>oldbalanceOrg</th>\n",
       "      <th>newbalanceOrig</th>\n",
       "      <th>nameDest</th>\n",
       "      <th>oldbalanceDest</th>\n",
       "      <th>newbalanceDest</th>\n",
       "      <th>isFraud</th>\n",
       "      <th>isFlaggedFraud</th>\n",
       "    </tr>\n",
       "  </thead>\n",
       "  <tbody>\n",
       "    <tr>\n",
       "      <th>0</th>\n",
       "      <td>1</td>\n",
       "      <td>PAYMENT</td>\n",
       "      <td>9839.64</td>\n",
       "      <td>C1231006815</td>\n",
       "      <td>170136.0</td>\n",
       "      <td>160296.36</td>\n",
       "      <td>M1979787155</td>\n",
       "      <td>0.0</td>\n",
       "      <td>0.0</td>\n",
       "      <td>0</td>\n",
       "      <td>0</td>\n",
       "    </tr>\n",
       "    <tr>\n",
       "      <th>1</th>\n",
       "      <td>1</td>\n",
       "      <td>PAYMENT</td>\n",
       "      <td>1864.28</td>\n",
       "      <td>C1666544295</td>\n",
       "      <td>21249.0</td>\n",
       "      <td>19384.72</td>\n",
       "      <td>M2044282225</td>\n",
       "      <td>0.0</td>\n",
       "      <td>0.0</td>\n",
       "      <td>0</td>\n",
       "      <td>0</td>\n",
       "    </tr>\n",
       "    <tr>\n",
       "      <th>2</th>\n",
       "      <td>1</td>\n",
       "      <td>TRANSFER</td>\n",
       "      <td>181.00</td>\n",
       "      <td>C1305486145</td>\n",
       "      <td>181.0</td>\n",
       "      <td>0.00</td>\n",
       "      <td>C553264065</td>\n",
       "      <td>0.0</td>\n",
       "      <td>0.0</td>\n",
       "      <td>1</td>\n",
       "      <td>0</td>\n",
       "    </tr>\n",
       "    <tr>\n",
       "      <th>3</th>\n",
       "      <td>1</td>\n",
       "      <td>CASH_OUT</td>\n",
       "      <td>181.00</td>\n",
       "      <td>C840083671</td>\n",
       "      <td>181.0</td>\n",
       "      <td>0.00</td>\n",
       "      <td>C38997010</td>\n",
       "      <td>21182.0</td>\n",
       "      <td>0.0</td>\n",
       "      <td>1</td>\n",
       "      <td>0</td>\n",
       "    </tr>\n",
       "    <tr>\n",
       "      <th>4</th>\n",
       "      <td>1</td>\n",
       "      <td>PAYMENT</td>\n",
       "      <td>11668.14</td>\n",
       "      <td>C2048537720</td>\n",
       "      <td>41554.0</td>\n",
       "      <td>29885.86</td>\n",
       "      <td>M1230701703</td>\n",
       "      <td>0.0</td>\n",
       "      <td>0.0</td>\n",
       "      <td>0</td>\n",
       "      <td>0</td>\n",
       "    </tr>\n",
       "  </tbody>\n",
       "</table>\n",
       "</div>"
      ],
      "text/plain": [
       "   step      type    amount     nameOrig  oldbalanceOrg  newbalanceOrig  \\\n",
       "0     1   PAYMENT   9839.64  C1231006815       170136.0       160296.36   \n",
       "1     1   PAYMENT   1864.28  C1666544295        21249.0        19384.72   \n",
       "2     1  TRANSFER    181.00  C1305486145          181.0            0.00   \n",
       "3     1  CASH_OUT    181.00   C840083671          181.0            0.00   \n",
       "4     1   PAYMENT  11668.14  C2048537720        41554.0        29885.86   \n",
       "\n",
       "      nameDest  oldbalanceDest  newbalanceDest  isFraud  isFlaggedFraud  \n",
       "0  M1979787155             0.0             0.0        0               0  \n",
       "1  M2044282225             0.0             0.0        0               0  \n",
       "2   C553264065             0.0             0.0        1               0  \n",
       "3    C38997010         21182.0             0.0        1               0  \n",
       "4  M1230701703             0.0             0.0        0               0  "
      ]
     },
     "execution_count": 3,
     "metadata": {},
     "output_type": "execute_result"
    }
   ],
   "source": [
    "df.head()"
   ]
  },
  {
   "cell_type": "markdown",
   "metadata": {},
   "source": [
    "# 3 Limpeza"
   ]
  },
  {
   "cell_type": "markdown",
   "metadata": {},
   "source": [
    "## 3.1 Missing"
   ]
  },
  {
   "cell_type": "code",
   "execution_count": 4,
   "metadata": {},
   "outputs": [
    {
     "data": {
      "text/plain": [
       "step              0\n",
       "type              0\n",
       "amount            0\n",
       "nameOrig          0\n",
       "oldbalanceOrg     0\n",
       "newbalanceOrig    0\n",
       "nameDest          0\n",
       "oldbalanceDest    0\n",
       "newbalanceDest    0\n",
       "isFraud           0\n",
       "isFlaggedFraud    0\n",
       "dtype: int64"
      ]
     },
     "execution_count": 4,
     "metadata": {},
     "output_type": "execute_result"
    }
   ],
   "source": [
    "df.isnull().sum()"
   ]
  },
  {
   "cell_type": "markdown",
   "metadata": {},
   "source": [
    "## 3.2 Duplicados"
   ]
  },
  {
   "cell_type": "code",
   "execution_count": 5,
   "metadata": {},
   "outputs": [
    {
     "data": {
      "text/plain": [
       "0"
      ]
     },
     "execution_count": 5,
     "metadata": {},
     "output_type": "execute_result"
    }
   ],
   "source": [
    "df.duplicated().sum()"
   ]
  },
  {
   "cell_type": "markdown",
   "metadata": {},
   "source": [
    "## 3.3 Unicos"
   ]
  },
  {
   "cell_type": "code",
   "execution_count": 6,
   "metadata": {},
   "outputs": [
    {
     "data": {
      "text/plain": [
       "step                  743\n",
       "type                    5\n",
       "amount            5316900\n",
       "nameOrig          6353307\n",
       "oldbalanceOrg     1845844\n",
       "newbalanceOrig    2682586\n",
       "nameDest          2722362\n",
       "oldbalanceDest    3614697\n",
       "newbalanceDest    3555499\n",
       "isFraud                 2\n",
       "isFlaggedFraud          2\n",
       "dtype: int64"
      ]
     },
     "execution_count": 6,
     "metadata": {},
     "output_type": "execute_result"
    }
   ],
   "source": [
    "df.nunique()"
   ]
  },
  {
   "cell_type": "markdown",
   "metadata": {},
   "source": [
    "## 3.4 Dados categóricos"
   ]
  },
  {
   "cell_type": "code",
   "execution_count": 7,
   "metadata": {},
   "outputs": [],
   "source": [
    "df_categorical = df[['type','isFraud','isFlaggedFraud']]"
   ]
  },
  {
   "cell_type": "code",
   "execution_count": 8,
   "metadata": {},
   "outputs": [
    {
     "data": {
      "image/png": "[encoded data removed]",
      "text/plain": [
       "<Figure size 1080x432 with 1 Axes>"
      ]
     },
     "metadata": {
      "needs_background": "light"
     },
     "output_type": "display_data"
    },
    {
     "data": {
      "image/png": "[encoded data removed]",
      "text/plain": [
       "<Figure size 1080x432 with 1 Axes>"
      ]
     },
     "metadata": {
      "needs_background": "light"
     },
     "output_type": "display_data"
    },
    {
     "data": {
      "image/png": "[encoded data removed]",
      "text/plain": [
       "<Figure size 1080x432 with 1 Axes>"
      ]
     },
     "metadata": {
      "needs_background": "light"
     },
     "output_type": "display_data"
    }
   ],
   "source": [
    "for i in df_categorical.columns:\n",
    "    plt.figure(figsize=(15,6))\n",
    "    sns.countplot(df_categorical[i], data = df_categorical,\n",
    "    palette='hls')\n",
    "    plt.xticks(rotation = 90)\n",
    "    plt.show()\n"
   ]
  },
  {
   "cell_type": "markdown",
   "metadata": {},
   "source": [
    "## 3.5 Dados numericos"
   ]
  },
  {
   "cell_type": "code",
   "execution_count": 8,
   "metadata": {},
   "outputs": [
    {
     "data": {
      "text/plain": [
       "step                int64\n",
       "type               object\n",
       "amount            float64\n",
       "nameOrig           object\n",
       "oldbalanceOrg     float64\n",
       "newbalanceOrig    float64\n",
       "nameDest           object\n",
       "oldbalanceDest    float64\n",
       "newbalanceDest    float64\n",
       "isFraud             int64\n",
       "isFlaggedFraud      int64\n",
       "dtype: object"
      ]
     },
     "execution_count": 8,
     "metadata": {},
     "output_type": "execute_result"
    }
   ],
   "source": [
    "df.dtypes"
   ]
  },
  {
   "cell_type": "code",
   "execution_count": 9,
   "metadata": {},
   "outputs": [],
   "source": [
    "df_numerico = df[['step','amount','oldbalanceOrg','newbalanceOrig', 'oldbalanceDest','newbalanceDest','isFraud','isFlaggedFraud']]"
   ]
  },
  {
   "cell_type": "code",
   "execution_count": 13,
   "metadata": {},
   "outputs": [
    {
     "data": {
      "image/png": "[encoded data removed]",
      "text/plain": [
       "<Figure size 1080x432 with 1 Axes>"
      ]
     },
     "metadata": {
      "needs_background": "light"
     },
     "output_type": "display_data"
    },
    {
     "data": {
      "image/png": "[encoded data removed]",
      "text/plain": [
       "<Figure size 1080x432 with 1 Axes>"
      ]
     },
     "metadata": {
      "needs_background": "light"
     },
     "output_type": "display_data"
    },
    {
     "data": {
      "image/png": "[encoded data removed]",
      "text/plain": [
       "<Figure size 1080x432 with 1 Axes>"
      ]
     },
     "metadata": {
      "needs_background": "light"
     },
     "output_type": "display_data"
    },
    {
     "data": {
      "image/png": "[encoded data removed]",
      "text/plain": [
       "<Figure size 1080x432 with 1 Axes>"
      ]
     },
     "metadata": {
      "needs_background": "light"
     },
     "output_type": "display_data"
    },
    {
     "data": {
      "image/png": "[encoded data removed]",
      "text/plain": [
       "<Figure size 1080x432 with 1 Axes>"
      ]
     },
     "metadata": {
      "needs_background": "light"
     },
     "output_type": "display_data"
    },
    {
     "data": {
      "image/png": "[encoded data removed]",
      "text/plain": [
       "<Figure size 1080x432 with 1 Axes>"
      ]
     },
     "metadata": {
      "needs_background": "light"
     },
     "output_type": "display_data"
    },
    {
     "data": {
      "image/png": "[encoded data removed]",
      "text/plain": [
       "<Figure size 1080x432 with 1 Axes>"
      ]
     },
     "metadata": {
      "needs_background": "light"
     },
     "output_type": "display_data"
    },
    {
     "data": {
      "image/png": "[encoded data removed]",
      "text/plain": [
       "<Figure size 1080x432 with 1 Axes>"
      ]
     },
     "metadata": {
      "needs_background": "light"
     },
     "output_type": "display_data"
    }
   ],
   "source": [
    "for i in df_numerico.columns:\n",
    "    plt.figure(figsize=(15,6))\n",
    "    sns.boxplot(df[i], data = df)\n",
    "    plt.xticks(rotation = 90)\n",
    "    plt.show()\n"
   ]
  },
  {
   "cell_type": "markdown",
   "metadata": {},
   "source": [
    "# 4 Criação de features e Analise de Dados"
   ]
  },
  {
   "cell_type": "code",
   "execution_count": 10,
   "metadata": {},
   "outputs": [
    {
     "data": {
      "text/html": [
       "<div>\n",
       "<style scoped>\n",
       "    .dataframe tbody tr th:only-of-type {\n",
       "        vertical-align: middle;\n",
       "    }\n",
       "\n",
       "    .dataframe tbody tr th {\n",
       "        vertical-align: top;\n",
       "    }\n",
       "\n",
       "    .dataframe thead th {\n",
       "        text-align: right;\n",
       "    }\n",
       "</style>\n",
       "<table border=\"1\" class=\"dataframe\">\n",
       "  <thead>\n",
       "    <tr style=\"text-align: right;\">\n",
       "      <th></th>\n",
       "      <th>step</th>\n",
       "      <th>amount</th>\n",
       "      <th>oldbalanceOrg</th>\n",
       "      <th>newbalanceOrig</th>\n",
       "      <th>oldbalanceDest</th>\n",
       "      <th>newbalanceDest</th>\n",
       "      <th>isFraud</th>\n",
       "      <th>isFlaggedFraud</th>\n",
       "    </tr>\n",
       "  </thead>\n",
       "  <tbody>\n",
       "    <tr>\n",
       "      <th>count</th>\n",
       "      <td>6.362620e+06</td>\n",
       "      <td>6.362620e+06</td>\n",
       "      <td>6.362620e+06</td>\n",
       "      <td>6.362620e+06</td>\n",
       "      <td>6.362620e+06</td>\n",
       "      <td>6.362620e+06</td>\n",
       "      <td>6.362620e+06</td>\n",
       "      <td>6.362620e+06</td>\n",
       "    </tr>\n",
       "    <tr>\n",
       "      <th>mean</th>\n",
       "      <td>2.433972e+02</td>\n",
       "      <td>1.798619e+05</td>\n",
       "      <td>8.338831e+05</td>\n",
       "      <td>8.551137e+05</td>\n",
       "      <td>1.100702e+06</td>\n",
       "      <td>1.224996e+06</td>\n",
       "      <td>1.290820e-03</td>\n",
       "      <td>2.514687e-06</td>\n",
       "    </tr>\n",
       "    <tr>\n",
       "      <th>std</th>\n",
       "      <td>1.423320e+02</td>\n",
       "      <td>6.038582e+05</td>\n",
       "      <td>2.888243e+06</td>\n",
       "      <td>2.924049e+06</td>\n",
       "      <td>3.399180e+06</td>\n",
       "      <td>3.674129e+06</td>\n",
       "      <td>3.590480e-02</td>\n",
       "      <td>1.585775e-03</td>\n",
       "    </tr>\n",
       "    <tr>\n",
       "      <th>min</th>\n",
       "      <td>1.000000e+00</td>\n",
       "      <td>0.000000e+00</td>\n",
       "      <td>0.000000e+00</td>\n",
       "      <td>0.000000e+00</td>\n",
       "      <td>0.000000e+00</td>\n",
       "      <td>0.000000e+00</td>\n",
       "      <td>0.000000e+00</td>\n",
       "      <td>0.000000e+00</td>\n",
       "    </tr>\n",
       "    <tr>\n",
       "      <th>25%</th>\n",
       "      <td>1.560000e+02</td>\n",
       "      <td>1.338957e+04</td>\n",
       "      <td>0.000000e+00</td>\n",
       "      <td>0.000000e+00</td>\n",
       "      <td>0.000000e+00</td>\n",
       "      <td>0.000000e+00</td>\n",
       "      <td>0.000000e+00</td>\n",
       "      <td>0.000000e+00</td>\n",
       "    </tr>\n",
       "    <tr>\n",
       "      <th>50%</th>\n",
       "      <td>2.390000e+02</td>\n",
       "      <td>7.487194e+04</td>\n",
       "      <td>1.420800e+04</td>\n",
       "      <td>0.000000e+00</td>\n",
       "      <td>1.327057e+05</td>\n",
       "      <td>2.146614e+05</td>\n",
       "      <td>0.000000e+00</td>\n",
       "      <td>0.000000e+00</td>\n",
       "    </tr>\n",
       "    <tr>\n",
       "      <th>75%</th>\n",
       "      <td>3.350000e+02</td>\n",
       "      <td>2.087215e+05</td>\n",
       "      <td>1.073152e+05</td>\n",
       "      <td>1.442584e+05</td>\n",
       "      <td>9.430367e+05</td>\n",
       "      <td>1.111909e+06</td>\n",
       "      <td>0.000000e+00</td>\n",
       "      <td>0.000000e+00</td>\n",
       "    </tr>\n",
       "    <tr>\n",
       "      <th>max</th>\n",
       "      <td>7.430000e+02</td>\n",
       "      <td>9.244552e+07</td>\n",
       "      <td>5.958504e+07</td>\n",
       "      <td>4.958504e+07</td>\n",
       "      <td>3.560159e+08</td>\n",
       "      <td>3.561793e+08</td>\n",
       "      <td>1.000000e+00</td>\n",
       "      <td>1.000000e+00</td>\n",
       "    </tr>\n",
       "  </tbody>\n",
       "</table>\n",
       "</div>"
      ],
      "text/plain": [
       "               step        amount  oldbalanceOrg  newbalanceOrig  \\\n",
       "count  6.362620e+06  6.362620e+06   6.362620e+06    6.362620e+06   \n",
       "mean   2.433972e+02  1.798619e+05   8.338831e+05    8.551137e+05   \n",
       "std    1.423320e+02  6.038582e+05   2.888243e+06    2.924049e+06   \n",
       "min    1.000000e+00  0.000000e+00   0.000000e+00    0.000000e+00   \n",
       "25%    1.560000e+02  1.338957e+04   0.000000e+00    0.000000e+00   \n",
       "50%    2.390000e+02  7.487194e+04   1.420800e+04    0.000000e+00   \n",
       "75%    3.350000e+02  2.087215e+05   1.073152e+05    1.442584e+05   \n",
       "max    7.430000e+02  9.244552e+07   5.958504e+07    4.958504e+07   \n",
       "\n",
       "       oldbalanceDest  newbalanceDest       isFraud  isFlaggedFraud  \n",
       "count    6.362620e+06    6.362620e+06  6.362620e+06    6.362620e+06  \n",
       "mean     1.100702e+06    1.224996e+06  1.290820e-03    2.514687e-06  \n",
       "std      3.399180e+06    3.674129e+06  3.590480e-02    1.585775e-03  \n",
       "min      0.000000e+00    0.000000e+00  0.000000e+00    0.000000e+00  \n",
       "25%      0.000000e+00    0.000000e+00  0.000000e+00    0.000000e+00  \n",
       "50%      1.327057e+05    2.146614e+05  0.000000e+00    0.000000e+00  \n",
       "75%      9.430367e+05    1.111909e+06  0.000000e+00    0.000000e+00  \n",
       "max      3.560159e+08    3.561793e+08  1.000000e+00    1.000000e+00  "
      ]
     },
     "execution_count": 10,
     "metadata": {},
     "output_type": "execute_result"
    }
   ],
   "source": [
    "df.describe()"
   ]
  },
  {
   "cell_type": "code",
   "execution_count": 11,
   "metadata": {},
   "outputs": [],
   "source": [
    "df_final = df.copy()"
   ]
  },
  {
   "cell_type": "markdown",
   "metadata": {},
   "source": [
    "## 4.1 Variação % balanço conta de origem e de destino"
   ]
  },
  {
   "cell_type": "code",
   "execution_count": 12,
   "metadata": {},
   "outputs": [
    {
     "data": {
      "text/plain": [
       "step                    0\n",
       "type                    0\n",
       "amount                  0\n",
       "nameOrig                0\n",
       "oldbalanceOrg           0\n",
       "newbalanceOrig          0\n",
       "nameDest                0\n",
       "oldbalanceDest          0\n",
       "newbalanceDest          0\n",
       "isFraud                 0\n",
       "isFlaggedFraud          0\n",
       "varOrig           2088985\n",
       "varDest           2317282\n",
       "dtype: int64"
      ]
     },
     "execution_count": 12,
     "metadata": {},
     "output_type": "execute_result"
    }
   ],
   "source": [
    "# Quantos % diminuiu da conta que foi realizado a transferência\n",
    "df_final['varOrig'] = -1 * (df_final['oldbalanceOrg'] - df_final['newbalanceOrig']) / (df_final['oldbalanceOrg'])\n",
    "\n",
    "# Quantos % aumentou da conta que a transferência foi recebida\n",
    "df_final['varDest'] = (df_final['newbalanceDest'] - df_final['oldbalanceDest']) / (df_final['newbalanceDest'])\n",
    "df_final.isnull().sum()"
   ]
  },
  {
   "cell_type": "code",
   "execution_count": 13,
   "metadata": {},
   "outputs": [
    {
     "data": {
      "text/plain": [
       "step              0\n",
       "type              0\n",
       "amount            0\n",
       "nameOrig          0\n",
       "oldbalanceOrg     0\n",
       "newbalanceOrig    0\n",
       "nameDest          0\n",
       "oldbalanceDest    0\n",
       "newbalanceDest    0\n",
       "isFraud           0\n",
       "isFlaggedFraud    0\n",
       "varOrig           0\n",
       "varDest           0\n",
       "dtype: int64"
      ]
     },
     "execution_count": 13,
     "metadata": {},
     "output_type": "execute_result"
    }
   ],
   "source": [
    "## Tratando valores de variação NaN ou inf (ocorre quando o denominador for zero no calculo acima)\n",
    "df_final['varOrig'] = df_final['varOrig'].apply(lambda x: 0 if np.isnan(x) else x)\n",
    "df_final['varOrig'] = df_final['varOrig'].apply(lambda x: 1 if np.isinf(x) else x)\n",
    "\n",
    "df_final['varDest'] = df_final['varDest'].apply(lambda x: 0 if np.isnan(x) else x)\n",
    "df_final['varDest'] = df_final['varDest'].apply(lambda x: -1 if np.isinf(x) else x)\n",
    "df_final.isnull().sum()"
   ]
  },
  {
   "cell_type": "code",
   "execution_count": 14,
   "metadata": {},
   "outputs": [
    {
     "data": {
      "text/html": [
       "<div>\n",
       "<style scoped>\n",
       "    .dataframe tbody tr th:only-of-type {\n",
       "        vertical-align: middle;\n",
       "    }\n",
       "\n",
       "    .dataframe tbody tr th {\n",
       "        vertical-align: top;\n",
       "    }\n",
       "\n",
       "    .dataframe thead th {\n",
       "        text-align: right;\n",
       "    }\n",
       "</style>\n",
       "<table border=\"1\" class=\"dataframe\">\n",
       "  <thead>\n",
       "    <tr style=\"text-align: right;\">\n",
       "      <th></th>\n",
       "      <th>step</th>\n",
       "      <th>type</th>\n",
       "      <th>amount</th>\n",
       "      <th>nameOrig</th>\n",
       "      <th>oldbalanceOrg</th>\n",
       "      <th>newbalanceOrig</th>\n",
       "      <th>nameDest</th>\n",
       "      <th>oldbalanceDest</th>\n",
       "      <th>newbalanceDest</th>\n",
       "      <th>isFraud</th>\n",
       "      <th>isFlaggedFraud</th>\n",
       "      <th>varOrig</th>\n",
       "      <th>varDest</th>\n",
       "    </tr>\n",
       "  </thead>\n",
       "  <tbody>\n",
       "    <tr>\n",
       "      <th>0</th>\n",
       "      <td>1</td>\n",
       "      <td>PAYMENT</td>\n",
       "      <td>9839.64</td>\n",
       "      <td>C1231006815</td>\n",
       "      <td>170136.00</td>\n",
       "      <td>160296.36</td>\n",
       "      <td>M1979787155</td>\n",
       "      <td>0.0</td>\n",
       "      <td>0.00</td>\n",
       "      <td>0</td>\n",
       "      <td>0</td>\n",
       "      <td>-0.057834</td>\n",
       "      <td>0.000000</td>\n",
       "    </tr>\n",
       "    <tr>\n",
       "      <th>1</th>\n",
       "      <td>1</td>\n",
       "      <td>PAYMENT</td>\n",
       "      <td>1864.28</td>\n",
       "      <td>C1666544295</td>\n",
       "      <td>21249.00</td>\n",
       "      <td>19384.72</td>\n",
       "      <td>M2044282225</td>\n",
       "      <td>0.0</td>\n",
       "      <td>0.00</td>\n",
       "      <td>0</td>\n",
       "      <td>0</td>\n",
       "      <td>-0.087735</td>\n",
       "      <td>0.000000</td>\n",
       "    </tr>\n",
       "    <tr>\n",
       "      <th>2</th>\n",
       "      <td>1</td>\n",
       "      <td>TRANSFER</td>\n",
       "      <td>181.00</td>\n",
       "      <td>C1305486145</td>\n",
       "      <td>181.00</td>\n",
       "      <td>0.00</td>\n",
       "      <td>C553264065</td>\n",
       "      <td>0.0</td>\n",
       "      <td>0.00</td>\n",
       "      <td>1</td>\n",
       "      <td>0</td>\n",
       "      <td>-1.000000</td>\n",
       "      <td>0.000000</td>\n",
       "    </tr>\n",
       "    <tr>\n",
       "      <th>3</th>\n",
       "      <td>1</td>\n",
       "      <td>CASH_OUT</td>\n",
       "      <td>181.00</td>\n",
       "      <td>C840083671</td>\n",
       "      <td>181.00</td>\n",
       "      <td>0.00</td>\n",
       "      <td>C38997010</td>\n",
       "      <td>21182.0</td>\n",
       "      <td>0.00</td>\n",
       "      <td>1</td>\n",
       "      <td>0</td>\n",
       "      <td>-1.000000</td>\n",
       "      <td>-1.000000</td>\n",
       "    </tr>\n",
       "    <tr>\n",
       "      <th>4</th>\n",
       "      <td>1</td>\n",
       "      <td>PAYMENT</td>\n",
       "      <td>11668.14</td>\n",
       "      <td>C2048537720</td>\n",
       "      <td>41554.00</td>\n",
       "      <td>29885.86</td>\n",
       "      <td>M1230701703</td>\n",
       "      <td>0.0</td>\n",
       "      <td>0.00</td>\n",
       "      <td>0</td>\n",
       "      <td>0</td>\n",
       "      <td>-0.280795</td>\n",
       "      <td>0.000000</td>\n",
       "    </tr>\n",
       "    <tr>\n",
       "      <th>5</th>\n",
       "      <td>1</td>\n",
       "      <td>PAYMENT</td>\n",
       "      <td>7817.71</td>\n",
       "      <td>C90045638</td>\n",
       "      <td>53860.00</td>\n",
       "      <td>46042.29</td>\n",
       "      <td>M573487274</td>\n",
       "      <td>0.0</td>\n",
       "      <td>0.00</td>\n",
       "      <td>0</td>\n",
       "      <td>0</td>\n",
       "      <td>-0.145149</td>\n",
       "      <td>0.000000</td>\n",
       "    </tr>\n",
       "    <tr>\n",
       "      <th>6</th>\n",
       "      <td>1</td>\n",
       "      <td>PAYMENT</td>\n",
       "      <td>7107.77</td>\n",
       "      <td>C154988899</td>\n",
       "      <td>183195.00</td>\n",
       "      <td>176087.23</td>\n",
       "      <td>M408069119</td>\n",
       "      <td>0.0</td>\n",
       "      <td>0.00</td>\n",
       "      <td>0</td>\n",
       "      <td>0</td>\n",
       "      <td>-0.038799</td>\n",
       "      <td>0.000000</td>\n",
       "    </tr>\n",
       "    <tr>\n",
       "      <th>7</th>\n",
       "      <td>1</td>\n",
       "      <td>PAYMENT</td>\n",
       "      <td>7861.64</td>\n",
       "      <td>C1912850431</td>\n",
       "      <td>176087.23</td>\n",
       "      <td>168225.59</td>\n",
       "      <td>M633326333</td>\n",
       "      <td>0.0</td>\n",
       "      <td>0.00</td>\n",
       "      <td>0</td>\n",
       "      <td>0</td>\n",
       "      <td>-0.044646</td>\n",
       "      <td>0.000000</td>\n",
       "    </tr>\n",
       "    <tr>\n",
       "      <th>8</th>\n",
       "      <td>1</td>\n",
       "      <td>PAYMENT</td>\n",
       "      <td>4024.36</td>\n",
       "      <td>C1265012928</td>\n",
       "      <td>2671.00</td>\n",
       "      <td>0.00</td>\n",
       "      <td>M1176932104</td>\n",
       "      <td>0.0</td>\n",
       "      <td>0.00</td>\n",
       "      <td>0</td>\n",
       "      <td>0</td>\n",
       "      <td>-1.000000</td>\n",
       "      <td>0.000000</td>\n",
       "    </tr>\n",
       "    <tr>\n",
       "      <th>9</th>\n",
       "      <td>1</td>\n",
       "      <td>DEBIT</td>\n",
       "      <td>5337.77</td>\n",
       "      <td>C712410124</td>\n",
       "      <td>41720.00</td>\n",
       "      <td>36382.23</td>\n",
       "      <td>C195600860</td>\n",
       "      <td>41898.0</td>\n",
       "      <td>40348.79</td>\n",
       "      <td>0</td>\n",
       "      <td>0</td>\n",
       "      <td>-0.127943</td>\n",
       "      <td>-0.038395</td>\n",
       "    </tr>\n",
       "  </tbody>\n",
       "</table>\n",
       "</div>"
      ],
      "text/plain": [
       "   step      type    amount     nameOrig  oldbalanceOrg  newbalanceOrig  \\\n",
       "0     1   PAYMENT   9839.64  C1231006815      170136.00       160296.36   \n",
       "1     1   PAYMENT   1864.28  C1666544295       21249.00        19384.72   \n",
       "2     1  TRANSFER    181.00  C1305486145         181.00            0.00   \n",
       "3     1  CASH_OUT    181.00   C840083671         181.00            0.00   \n",
       "4     1   PAYMENT  11668.14  C2048537720       41554.00        29885.86   \n",
       "5     1   PAYMENT   7817.71    C90045638       53860.00        46042.29   \n",
       "6     1   PAYMENT   7107.77   C154988899      183195.00       176087.23   \n",
       "7     1   PAYMENT   7861.64  C1912850431      176087.23       168225.59   \n",
       "8     1   PAYMENT   4024.36  C1265012928        2671.00            0.00   \n",
       "9     1     DEBIT   5337.77   C712410124       41720.00        36382.23   \n",
       "\n",
       "      nameDest  oldbalanceDest  newbalanceDest  isFraud  isFlaggedFraud  \\\n",
       "0  M1979787155             0.0            0.00        0               0   \n",
       "1  M2044282225             0.0            0.00        0               0   \n",
       "2   C553264065             0.0            0.00        1               0   \n",
       "3    C38997010         21182.0            0.00        1               0   \n",
       "4  M1230701703             0.0            0.00        0               0   \n",
       "5   M573487274             0.0            0.00        0               0   \n",
       "6   M408069119             0.0            0.00        0               0   \n",
       "7   M633326333             0.0            0.00        0               0   \n",
       "8  M1176932104             0.0            0.00        0               0   \n",
       "9   C195600860         41898.0        40348.79        0               0   \n",
       "\n",
       "    varOrig   varDest  \n",
       "0 -0.057834  0.000000  \n",
       "1 -0.087735  0.000000  \n",
       "2 -1.000000  0.000000  \n",
       "3 -1.000000 -1.000000  \n",
       "4 -0.280795  0.000000  \n",
       "5 -0.145149  0.000000  \n",
       "6 -0.038799  0.000000  \n",
       "7 -0.044646  0.000000  \n",
       "8 -1.000000  0.000000  \n",
       "9 -0.127943 -0.038395  "
      ]
     },
     "execution_count": 14,
     "metadata": {},
     "output_type": "execute_result"
    }
   ],
   "source": [
    "df_final.head(10)"
   ]
  },
  {
   "cell_type": "markdown",
   "metadata": {},
   "source": [
    "## 4.2 Balanceamento dados"
   ]
  },
  {
   "cell_type": "code",
   "execution_count": 38,
   "metadata": {},
   "outputs": [
    {
     "data": {
      "text/plain": [
       "<seaborn.axisgrid.FacetGrid at 0x25a60f34eb0>"
      ]
     },
     "execution_count": 38,
     "metadata": {},
     "output_type": "execute_result"
    },
    {
     "data": {
      "image/png": "[encoded data removed]",
      "text/plain": [
       "<Figure size 201.6x252 with 1 Axes>"
      ]
     },
     "metadata": {
      "needs_background": "light"
     },
     "output_type": "display_data"
    }
   ],
   "source": [
    "sns.catplot(x=\"isFraud\",\n",
    "                data=df_final,\n",
    "                kind=\"count\", height=3.5, aspect=.8)"
   ]
  },
  {
   "cell_type": "code",
   "execution_count": 39,
   "metadata": {},
   "outputs": [
    {
     "data": {
      "text/plain": [
       "0    6354407\n",
       "1       8213\n",
       "Name: isFraud, dtype: int64"
      ]
     },
     "execution_count": 39,
     "metadata": {},
     "output_type": "execute_result"
    }
   ],
   "source": [
    "df_final.isFraud.value_counts()"
   ]
  },
  {
   "cell_type": "code",
   "execution_count": 40,
   "metadata": {},
   "outputs": [
    {
     "data": {
      "text/plain": [
       "0.001290820448180152"
      ]
     },
     "execution_count": 40,
     "metadata": {},
     "output_type": "execute_result"
    }
   ],
   "source": [
    "df_final.isFraud.value_counts()[1]/(df_final.isFraud.value_counts()[0]+df_final.isFraud.value_counts()[1])"
   ]
  },
  {
   "cell_type": "markdown",
   "metadata": {},
   "source": [
    "Fraudes representam apenas 1.29% do dataset a base é altamente desbalanceada"
   ]
  },
  {
   "cell_type": "markdown",
   "metadata": {},
   "source": [
    "## 4.3 Analise Bivariada"
   ]
  },
  {
   "cell_type": "code",
   "execution_count": null,
   "metadata": {},
   "outputs": [],
   "source": [
    "sns.pairplot(df_final)\n",
    "plt.show()"
   ]
  },
  {
   "cell_type": "markdown",
   "metadata": {},
   "source": [
    "## 4.4 Correlação variáveis e target"
   ]
  },
  {
   "cell_type": "code",
   "execution_count": 41,
   "metadata": {},
   "outputs": [
    {
     "data": {
      "text/html": [
       "<div>\n",
       "<style scoped>\n",
       "    .dataframe tbody tr th:only-of-type {\n",
       "        vertical-align: middle;\n",
       "    }\n",
       "\n",
       "    .dataframe tbody tr th {\n",
       "        vertical-align: top;\n",
       "    }\n",
       "\n",
       "    .dataframe thead th {\n",
       "        text-align: right;\n",
       "    }\n",
       "</style>\n",
       "<table border=\"1\" class=\"dataframe\">\n",
       "  <thead>\n",
       "    <tr style=\"text-align: right;\">\n",
       "      <th></th>\n",
       "      <th>step</th>\n",
       "      <th>amount</th>\n",
       "      <th>oldbalanceOrg</th>\n",
       "      <th>newbalanceOrig</th>\n",
       "      <th>oldbalanceDest</th>\n",
       "      <th>newbalanceDest</th>\n",
       "      <th>isFraud</th>\n",
       "      <th>isFlaggedFraud</th>\n",
       "      <th>varOrig</th>\n",
       "      <th>varDest</th>\n",
       "    </tr>\n",
       "  </thead>\n",
       "  <tbody>\n",
       "    <tr>\n",
       "      <th>isFraud</th>\n",
       "      <td>0.031578</td>\n",
       "      <td>0.076688</td>\n",
       "      <td>0.010154</td>\n",
       "      <td>-0.008148</td>\n",
       "      <td>-0.005885</td>\n",
       "      <td>0.000535</td>\n",
       "      <td>1.000000</td>\n",
       "      <td>4.410920e-02</td>\n",
       "      <td>-0.000677</td>\n",
       "      <td>2.103581e-05</td>\n",
       "    </tr>\n",
       "    <tr>\n",
       "      <th>amount</th>\n",
       "      <td>0.022373</td>\n",
       "      <td>1.000000</td>\n",
       "      <td>-0.002762</td>\n",
       "      <td>-0.007861</td>\n",
       "      <td>0.294137</td>\n",
       "      <td>0.459304</td>\n",
       "      <td>0.076688</td>\n",
       "      <td>1.229460e-02</td>\n",
       "      <td>0.002631</td>\n",
       "      <td>4.477519e-05</td>\n",
       "    </tr>\n",
       "    <tr>\n",
       "      <th>isFlaggedFraud</th>\n",
       "      <td>0.003277</td>\n",
       "      <td>0.012295</td>\n",
       "      <td>0.003835</td>\n",
       "      <td>0.003776</td>\n",
       "      <td>-0.000513</td>\n",
       "      <td>-0.000529</td>\n",
       "      <td>0.044109</td>\n",
       "      <td>1.000000e+00</td>\n",
       "      <td>-0.000028</td>\n",
       "      <td>8.087616e-07</td>\n",
       "    </tr>\n",
       "    <tr>\n",
       "      <th>step</th>\n",
       "      <td>1.000000</td>\n",
       "      <td>0.022373</td>\n",
       "      <td>-0.010058</td>\n",
       "      <td>-0.010299</td>\n",
       "      <td>0.027665</td>\n",
       "      <td>0.025888</td>\n",
       "      <td>0.031578</td>\n",
       "      <td>3.277415e-03</td>\n",
       "      <td>0.000040</td>\n",
       "      <td>3.207157e-04</td>\n",
       "    </tr>\n",
       "    <tr>\n",
       "      <th>oldbalanceOrg</th>\n",
       "      <td>-0.010058</td>\n",
       "      <td>-0.002762</td>\n",
       "      <td>1.000000</td>\n",
       "      <td>0.998803</td>\n",
       "      <td>0.066243</td>\n",
       "      <td>0.042029</td>\n",
       "      <td>0.010154</td>\n",
       "      <td>3.834531e-03</td>\n",
       "      <td>-0.005114</td>\n",
       "      <td>-2.053342e-04</td>\n",
       "    </tr>\n",
       "    <tr>\n",
       "      <th>newbalanceDest</th>\n",
       "      <td>0.025888</td>\n",
       "      <td>0.459304</td>\n",
       "      <td>0.042029</td>\n",
       "      <td>0.041837</td>\n",
       "      <td>0.976569</td>\n",
       "      <td>1.000000</td>\n",
       "      <td>0.000535</td>\n",
       "      <td>-5.287167e-04</td>\n",
       "      <td>-0.001970</td>\n",
       "      <td>1.779619e-04</td>\n",
       "    </tr>\n",
       "    <tr>\n",
       "      <th>varDest</th>\n",
       "      <td>0.000321</td>\n",
       "      <td>0.000045</td>\n",
       "      <td>-0.000205</td>\n",
       "      <td>-0.000226</td>\n",
       "      <td>0.000144</td>\n",
       "      <td>0.000178</td>\n",
       "      <td>0.000021</td>\n",
       "      <td>8.087616e-07</td>\n",
       "      <td>0.000003</td>\n",
       "      <td>1.000000e+00</td>\n",
       "    </tr>\n",
       "    <tr>\n",
       "      <th>varOrig</th>\n",
       "      <td>0.000040</td>\n",
       "      <td>0.002631</td>\n",
       "      <td>-0.005114</td>\n",
       "      <td>-0.003514</td>\n",
       "      <td>-0.000801</td>\n",
       "      <td>-0.001970</td>\n",
       "      <td>-0.000677</td>\n",
       "      <td>-2.813247e-05</td>\n",
       "      <td>1.000000</td>\n",
       "      <td>3.488536e-06</td>\n",
       "    </tr>\n",
       "    <tr>\n",
       "      <th>oldbalanceDest</th>\n",
       "      <td>0.027665</td>\n",
       "      <td>0.294137</td>\n",
       "      <td>0.066243</td>\n",
       "      <td>0.067812</td>\n",
       "      <td>1.000000</td>\n",
       "      <td>0.976569</td>\n",
       "      <td>-0.005885</td>\n",
       "      <td>-5.134971e-04</td>\n",
       "      <td>-0.000801</td>\n",
       "      <td>1.439123e-04</td>\n",
       "    </tr>\n",
       "    <tr>\n",
       "      <th>newbalanceOrig</th>\n",
       "      <td>-0.010299</td>\n",
       "      <td>-0.007861</td>\n",
       "      <td>0.998803</td>\n",
       "      <td>1.000000</td>\n",
       "      <td>0.067812</td>\n",
       "      <td>0.041837</td>\n",
       "      <td>-0.008148</td>\n",
       "      <td>3.776062e-03</td>\n",
       "      <td>-0.003514</td>\n",
       "      <td>-2.264293e-04</td>\n",
       "    </tr>\n",
       "  </tbody>\n",
       "</table>\n",
       "</div>"
      ],
      "text/plain": [
       "                    step    amount  oldbalanceOrg  newbalanceOrig  \\\n",
       "isFraud         0.031578  0.076688       0.010154       -0.008148   \n",
       "amount          0.022373  1.000000      -0.002762       -0.007861   \n",
       "isFlaggedFraud  0.003277  0.012295       0.003835        0.003776   \n",
       "step            1.000000  0.022373      -0.010058       -0.010299   \n",
       "oldbalanceOrg  -0.010058 -0.002762       1.000000        0.998803   \n",
       "newbalanceDest  0.025888  0.459304       0.042029        0.041837   \n",
       "varDest         0.000321  0.000045      -0.000205       -0.000226   \n",
       "varOrig         0.000040  0.002631      -0.005114       -0.003514   \n",
       "oldbalanceDest  0.027665  0.294137       0.066243        0.067812   \n",
       "newbalanceOrig -0.010299 -0.007861       0.998803        1.000000   \n",
       "\n",
       "                oldbalanceDest  newbalanceDest   isFraud  isFlaggedFraud  \\\n",
       "isFraud              -0.005885        0.000535  1.000000    4.410920e-02   \n",
       "amount                0.294137        0.459304  0.076688    1.229460e-02   \n",
       "isFlaggedFraud       -0.000513       -0.000529  0.044109    1.000000e+00   \n",
       "step                  0.027665        0.025888  0.031578    3.277415e-03   \n",
       "oldbalanceOrg         0.066243        0.042029  0.010154    3.834531e-03   \n",
       "newbalanceDest        0.976569        1.000000  0.000535   -5.287167e-04   \n",
       "varDest               0.000144        0.000178  0.000021    8.087616e-07   \n",
       "varOrig              -0.000801       -0.001970 -0.000677   -2.813247e-05   \n",
       "oldbalanceDest        1.000000        0.976569 -0.005885   -5.134971e-04   \n",
       "newbalanceOrig        0.067812        0.041837 -0.008148    3.776062e-03   \n",
       "\n",
       "                 varOrig       varDest  \n",
       "isFraud        -0.000677  2.103581e-05  \n",
       "amount          0.002631  4.477519e-05  \n",
       "isFlaggedFraud -0.000028  8.087616e-07  \n",
       "step            0.000040  3.207157e-04  \n",
       "oldbalanceOrg  -0.005114 -2.053342e-04  \n",
       "newbalanceDest -0.001970  1.779619e-04  \n",
       "varDest         0.000003  1.000000e+00  \n",
       "varOrig         1.000000  3.488536e-06  \n",
       "oldbalanceDest -0.000801  1.439123e-04  \n",
       "newbalanceOrig -0.003514 -2.264293e-04  "
      ]
     },
     "execution_count": 41,
     "metadata": {},
     "output_type": "execute_result"
    }
   ],
   "source": [
    "df_final.corr().sort_values(by = 'isFraud', ascending = False)"
   ]
  },
  {
   "cell_type": "code",
   "execution_count": 42,
   "metadata": {},
   "outputs": [
    {
     "data": {
      "image/png": "[encoded data removed]",
      "text/plain": [
       "<Figure size 1080x1080 with 2 Axes>"
      ]
     },
     "metadata": {
      "needs_background": "light"
     },
     "output_type": "display_data"
    }
   ],
   "source": [
    "plt.figure(figsize=(15,15))\n",
    "cmap = sns.diverging_palette(250, 10, s=80, l=55, n=9, as_cmap=True)\n",
    "sns.heatmap(df_final.corr(),annot=True, cmap=cmap, center=0)\n",
    "plt.show()\n"
   ]
  },
  {
   "cell_type": "markdown",
   "metadata": {},
   "source": [
    "## 4.5 OneHot Encoder\n",
    "\n",
    "Iremos aplicar onehotEncoder em vez do labelEnconder na variável categorica 'Type' uma vez que é uma variável categórica que possui apenas 5 valores unicos e não possui ordem."
   ]
  },
  {
   "cell_type": "code",
   "execution_count": 15,
   "metadata": {},
   "outputs": [],
   "source": [
    "from sklearn.preprocessing import OneHotEncoder\n",
    "\n",
    "# creating instance of one-hot-encoder\n",
    "enc = OneHotEncoder()\n",
    "X = enc.fit_transform(df_final.type.values.reshape(-1,1)).toarray()\n",
    "\n",
    "#criando df do onehot\n",
    "df_onehotenc = pd.DataFrame(X, columns = ['type_' + str(int(i)) for i in range(X.shape[1])])\n",
    "\n",
    "#concatenando ao df original e removendo a coluna residual\n",
    "df_final = pd.concat([df_final,df_onehotenc], axis = 1)\n",
    "df_final = df_final.drop(['type'], axis = 1)"
   ]
  },
  {
   "cell_type": "code",
   "execution_count": 16,
   "metadata": {},
   "outputs": [
    {
     "data": {
      "text/html": [
       "<div>\n",
       "<style scoped>\n",
       "    .dataframe tbody tr th:only-of-type {\n",
       "        vertical-align: middle;\n",
       "    }\n",
       "\n",
       "    .dataframe tbody tr th {\n",
       "        vertical-align: top;\n",
       "    }\n",
       "\n",
       "    .dataframe thead th {\n",
       "        text-align: right;\n",
       "    }\n",
       "</style>\n",
       "<table border=\"1\" class=\"dataframe\">\n",
       "  <thead>\n",
       "    <tr style=\"text-align: right;\">\n",
       "      <th></th>\n",
       "      <th>step</th>\n",
       "      <th>amount</th>\n",
       "      <th>nameOrig</th>\n",
       "      <th>oldbalanceOrg</th>\n",
       "      <th>newbalanceOrig</th>\n",
       "      <th>nameDest</th>\n",
       "      <th>oldbalanceDest</th>\n",
       "      <th>newbalanceDest</th>\n",
       "      <th>isFraud</th>\n",
       "      <th>isFlaggedFraud</th>\n",
       "      <th>varOrig</th>\n",
       "      <th>varDest</th>\n",
       "      <th>type_0</th>\n",
       "      <th>type_1</th>\n",
       "      <th>type_2</th>\n",
       "      <th>type_3</th>\n",
       "      <th>type_4</th>\n",
       "    </tr>\n",
       "  </thead>\n",
       "  <tbody>\n",
       "    <tr>\n",
       "      <th>0</th>\n",
       "      <td>1</td>\n",
       "      <td>9839.64</td>\n",
       "      <td>C1231006815</td>\n",
       "      <td>170136.0</td>\n",
       "      <td>160296.36</td>\n",
       "      <td>M1979787155</td>\n",
       "      <td>0.0</td>\n",
       "      <td>0.0</td>\n",
       "      <td>0</td>\n",
       "      <td>0</td>\n",
       "      <td>-0.057834</td>\n",
       "      <td>0.0</td>\n",
       "      <td>0.0</td>\n",
       "      <td>0.0</td>\n",
       "      <td>0.0</td>\n",
       "      <td>1.0</td>\n",
       "      <td>0.0</td>\n",
       "    </tr>\n",
       "    <tr>\n",
       "      <th>1</th>\n",
       "      <td>1</td>\n",
       "      <td>1864.28</td>\n",
       "      <td>C1666544295</td>\n",
       "      <td>21249.0</td>\n",
       "      <td>19384.72</td>\n",
       "      <td>M2044282225</td>\n",
       "      <td>0.0</td>\n",
       "      <td>0.0</td>\n",
       "      <td>0</td>\n",
       "      <td>0</td>\n",
       "      <td>-0.087735</td>\n",
       "      <td>0.0</td>\n",
       "      <td>0.0</td>\n",
       "      <td>0.0</td>\n",
       "      <td>0.0</td>\n",
       "      <td>1.0</td>\n",
       "      <td>0.0</td>\n",
       "    </tr>\n",
       "    <tr>\n",
       "      <th>2</th>\n",
       "      <td>1</td>\n",
       "      <td>181.00</td>\n",
       "      <td>C1305486145</td>\n",
       "      <td>181.0</td>\n",
       "      <td>0.00</td>\n",
       "      <td>C553264065</td>\n",
       "      <td>0.0</td>\n",
       "      <td>0.0</td>\n",
       "      <td>1</td>\n",
       "      <td>0</td>\n",
       "      <td>-1.000000</td>\n",
       "      <td>0.0</td>\n",
       "      <td>0.0</td>\n",
       "      <td>0.0</td>\n",
       "      <td>0.0</td>\n",
       "      <td>0.0</td>\n",
       "      <td>1.0</td>\n",
       "    </tr>\n",
       "    <tr>\n",
       "      <th>3</th>\n",
       "      <td>1</td>\n",
       "      <td>181.00</td>\n",
       "      <td>C840083671</td>\n",
       "      <td>181.0</td>\n",
       "      <td>0.00</td>\n",
       "      <td>C38997010</td>\n",
       "      <td>21182.0</td>\n",
       "      <td>0.0</td>\n",
       "      <td>1</td>\n",
       "      <td>0</td>\n",
       "      <td>-1.000000</td>\n",
       "      <td>-1.0</td>\n",
       "      <td>0.0</td>\n",
       "      <td>1.0</td>\n",
       "      <td>0.0</td>\n",
       "      <td>0.0</td>\n",
       "      <td>0.0</td>\n",
       "    </tr>\n",
       "    <tr>\n",
       "      <th>4</th>\n",
       "      <td>1</td>\n",
       "      <td>11668.14</td>\n",
       "      <td>C2048537720</td>\n",
       "      <td>41554.0</td>\n",
       "      <td>29885.86</td>\n",
       "      <td>M1230701703</td>\n",
       "      <td>0.0</td>\n",
       "      <td>0.0</td>\n",
       "      <td>0</td>\n",
       "      <td>0</td>\n",
       "      <td>-0.280795</td>\n",
       "      <td>0.0</td>\n",
       "      <td>0.0</td>\n",
       "      <td>0.0</td>\n",
       "      <td>0.0</td>\n",
       "      <td>1.0</td>\n",
       "      <td>0.0</td>\n",
       "    </tr>\n",
       "  </tbody>\n",
       "</table>\n",
       "</div>"
      ],
      "text/plain": [
       "   step    amount     nameOrig  oldbalanceOrg  newbalanceOrig     nameDest  \\\n",
       "0     1   9839.64  C1231006815       170136.0       160296.36  M1979787155   \n",
       "1     1   1864.28  C1666544295        21249.0        19384.72  M2044282225   \n",
       "2     1    181.00  C1305486145          181.0            0.00   C553264065   \n",
       "3     1    181.00   C840083671          181.0            0.00    C38997010   \n",
       "4     1  11668.14  C2048537720        41554.0        29885.86  M1230701703   \n",
       "\n",
       "   oldbalanceDest  newbalanceDest  isFraud  isFlaggedFraud   varOrig  varDest  \\\n",
       "0             0.0             0.0        0               0 -0.057834      0.0   \n",
       "1             0.0             0.0        0               0 -0.087735      0.0   \n",
       "2             0.0             0.0        1               0 -1.000000      0.0   \n",
       "3         21182.0             0.0        1               0 -1.000000     -1.0   \n",
       "4             0.0             0.0        0               0 -0.280795      0.0   \n",
       "\n",
       "   type_0  type_1  type_2  type_3  type_4  \n",
       "0     0.0     0.0     0.0     1.0     0.0  \n",
       "1     0.0     0.0     0.0     1.0     0.0  \n",
       "2     0.0     0.0     0.0     0.0     1.0  \n",
       "3     0.0     1.0     0.0     0.0     0.0  \n",
       "4     0.0     0.0     0.0     1.0     0.0  "
      ]
     },
     "execution_count": 16,
     "metadata": {},
     "output_type": "execute_result"
    }
   ],
   "source": [
    "df_final.head()"
   ]
  },
  {
   "cell_type": "markdown",
   "metadata": {},
   "source": [
    "## 4.6 Normalização colunas numéricas não categóricas"
   ]
  },
  {
   "cell_type": "code",
   "execution_count": 17,
   "metadata": {},
   "outputs": [
    {
     "data": {
      "text/plain": [
       "step                int64\n",
       "amount            float64\n",
       "nameOrig           object\n",
       "oldbalanceOrg     float64\n",
       "newbalanceOrig    float64\n",
       "nameDest           object\n",
       "oldbalanceDest    float64\n",
       "newbalanceDest    float64\n",
       "isFraud             int64\n",
       "isFlaggedFraud      int64\n",
       "varOrig           float64\n",
       "varDest           float64\n",
       "type_0            float64\n",
       "type_1            float64\n",
       "type_2            float64\n",
       "type_3            float64\n",
       "type_4            float64\n",
       "dtype: object"
      ]
     },
     "execution_count": 17,
     "metadata": {},
     "output_type": "execute_result"
    }
   ],
   "source": [
    "df_final.dtypes"
   ]
  },
  {
   "cell_type": "code",
   "execution_count": 18,
   "metadata": {},
   "outputs": [],
   "source": [
    "df_numerico_para_normalizar = df_final[['step','amount','oldbalanceOrg','newbalanceOrig', 'oldbalanceDest','newbalanceDest']]"
   ]
  },
  {
   "cell_type": "code",
   "execution_count": 19,
   "metadata": {},
   "outputs": [
    {
     "data": {
      "image/png": "[encoded data removed]",
      "text/plain": [
       "<Figure size 1440x720 with 1 Axes>"
      ]
     },
     "metadata": {
      "needs_background": "light"
     },
     "output_type": "display_data"
    }
   ],
   "source": [
    "plt.figure(figsize=(20,10))\n",
    "sns.boxenplot(data = df_numerico_para_normalizar,palette = 'hls')\n",
    "plt.xticks(rotation=90)\n",
    "plt.show()"
   ]
  },
  {
   "cell_type": "code",
   "execution_count": 20,
   "metadata": {},
   "outputs": [
    {
     "data": {
      "text/html": [
       "<div>\n",
       "<style scoped>\n",
       "    .dataframe tbody tr th:only-of-type {\n",
       "        vertical-align: middle;\n",
       "    }\n",
       "\n",
       "    .dataframe tbody tr th {\n",
       "        vertical-align: top;\n",
       "    }\n",
       "\n",
       "    .dataframe thead th {\n",
       "        text-align: right;\n",
       "    }\n",
       "</style>\n",
       "<table border=\"1\" class=\"dataframe\">\n",
       "  <thead>\n",
       "    <tr style=\"text-align: right;\">\n",
       "      <th></th>\n",
       "      <th>count</th>\n",
       "      <th>mean</th>\n",
       "      <th>std</th>\n",
       "      <th>min</th>\n",
       "      <th>25%</th>\n",
       "      <th>50%</th>\n",
       "      <th>75%</th>\n",
       "      <th>max</th>\n",
       "    </tr>\n",
       "  </thead>\n",
       "  <tbody>\n",
       "    <tr>\n",
       "      <th>step</th>\n",
       "      <td>6362620.0</td>\n",
       "      <td>7.860438e-13</td>\n",
       "      <td>1.0</td>\n",
       "      <td>-1.703042</td>\n",
       "      <td>-0.614038</td>\n",
       "      <td>-0.030894</td>\n",
       "      <td>0.643585</td>\n",
       "      <td>3.510123</td>\n",
       "    </tr>\n",
       "    <tr>\n",
       "      <th>amount</th>\n",
       "      <td>6362620.0</td>\n",
       "      <td>1.500580e-15</td>\n",
       "      <td>1.0</td>\n",
       "      <td>-0.297855</td>\n",
       "      <td>-0.275681</td>\n",
       "      <td>-0.173865</td>\n",
       "      <td>0.047792</td>\n",
       "      <td>152.793582</td>\n",
       "    </tr>\n",
       "    <tr>\n",
       "      <th>oldbalanceOrg</th>\n",
       "      <td>6362620.0</td>\n",
       "      <td>1.412742e-13</td>\n",
       "      <td>1.0</td>\n",
       "      <td>-0.288716</td>\n",
       "      <td>-0.288716</td>\n",
       "      <td>-0.283797</td>\n",
       "      <td>-0.251561</td>\n",
       "      <td>20.341491</td>\n",
       "    </tr>\n",
       "    <tr>\n",
       "      <th>newbalanceOrig</th>\n",
       "      <td>6362620.0</td>\n",
       "      <td>2.711092e-13</td>\n",
       "      <td>1.0</td>\n",
       "      <td>-0.292442</td>\n",
       "      <td>-0.292442</td>\n",
       "      <td>-0.292442</td>\n",
       "      <td>-0.243107</td>\n",
       "      <td>16.665226</td>\n",
       "    </tr>\n",
       "    <tr>\n",
       "      <th>oldbalanceDest</th>\n",
       "      <td>6362620.0</td>\n",
       "      <td>-5.038324e-13</td>\n",
       "      <td>1.0</td>\n",
       "      <td>-0.323814</td>\n",
       "      <td>-0.323814</td>\n",
       "      <td>-0.284773</td>\n",
       "      <td>-0.046383</td>\n",
       "      <td>104.412006</td>\n",
       "    </tr>\n",
       "    <tr>\n",
       "      <th>newbalanceDest</th>\n",
       "      <td>6362620.0</td>\n",
       "      <td>-5.498931e-13</td>\n",
       "      <td>1.0</td>\n",
       "      <td>-0.333411</td>\n",
       "      <td>-0.333411</td>\n",
       "      <td>-0.274986</td>\n",
       "      <td>-0.030779</td>\n",
       "      <td>96.609105</td>\n",
       "    </tr>\n",
       "  </tbody>\n",
       "</table>\n",
       "</div>"
      ],
      "text/plain": [
       "                    count          mean  std       min       25%       50%  \\\n",
       "step            6362620.0  7.860438e-13  1.0 -1.703042 -0.614038 -0.030894   \n",
       "amount          6362620.0  1.500580e-15  1.0 -0.297855 -0.275681 -0.173865   \n",
       "oldbalanceOrg   6362620.0  1.412742e-13  1.0 -0.288716 -0.288716 -0.283797   \n",
       "newbalanceOrig  6362620.0  2.711092e-13  1.0 -0.292442 -0.292442 -0.292442   \n",
       "oldbalanceDest  6362620.0 -5.038324e-13  1.0 -0.323814 -0.323814 -0.284773   \n",
       "newbalanceDest  6362620.0 -5.498931e-13  1.0 -0.333411 -0.333411 -0.274986   \n",
       "\n",
       "                     75%         max  \n",
       "step            0.643585    3.510123  \n",
       "amount          0.047792  152.793582  \n",
       "oldbalanceOrg  -0.251561   20.341491  \n",
       "newbalanceOrig -0.243107   16.665226  \n",
       "oldbalanceDest -0.046383  104.412006  \n",
       "newbalanceDest -0.030779   96.609105  "
      ]
     },
     "execution_count": 20,
     "metadata": {},
     "output_type": "execute_result"
    }
   ],
   "source": [
    "from sklearn.preprocessing import StandardScaler\n",
    "\n",
    "col_names = list(df_numerico_para_normalizar.columns)\n",
    "s_scaler = StandardScaler()\n",
    "df_num_norm = s_scaler.fit_transform(df_numerico_para_normalizar)\n",
    "df_num_norm = pd.DataFrame(df_num_norm, columns=col_names)\n",
    "df_num_norm.describe().T"
   ]
  },
  {
   "cell_type": "code",
   "execution_count": 21,
   "metadata": {},
   "outputs": [
    {
     "data": {
      "image/png": "[encoded data removed]",
      "text/plain": [
       "<Figure size 1440x720 with 1 Axes>"
      ]
     },
     "metadata": {
      "needs_background": "light"
     },
     "output_type": "display_data"
    }
   ],
   "source": [
    "plt.figure(figsize=(20,10))\n",
    "sns.boxenplot(data = df_num_norm,palette = 'hls')\n",
    "plt.xticks(rotation=90)\n",
    "plt.show()"
   ]
  },
  {
   "cell_type": "code",
   "execution_count": 22,
   "metadata": {},
   "outputs": [],
   "source": [
    "## Substituindo os valores normalizados\n",
    "df_final_norm = df_num_norm.copy()\n",
    "\n",
    "#Concatenando os labels e os onehotencoding e as features novas\n",
    "df_final_norm = pd.concat([df_final_norm,df_final[['type_0','type_1','type_2','type_3','type_4','varOrig','varDest','isFraud']]], axis = 1)\n"
   ]
  },
  {
   "cell_type": "code",
   "execution_count": 23,
   "metadata": {},
   "outputs": [
    {
     "data": {
      "text/html": [
       "<div>\n",
       "<style scoped>\n",
       "    .dataframe tbody tr th:only-of-type {\n",
       "        vertical-align: middle;\n",
       "    }\n",
       "\n",
       "    .dataframe tbody tr th {\n",
       "        vertical-align: top;\n",
       "    }\n",
       "\n",
       "    .dataframe thead th {\n",
       "        text-align: right;\n",
       "    }\n",
       "</style>\n",
       "<table border=\"1\" class=\"dataframe\">\n",
       "  <thead>\n",
       "    <tr style=\"text-align: right;\">\n",
       "      <th></th>\n",
       "      <th>step</th>\n",
       "      <th>amount</th>\n",
       "      <th>oldbalanceOrg</th>\n",
       "      <th>newbalanceOrig</th>\n",
       "      <th>oldbalanceDest</th>\n",
       "      <th>newbalanceDest</th>\n",
       "      <th>type_0</th>\n",
       "      <th>type_1</th>\n",
       "      <th>type_2</th>\n",
       "      <th>type_3</th>\n",
       "      <th>type_4</th>\n",
       "      <th>varOrig</th>\n",
       "      <th>varDest</th>\n",
       "      <th>isFraud</th>\n",
       "    </tr>\n",
       "  </thead>\n",
       "  <tbody>\n",
       "    <tr>\n",
       "      <th>0</th>\n",
       "      <td>-1.703042</td>\n",
       "      <td>-0.281560</td>\n",
       "      <td>-0.229810</td>\n",
       "      <td>-0.237622</td>\n",
       "      <td>-0.323814</td>\n",
       "      <td>-0.333411</td>\n",
       "      <td>0.0</td>\n",
       "      <td>0.0</td>\n",
       "      <td>0.0</td>\n",
       "      <td>1.0</td>\n",
       "      <td>0.0</td>\n",
       "      <td>-0.057834</td>\n",
       "      <td>0.000000</td>\n",
       "      <td>0</td>\n",
       "    </tr>\n",
       "    <tr>\n",
       "      <th>1</th>\n",
       "      <td>-1.703042</td>\n",
       "      <td>-0.294767</td>\n",
       "      <td>-0.281359</td>\n",
       "      <td>-0.285812</td>\n",
       "      <td>-0.323814</td>\n",
       "      <td>-0.333411</td>\n",
       "      <td>0.0</td>\n",
       "      <td>0.0</td>\n",
       "      <td>0.0</td>\n",
       "      <td>1.0</td>\n",
       "      <td>0.0</td>\n",
       "      <td>-0.087735</td>\n",
       "      <td>0.000000</td>\n",
       "      <td>0</td>\n",
       "    </tr>\n",
       "    <tr>\n",
       "      <th>2</th>\n",
       "      <td>-1.703042</td>\n",
       "      <td>-0.297555</td>\n",
       "      <td>-0.288654</td>\n",
       "      <td>-0.292442</td>\n",
       "      <td>-0.323814</td>\n",
       "      <td>-0.333411</td>\n",
       "      <td>0.0</td>\n",
       "      <td>0.0</td>\n",
       "      <td>0.0</td>\n",
       "      <td>0.0</td>\n",
       "      <td>1.0</td>\n",
       "      <td>-1.000000</td>\n",
       "      <td>0.000000</td>\n",
       "      <td>1</td>\n",
       "    </tr>\n",
       "    <tr>\n",
       "      <th>3</th>\n",
       "      <td>-1.703042</td>\n",
       "      <td>-0.297555</td>\n",
       "      <td>-0.288654</td>\n",
       "      <td>-0.292442</td>\n",
       "      <td>-0.317582</td>\n",
       "      <td>-0.333411</td>\n",
       "      <td>0.0</td>\n",
       "      <td>1.0</td>\n",
       "      <td>0.0</td>\n",
       "      <td>0.0</td>\n",
       "      <td>0.0</td>\n",
       "      <td>-1.000000</td>\n",
       "      <td>-1.000000</td>\n",
       "      <td>1</td>\n",
       "    </tr>\n",
       "    <tr>\n",
       "      <th>4</th>\n",
       "      <td>-1.703042</td>\n",
       "      <td>-0.278532</td>\n",
       "      <td>-0.274329</td>\n",
       "      <td>-0.282221</td>\n",
       "      <td>-0.323814</td>\n",
       "      <td>-0.333411</td>\n",
       "      <td>0.0</td>\n",
       "      <td>0.0</td>\n",
       "      <td>0.0</td>\n",
       "      <td>1.0</td>\n",
       "      <td>0.0</td>\n",
       "      <td>-0.280795</td>\n",
       "      <td>0.000000</td>\n",
       "      <td>0</td>\n",
       "    </tr>\n",
       "    <tr>\n",
       "      <th>5</th>\n",
       "      <td>-1.703042</td>\n",
       "      <td>-0.284908</td>\n",
       "      <td>-0.270068</td>\n",
       "      <td>-0.276696</td>\n",
       "      <td>-0.323814</td>\n",
       "      <td>-0.333411</td>\n",
       "      <td>0.0</td>\n",
       "      <td>0.0</td>\n",
       "      <td>0.0</td>\n",
       "      <td>1.0</td>\n",
       "      <td>0.0</td>\n",
       "      <td>-0.145149</td>\n",
       "      <td>0.000000</td>\n",
       "      <td>0</td>\n",
       "    </tr>\n",
       "    <tr>\n",
       "      <th>6</th>\n",
       "      <td>-1.703042</td>\n",
       "      <td>-0.286084</td>\n",
       "      <td>-0.225289</td>\n",
       "      <td>-0.232221</td>\n",
       "      <td>-0.323814</td>\n",
       "      <td>-0.333411</td>\n",
       "      <td>0.0</td>\n",
       "      <td>0.0</td>\n",
       "      <td>0.0</td>\n",
       "      <td>1.0</td>\n",
       "      <td>0.0</td>\n",
       "      <td>-0.038799</td>\n",
       "      <td>0.000000</td>\n",
       "      <td>0</td>\n",
       "    </tr>\n",
       "    <tr>\n",
       "      <th>7</th>\n",
       "      <td>-1.703042</td>\n",
       "      <td>-0.284836</td>\n",
       "      <td>-0.227750</td>\n",
       "      <td>-0.234910</td>\n",
       "      <td>-0.323814</td>\n",
       "      <td>-0.333411</td>\n",
       "      <td>0.0</td>\n",
       "      <td>0.0</td>\n",
       "      <td>0.0</td>\n",
       "      <td>1.0</td>\n",
       "      <td>0.0</td>\n",
       "      <td>-0.044646</td>\n",
       "      <td>0.000000</td>\n",
       "      <td>0</td>\n",
       "    </tr>\n",
       "    <tr>\n",
       "      <th>8</th>\n",
       "      <td>-1.703042</td>\n",
       "      <td>-0.291190</td>\n",
       "      <td>-0.287792</td>\n",
       "      <td>-0.292442</td>\n",
       "      <td>-0.323814</td>\n",
       "      <td>-0.333411</td>\n",
       "      <td>0.0</td>\n",
       "      <td>0.0</td>\n",
       "      <td>0.0</td>\n",
       "      <td>1.0</td>\n",
       "      <td>0.0</td>\n",
       "      <td>-1.000000</td>\n",
       "      <td>0.000000</td>\n",
       "      <td>0</td>\n",
       "    </tr>\n",
       "    <tr>\n",
       "      <th>9</th>\n",
       "      <td>-1.703042</td>\n",
       "      <td>-0.289015</td>\n",
       "      <td>-0.274272</td>\n",
       "      <td>-0.279999</td>\n",
       "      <td>-0.311488</td>\n",
       "      <td>-0.322430</td>\n",
       "      <td>0.0</td>\n",
       "      <td>0.0</td>\n",
       "      <td>1.0</td>\n",
       "      <td>0.0</td>\n",
       "      <td>0.0</td>\n",
       "      <td>-0.127943</td>\n",
       "      <td>-0.038395</td>\n",
       "      <td>0</td>\n",
       "    </tr>\n",
       "  </tbody>\n",
       "</table>\n",
       "</div>"
      ],
      "text/plain": [
       "       step    amount  oldbalanceOrg  newbalanceOrig  oldbalanceDest  \\\n",
       "0 -1.703042 -0.281560      -0.229810       -0.237622       -0.323814   \n",
       "1 -1.703042 -0.294767      -0.281359       -0.285812       -0.323814   \n",
       "2 -1.703042 -0.297555      -0.288654       -0.292442       -0.323814   \n",
       "3 -1.703042 -0.297555      -0.288654       -0.292442       -0.317582   \n",
       "4 -1.703042 -0.278532      -0.274329       -0.282221       -0.323814   \n",
       "5 -1.703042 -0.284908      -0.270068       -0.276696       -0.323814   \n",
       "6 -1.703042 -0.286084      -0.225289       -0.232221       -0.323814   \n",
       "7 -1.703042 -0.284836      -0.227750       -0.234910       -0.323814   \n",
       "8 -1.703042 -0.291190      -0.287792       -0.292442       -0.323814   \n",
       "9 -1.703042 -0.289015      -0.274272       -0.279999       -0.311488   \n",
       "\n",
       "   newbalanceDest  type_0  type_1  type_2  type_3  type_4   varOrig   varDest  \\\n",
       "0       -0.333411     0.0     0.0     0.0     1.0     0.0 -0.057834  0.000000   \n",
       "1       -0.333411     0.0     0.0     0.0     1.0     0.0 -0.087735  0.000000   \n",
       "2       -0.333411     0.0     0.0     0.0     0.0     1.0 -1.000000  0.000000   \n",
       "3       -0.333411     0.0     1.0     0.0     0.0     0.0 -1.000000 -1.000000   \n",
       "4       -0.333411     0.0     0.0     0.0     1.0     0.0 -0.280795  0.000000   \n",
       "5       -0.333411     0.0     0.0     0.0     1.0     0.0 -0.145149  0.000000   \n",
       "6       -0.333411     0.0     0.0     0.0     1.0     0.0 -0.038799  0.000000   \n",
       "7       -0.333411     0.0     0.0     0.0     1.0     0.0 -0.044646  0.000000   \n",
       "8       -0.333411     0.0     0.0     0.0     1.0     0.0 -1.000000  0.000000   \n",
       "9       -0.322430     0.0     0.0     1.0     0.0     0.0 -0.127943 -0.038395   \n",
       "\n",
       "   isFraud  \n",
       "0        0  \n",
       "1        0  \n",
       "2        1  \n",
       "3        1  \n",
       "4        0  \n",
       "5        0  \n",
       "6        0  \n",
       "7        0  \n",
       "8        0  \n",
       "9        0  "
      ]
     },
     "execution_count": 23,
     "metadata": {},
     "output_type": "execute_result"
    }
   ],
   "source": [
    "df_final_norm.head(10)"
   ]
  },
  {
   "cell_type": "markdown",
   "metadata": {},
   "source": [
    "# 5 Machine Learning"
   ]
  },
  {
   "cell_type": "code",
   "execution_count": 24,
   "metadata": {},
   "outputs": [],
   "source": [
    "from sklearn.model_selection import train_test_split\n",
    "from sklearn.pipeline import Pipeline\n",
    "from sklearn.linear_model import LogisticRegression\n",
    "from sklearn.tree import DecisionTreeClassifier\n",
    "from sklearn.ensemble import RandomForestClassifier\n",
    "from sklearn.svm import SVC\n",
    "from sklearn.svm import LinearSVC\n",
    "from sklearn.model_selection import GridSearchCV\n",
    "from sklearn.model_selection import cross_val_score\n",
    "from sklearn.metrics import precision_score, recall_score, confusion_matrix, classification_report\n",
    "from sklearn import metrics\n",
    "from sklearn.metrics import roc_curve, auc, roc_auc_score\n"
   ]
  },
  {
   "cell_type": "code",
   "execution_count": 25,
   "metadata": {},
   "outputs": [],
   "source": [
    "X= df_final_norm.drop([\"isFraud\"],axis=1)\n",
    "y= df_final_norm[\"isFraud\"]"
   ]
  },
  {
   "cell_type": "code",
   "execution_count": 26,
   "metadata": {},
   "outputs": [],
   "source": [
    "X_train, X_test, y_train,y_test = train_test_split(X,y,test_size=0.3,random_state=42)"
   ]
  },
  {
   "cell_type": "code",
   "execution_count": 27,
   "metadata": {},
   "outputs": [],
   "source": [
    "pipeline_lr=Pipeline([('lr_classifier',LogisticRegression(random_state=42))])\n",
    "pipeline_dt=Pipeline([ ('dt_classifier',DecisionTreeClassifier(random_state=42))])\n",
    "pipeline_rf=Pipeline([('rf_classifier',RandomForestClassifier())])\n",
    "pipeline_svc=Pipeline([('sv_classifier',SVC())])\n",
    "pipelines = [pipeline_lr, pipeline_dt, pipeline_rf, pipeline_svc]\n",
    "pipe_dict = {0: 'Logistic Regression', 1: 'Decision Tree',\n",
    "2: 'RandomForest', 3: \"SVC\"}\n"
   ]
  },
  {
   "cell_type": "code",
   "execution_count": 57,
   "metadata": {},
   "outputs": [],
   "source": [
    "#for pipe in pipelines:\n",
    "    #pipe.fit(X_train, y_train)"
   ]
  },
  {
   "cell_type": "code",
   "execution_count": 58,
   "metadata": {},
   "outputs": [],
   "source": [
    "#cv_results_accuracy = []\n",
    "#for i, model in enumerate(pipelines):\n",
    "    #cv_score = cross_val_score(model, X_train,y_train, cv=10 )\n",
    "    #cv_results_accuracy.append(cv_score)\n",
    "    #print(\"%s: %f \" % (pipe_dict[i], cv_score.mean()))"
   ]
  },
  {
   "cell_type": "code",
   "execution_count": 60,
   "metadata": {},
   "outputs": [],
   "source": [
    "#pipeline_rf.fit(X_train, y_train)"
   ]
  },
  {
   "cell_type": "code",
   "execution_count": 61,
   "metadata": {},
   "outputs": [],
   "source": [
    "#cv_score = cross_val_score(pipeline_rf, X_train,y_train, cv=10 )\n",
    "#cv_results_accuracy.append(cv_score)\n",
    "#print(\"%s: %f \" % (pipe_dict[i], cv_score.mean()))"
   ]
  },
  {
   "cell_type": "code",
   "execution_count": 28,
   "metadata": {},
   "outputs": [],
   "source": [
    "from lazypredict.Supervised import LazyClassifier\n",
    "from imblearn.under_sampling import NearMiss"
   ]
  },
  {
   "cell_type": "code",
   "execution_count": 30,
   "metadata": {},
   "outputs": [
    {
     "name": "stdout",
     "output_type": "stream",
     "text": [
      "0 0.1\n"
     ]
    },
    {
     "name": "stderr",
     "output_type": "stream",
     "text": [
      "100%|██████████████████████████████████████████████████████████████████████████████████| 29/29 [02:25<00:00,  5.00s/it]\n"
     ]
    },
    {
     "name": "stdout",
     "output_type": "stream",
     "text": [
      "0 0.25\n"
     ]
    },
    {
     "name": "stderr",
     "output_type": "stream",
     "text": [
      "100%|██████████████████████████████████████████████████████████████████████████████████| 29/29 [28:45<00:00, 59.49s/it]\n"
     ]
    },
    {
     "name": "stdout",
     "output_type": "stream",
     "text": [
      "0 0.5\n"
     ]
    },
    {
     "name": "stderr",
     "output_type": "stream",
     "text": [
      "100%|██████████████████████████████████████████████████████████████████████████████████| 29/29 [01:17<00:00,  2.66s/it]\n"
     ]
    },
    {
     "name": "stdout",
     "output_type": "stream",
     "text": [
      "0 0.75\n"
     ]
    },
    {
     "name": "stderr",
     "output_type": "stream",
     "text": [
      "100%|██████████████████████████████████████████████████████████████████████████████████| 29/29 [00:37<00:00,  1.30s/it]\n"
     ]
    },
    {
     "name": "stdout",
     "output_type": "stream",
     "text": [
      "0 0.9\n"
     ]
    },
    {
     "name": "stderr",
     "output_type": "stream",
     "text": [
      "100%|██████████████████████████████████████████████████████████████████████████████████| 29/29 [00:31<00:00,  1.08s/it]\n"
     ]
    },
    {
     "name": "stdout",
     "output_type": "stream",
     "text": [
      "0 1\n"
     ]
    },
    {
     "name": "stderr",
     "output_type": "stream",
     "text": [
      "100%|██████████████████████████████████████████████████████████████████████████████████| 29/29 [00:40<00:00,  1.40s/it]\n"
     ]
    }
   ],
   "source": [
    "df_models = pd.DataFrame()\n",
    "fator_balanceamento = [0.1,0.25,0.5,0.75,0.9,1]\n",
    "\n",
    "#numero de repetições do experimento\n",
    "for i in range(1):\n",
    "    \n",
    "    #Balanceamento\n",
    "    for fator in fator_balanceamento:\n",
    "        \n",
    "        #Acompanhamento do andamento dos experimentos\n",
    "        print(i,fator)\n",
    "        \n",
    "        #Definição dos dados\n",
    "        X= df_final_norm.drop([\"isFraud\"],axis=1)\n",
    "        y= df_final_norm[\"isFraud\"]\n",
    "        \n",
    "        #Aplicando balanceamento    \n",
    "        nr = NearMiss(sampling_strategy = fator)\n",
    "        X, y = nr.fit_resample(X, y)\n",
    "        \n",
    "        #Holdout\n",
    "        X_train, X_test, y_train, y_test = train_test_split(X, y,test_size=0.3,random_state = i)\n",
    "        \n",
    "        #Treinando algoritmos e armazenando os resultados\n",
    "        clf = LazyClassifier(verbose=0,ignore_warnings=True, custom_metric=None)\n",
    "        models,predictions = clf.fit(X_train, X_test, y_train, y_test)\n",
    "        models['fator'] = fator\n",
    "        df_models = df_models.append(models.reset_index(), ignore_index=True)\n",
    "\n",
    "\n"
   ]
  },
  {
   "cell_type": "code",
   "execution_count": 33,
   "metadata": {},
   "outputs": [],
   "source": [
    "pd.set_option('display.precision',6)"
   ]
  },
  {
   "cell_type": "code",
   "execution_count": 34,
   "metadata": {},
   "outputs": [],
   "source": [
    "pd.reset_option('^display.',silent=True)"
   ]
  },
  {
   "cell_type": "code",
   "execution_count": 42,
   "metadata": {},
   "outputs": [
    {
     "data": {
      "text/html": [
       "<div>\n",
       "<style scoped>\n",
       "    .dataframe tbody tr th:only-of-type {\n",
       "        vertical-align: middle;\n",
       "    }\n",
       "\n",
       "    .dataframe tbody tr th {\n",
       "        vertical-align: top;\n",
       "    }\n",
       "\n",
       "    .dataframe thead th {\n",
       "        text-align: right;\n",
       "    }\n",
       "</style>\n",
       "<table border=\"1\" class=\"dataframe\">\n",
       "  <thead>\n",
       "    <tr style=\"text-align: right;\">\n",
       "      <th></th>\n",
       "      <th></th>\n",
       "      <th>Accuracy</th>\n",
       "      <th>Balanced Accuracy</th>\n",
       "      <th>ROC AUC</th>\n",
       "      <th>F1 Score</th>\n",
       "    </tr>\n",
       "    <tr>\n",
       "      <th>Model</th>\n",
       "      <th>fator</th>\n",
       "      <th></th>\n",
       "      <th></th>\n",
       "      <th></th>\n",
       "      <th></th>\n",
       "    </tr>\n",
       "  </thead>\n",
       "  <tbody>\n",
       "    <tr>\n",
       "      <th>XGBClassifier</th>\n",
       "      <th>0.50</th>\n",
       "      <td>0.991071</td>\n",
       "      <td>0.988968</td>\n",
       "      <td>0.988968</td>\n",
       "      <td>0.991062</td>\n",
       "    </tr>\n",
       "    <tr>\n",
       "      <th>LGBMClassifier</th>\n",
       "      <th>0.50</th>\n",
       "      <td>0.989854</td>\n",
       "      <td>0.987149</td>\n",
       "      <td>0.987149</td>\n",
       "      <td>0.989839</td>\n",
       "    </tr>\n",
       "    <tr>\n",
       "      <th rowspan=\"2\" valign=\"top\">XGBClassifier</th>\n",
       "      <th>0.90</th>\n",
       "      <td>0.985967</td>\n",
       "      <td>0.985827</td>\n",
       "      <td>0.985827</td>\n",
       "      <td>0.985965</td>\n",
       "    </tr>\n",
       "    <tr>\n",
       "      <th>0.25</th>\n",
       "      <td>0.993263</td>\n",
       "      <td>0.985626</td>\n",
       "      <td>0.985626</td>\n",
       "      <td>0.993237</td>\n",
       "    </tr>\n",
       "    <tr>\n",
       "      <th>LGBMClassifier</th>\n",
       "      <th>0.75</th>\n",
       "      <td>0.986258</td>\n",
       "      <td>0.985615</td>\n",
       "      <td>0.985615</td>\n",
       "      <td>0.986253</td>\n",
       "    </tr>\n",
       "    <tr>\n",
       "      <th>XGBClassifier</th>\n",
       "      <th>1.00</th>\n",
       "      <td>0.985593</td>\n",
       "      <td>0.985614</td>\n",
       "      <td>0.985614</td>\n",
       "      <td>0.985593</td>\n",
       "    </tr>\n",
       "    <tr>\n",
       "      <th rowspan=\"2\" valign=\"top\">LGBMClassifier</th>\n",
       "      <th>0.90</th>\n",
       "      <td>0.985582</td>\n",
       "      <td>0.985442</td>\n",
       "      <td>0.985442</td>\n",
       "      <td>0.985581</td>\n",
       "    </tr>\n",
       "    <tr>\n",
       "      <th>1.00</th>\n",
       "      <td>0.985390</td>\n",
       "      <td>0.985422</td>\n",
       "      <td>0.985422</td>\n",
       "      <td>0.985390</td>\n",
       "    </tr>\n",
       "    <tr>\n",
       "      <th>XGBClassifier</th>\n",
       "      <th>0.75</th>\n",
       "      <td>0.986258</td>\n",
       "      <td>0.985393</td>\n",
       "      <td>0.985393</td>\n",
       "      <td>0.986249</td>\n",
       "    </tr>\n",
       "    <tr>\n",
       "      <th>LGBMClassifier</th>\n",
       "      <th>0.25</th>\n",
       "      <td>0.991964</td>\n",
       "      <td>0.983275</td>\n",
       "      <td>0.983275</td>\n",
       "      <td>0.991931</td>\n",
       "    </tr>\n",
       "    <tr>\n",
       "      <th>ExtraTreesClassifier</th>\n",
       "      <th>0.75</th>\n",
       "      <td>0.984345</td>\n",
       "      <td>0.983204</td>\n",
       "      <td>0.983204</td>\n",
       "      <td>0.984330</td>\n",
       "    </tr>\n",
       "    <tr>\n",
       "      <th rowspan=\"4\" valign=\"top\">RandomForestClassifier</th>\n",
       "      <th>1.00</th>\n",
       "      <td>0.982752</td>\n",
       "      <td>0.982799</td>\n",
       "      <td>0.982799</td>\n",
       "      <td>0.982752</td>\n",
       "    </tr>\n",
       "    <tr>\n",
       "      <th>0.75</th>\n",
       "      <td>0.983649</td>\n",
       "      <td>0.982764</td>\n",
       "      <td>0.982764</td>\n",
       "      <td>0.983639</td>\n",
       "    </tr>\n",
       "    <tr>\n",
       "      <th>0.50</th>\n",
       "      <td>0.986201</td>\n",
       "      <td>0.982594</td>\n",
       "      <td>0.982594</td>\n",
       "      <td>0.986174</td>\n",
       "    </tr>\n",
       "    <tr>\n",
       "      <th>0.90</th>\n",
       "      <td>0.982891</td>\n",
       "      <td>0.982591</td>\n",
       "      <td>0.982591</td>\n",
       "      <td>0.982886</td>\n",
       "    </tr>\n",
       "    <tr>\n",
       "      <th rowspan=\"2\" valign=\"top\">ExtraTreesClassifier</th>\n",
       "      <th>1.00</th>\n",
       "      <td>0.982143</td>\n",
       "      <td>0.982231</td>\n",
       "      <td>0.982231</td>\n",
       "      <td>0.982143</td>\n",
       "    </tr>\n",
       "    <tr>\n",
       "      <th>0.90</th>\n",
       "      <td>0.982507</td>\n",
       "      <td>0.982102</td>\n",
       "      <td>0.982102</td>\n",
       "      <td>0.982499</td>\n",
       "    </tr>\n",
       "    <tr>\n",
       "      <th rowspan=\"2\" valign=\"top\">BaggingClassifier</th>\n",
       "      <th>0.50</th>\n",
       "      <td>0.985525</td>\n",
       "      <td>0.981584</td>\n",
       "      <td>0.981584</td>\n",
       "      <td>0.985493</td>\n",
       "    </tr>\n",
       "    <tr>\n",
       "      <th>0.75</th>\n",
       "      <td>0.982084</td>\n",
       "      <td>0.981196</td>\n",
       "      <td>0.981196</td>\n",
       "      <td>0.982073</td>\n",
       "    </tr>\n",
       "    <tr>\n",
       "      <th>XGBClassifier</th>\n",
       "      <th>0.10</th>\n",
       "      <td>0.995536</td>\n",
       "      <td>0.981084</td>\n",
       "      <td>0.981084</td>\n",
       "      <td>0.995512</td>\n",
       "    </tr>\n",
       "    <tr>\n",
       "      <th>BaggingClassifier</th>\n",
       "      <th>0.90</th>\n",
       "      <td>0.980392</td>\n",
       "      <td>0.980216</td>\n",
       "      <td>0.980216</td>\n",
       "      <td>0.980389</td>\n",
       "    </tr>\n",
       "    <tr>\n",
       "      <th>ExtraTreesClassifier</th>\n",
       "      <th>0.50</th>\n",
       "      <td>0.984713</td>\n",
       "      <td>0.979667</td>\n",
       "      <td>0.979667</td>\n",
       "      <td>0.984663</td>\n",
       "    </tr>\n",
       "    <tr>\n",
       "      <th>BaggingClassifier</th>\n",
       "      <th>0.25</th>\n",
       "      <td>0.989610</td>\n",
       "      <td>0.979649</td>\n",
       "      <td>0.979649</td>\n",
       "      <td>0.989568</td>\n",
       "    </tr>\n",
       "    <tr>\n",
       "      <th>DecisionTreeClassifier</th>\n",
       "      <th>0.50</th>\n",
       "      <td>0.981737</td>\n",
       "      <td>0.979441</td>\n",
       "      <td>0.979441</td>\n",
       "      <td>0.981736</td>\n",
       "    </tr>\n",
       "    <tr>\n",
       "      <th>BaggingClassifier</th>\n",
       "      <th>1.00</th>\n",
       "      <td>0.979099</td>\n",
       "      <td>0.979142</td>\n",
       "      <td>0.979142</td>\n",
       "      <td>0.979100</td>\n",
       "    </tr>\n",
       "    <tr>\n",
       "      <th>RandomForestClassifier</th>\n",
       "      <th>0.25</th>\n",
       "      <td>0.990422</td>\n",
       "      <td>0.979076</td>\n",
       "      <td>0.979076</td>\n",
       "      <td>0.990365</td>\n",
       "    </tr>\n",
       "    <tr>\n",
       "      <th>DecisionTreeClassifier</th>\n",
       "      <th>1.00</th>\n",
       "      <td>0.977476</td>\n",
       "      <td>0.977475</td>\n",
       "      <td>0.977475</td>\n",
       "      <td>0.977476</td>\n",
       "    </tr>\n",
       "    <tr>\n",
       "      <th>KNeighborsClassifier</th>\n",
       "      <th>1.00</th>\n",
       "      <td>0.977070</td>\n",
       "      <td>0.977262</td>\n",
       "      <td>0.977262</td>\n",
       "      <td>0.977066</td>\n",
       "    </tr>\n",
       "    <tr>\n",
       "      <th>DecisionTreeClassifier</th>\n",
       "      <th>0.25</th>\n",
       "      <td>0.985552</td>\n",
       "      <td>0.977118</td>\n",
       "      <td>0.977118</td>\n",
       "      <td>0.985550</td>\n",
       "    </tr>\n",
       "    <tr>\n",
       "      <th>LGBMClassifier</th>\n",
       "      <th>0.10</th>\n",
       "      <td>0.994170</td>\n",
       "      <td>0.977004</td>\n",
       "      <td>0.977004</td>\n",
       "      <td>0.994140</td>\n",
       "    </tr>\n",
       "    <tr>\n",
       "      <th>ExtraTreesClassifier</th>\n",
       "      <th>0.25</th>\n",
       "      <td>0.989529</td>\n",
       "      <td>0.976978</td>\n",
       "      <td>0.976978</td>\n",
       "      <td>0.989459</td>\n",
       "    </tr>\n",
       "    <tr>\n",
       "      <th>KNeighborsClassifier</th>\n",
       "      <th>0.90</th>\n",
       "      <td>0.977509</td>\n",
       "      <td>0.976837</td>\n",
       "      <td>0.976837</td>\n",
       "      <td>0.977490</td>\n",
       "    </tr>\n",
       "    <tr>\n",
       "      <th>DecisionTreeClassifier</th>\n",
       "      <th>0.90</th>\n",
       "      <td>0.976547</td>\n",
       "      <td>0.976535</td>\n",
       "      <td>0.976535</td>\n",
       "      <td>0.976548</td>\n",
       "    </tr>\n",
       "    <tr>\n",
       "      <th>KNeighborsClassifier</th>\n",
       "      <th>0.75</th>\n",
       "      <td>0.978779</td>\n",
       "      <td>0.976260</td>\n",
       "      <td>0.976260</td>\n",
       "      <td>0.978726</td>\n",
       "    </tr>\n",
       "    <tr>\n",
       "      <th>DecisionTreeClassifier</th>\n",
       "      <th>0.75</th>\n",
       "      <td>0.976518</td>\n",
       "      <td>0.975851</td>\n",
       "      <td>0.975851</td>\n",
       "      <td>0.976511</td>\n",
       "    </tr>\n",
       "    <tr>\n",
       "      <th rowspan=\"2\" valign=\"top\">AdaBoostClassifier</th>\n",
       "      <th>0.90</th>\n",
       "      <td>0.976163</td>\n",
       "      <td>0.975686</td>\n",
       "      <td>0.975686</td>\n",
       "      <td>0.976151</td>\n",
       "    </tr>\n",
       "    <tr>\n",
       "      <th>1.00</th>\n",
       "      <td>0.975446</td>\n",
       "      <td>0.975596</td>\n",
       "      <td>0.975596</td>\n",
       "      <td>0.975445</td>\n",
       "    </tr>\n",
       "    <tr>\n",
       "      <th>ExtraTreeClassifier</th>\n",
       "      <th>0.90</th>\n",
       "      <td>0.975586</td>\n",
       "      <td>0.975495</td>\n",
       "      <td>0.975495</td>\n",
       "      <td>0.975585</td>\n",
       "    </tr>\n",
       "    <tr>\n",
       "      <th>KNeighborsClassifier</th>\n",
       "      <th>0.50</th>\n",
       "      <td>0.982549</td>\n",
       "      <td>0.975426</td>\n",
       "      <td>0.975426</td>\n",
       "      <td>0.982457</td>\n",
       "    </tr>\n",
       "    <tr>\n",
       "      <th rowspan=\"3\" valign=\"top\">ExtraTreeClassifier</th>\n",
       "      <th>1.00</th>\n",
       "      <td>0.974635</td>\n",
       "      <td>0.974681</td>\n",
       "      <td>0.974681</td>\n",
       "      <td>0.974635</td>\n",
       "    </tr>\n",
       "    <tr>\n",
       "      <th>0.25</th>\n",
       "      <td>0.984903</td>\n",
       "      <td>0.974401</td>\n",
       "      <td>0.974401</td>\n",
       "      <td>0.984874</td>\n",
       "    </tr>\n",
       "    <tr>\n",
       "      <th>0.50</th>\n",
       "      <td>0.978626</td>\n",
       "      <td>0.974188</td>\n",
       "      <td>0.974188</td>\n",
       "      <td>0.978586</td>\n",
       "    </tr>\n",
       "    <tr>\n",
       "      <th>AdaBoostClassifier</th>\n",
       "      <th>0.75</th>\n",
       "      <td>0.975300</td>\n",
       "      <td>0.973525</td>\n",
       "      <td>0.973525</td>\n",
       "      <td>0.975263</td>\n",
       "    </tr>\n",
       "    <tr>\n",
       "      <th>ExtraTreeClassifier</th>\n",
       "      <th>0.75</th>\n",
       "      <td>0.973039</td>\n",
       "      <td>0.972228</td>\n",
       "      <td>0.972228</td>\n",
       "      <td>0.973028</td>\n",
       "    </tr>\n",
       "    <tr>\n",
       "      <th rowspan=\"2\" valign=\"top\">AdaBoostClassifier</th>\n",
       "      <th>0.50</th>\n",
       "      <td>0.979573</td>\n",
       "      <td>0.971883</td>\n",
       "      <td>0.971883</td>\n",
       "      <td>0.979461</td>\n",
       "    </tr>\n",
       "    <tr>\n",
       "      <th>0.25</th>\n",
       "      <td>0.986526</td>\n",
       "      <td>0.971869</td>\n",
       "      <td>0.971869</td>\n",
       "      <td>0.986430</td>\n",
       "    </tr>\n",
       "    <tr>\n",
       "      <th>DecisionTreeClassifier</th>\n",
       "      <th>0.10</th>\n",
       "      <td>0.990444</td>\n",
       "      <td>0.969407</td>\n",
       "      <td>0.969407</td>\n",
       "      <td>0.990431</td>\n",
       "    </tr>\n",
       "    <tr>\n",
       "      <th>BaggingClassifier</th>\n",
       "      <th>0.10</th>\n",
       "      <td>0.992362</td>\n",
       "      <td>0.967686</td>\n",
       "      <td>0.967686</td>\n",
       "      <td>0.992292</td>\n",
       "    </tr>\n",
       "    <tr>\n",
       "      <th>KNeighborsClassifier</th>\n",
       "      <th>0.25</th>\n",
       "      <td>0.985877</td>\n",
       "      <td>0.967148</td>\n",
       "      <td>0.967148</td>\n",
       "      <td>0.985720</td>\n",
       "    </tr>\n",
       "    <tr>\n",
       "      <th>PassiveAggressiveClassifier</th>\n",
       "      <th>1.00</th>\n",
       "      <td>0.966315</td>\n",
       "      <td>0.966504</td>\n",
       "      <td>0.966504</td>\n",
       "      <td>0.966310</td>\n",
       "    </tr>\n",
       "  </tbody>\n",
       "</table>\n",
       "</div>"
      ],
      "text/plain": [
       "                                   Accuracy  Balanced Accuracy   ROC AUC  \\\n",
       "Model                       fator                                          \n",
       "XGBClassifier               0.50   0.991071           0.988968  0.988968   \n",
       "LGBMClassifier              0.50   0.989854           0.987149  0.987149   \n",
       "XGBClassifier               0.90   0.985967           0.985827  0.985827   \n",
       "                            0.25   0.993263           0.985626  0.985626   \n",
       "LGBMClassifier              0.75   0.986258           0.985615  0.985615   \n",
       "XGBClassifier               1.00   0.985593           0.985614  0.985614   \n",
       "LGBMClassifier              0.90   0.985582           0.985442  0.985442   \n",
       "                            1.00   0.985390           0.985422  0.985422   \n",
       "XGBClassifier               0.75   0.986258           0.985393  0.985393   \n",
       "LGBMClassifier              0.25   0.991964           0.983275  0.983275   \n",
       "ExtraTreesClassifier        0.75   0.984345           0.983204  0.983204   \n",
       "RandomForestClassifier      1.00   0.982752           0.982799  0.982799   \n",
       "                            0.75   0.983649           0.982764  0.982764   \n",
       "                            0.50   0.986201           0.982594  0.982594   \n",
       "                            0.90   0.982891           0.982591  0.982591   \n",
       "ExtraTreesClassifier        1.00   0.982143           0.982231  0.982231   \n",
       "                            0.90   0.982507           0.982102  0.982102   \n",
       "BaggingClassifier           0.50   0.985525           0.981584  0.981584   \n",
       "                            0.75   0.982084           0.981196  0.981196   \n",
       "XGBClassifier               0.10   0.995536           0.981084  0.981084   \n",
       "BaggingClassifier           0.90   0.980392           0.980216  0.980216   \n",
       "ExtraTreesClassifier        0.50   0.984713           0.979667  0.979667   \n",
       "BaggingClassifier           0.25   0.989610           0.979649  0.979649   \n",
       "DecisionTreeClassifier      0.50   0.981737           0.979441  0.979441   \n",
       "BaggingClassifier           1.00   0.979099           0.979142  0.979142   \n",
       "RandomForestClassifier      0.25   0.990422           0.979076  0.979076   \n",
       "DecisionTreeClassifier      1.00   0.977476           0.977475  0.977475   \n",
       "KNeighborsClassifier        1.00   0.977070           0.977262  0.977262   \n",
       "DecisionTreeClassifier      0.25   0.985552           0.977118  0.977118   \n",
       "LGBMClassifier              0.10   0.994170           0.977004  0.977004   \n",
       "ExtraTreesClassifier        0.25   0.989529           0.976978  0.976978   \n",
       "KNeighborsClassifier        0.90   0.977509           0.976837  0.976837   \n",
       "DecisionTreeClassifier      0.90   0.976547           0.976535  0.976535   \n",
       "KNeighborsClassifier        0.75   0.978779           0.976260  0.976260   \n",
       "DecisionTreeClassifier      0.75   0.976518           0.975851  0.975851   \n",
       "AdaBoostClassifier          0.90   0.976163           0.975686  0.975686   \n",
       "                            1.00   0.975446           0.975596  0.975596   \n",
       "ExtraTreeClassifier         0.90   0.975586           0.975495  0.975495   \n",
       "KNeighborsClassifier        0.50   0.982549           0.975426  0.975426   \n",
       "ExtraTreeClassifier         1.00   0.974635           0.974681  0.974681   \n",
       "                            0.25   0.984903           0.974401  0.974401   \n",
       "                            0.50   0.978626           0.974188  0.974188   \n",
       "AdaBoostClassifier          0.75   0.975300           0.973525  0.973525   \n",
       "ExtraTreeClassifier         0.75   0.973039           0.972228  0.972228   \n",
       "AdaBoostClassifier          0.50   0.979573           0.971883  0.971883   \n",
       "                            0.25   0.986526           0.971869  0.971869   \n",
       "DecisionTreeClassifier      0.10   0.990444           0.969407  0.969407   \n",
       "BaggingClassifier           0.10   0.992362           0.967686  0.967686   \n",
       "KNeighborsClassifier        0.25   0.985877           0.967148  0.967148   \n",
       "PassiveAggressiveClassifier 1.00   0.966315           0.966504  0.966504   \n",
       "\n",
       "                                   F1 Score  \n",
       "Model                       fator            \n",
       "XGBClassifier               0.50   0.991062  \n",
       "LGBMClassifier              0.50   0.989839  \n",
       "XGBClassifier               0.90   0.985965  \n",
       "                            0.25   0.993237  \n",
       "LGBMClassifier              0.75   0.986253  \n",
       "XGBClassifier               1.00   0.985593  \n",
       "LGBMClassifier              0.90   0.985581  \n",
       "                            1.00   0.985390  \n",
       "XGBClassifier               0.75   0.986249  \n",
       "LGBMClassifier              0.25   0.991931  \n",
       "ExtraTreesClassifier        0.75   0.984330  \n",
       "RandomForestClassifier      1.00   0.982752  \n",
       "                            0.75   0.983639  \n",
       "                            0.50   0.986174  \n",
       "                            0.90   0.982886  \n",
       "ExtraTreesClassifier        1.00   0.982143  \n",
       "                            0.90   0.982499  \n",
       "BaggingClassifier           0.50   0.985493  \n",
       "                            0.75   0.982073  \n",
       "XGBClassifier               0.10   0.995512  \n",
       "BaggingClassifier           0.90   0.980389  \n",
       "ExtraTreesClassifier        0.50   0.984663  \n",
       "BaggingClassifier           0.25   0.989568  \n",
       "DecisionTreeClassifier      0.50   0.981736  \n",
       "BaggingClassifier           1.00   0.979100  \n",
       "RandomForestClassifier      0.25   0.990365  \n",
       "DecisionTreeClassifier      1.00   0.977476  \n",
       "KNeighborsClassifier        1.00   0.977066  \n",
       "DecisionTreeClassifier      0.25   0.985550  \n",
       "LGBMClassifier              0.10   0.994140  \n",
       "ExtraTreesClassifier        0.25   0.989459  \n",
       "KNeighborsClassifier        0.90   0.977490  \n",
       "DecisionTreeClassifier      0.90   0.976548  \n",
       "KNeighborsClassifier        0.75   0.978726  \n",
       "DecisionTreeClassifier      0.75   0.976511  \n",
       "AdaBoostClassifier          0.90   0.976151  \n",
       "                            1.00   0.975445  \n",
       "ExtraTreeClassifier         0.90   0.975585  \n",
       "KNeighborsClassifier        0.50   0.982457  \n",
       "ExtraTreeClassifier         1.00   0.974635  \n",
       "                            0.25   0.984874  \n",
       "                            0.50   0.978586  \n",
       "AdaBoostClassifier          0.75   0.975263  \n",
       "ExtraTreeClassifier         0.75   0.973028  \n",
       "AdaBoostClassifier          0.50   0.979461  \n",
       "                            0.25   0.986430  \n",
       "DecisionTreeClassifier      0.10   0.990431  \n",
       "BaggingClassifier           0.10   0.992292  \n",
       "KNeighborsClassifier        0.25   0.985720  \n",
       "PassiveAggressiveClassifier 1.00   0.966310  "
      ]
     },
     "execution_count": 42,
     "metadata": {},
     "output_type": "execute_result"
    }
   ],
   "source": [
    "df_models.groupby(['Model','fator']).agg({'Accuracy':np.mean, 'Balanced Accuracy':np.mean, 'ROC AUC':np.mean, 'F1 Score':np.mean}).sort_values(by='Balanced Accuracy', ascending=False).head(50)"
   ]
  },
  {
   "cell_type": "markdown",
   "metadata": {},
   "source": [
    "# Random Forest -  UnderSampling"
   ]
  },
  {
   "cell_type": "markdown",
   "metadata": {},
   "source": [
    "### UnderSampling Inicial 20% Fraudes e 80% transações comuns\n",
    "\n",
    "minority = 20%  \n",
    "majority = 80%  \n",
    "\n",
    "fator = 20/80 = 0.25  "
   ]
  },
  {
   "cell_type": "code",
   "execution_count": 58,
   "metadata": {},
   "outputs": [],
   "source": [
    "#Definição dos dados\n",
    "X = df_final_norm.drop([\"isFraud\"],axis=1)\n",
    "y = df_final_norm[\"isFraud\"]\n",
    "        \n",
    "#Aplicando balanceamento    \n",
    "nr = NearMiss(sampling_strategy = 0.25)\n",
    "X, y = nr.fit_resample(X, y)"
   ]
  },
  {
   "cell_type": "code",
   "execution_count": 77,
   "metadata": {},
   "outputs": [
    {
     "data": {
      "text/plain": [
       "0    32852\n",
       "1     8213\n",
       "Name: isFraud, dtype: int64"
      ]
     },
     "execution_count": 77,
     "metadata": {},
     "output_type": "execute_result"
    }
   ],
   "source": [
    "y.value_counts()"
   ]
  },
  {
   "cell_type": "code",
   "execution_count": 78,
   "metadata": {},
   "outputs": [],
   "source": [
    "acuracia_dados = make_scorer(accuracy_score)\n",
    "f1_dados = make_scorer(f1_score)\n",
    "balanced_acc_dados = make_scorer(balanced_accuracy_score)\n",
    "scoring = {\"accuracy\": acuracia_dados, \"f1\":f1_dados, \"bacuracy\":balanced_acc_dados}\n",
    "resultados = []"
   ]
  },
  {
   "cell_type": "code",
   "execution_count": 79,
   "metadata": {},
   "outputs": [],
   "source": [
    "#weights = np.linspace(0.25,0.99,20)\n",
    "fator_balanceamento = np.linspace(0.25,0.99,20).tolist\n",
    "fator_balanceamento = []\n",
    "#for i in weights:\n",
    "    #print(i)\n",
    "    #fator_balanceamento.append({0: i, 1:1.0-i})\n",
    "\n",
    "max_depth = [None]\n",
    "min_samples_split = [2]\n",
    "min_samples_leaf = [1] \n",
    "criterion = ['gini']\n",
    "\n",
    "\n",
    "# Numero de repetições do experimento\n",
    "for i in range(10): \n",
    "    \n",
    "    \n",
    "    #Validação cruzada com 10 kfolds\n",
    "    kfold = KFold(n_splits = 10, shuffle = True, random_state = i)\n",
    "    \n",
    "    #print(\"Fazendo gridsearch - Repeticao %s\" % (i+1))\n",
    "    \n",
    "    \n",
    "    # itera sobre parametro 1:\n",
    "    for k in max_depth:\n",
    "\n",
    "        \n",
    "        # itera sobre parametro 2:\n",
    "        for u in min_samples_split:\n",
    "            \n",
    "            #itera sobre o parametro 3:\n",
    "            for w in min_samples_leaf:\n",
    "                \n",
    "                #itera sobre parametro 4\n",
    "                for v in criterion:\n",
    "                    \n",
    "                    for fator in fator_balanceamento:\n",
    "                        #print(fator)\n",
    "                        print(\"Fazendo gridsearch - Repeticao %s e fator de balanceamento %s\" % (i+1,fator))\n",
    "                        \n",
    "                        #Balanceamento dos dados\n",
    "                        nr = NearMiss(sampling_strategy = fator)\n",
    "                        X_balanc, y_balanc = nr.fit_resample(X, y)\n",
    "\n",
    "                        #Separação em dados de 70% treino e 30% teste\n",
    "                        X_train, X_test, y_train, y_test = train_test_split(X_balanc, y_balanc, test_size=0.3, random_state=i, stratify=y)\n",
    "                        \n",
    "                        gs = GridSearchCV(\n",
    "                                RandomForestClassifier(random_state=i) ,\n",
    "                                param_grid={\"max_depth\": [k], \n",
    "                                            \"min_samples_split\":[u],\n",
    "                                            \"min_samples_leaf\":[w],\n",
    "                                            \"criterion\":[v]}, \n",
    "                                scoring=scoring,\n",
    "                                refit=\"bacuracy\",\n",
    "                                n_jobs=2,\n",
    "                                return_train_score=True,\n",
    "                                cv = kfold\n",
    "                                    )\n",
    "                            \n",
    "                        #gs = RandomForestClassifier(random_state=i)\n",
    "\n",
    "                        #Treinando o modelo com dados de treino c/ 9 folds e utilizando 1 fold para teste\n",
    "                        gs.fit(X_train, y_train)\n",
    "\n",
    "                        #Melhores resultados e hiperparâmetros encontrados\n",
    "                           \n",
    "                        #acuracy_treino = gs.best_score_\n",
    "                        scoretreino = gs.score(X_train,y_train)\n",
    "                            \n",
    "                        ##Predizendo as classes nos dados de teste e todos dados, utilizando os melhores parâmetros\n",
    "                        y_test_pred = gs.predict(X_test)\n",
    "\n",
    "                            \n",
    "                        #Calculando acurácia \n",
    "                        accuracy_teste = accuracy_score(y_test, y_test_pred)\n",
    "\n",
    "                        #Calculando Recall clase 1\n",
    "                        rec0_teste = recall_score(y_test, y_test_pred, pos_label=0)\n",
    "                        rec1_teste = recall_score(y_test, y_test_pred, pos_label=1)\n",
    "                        \n",
    "                        \n",
    "                        #calculando auc\n",
    "                        auc_test = roc_auc_score(y_test, y_test_pred)\n",
    "\n",
    "                        \n",
    "                        exemplos_minoritarios_ratio = fator/(fator+1)\n",
    "                        \n",
    "                        # Adicionando todos resultados em uma única lista\n",
    "                        resultados.append(np.array([exemplos_minoritarios_ratio,scoretreino,accuracy_teste,accuracy_teste,rec0_teste,rec1_teste,auc_test]))"
   ]
  },
  {
   "cell_type": "code",
   "execution_count": null,
   "metadata": {},
   "outputs": [],
   "source": [
    "resultados_df = pd.DataFrame(np.array(resultados), columns=['repeticao','max_depth','min_samples_split','min_samples_leaf','criterion','acuracy_treino','acuracia_teste','acuracia_balanceada_teste','rec_0_teste','rec_1_teste','f1_teste','auc_teste'])\n",
    "resultados_df['auc_teste'] = resultados_df['auc_teste'].astype(float, errors = 'raise')\n",
    "resultados_df.astype({ 'max_depth': 'str', 'min_samples_split': 'str','min_samples_leaf': 'str','criterion':'str','acuracy_treino': 'float','acuracia_teste': 'float','acuracia_balanceada_teste': 'float','rec_0_teste': 'float','rec_1_teste': 'float','f1_teste': 'float','auc_teste': 'float' }).groupby(['max_depth','min_samples_split','min_samples_leaf','criterion']).agg({'acuracy_treino':np.mean, 'acuracia_teste':np.mean, 'acuracia_balanceada_teste':np.mean, 'rec_0_teste':np.mean, 'rec_1_teste':np.mean, 'f1_teste':np.mean, 'auc_teste':np.mean}).sort_values(by='auc_teste', ascending=False).head(50)"
   ]
  },
  {
   "cell_type": "code",
   "execution_count": null,
   "metadata": {},
   "outputs": [],
   "source": []
  }
 ],
 "metadata": {
  "kernelspec": {
   "display_name": "Python 3",
   "language": "python",
   "name": "python3"
  },
  "language_info": {
   "codemirror_mode": {
    "name": "ipython",
    "version": 3
   },
   "file_extension": ".py",
   "mimetype": "text/x-python",
   "name": "python",
   "nbconvert_exporter": "python",
   "pygments_lexer": "ipython3",
   "version": "3.8.3"
  }
 },
 "nbformat": 4,
 "nbformat_minor": 4
}

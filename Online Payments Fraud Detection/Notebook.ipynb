{
 "cells": [
  {
   "cell_type": "markdown",
   "metadata": {},
   "source": [
    "Dataset: https://www.kaggle.com/datasets/rupakroy/online-payments-fraud-detection-dataset"
   ]
  },
  {
   "cell_type": "markdown",
   "metadata": {},
   "source": [
    "Columns:\n",
    "    \n",
    "step: represents a unit of time where 1 step equals 1 hour  \n",
    "type: type of online transaction  \n",
    "amount: the amount of the transaction  \n",
    "nameOrig: customer starting the transaction  \n",
    "oldbalanceOrg: balance before the transaction  \n",
    "newbalanceOrig: balance after the transaction  \n",
    "nameDest: recipient of the transaction  \n",
    "oldbalanceDest: initial balance of recipient before the transaction  \n",
    "newbalanceDest: the new balance of recipient after the transaction  \n",
    "isFraud: fraud transaction  "
   ]
  },
  {
   "cell_type": "markdown",
   "metadata": {},
   "source": [
    "# 1 Importação de bibliotecas"
   ]
  },
  {
   "cell_type": "code",
   "execution_count": 1,
   "metadata": {},
   "outputs": [],
   "source": [
    "#Manipulação de dados\n",
    "import pandas as pd\n",
    "import numpy as np\n",
    "\n",
    "#Visualização de dados\n",
    "import matplotlib.pyplot as plt\n",
    "import seaborn as sns\n",
    "from IPython import get_ipython\n",
    "import warnings\n",
    "warnings.filterwarnings(\"ignore\")\n",
    "\n",
    "# Prototipação\n",
    "from lazypredict.Supervised import LazyClassifier\n",
    "\n",
    "#Balanceamento de dados\n",
    "from imblearn.under_sampling import NearMiss\n",
    "\n",
    "#ML\n",
    "from sklearn.model_selection import train_test_split\n",
    "from sklearn.ensemble import RandomForestClassifier\n",
    "from xgboost import XGBClassifier\n",
    "\n",
    "#Tuning\n",
    "from sklearn.model_selection import GridSearchCV\n",
    "\n",
    "#Model evaluation\n",
    "from sklearn.metrics import make_scorer\n",
    "from sklearn.metrics import f1_score\n",
    "from sklearn.metrics import accuracy_score\n",
    "from sklearn.metrics import recall_score\n",
    "from sklearn.metrics import roc_auc_score\n",
    "from sklearn.metrics import balanced_accuracy_score\n",
    "from sklearn.model_selection import cross_val_score, KFold\n",
    "from sklearn.metrics import accuracy_score, classification_report, confusion_matrix"
   ]
  },
  {
   "cell_type": "markdown",
   "metadata": {},
   "source": [
    "# 2 Leitura dos dados"
   ]
  },
  {
   "cell_type": "code",
   "execution_count": 2,
   "metadata": {},
   "outputs": [],
   "source": [
    "df = pd.read_csv('PS_20174392719_1491204439457_log.csv')"
   ]
  },
  {
   "cell_type": "code",
   "execution_count": 3,
   "metadata": {},
   "outputs": [
    {
     "data": {
      "text/html": [
       "<div>\n",
       "<style scoped>\n",
       "    .dataframe tbody tr th:only-of-type {\n",
       "        vertical-align: middle;\n",
       "    }\n",
       "\n",
       "    .dataframe tbody tr th {\n",
       "        vertical-align: top;\n",
       "    }\n",
       "\n",
       "    .dataframe thead th {\n",
       "        text-align: right;\n",
       "    }\n",
       "</style>\n",
       "<table border=\"1\" class=\"dataframe\">\n",
       "  <thead>\n",
       "    <tr style=\"text-align: right;\">\n",
       "      <th></th>\n",
       "      <th>step</th>\n",
       "      <th>type</th>\n",
       "      <th>amount</th>\n",
       "      <th>nameOrig</th>\n",
       "      <th>oldbalanceOrg</th>\n",
       "      <th>newbalanceOrig</th>\n",
       "      <th>nameDest</th>\n",
       "      <th>oldbalanceDest</th>\n",
       "      <th>newbalanceDest</th>\n",
       "      <th>isFraud</th>\n",
       "      <th>isFlaggedFraud</th>\n",
       "    </tr>\n",
       "  </thead>\n",
       "  <tbody>\n",
       "    <tr>\n",
       "      <th>0</th>\n",
       "      <td>1</td>\n",
       "      <td>PAYMENT</td>\n",
       "      <td>9839.64</td>\n",
       "      <td>C1231006815</td>\n",
       "      <td>170136.00</td>\n",
       "      <td>160296.36</td>\n",
       "      <td>M1979787155</td>\n",
       "      <td>0.00</td>\n",
       "      <td>0.00</td>\n",
       "      <td>0</td>\n",
       "      <td>0</td>\n",
       "    </tr>\n",
       "    <tr>\n",
       "      <th>1</th>\n",
       "      <td>1</td>\n",
       "      <td>PAYMENT</td>\n",
       "      <td>1864.28</td>\n",
       "      <td>C1666544295</td>\n",
       "      <td>21249.00</td>\n",
       "      <td>19384.72</td>\n",
       "      <td>M2044282225</td>\n",
       "      <td>0.00</td>\n",
       "      <td>0.00</td>\n",
       "      <td>0</td>\n",
       "      <td>0</td>\n",
       "    </tr>\n",
       "    <tr>\n",
       "      <th>2</th>\n",
       "      <td>1</td>\n",
       "      <td>TRANSFER</td>\n",
       "      <td>181.00</td>\n",
       "      <td>C1305486145</td>\n",
       "      <td>181.00</td>\n",
       "      <td>0.00</td>\n",
       "      <td>C553264065</td>\n",
       "      <td>0.00</td>\n",
       "      <td>0.00</td>\n",
       "      <td>1</td>\n",
       "      <td>0</td>\n",
       "    </tr>\n",
       "    <tr>\n",
       "      <th>3</th>\n",
       "      <td>1</td>\n",
       "      <td>CASH_OUT</td>\n",
       "      <td>181.00</td>\n",
       "      <td>C840083671</td>\n",
       "      <td>181.00</td>\n",
       "      <td>0.00</td>\n",
       "      <td>C38997010</td>\n",
       "      <td>21182.00</td>\n",
       "      <td>0.00</td>\n",
       "      <td>1</td>\n",
       "      <td>0</td>\n",
       "    </tr>\n",
       "    <tr>\n",
       "      <th>4</th>\n",
       "      <td>1</td>\n",
       "      <td>PAYMENT</td>\n",
       "      <td>11668.14</td>\n",
       "      <td>C2048537720</td>\n",
       "      <td>41554.00</td>\n",
       "      <td>29885.86</td>\n",
       "      <td>M1230701703</td>\n",
       "      <td>0.00</td>\n",
       "      <td>0.00</td>\n",
       "      <td>0</td>\n",
       "      <td>0</td>\n",
       "    </tr>\n",
       "  </tbody>\n",
       "</table>\n",
       "</div>"
      ],
      "text/plain": [
       "   step      type   amount     nameOrig  oldbalanceOrg  newbalanceOrig  \\\n",
       "0     1   PAYMENT  9839.64  C1231006815      170136.00       160296.36   \n",
       "1     1   PAYMENT  1864.28  C1666544295       21249.00        19384.72   \n",
       "2     1  TRANSFER   181.00  C1305486145         181.00            0.00   \n",
       "3     1  CASH_OUT   181.00   C840083671         181.00            0.00   \n",
       "4     1   PAYMENT 11668.14  C2048537720       41554.00        29885.86   \n",
       "\n",
       "      nameDest  oldbalanceDest  newbalanceDest  isFraud  isFlaggedFraud  \n",
       "0  M1979787155            0.00            0.00        0               0  \n",
       "1  M2044282225            0.00            0.00        0               0  \n",
       "2   C553264065            0.00            0.00        1               0  \n",
       "3    C38997010        21182.00            0.00        1               0  \n",
       "4  M1230701703            0.00            0.00        0               0  "
      ]
     },
     "execution_count": 3,
     "metadata": {},
     "output_type": "execute_result"
    }
   ],
   "source": [
    "df.head()"
   ]
  },
  {
   "cell_type": "markdown",
   "metadata": {},
   "source": [
    "# 3 Limpeza"
   ]
  },
  {
   "cell_type": "markdown",
   "metadata": {},
   "source": [
    "## 3.1 Missing"
   ]
  },
  {
   "cell_type": "code",
   "execution_count": 4,
   "metadata": {},
   "outputs": [
    {
     "data": {
      "text/plain": [
       "step              0\n",
       "type              0\n",
       "amount            0\n",
       "nameOrig          0\n",
       "oldbalanceOrg     0\n",
       "newbalanceOrig    0\n",
       "nameDest          0\n",
       "oldbalanceDest    0\n",
       "newbalanceDest    0\n",
       "isFraud           0\n",
       "isFlaggedFraud    0\n",
       "dtype: int64"
      ]
     },
     "execution_count": 4,
     "metadata": {},
     "output_type": "execute_result"
    }
   ],
   "source": [
    "df.isnull().sum()"
   ]
  },
  {
   "cell_type": "markdown",
   "metadata": {},
   "source": [
    "## 3.2 Duplicados"
   ]
  },
  {
   "cell_type": "code",
   "execution_count": 5,
   "metadata": {},
   "outputs": [
    {
     "data": {
      "text/plain": [
       "0"
      ]
     },
     "execution_count": 5,
     "metadata": {},
     "output_type": "execute_result"
    }
   ],
   "source": [
    "df.duplicated().sum()"
   ]
  },
  {
   "cell_type": "markdown",
   "metadata": {},
   "source": [
    "## 3.3 Unicos"
   ]
  },
  {
   "cell_type": "code",
   "execution_count": 6,
   "metadata": {},
   "outputs": [
    {
     "data": {
      "text/plain": [
       "step                  743\n",
       "type                    5\n",
       "amount            5316900\n",
       "nameOrig          6353307\n",
       "oldbalanceOrg     1845844\n",
       "newbalanceOrig    2682586\n",
       "nameDest          2722362\n",
       "oldbalanceDest    3614697\n",
       "newbalanceDest    3555499\n",
       "isFraud                 2\n",
       "isFlaggedFraud          2\n",
       "dtype: int64"
      ]
     },
     "execution_count": 6,
     "metadata": {},
     "output_type": "execute_result"
    }
   ],
   "source": [
    "df.nunique()"
   ]
  },
  {
   "cell_type": "markdown",
   "metadata": {},
   "source": [
    "## 3.4 Dados categóricos"
   ]
  },
  {
   "cell_type": "code",
   "execution_count": 7,
   "metadata": {},
   "outputs": [],
   "source": [
    "df_categorical = df[['type','isFraud','isFlaggedFraud']]"
   ]
  },
  {
   "cell_type": "code",
   "execution_count": 8,
   "metadata": {},
   "outputs": [
    {
     "data": {
      "image/png": "[encoded data removed]",
      "text/plain": [
       "<Figure size 1080x432 with 1 Axes>"
      ]
     },
     "metadata": {
      "needs_background": "light"
     },
     "output_type": "display_data"
    },
    {
     "data": {
      "image/png": "[encoded data removed]",
      "text/plain": [
       "<Figure size 1080x432 with 1 Axes>"
      ]
     },
     "metadata": {
      "needs_background": "light"
     },
     "output_type": "display_data"
    },
    {
     "data": {
      "image/png": "[encoded data removed]",
      "text/plain": [
       "<Figure size 1080x432 with 1 Axes>"
      ]
     },
     "metadata": {
      "needs_background": "light"
     },
     "output_type": "display_data"
    }
   ],
   "source": [
    "for i in df_categorical.columns:\n",
    "    plt.figure(figsize=(15,6))\n",
    "    sns.countplot(df_categorical[i], data = df_categorical,\n",
    "    palette='hls')\n",
    "    plt.xticks(rotation = 90)\n",
    "    plt.show()\n"
   ]
  },
  {
   "cell_type": "markdown",
   "metadata": {},
   "source": [
    "## 3.5 Dados numericos"
   ]
  },
  {
   "cell_type": "code",
   "execution_count": 9,
   "metadata": {},
   "outputs": [
    {
     "data": {
      "text/plain": [
       "step                int64\n",
       "type               object\n",
       "amount            float64\n",
       "nameOrig           object\n",
       "oldbalanceOrg     float64\n",
       "newbalanceOrig    float64\n",
       "nameDest           object\n",
       "oldbalanceDest    float64\n",
       "newbalanceDest    float64\n",
       "isFraud             int64\n",
       "isFlaggedFraud      int64\n",
       "dtype: object"
      ]
     },
     "execution_count": 9,
     "metadata": {},
     "output_type": "execute_result"
    }
   ],
   "source": [
    "df.dtypes"
   ]
  },
  {
   "cell_type": "code",
   "execution_count": 8,
   "metadata": {},
   "outputs": [],
   "source": [
    "df_numerico = df[['step','amount','oldbalanceOrg','newbalanceOrig', 'oldbalanceDest','newbalanceDest','isFraud','isFlaggedFraud']]"
   ]
  },
  {
   "cell_type": "code",
   "execution_count": 11,
   "metadata": {},
   "outputs": [
    {
     "data": {
      "image/png": "[encoded data removed]",
      "text/plain": [
       "<Figure size 1080x432 with 1 Axes>"
      ]
     },
     "metadata": {
      "needs_background": "light"
     },
     "output_type": "display_data"
    },
    {
     "data": {
      "image/png": "[encoded data removed]",
      "text/plain": [
       "<Figure size 1080x432 with 1 Axes>"
      ]
     },
     "metadata": {
      "needs_background": "light"
     },
     "output_type": "display_data"
    },
    {
     "data": {
      "image/png": "[encoded data removed]",
      "text/plain": [
       "<Figure size 1080x432 with 1 Axes>"
      ]
     },
     "metadata": {
      "needs_background": "light"
     },
     "output_type": "display_data"
    },
    {
     "data": {
      "image/png": "[encoded data removed]",
      "text/plain": [
       "<Figure size 1080x432 with 1 Axes>"
      ]
     },
     "metadata": {
      "needs_background": "light"
     },
     "output_type": "display_data"
    },
    {
     "data": {
      "image/png": "[encoded data removed]",
      "text/plain": [
       "<Figure size 1080x432 with 1 Axes>"
      ]
     },
     "metadata": {
      "needs_background": "light"
     },
     "output_type": "display_data"
    },
    {
     "data": {
      "image/png": "[encoded data removed]",
      "text/plain": [
       "<Figure size 1080x432 with 1 Axes>"
      ]
     },
     "metadata": {
      "needs_background": "light"
     },
     "output_type": "display_data"
    },
    {
     "data": {
      "image/png": "[encoded data removed]",
      "text/plain": [
       "<Figure size 1080x432 with 1 Axes>"
      ]
     },
     "metadata": {
      "needs_background": "light"
     },
     "output_type": "display_data"
    },
    {
     "data": {
      "image/png": "[encoded data removed]",
      "text/plain": [
       "<Figure size 1080x432 with 1 Axes>"
      ]
     },
     "metadata": {
      "needs_background": "light"
     },
     "output_type": "display_data"
    }
   ],
   "source": [
    "for i in df_numerico.columns:\n",
    "    plt.figure(figsize=(15,6))\n",
    "    sns.boxplot(df[i], data = df)\n",
    "    plt.xticks(rotation = 90)\n",
    "    plt.show()\n"
   ]
  },
  {
   "cell_type": "markdown",
   "metadata": {},
   "source": [
    "# 4 Criação de features e Analise de Dados"
   ]
  },
  {
   "cell_type": "code",
   "execution_count": 9,
   "metadata": {},
   "outputs": [
    {
     "data": {
      "text/html": [
       "<div>\n",
       "<style scoped>\n",
       "    .dataframe tbody tr th:only-of-type {\n",
       "        vertical-align: middle;\n",
       "    }\n",
       "\n",
       "    .dataframe tbody tr th {\n",
       "        vertical-align: top;\n",
       "    }\n",
       "\n",
       "    .dataframe thead th {\n",
       "        text-align: right;\n",
       "    }\n",
       "</style>\n",
       "<table border=\"1\" class=\"dataframe\">\n",
       "  <thead>\n",
       "    <tr style=\"text-align: right;\">\n",
       "      <th></th>\n",
       "      <th>step</th>\n",
       "      <th>amount</th>\n",
       "      <th>oldbalanceOrg</th>\n",
       "      <th>newbalanceOrig</th>\n",
       "      <th>oldbalanceDest</th>\n",
       "      <th>newbalanceDest</th>\n",
       "      <th>isFraud</th>\n",
       "      <th>isFlaggedFraud</th>\n",
       "    </tr>\n",
       "  </thead>\n",
       "  <tbody>\n",
       "    <tr>\n",
       "      <th>count</th>\n",
       "      <td>6362620.00</td>\n",
       "      <td>6362620.00</td>\n",
       "      <td>6362620.00</td>\n",
       "      <td>6362620.00</td>\n",
       "      <td>6362620.00</td>\n",
       "      <td>6362620.00</td>\n",
       "      <td>6362620.00</td>\n",
       "      <td>6362620.00</td>\n",
       "    </tr>\n",
       "    <tr>\n",
       "      <th>mean</th>\n",
       "      <td>243.40</td>\n",
       "      <td>179861.90</td>\n",
       "      <td>833883.10</td>\n",
       "      <td>855113.67</td>\n",
       "      <td>1100701.67</td>\n",
       "      <td>1224996.40</td>\n",
       "      <td>0.00</td>\n",
       "      <td>0.00</td>\n",
       "    </tr>\n",
       "    <tr>\n",
       "      <th>std</th>\n",
       "      <td>142.33</td>\n",
       "      <td>603858.23</td>\n",
       "      <td>2888242.67</td>\n",
       "      <td>2924048.50</td>\n",
       "      <td>3399180.11</td>\n",
       "      <td>3674128.94</td>\n",
       "      <td>0.04</td>\n",
       "      <td>0.00</td>\n",
       "    </tr>\n",
       "    <tr>\n",
       "      <th>min</th>\n",
       "      <td>1.00</td>\n",
       "      <td>0.00</td>\n",
       "      <td>0.00</td>\n",
       "      <td>0.00</td>\n",
       "      <td>0.00</td>\n",
       "      <td>0.00</td>\n",
       "      <td>0.00</td>\n",
       "      <td>0.00</td>\n",
       "    </tr>\n",
       "    <tr>\n",
       "      <th>25%</th>\n",
       "      <td>156.00</td>\n",
       "      <td>13389.57</td>\n",
       "      <td>0.00</td>\n",
       "      <td>0.00</td>\n",
       "      <td>0.00</td>\n",
       "      <td>0.00</td>\n",
       "      <td>0.00</td>\n",
       "      <td>0.00</td>\n",
       "    </tr>\n",
       "    <tr>\n",
       "      <th>50%</th>\n",
       "      <td>239.00</td>\n",
       "      <td>74871.94</td>\n",
       "      <td>14208.00</td>\n",
       "      <td>0.00</td>\n",
       "      <td>132705.66</td>\n",
       "      <td>214661.44</td>\n",
       "      <td>0.00</td>\n",
       "      <td>0.00</td>\n",
       "    </tr>\n",
       "    <tr>\n",
       "      <th>75%</th>\n",
       "      <td>335.00</td>\n",
       "      <td>208721.48</td>\n",
       "      <td>107315.18</td>\n",
       "      <td>144258.41</td>\n",
       "      <td>943036.71</td>\n",
       "      <td>1111909.25</td>\n",
       "      <td>0.00</td>\n",
       "      <td>0.00</td>\n",
       "    </tr>\n",
       "    <tr>\n",
       "      <th>max</th>\n",
       "      <td>743.00</td>\n",
       "      <td>92445516.64</td>\n",
       "      <td>59585040.37</td>\n",
       "      <td>49585040.37</td>\n",
       "      <td>356015889.35</td>\n",
       "      <td>356179278.92</td>\n",
       "      <td>1.00</td>\n",
       "      <td>1.00</td>\n",
       "    </tr>\n",
       "  </tbody>\n",
       "</table>\n",
       "</div>"
      ],
      "text/plain": [
       "            step      amount  oldbalanceOrg  newbalanceOrig  oldbalanceDest  \\\n",
       "count 6362620.00  6362620.00     6362620.00      6362620.00      6362620.00   \n",
       "mean      243.40   179861.90      833883.10       855113.67      1100701.67   \n",
       "std       142.33   603858.23     2888242.67      2924048.50      3399180.11   \n",
       "min         1.00        0.00           0.00            0.00            0.00   \n",
       "25%       156.00    13389.57           0.00            0.00            0.00   \n",
       "50%       239.00    74871.94       14208.00            0.00       132705.66   \n",
       "75%       335.00   208721.48      107315.18       144258.41       943036.71   \n",
       "max       743.00 92445516.64    59585040.37     49585040.37    356015889.35   \n",
       "\n",
       "       newbalanceDest    isFraud  isFlaggedFraud  \n",
       "count      6362620.00 6362620.00      6362620.00  \n",
       "mean       1224996.40       0.00            0.00  \n",
       "std        3674128.94       0.04            0.00  \n",
       "min              0.00       0.00            0.00  \n",
       "25%              0.00       0.00            0.00  \n",
       "50%         214661.44       0.00            0.00  \n",
       "75%        1111909.25       0.00            0.00  \n",
       "max      356179278.92       1.00            1.00  "
      ]
     },
     "execution_count": 9,
     "metadata": {},
     "output_type": "execute_result"
    }
   ],
   "source": [
    "df.describe()"
   ]
  },
  {
   "cell_type": "code",
   "execution_count": 10,
   "metadata": {},
   "outputs": [],
   "source": [
    "df_final = df.copy()"
   ]
  },
  {
   "cell_type": "markdown",
   "metadata": {},
   "source": [
    "## 4.1 Variação % balanço conta de origem e de destino"
   ]
  },
  {
   "cell_type": "code",
   "execution_count": 11,
   "metadata": {},
   "outputs": [
    {
     "data": {
      "text/plain": [
       "step                    0\n",
       "type                    0\n",
       "amount                  0\n",
       "nameOrig                0\n",
       "oldbalanceOrg           0\n",
       "newbalanceOrig          0\n",
       "nameDest                0\n",
       "oldbalanceDest          0\n",
       "newbalanceDest          0\n",
       "isFraud                 0\n",
       "isFlaggedFraud          0\n",
       "varOrig           2088985\n",
       "varDest           2317282\n",
       "dtype: int64"
      ]
     },
     "execution_count": 11,
     "metadata": {},
     "output_type": "execute_result"
    }
   ],
   "source": [
    "# Quantos % diminuiu da conta que foi realizado a transferência\n",
    "df_final['varOrig'] = -1 * (df_final['oldbalanceOrg'] - df_final['newbalanceOrig']) / (df_final['oldbalanceOrg'])\n",
    "\n",
    "# Quantos % aumentou da conta que a transferência foi recebida\n",
    "df_final['varDest'] = (df_final['newbalanceDest'] - df_final['oldbalanceDest']) / (df_final['newbalanceDest'])\n",
    "df_final.isnull().sum()"
   ]
  },
  {
   "cell_type": "code",
   "execution_count": null,
   "metadata": {},
   "outputs": [],
   "source": [
    "## Tratando valores de variação NaN ou inf (ocorre quando o denominador for zero no calculo acima)\n",
    "df_final['varOrig'] = df_final['varOrig'].apply(lambda x: 0 if np.isnan(x) else x)\n",
    "df_final['varOrig'] = df_final['varOrig'].apply(lambda x: 1 if np.isinf(x) else x)\n",
    "\n",
    "df_final['varDest'] = df_final['varDest'].apply(lambda x: 0 if np.isnan(x) else x)\n",
    "df_final['varDest'] = df_final['varDest'].apply(lambda x: -1 if np.isinf(x) else x)\n",
    "df_final.isnull().sum()"
   ]
  },
  {
   "cell_type": "code",
   "execution_count": null,
   "metadata": {},
   "outputs": [],
   "source": [
    "df_final.head(10)"
   ]
  },
  {
   "cell_type": "markdown",
   "metadata": {},
   "source": [
    "## 4.2 Balanceamento dados"
   ]
  },
  {
   "cell_type": "code",
   "execution_count": null,
   "metadata": {},
   "outputs": [],
   "source": [
    "sns.catplot(x=\"isFraud\",\n",
    "                data=df_final,\n",
    "                kind=\"count\", height=3.5, aspect=.8)"
   ]
  },
  {
   "cell_type": "code",
   "execution_count": null,
   "metadata": {},
   "outputs": [],
   "source": [
    "df_final.isFraud.value_counts()"
   ]
  },
  {
   "cell_type": "code",
   "execution_count": null,
   "metadata": {},
   "outputs": [],
   "source": [
    "df_final.isFraud.value_counts()[1]/(df_final.isFraud.value_counts()[0]+df_final.isFraud.value_counts()[1])"
   ]
  },
  {
   "cell_type": "markdown",
   "metadata": {},
   "source": [
    "Fraudes representam apenas 1.29% do dataset a base é altamente desbalanceada"
   ]
  },
  {
   "cell_type": "markdown",
   "metadata": {},
   "source": [
    "## 4.3 Analise Bivariada"
   ]
  },
  {
   "cell_type": "code",
   "execution_count": 21,
   "metadata": {},
   "outputs": [],
   "source": [
    "sns.pairplot(df_final)\n",
    "plt.show()"
   ]
  },
  {
   "cell_type": "markdown",
   "metadata": {},
   "source": [
    "## 4.4 Correlação variáveis e target"
   ]
  },
  {
   "cell_type": "code",
   "execution_count": 22,
   "metadata": {},
   "outputs": [
    {
     "data": {
      "text/html": [
       "<div>\n",
       "<style scoped>\n",
       "    .dataframe tbody tr th:only-of-type {\n",
       "        vertical-align: middle;\n",
       "    }\n",
       "\n",
       "    .dataframe tbody tr th {\n",
       "        vertical-align: top;\n",
       "    }\n",
       "\n",
       "    .dataframe thead th {\n",
       "        text-align: right;\n",
       "    }\n",
       "</style>\n",
       "<table border=\"1\" class=\"dataframe\">\n",
       "  <thead>\n",
       "    <tr style=\"text-align: right;\">\n",
       "      <th></th>\n",
       "      <th>step</th>\n",
       "      <th>amount</th>\n",
       "      <th>oldbalanceOrg</th>\n",
       "      <th>newbalanceOrig</th>\n",
       "      <th>oldbalanceDest</th>\n",
       "      <th>newbalanceDest</th>\n",
       "      <th>isFraud</th>\n",
       "      <th>isFlaggedFraud</th>\n",
       "      <th>varOrig</th>\n",
       "      <th>varDest</th>\n",
       "    </tr>\n",
       "  </thead>\n",
       "  <tbody>\n",
       "    <tr>\n",
       "      <th>isFraud</th>\n",
       "      <td>0.03</td>\n",
       "      <td>0.08</td>\n",
       "      <td>0.01</td>\n",
       "      <td>-0.01</td>\n",
       "      <td>-0.01</td>\n",
       "      <td>0.00</td>\n",
       "      <td>1.00</td>\n",
       "      <td>0.04</td>\n",
       "      <td>-0.00</td>\n",
       "      <td>0.00</td>\n",
       "    </tr>\n",
       "    <tr>\n",
       "      <th>amount</th>\n",
       "      <td>0.02</td>\n",
       "      <td>1.00</td>\n",
       "      <td>-0.00</td>\n",
       "      <td>-0.01</td>\n",
       "      <td>0.29</td>\n",
       "      <td>0.46</td>\n",
       "      <td>0.08</td>\n",
       "      <td>0.01</td>\n",
       "      <td>0.00</td>\n",
       "      <td>0.00</td>\n",
       "    </tr>\n",
       "    <tr>\n",
       "      <th>isFlaggedFraud</th>\n",
       "      <td>0.00</td>\n",
       "      <td>0.01</td>\n",
       "      <td>0.00</td>\n",
       "      <td>0.00</td>\n",
       "      <td>-0.00</td>\n",
       "      <td>-0.00</td>\n",
       "      <td>0.04</td>\n",
       "      <td>1.00</td>\n",
       "      <td>-0.00</td>\n",
       "      <td>0.00</td>\n",
       "    </tr>\n",
       "    <tr>\n",
       "      <th>step</th>\n",
       "      <td>1.00</td>\n",
       "      <td>0.02</td>\n",
       "      <td>-0.01</td>\n",
       "      <td>-0.01</td>\n",
       "      <td>0.03</td>\n",
       "      <td>0.03</td>\n",
       "      <td>0.03</td>\n",
       "      <td>0.00</td>\n",
       "      <td>0.00</td>\n",
       "      <td>0.00</td>\n",
       "    </tr>\n",
       "    <tr>\n",
       "      <th>oldbalanceOrg</th>\n",
       "      <td>-0.01</td>\n",
       "      <td>-0.00</td>\n",
       "      <td>1.00</td>\n",
       "      <td>1.00</td>\n",
       "      <td>0.07</td>\n",
       "      <td>0.04</td>\n",
       "      <td>0.01</td>\n",
       "      <td>0.00</td>\n",
       "      <td>-0.01</td>\n",
       "      <td>-0.00</td>\n",
       "    </tr>\n",
       "    <tr>\n",
       "      <th>newbalanceDest</th>\n",
       "      <td>0.03</td>\n",
       "      <td>0.46</td>\n",
       "      <td>0.04</td>\n",
       "      <td>0.04</td>\n",
       "      <td>0.98</td>\n",
       "      <td>1.00</td>\n",
       "      <td>0.00</td>\n",
       "      <td>-0.00</td>\n",
       "      <td>-0.00</td>\n",
       "      <td>0.00</td>\n",
       "    </tr>\n",
       "    <tr>\n",
       "      <th>varDest</th>\n",
       "      <td>0.00</td>\n",
       "      <td>0.00</td>\n",
       "      <td>-0.00</td>\n",
       "      <td>-0.00</td>\n",
       "      <td>0.00</td>\n",
       "      <td>0.00</td>\n",
       "      <td>0.00</td>\n",
       "      <td>0.00</td>\n",
       "      <td>0.00</td>\n",
       "      <td>1.00</td>\n",
       "    </tr>\n",
       "    <tr>\n",
       "      <th>varOrig</th>\n",
       "      <td>0.00</td>\n",
       "      <td>0.00</td>\n",
       "      <td>-0.01</td>\n",
       "      <td>-0.00</td>\n",
       "      <td>-0.00</td>\n",
       "      <td>-0.00</td>\n",
       "      <td>-0.00</td>\n",
       "      <td>-0.00</td>\n",
       "      <td>1.00</td>\n",
       "      <td>0.00</td>\n",
       "    </tr>\n",
       "    <tr>\n",
       "      <th>oldbalanceDest</th>\n",
       "      <td>0.03</td>\n",
       "      <td>0.29</td>\n",
       "      <td>0.07</td>\n",
       "      <td>0.07</td>\n",
       "      <td>1.00</td>\n",
       "      <td>0.98</td>\n",
       "      <td>-0.01</td>\n",
       "      <td>-0.00</td>\n",
       "      <td>-0.00</td>\n",
       "      <td>0.00</td>\n",
       "    </tr>\n",
       "    <tr>\n",
       "      <th>newbalanceOrig</th>\n",
       "      <td>-0.01</td>\n",
       "      <td>-0.01</td>\n",
       "      <td>1.00</td>\n",
       "      <td>1.00</td>\n",
       "      <td>0.07</td>\n",
       "      <td>0.04</td>\n",
       "      <td>-0.01</td>\n",
       "      <td>0.00</td>\n",
       "      <td>-0.00</td>\n",
       "      <td>-0.00</td>\n",
       "    </tr>\n",
       "  </tbody>\n",
       "</table>\n",
       "</div>"
      ],
      "text/plain": [
       "                step  amount  oldbalanceOrg  newbalanceOrig  oldbalanceDest  \\\n",
       "isFraud         0.03    0.08           0.01           -0.01           -0.01   \n",
       "amount          0.02    1.00          -0.00           -0.01            0.29   \n",
       "isFlaggedFraud  0.00    0.01           0.00            0.00           -0.00   \n",
       "step            1.00    0.02          -0.01           -0.01            0.03   \n",
       "oldbalanceOrg  -0.01   -0.00           1.00            1.00            0.07   \n",
       "newbalanceDest  0.03    0.46           0.04            0.04            0.98   \n",
       "varDest         0.00    0.00          -0.00           -0.00            0.00   \n",
       "varOrig         0.00    0.00          -0.01           -0.00           -0.00   \n",
       "oldbalanceDest  0.03    0.29           0.07            0.07            1.00   \n",
       "newbalanceOrig -0.01   -0.01           1.00            1.00            0.07   \n",
       "\n",
       "                newbalanceDest  isFraud  isFlaggedFraud  varOrig  varDest  \n",
       "isFraud                   0.00     1.00            0.04    -0.00     0.00  \n",
       "amount                    0.46     0.08            0.01     0.00     0.00  \n",
       "isFlaggedFraud           -0.00     0.04            1.00    -0.00     0.00  \n",
       "step                      0.03     0.03            0.00     0.00     0.00  \n",
       "oldbalanceOrg             0.04     0.01            0.00    -0.01    -0.00  \n",
       "newbalanceDest            1.00     0.00           -0.00    -0.00     0.00  \n",
       "varDest                   0.00     0.00            0.00     0.00     1.00  \n",
       "varOrig                  -0.00    -0.00           -0.00     1.00     0.00  \n",
       "oldbalanceDest            0.98    -0.01           -0.00    -0.00     0.00  \n",
       "newbalanceOrig            0.04    -0.01            0.00    -0.00    -0.00  "
      ]
     },
     "execution_count": 22,
     "metadata": {},
     "output_type": "execute_result"
    }
   ],
   "source": [
    "df_final.corr().sort_values(by = 'isFraud', ascending = False)"
   ]
  },
  {
   "cell_type": "code",
   "execution_count": 23,
   "metadata": {},
   "outputs": [
    {
     "data": {
      "image/png": "[encoded data removed]",
      "text/plain": [
       "<Figure size 1080x1080 with 2 Axes>"
      ]
     },
     "metadata": {
      "needs_background": "light"
     },
     "output_type": "display_data"
    }
   ],
   "source": [
    "plt.figure(figsize=(15,15))\n",
    "cmap = sns.diverging_palette(250, 10, s=80, l=55, n=9, as_cmap=True)\n",
    "sns.heatmap(df_final.corr(),annot=True, cmap=cmap, center=0)\n",
    "plt.show()\n"
   ]
  },
  {
   "cell_type": "markdown",
   "metadata": {},
   "source": [
    "## 4.5 OneHot Encoder\n",
    "\n",
    "Iremos aplicar onehotEncoder em vez do labelEnconder na variável categorica 'Type' uma vez que é uma variável categórica que possui apenas 5 valores unicos e não possui ordem."
   ]
  },
  {
   "cell_type": "code",
   "execution_count": 27,
   "metadata": {},
   "outputs": [],
   "source": [
    "from sklearn.preprocessing import OneHotEncoder\n",
    "\n",
    "# creating instance of one-hot-encoder\n",
    "enc = OneHotEncoder()\n",
    "X = enc.fit_transform(df_final.type.values.reshape(-1,1)).toarray()\n",
    "\n",
    "#criando df do onehot\n",
    "df_onehotenc = pd.DataFrame(X, columns = ['type_' + str(int(i)) for i in range(X.shape[1])])\n",
    "\n",
    "#concatenando ao df original e removendo a coluna residual\n",
    "df_final = pd.concat([df_final,df_onehotenc], axis = 1)\n",
    "df_final = df_final.drop(['type'], axis = 1)"
   ]
  },
  {
   "cell_type": "code",
   "execution_count": 28,
   "metadata": {},
   "outputs": [
    {
     "data": {
      "text/html": [
       "<div>\n",
       "<style scoped>\n",
       "    .dataframe tbody tr th:only-of-type {\n",
       "        vertical-align: middle;\n",
       "    }\n",
       "\n",
       "    .dataframe tbody tr th {\n",
       "        vertical-align: top;\n",
       "    }\n",
       "\n",
       "    .dataframe thead th {\n",
       "        text-align: right;\n",
       "    }\n",
       "</style>\n",
       "<table border=\"1\" class=\"dataframe\">\n",
       "  <thead>\n",
       "    <tr style=\"text-align: right;\">\n",
       "      <th></th>\n",
       "      <th>step</th>\n",
       "      <th>amount</th>\n",
       "      <th>nameOrig</th>\n",
       "      <th>oldbalanceOrg</th>\n",
       "      <th>newbalanceOrig</th>\n",
       "      <th>nameDest</th>\n",
       "      <th>oldbalanceDest</th>\n",
       "      <th>newbalanceDest</th>\n",
       "      <th>isFraud</th>\n",
       "      <th>isFlaggedFraud</th>\n",
       "      <th>varOrig</th>\n",
       "      <th>varDest</th>\n",
       "      <th>type_0</th>\n",
       "      <th>type_1</th>\n",
       "      <th>type_2</th>\n",
       "      <th>type_3</th>\n",
       "      <th>type_4</th>\n",
       "    </tr>\n",
       "  </thead>\n",
       "  <tbody>\n",
       "    <tr>\n",
       "      <th>0</th>\n",
       "      <td>1</td>\n",
       "      <td>9839.64</td>\n",
       "      <td>C1231006815</td>\n",
       "      <td>170136.00</td>\n",
       "      <td>160296.36</td>\n",
       "      <td>M1979787155</td>\n",
       "      <td>0.00</td>\n",
       "      <td>0.00</td>\n",
       "      <td>0</td>\n",
       "      <td>0</td>\n",
       "      <td>-0.06</td>\n",
       "      <td>0.00</td>\n",
       "      <td>0.00</td>\n",
       "      <td>0.00</td>\n",
       "      <td>0.00</td>\n",
       "      <td>1.00</td>\n",
       "      <td>0.00</td>\n",
       "    </tr>\n",
       "    <tr>\n",
       "      <th>1</th>\n",
       "      <td>1</td>\n",
       "      <td>1864.28</td>\n",
       "      <td>C1666544295</td>\n",
       "      <td>21249.00</td>\n",
       "      <td>19384.72</td>\n",
       "      <td>M2044282225</td>\n",
       "      <td>0.00</td>\n",
       "      <td>0.00</td>\n",
       "      <td>0</td>\n",
       "      <td>0</td>\n",
       "      <td>-0.09</td>\n",
       "      <td>0.00</td>\n",
       "      <td>0.00</td>\n",
       "      <td>0.00</td>\n",
       "      <td>0.00</td>\n",
       "      <td>1.00</td>\n",
       "      <td>0.00</td>\n",
       "    </tr>\n",
       "    <tr>\n",
       "      <th>2</th>\n",
       "      <td>1</td>\n",
       "      <td>181.00</td>\n",
       "      <td>C1305486145</td>\n",
       "      <td>181.00</td>\n",
       "      <td>0.00</td>\n",
       "      <td>C553264065</td>\n",
       "      <td>0.00</td>\n",
       "      <td>0.00</td>\n",
       "      <td>1</td>\n",
       "      <td>0</td>\n",
       "      <td>-1.00</td>\n",
       "      <td>0.00</td>\n",
       "      <td>0.00</td>\n",
       "      <td>0.00</td>\n",
       "      <td>0.00</td>\n",
       "      <td>0.00</td>\n",
       "      <td>1.00</td>\n",
       "    </tr>\n",
       "    <tr>\n",
       "      <th>3</th>\n",
       "      <td>1</td>\n",
       "      <td>181.00</td>\n",
       "      <td>C840083671</td>\n",
       "      <td>181.00</td>\n",
       "      <td>0.00</td>\n",
       "      <td>C38997010</td>\n",
       "      <td>21182.00</td>\n",
       "      <td>0.00</td>\n",
       "      <td>1</td>\n",
       "      <td>0</td>\n",
       "      <td>-1.00</td>\n",
       "      <td>-1.00</td>\n",
       "      <td>0.00</td>\n",
       "      <td>1.00</td>\n",
       "      <td>0.00</td>\n",
       "      <td>0.00</td>\n",
       "      <td>0.00</td>\n",
       "    </tr>\n",
       "    <tr>\n",
       "      <th>4</th>\n",
       "      <td>1</td>\n",
       "      <td>11668.14</td>\n",
       "      <td>C2048537720</td>\n",
       "      <td>41554.00</td>\n",
       "      <td>29885.86</td>\n",
       "      <td>M1230701703</td>\n",
       "      <td>0.00</td>\n",
       "      <td>0.00</td>\n",
       "      <td>0</td>\n",
       "      <td>0</td>\n",
       "      <td>-0.28</td>\n",
       "      <td>0.00</td>\n",
       "      <td>0.00</td>\n",
       "      <td>0.00</td>\n",
       "      <td>0.00</td>\n",
       "      <td>1.00</td>\n",
       "      <td>0.00</td>\n",
       "    </tr>\n",
       "  </tbody>\n",
       "</table>\n",
       "</div>"
      ],
      "text/plain": [
       "   step   amount     nameOrig  oldbalanceOrg  newbalanceOrig     nameDest  \\\n",
       "0     1  9839.64  C1231006815      170136.00       160296.36  M1979787155   \n",
       "1     1  1864.28  C1666544295       21249.00        19384.72  M2044282225   \n",
       "2     1   181.00  C1305486145         181.00            0.00   C553264065   \n",
       "3     1   181.00   C840083671         181.00            0.00    C38997010   \n",
       "4     1 11668.14  C2048537720       41554.00        29885.86  M1230701703   \n",
       "\n",
       "   oldbalanceDest  newbalanceDest  isFraud  isFlaggedFraud  varOrig  varDest  \\\n",
       "0            0.00            0.00        0               0    -0.06     0.00   \n",
       "1            0.00            0.00        0               0    -0.09     0.00   \n",
       "2            0.00            0.00        1               0    -1.00     0.00   \n",
       "3        21182.00            0.00        1               0    -1.00    -1.00   \n",
       "4            0.00            0.00        0               0    -0.28     0.00   \n",
       "\n",
       "   type_0  type_1  type_2  type_3  type_4  \n",
       "0    0.00    0.00    0.00    1.00    0.00  \n",
       "1    0.00    0.00    0.00    1.00    0.00  \n",
       "2    0.00    0.00    0.00    0.00    1.00  \n",
       "3    0.00    1.00    0.00    0.00    0.00  \n",
       "4    0.00    0.00    0.00    1.00    0.00  "
      ]
     },
     "execution_count": 28,
     "metadata": {},
     "output_type": "execute_result"
    }
   ],
   "source": [
    "df_final.head()"
   ]
  },
  {
   "cell_type": "markdown",
   "metadata": {},
   "source": [
    "## 4.6 Normalização colunas numéricas não categóricas"
   ]
  },
  {
   "cell_type": "code",
   "execution_count": 29,
   "metadata": {},
   "outputs": [
    {
     "data": {
      "text/plain": [
       "step                int64\n",
       "amount            float64\n",
       "nameOrig           object\n",
       "oldbalanceOrg     float64\n",
       "newbalanceOrig    float64\n",
       "nameDest           object\n",
       "oldbalanceDest    float64\n",
       "newbalanceDest    float64\n",
       "isFraud             int64\n",
       "isFlaggedFraud      int64\n",
       "varOrig           float64\n",
       "varDest           float64\n",
       "type_0            float64\n",
       "type_1            float64\n",
       "type_2            float64\n",
       "type_3            float64\n",
       "type_4            float64\n",
       "dtype: object"
      ]
     },
     "execution_count": 29,
     "metadata": {},
     "output_type": "execute_result"
    }
   ],
   "source": [
    "df_final.dtypes"
   ]
  },
  {
   "cell_type": "code",
   "execution_count": 30,
   "metadata": {},
   "outputs": [],
   "source": [
    "df_numerico_para_normalizar = df_final[['step','amount','oldbalanceOrg','newbalanceOrig', 'oldbalanceDest','newbalanceDest']]"
   ]
  },
  {
   "cell_type": "code",
   "execution_count": 31,
   "metadata": {},
   "outputs": [
    {
     "data": {
      "image/png": "[encoded data removed]",
      "text/plain": [
       "<Figure size 1440x720 with 1 Axes>"
      ]
     },
     "metadata": {
      "needs_background": "light"
     },
     "output_type": "display_data"
    }
   ],
   "source": [
    "plt.figure(figsize=(20,10))\n",
    "sns.boxenplot(data = df_numerico_para_normalizar,palette = 'hls')\n",
    "plt.xticks(rotation=90)\n",
    "plt.show()"
   ]
  },
  {
   "cell_type": "code",
   "execution_count": 32,
   "metadata": {},
   "outputs": [
    {
     "data": {
      "text/html": [
       "<div>\n",
       "<style scoped>\n",
       "    .dataframe tbody tr th:only-of-type {\n",
       "        vertical-align: middle;\n",
       "    }\n",
       "\n",
       "    .dataframe tbody tr th {\n",
       "        vertical-align: top;\n",
       "    }\n",
       "\n",
       "    .dataframe thead th {\n",
       "        text-align: right;\n",
       "    }\n",
       "</style>\n",
       "<table border=\"1\" class=\"dataframe\">\n",
       "  <thead>\n",
       "    <tr style=\"text-align: right;\">\n",
       "      <th></th>\n",
       "      <th>count</th>\n",
       "      <th>mean</th>\n",
       "      <th>std</th>\n",
       "      <th>min</th>\n",
       "      <th>25%</th>\n",
       "      <th>50%</th>\n",
       "      <th>75%</th>\n",
       "      <th>max</th>\n",
       "    </tr>\n",
       "  </thead>\n",
       "  <tbody>\n",
       "    <tr>\n",
       "      <th>step</th>\n",
       "      <td>6362620.00</td>\n",
       "      <td>0.00</td>\n",
       "      <td>1.00</td>\n",
       "      <td>-1.70</td>\n",
       "      <td>-0.61</td>\n",
       "      <td>-0.03</td>\n",
       "      <td>0.64</td>\n",
       "      <td>3.51</td>\n",
       "    </tr>\n",
       "    <tr>\n",
       "      <th>amount</th>\n",
       "      <td>6362620.00</td>\n",
       "      <td>0.00</td>\n",
       "      <td>1.00</td>\n",
       "      <td>-0.30</td>\n",
       "      <td>-0.28</td>\n",
       "      <td>-0.17</td>\n",
       "      <td>0.05</td>\n",
       "      <td>152.79</td>\n",
       "    </tr>\n",
       "    <tr>\n",
       "      <th>oldbalanceOrg</th>\n",
       "      <td>6362620.00</td>\n",
       "      <td>0.00</td>\n",
       "      <td>1.00</td>\n",
       "      <td>-0.29</td>\n",
       "      <td>-0.29</td>\n",
       "      <td>-0.28</td>\n",
       "      <td>-0.25</td>\n",
       "      <td>20.34</td>\n",
       "    </tr>\n",
       "    <tr>\n",
       "      <th>newbalanceOrig</th>\n",
       "      <td>6362620.00</td>\n",
       "      <td>0.00</td>\n",
       "      <td>1.00</td>\n",
       "      <td>-0.29</td>\n",
       "      <td>-0.29</td>\n",
       "      <td>-0.29</td>\n",
       "      <td>-0.24</td>\n",
       "      <td>16.67</td>\n",
       "    </tr>\n",
       "    <tr>\n",
       "      <th>oldbalanceDest</th>\n",
       "      <td>6362620.00</td>\n",
       "      <td>-0.00</td>\n",
       "      <td>1.00</td>\n",
       "      <td>-0.32</td>\n",
       "      <td>-0.32</td>\n",
       "      <td>-0.28</td>\n",
       "      <td>-0.05</td>\n",
       "      <td>104.41</td>\n",
       "    </tr>\n",
       "    <tr>\n",
       "      <th>newbalanceDest</th>\n",
       "      <td>6362620.00</td>\n",
       "      <td>-0.00</td>\n",
       "      <td>1.00</td>\n",
       "      <td>-0.33</td>\n",
       "      <td>-0.33</td>\n",
       "      <td>-0.27</td>\n",
       "      <td>-0.03</td>\n",
       "      <td>96.61</td>\n",
       "    </tr>\n",
       "  </tbody>\n",
       "</table>\n",
       "</div>"
      ],
      "text/plain": [
       "                    count  mean  std   min   25%   50%   75%    max\n",
       "step           6362620.00  0.00 1.00 -1.70 -0.61 -0.03  0.64   3.51\n",
       "amount         6362620.00  0.00 1.00 -0.30 -0.28 -0.17  0.05 152.79\n",
       "oldbalanceOrg  6362620.00  0.00 1.00 -0.29 -0.29 -0.28 -0.25  20.34\n",
       "newbalanceOrig 6362620.00  0.00 1.00 -0.29 -0.29 -0.29 -0.24  16.67\n",
       "oldbalanceDest 6362620.00 -0.00 1.00 -0.32 -0.32 -0.28 -0.05 104.41\n",
       "newbalanceDest 6362620.00 -0.00 1.00 -0.33 -0.33 -0.27 -0.03  96.61"
      ]
     },
     "execution_count": 32,
     "metadata": {},
     "output_type": "execute_result"
    }
   ],
   "source": [
    "from sklearn.preprocessing import StandardScaler\n",
    "\n",
    "col_names = list(df_numerico_para_normalizar.columns)\n",
    "s_scaler = StandardScaler()\n",
    "df_num_norm = s_scaler.fit_transform(df_numerico_para_normalizar)\n",
    "df_num_norm = pd.DataFrame(df_num_norm, columns=col_names)\n",
    "df_num_norm.describe().T"
   ]
  },
  {
   "cell_type": "code",
   "execution_count": 33,
   "metadata": {},
   "outputs": [
    {
     "data": {
      "image/png": "[encoded data removed]",
      "text/plain": [
       "<Figure size 1440x720 with 1 Axes>"
      ]
     },
     "metadata": {
      "needs_background": "light"
     },
     "output_type": "display_data"
    }
   ],
   "source": [
    "plt.figure(figsize=(20,10))\n",
    "sns.boxenplot(data = df_num_norm,palette = 'hls')\n",
    "plt.xticks(rotation=90)\n",
    "plt.show()"
   ]
  },
  {
   "cell_type": "code",
   "execution_count": 34,
   "metadata": {},
   "outputs": [],
   "source": [
    "## Substituindo os valores normalizados\n",
    "df_final_norm = df_num_norm.copy()\n",
    "\n",
    "#Concatenando os labels e os onehotencoding e as features novas\n",
    "df_final_norm = pd.concat([df_final_norm,df_final[['type_0','type_1','type_2','type_3','type_4','varOrig','varDest','isFraud']]], axis = 1)\n"
   ]
  },
  {
   "cell_type": "code",
   "execution_count": 35,
   "metadata": {},
   "outputs": [
    {
     "data": {
      "text/html": [
       "<div>\n",
       "<style scoped>\n",
       "    .dataframe tbody tr th:only-of-type {\n",
       "        vertical-align: middle;\n",
       "    }\n",
       "\n",
       "    .dataframe tbody tr th {\n",
       "        vertical-align: top;\n",
       "    }\n",
       "\n",
       "    .dataframe thead th {\n",
       "        text-align: right;\n",
       "    }\n",
       "</style>\n",
       "<table border=\"1\" class=\"dataframe\">\n",
       "  <thead>\n",
       "    <tr style=\"text-align: right;\">\n",
       "      <th></th>\n",
       "      <th>step</th>\n",
       "      <th>amount</th>\n",
       "      <th>oldbalanceOrg</th>\n",
       "      <th>newbalanceOrig</th>\n",
       "      <th>oldbalanceDest</th>\n",
       "      <th>newbalanceDest</th>\n",
       "      <th>type_0</th>\n",
       "      <th>type_1</th>\n",
       "      <th>type_2</th>\n",
       "      <th>type_3</th>\n",
       "      <th>type_4</th>\n",
       "      <th>varOrig</th>\n",
       "      <th>varDest</th>\n",
       "      <th>isFraud</th>\n",
       "    </tr>\n",
       "  </thead>\n",
       "  <tbody>\n",
       "    <tr>\n",
       "      <th>0</th>\n",
       "      <td>-1.70</td>\n",
       "      <td>-0.28</td>\n",
       "      <td>-0.23</td>\n",
       "      <td>-0.24</td>\n",
       "      <td>-0.32</td>\n",
       "      <td>-0.33</td>\n",
       "      <td>0.00</td>\n",
       "      <td>0.00</td>\n",
       "      <td>0.00</td>\n",
       "      <td>1.00</td>\n",
       "      <td>0.00</td>\n",
       "      <td>-0.06</td>\n",
       "      <td>0.00</td>\n",
       "      <td>0</td>\n",
       "    </tr>\n",
       "    <tr>\n",
       "      <th>1</th>\n",
       "      <td>-1.70</td>\n",
       "      <td>-0.29</td>\n",
       "      <td>-0.28</td>\n",
       "      <td>-0.29</td>\n",
       "      <td>-0.32</td>\n",
       "      <td>-0.33</td>\n",
       "      <td>0.00</td>\n",
       "      <td>0.00</td>\n",
       "      <td>0.00</td>\n",
       "      <td>1.00</td>\n",
       "      <td>0.00</td>\n",
       "      <td>-0.09</td>\n",
       "      <td>0.00</td>\n",
       "      <td>0</td>\n",
       "    </tr>\n",
       "    <tr>\n",
       "      <th>2</th>\n",
       "      <td>-1.70</td>\n",
       "      <td>-0.30</td>\n",
       "      <td>-0.29</td>\n",
       "      <td>-0.29</td>\n",
       "      <td>-0.32</td>\n",
       "      <td>-0.33</td>\n",
       "      <td>0.00</td>\n",
       "      <td>0.00</td>\n",
       "      <td>0.00</td>\n",
       "      <td>0.00</td>\n",
       "      <td>1.00</td>\n",
       "      <td>-1.00</td>\n",
       "      <td>0.00</td>\n",
       "      <td>1</td>\n",
       "    </tr>\n",
       "    <tr>\n",
       "      <th>3</th>\n",
       "      <td>-1.70</td>\n",
       "      <td>-0.30</td>\n",
       "      <td>-0.29</td>\n",
       "      <td>-0.29</td>\n",
       "      <td>-0.32</td>\n",
       "      <td>-0.33</td>\n",
       "      <td>0.00</td>\n",
       "      <td>1.00</td>\n",
       "      <td>0.00</td>\n",
       "      <td>0.00</td>\n",
       "      <td>0.00</td>\n",
       "      <td>-1.00</td>\n",
       "      <td>-1.00</td>\n",
       "      <td>1</td>\n",
       "    </tr>\n",
       "    <tr>\n",
       "      <th>4</th>\n",
       "      <td>-1.70</td>\n",
       "      <td>-0.28</td>\n",
       "      <td>-0.27</td>\n",
       "      <td>-0.28</td>\n",
       "      <td>-0.32</td>\n",
       "      <td>-0.33</td>\n",
       "      <td>0.00</td>\n",
       "      <td>0.00</td>\n",
       "      <td>0.00</td>\n",
       "      <td>1.00</td>\n",
       "      <td>0.00</td>\n",
       "      <td>-0.28</td>\n",
       "      <td>0.00</td>\n",
       "      <td>0</td>\n",
       "    </tr>\n",
       "    <tr>\n",
       "      <th>5</th>\n",
       "      <td>-1.70</td>\n",
       "      <td>-0.28</td>\n",
       "      <td>-0.27</td>\n",
       "      <td>-0.28</td>\n",
       "      <td>-0.32</td>\n",
       "      <td>-0.33</td>\n",
       "      <td>0.00</td>\n",
       "      <td>0.00</td>\n",
       "      <td>0.00</td>\n",
       "      <td>1.00</td>\n",
       "      <td>0.00</td>\n",
       "      <td>-0.15</td>\n",
       "      <td>0.00</td>\n",
       "      <td>0</td>\n",
       "    </tr>\n",
       "    <tr>\n",
       "      <th>6</th>\n",
       "      <td>-1.70</td>\n",
       "      <td>-0.29</td>\n",
       "      <td>-0.23</td>\n",
       "      <td>-0.23</td>\n",
       "      <td>-0.32</td>\n",
       "      <td>-0.33</td>\n",
       "      <td>0.00</td>\n",
       "      <td>0.00</td>\n",
       "      <td>0.00</td>\n",
       "      <td>1.00</td>\n",
       "      <td>0.00</td>\n",
       "      <td>-0.04</td>\n",
       "      <td>0.00</td>\n",
       "      <td>0</td>\n",
       "    </tr>\n",
       "    <tr>\n",
       "      <th>7</th>\n",
       "      <td>-1.70</td>\n",
       "      <td>-0.28</td>\n",
       "      <td>-0.23</td>\n",
       "      <td>-0.23</td>\n",
       "      <td>-0.32</td>\n",
       "      <td>-0.33</td>\n",
       "      <td>0.00</td>\n",
       "      <td>0.00</td>\n",
       "      <td>0.00</td>\n",
       "      <td>1.00</td>\n",
       "      <td>0.00</td>\n",
       "      <td>-0.04</td>\n",
       "      <td>0.00</td>\n",
       "      <td>0</td>\n",
       "    </tr>\n",
       "    <tr>\n",
       "      <th>8</th>\n",
       "      <td>-1.70</td>\n",
       "      <td>-0.29</td>\n",
       "      <td>-0.29</td>\n",
       "      <td>-0.29</td>\n",
       "      <td>-0.32</td>\n",
       "      <td>-0.33</td>\n",
       "      <td>0.00</td>\n",
       "      <td>0.00</td>\n",
       "      <td>0.00</td>\n",
       "      <td>1.00</td>\n",
       "      <td>0.00</td>\n",
       "      <td>-1.00</td>\n",
       "      <td>0.00</td>\n",
       "      <td>0</td>\n",
       "    </tr>\n",
       "    <tr>\n",
       "      <th>9</th>\n",
       "      <td>-1.70</td>\n",
       "      <td>-0.29</td>\n",
       "      <td>-0.27</td>\n",
       "      <td>-0.28</td>\n",
       "      <td>-0.31</td>\n",
       "      <td>-0.32</td>\n",
       "      <td>0.00</td>\n",
       "      <td>0.00</td>\n",
       "      <td>1.00</td>\n",
       "      <td>0.00</td>\n",
       "      <td>0.00</td>\n",
       "      <td>-0.13</td>\n",
       "      <td>-0.04</td>\n",
       "      <td>0</td>\n",
       "    </tr>\n",
       "  </tbody>\n",
       "</table>\n",
       "</div>"
      ],
      "text/plain": [
       "   step  amount  oldbalanceOrg  newbalanceOrig  oldbalanceDest  \\\n",
       "0 -1.70   -0.28          -0.23           -0.24           -0.32   \n",
       "1 -1.70   -0.29          -0.28           -0.29           -0.32   \n",
       "2 -1.70   -0.30          -0.29           -0.29           -0.32   \n",
       "3 -1.70   -0.30          -0.29           -0.29           -0.32   \n",
       "4 -1.70   -0.28          -0.27           -0.28           -0.32   \n",
       "5 -1.70   -0.28          -0.27           -0.28           -0.32   \n",
       "6 -1.70   -0.29          -0.23           -0.23           -0.32   \n",
       "7 -1.70   -0.28          -0.23           -0.23           -0.32   \n",
       "8 -1.70   -0.29          -0.29           -0.29           -0.32   \n",
       "9 -1.70   -0.29          -0.27           -0.28           -0.31   \n",
       "\n",
       "   newbalanceDest  type_0  type_1  type_2  type_3  type_4  varOrig  varDest  \\\n",
       "0           -0.33    0.00    0.00    0.00    1.00    0.00    -0.06     0.00   \n",
       "1           -0.33    0.00    0.00    0.00    1.00    0.00    -0.09     0.00   \n",
       "2           -0.33    0.00    0.00    0.00    0.00    1.00    -1.00     0.00   \n",
       "3           -0.33    0.00    1.00    0.00    0.00    0.00    -1.00    -1.00   \n",
       "4           -0.33    0.00    0.00    0.00    1.00    0.00    -0.28     0.00   \n",
       "5           -0.33    0.00    0.00    0.00    1.00    0.00    -0.15     0.00   \n",
       "6           -0.33    0.00    0.00    0.00    1.00    0.00    -0.04     0.00   \n",
       "7           -0.33    0.00    0.00    0.00    1.00    0.00    -0.04     0.00   \n",
       "8           -0.33    0.00    0.00    0.00    1.00    0.00    -1.00     0.00   \n",
       "9           -0.32    0.00    0.00    1.00    0.00    0.00    -0.13    -0.04   \n",
       "\n",
       "   isFraud  \n",
       "0        0  \n",
       "1        0  \n",
       "2        1  \n",
       "3        1  \n",
       "4        0  \n",
       "5        0  \n",
       "6        0  \n",
       "7        0  \n",
       "8        0  \n",
       "9        0  "
      ]
     },
     "execution_count": 35,
     "metadata": {},
     "output_type": "execute_result"
    }
   ],
   "source": [
    "df_final_norm.head(10)"
   ]
  },
  {
   "cell_type": "markdown",
   "metadata": {},
   "source": [
    "# 5 Seleção do modelo e fator de balanceamento."
   ]
  },
  {
   "cell_type": "code",
   "execution_count": 76,
   "metadata": {},
   "outputs": [],
   "source": [
    "from sklearn.model_selection import train_test_split\n",
    "from sklearn.pipeline import Pipeline\n",
    "from sklearn.linear_model import LogisticRegression\n",
    "from sklearn.tree import DecisionTreeClassifier\n",
    "from sklearn.ensemble import RandomForestClassifier\n",
    "from sklearn.svm import SVC\n",
    "from sklearn.svm import LinearSVC\n",
    "from sklearn.model_selection import GridSearchCV\n",
    "from sklearn.model_selection import cross_val_score\n",
    "from sklearn.metrics import precision_score, recall_score, confusion_matrix, classification_report\n",
    "from sklearn import metrics\n",
    "from sklearn.metrics import roc_curve, auc, roc_auc_score\n"
   ]
  },
  {
   "cell_type": "markdown",
   "metadata": {},
   "source": [
    "## 5.1 Amostragem dos dados\n",
    "minority = 20%  \n",
    "majority = 80%  \n",
    "\n",
    "fator = 20/80 = 0.25  "
   ]
  },
  {
   "cell_type": "code",
   "execution_count": 36,
   "metadata": {},
   "outputs": [
    {
     "data": {
      "text/plain": [
       "0    32852\n",
       "1     8213\n",
       "Name: isFraud, dtype: int64"
      ]
     },
     "execution_count": 36,
     "metadata": {},
     "output_type": "execute_result"
    }
   ],
   "source": [
    "#Definição dos dados\n",
    "X = df_final_norm.drop([\"isFraud\"],axis=1)\n",
    "y = df_final_norm[\"isFraud\"]\n",
    "        \n",
    "#Aplicando balanceamento    \n",
    "nr = NearMiss(sampling_strategy = 0.25)\n",
    "X, y = nr.fit_resample(X, y)\n",
    "\n",
    "y.value_counts()"
   ]
  },
  {
   "cell_type": "markdown",
   "metadata": {},
   "source": [
    "## 5.2 Separação da amostra para validação ( Amostragem Inicial )"
   ]
  },
  {
   "cell_type": "code",
   "execution_count": 100,
   "metadata": {},
   "outputs": [],
   "source": [
    "X_valid = X\n",
    "y_valid = y"
   ]
  },
  {
   "cell_type": "markdown",
   "metadata": {},
   "source": [
    "## 5.3 Seleção do modelo"
   ]
  },
  {
   "cell_type": "code",
   "execution_count": 49,
   "metadata": {},
   "outputs": [
    {
     "name": "stdout",
     "output_type": "stream",
     "text": [
      "1 0.42\n"
     ]
    },
    {
     "name": "stderr",
     "output_type": "stream",
     "text": [
      "100%|██████████████████████████████████████████████████████████████████████████████████| 29/29 [02:21<00:00,  4.89s/it]\n"
     ]
    },
    {
     "name": "stdout",
     "output_type": "stream",
     "text": [
      "1 0.48333333333333334\n"
     ]
    },
    {
     "name": "stderr",
     "output_type": "stream",
     "text": [
      "100%|██████████████████████████████████████████████████████████████████████████████████| 29/29 [01:34<00:00,  3.26s/it]\n"
     ]
    },
    {
     "name": "stdout",
     "output_type": "stream",
     "text": [
      "1 0.5466666666666666\n"
     ]
    },
    {
     "name": "stderr",
     "output_type": "stream",
     "text": [
      "100%|██████████████████████████████████████████████████████████████████████████████████| 29/29 [01:17<00:00,  2.68s/it]\n"
     ]
    },
    {
     "name": "stdout",
     "output_type": "stream",
     "text": [
      "1 0.61\n"
     ]
    },
    {
     "name": "stderr",
     "output_type": "stream",
     "text": [
      "100%|██████████████████████████████████████████████████████████████████████████████████| 29/29 [01:03<00:00,  2.19s/it]\n"
     ]
    },
    {
     "name": "stdout",
     "output_type": "stream",
     "text": [
      "1 0.6733333333333333\n"
     ]
    },
    {
     "name": "stderr",
     "output_type": "stream",
     "text": [
      "100%|██████████████████████████████████████████████████████████████████████████████████| 29/29 [00:53<00:00,  1.84s/it]\n"
     ]
    },
    {
     "name": "stdout",
     "output_type": "stream",
     "text": [
      "1 0.7366666666666667\n"
     ]
    },
    {
     "name": "stderr",
     "output_type": "stream",
     "text": [
      "100%|██████████████████████████████████████████████████████████████████████████████████| 29/29 [00:46<00:00,  1.61s/it]\n"
     ]
    },
    {
     "name": "stdout",
     "output_type": "stream",
     "text": [
      "1 0.8\n"
     ]
    },
    {
     "name": "stderr",
     "output_type": "stream",
     "text": [
      "100%|██████████████████████████████████████████████████████████████████████████████████| 29/29 [00:45<00:00,  1.57s/it]\n"
     ]
    },
    {
     "name": "stdout",
     "output_type": "stream",
     "text": [
      "1 0.8633333333333333\n"
     ]
    },
    {
     "name": "stderr",
     "output_type": "stream",
     "text": [
      "100%|██████████████████████████████████████████████████████████████████████████████████| 29/29 [00:33<00:00,  1.15s/it]\n"
     ]
    },
    {
     "name": "stdout",
     "output_type": "stream",
     "text": [
      "1 0.9266666666666667\n"
     ]
    },
    {
     "name": "stderr",
     "output_type": "stream",
     "text": [
      "100%|██████████████████████████████████████████████████████████████████████████████████| 29/29 [00:33<00:00,  1.14s/it]\n"
     ]
    },
    {
     "name": "stdout",
     "output_type": "stream",
     "text": [
      "1 0.99\n"
     ]
    },
    {
     "name": "stderr",
     "output_type": "stream",
     "text": [
      "100%|██████████████████████████████████████████████████████████████████████████████████| 29/29 [00:29<00:00,  1.00s/it]\n"
     ]
    },
    {
     "name": "stdout",
     "output_type": "stream",
     "text": [
      "2 0.42\n"
     ]
    },
    {
     "name": "stderr",
     "output_type": "stream",
     "text": [
      "100%|██████████████████████████████████████████████████████████████████████████████████| 29/29 [01:58<00:00,  4.10s/it]\n"
     ]
    },
    {
     "name": "stdout",
     "output_type": "stream",
     "text": [
      "2 0.48333333333333334\n"
     ]
    },
    {
     "name": "stderr",
     "output_type": "stream",
     "text": [
      "100%|██████████████████████████████████████████████████████████████████████████████████| 29/29 [01:20<00:00,  2.79s/it]\n"
     ]
    },
    {
     "name": "stdout",
     "output_type": "stream",
     "text": [
      "2 0.5466666666666666\n"
     ]
    },
    {
     "name": "stderr",
     "output_type": "stream",
     "text": [
      "100%|██████████████████████████████████████████████████████████████████████████████████| 29/29 [00:58<00:00,  2.00s/it]\n"
     ]
    },
    {
     "name": "stdout",
     "output_type": "stream",
     "text": [
      "2 0.61\n"
     ]
    },
    {
     "name": "stderr",
     "output_type": "stream",
     "text": [
      "100%|██████████████████████████████████████████████████████████████████████████████████| 29/29 [00:47<00:00,  1.63s/it]\n"
     ]
    },
    {
     "name": "stdout",
     "output_type": "stream",
     "text": [
      "2 0.6733333333333333\n"
     ]
    },
    {
     "name": "stderr",
     "output_type": "stream",
     "text": [
      "100%|██████████████████████████████████████████████████████████████████████████████████| 29/29 [00:45<00:00,  1.55s/it]\n"
     ]
    },
    {
     "name": "stdout",
     "output_type": "stream",
     "text": [
      "2 0.7366666666666667\n"
     ]
    },
    {
     "name": "stderr",
     "output_type": "stream",
     "text": [
      "100%|██████████████████████████████████████████████████████████████████████████████████| 29/29 [00:37<00:00,  1.30s/it]\n"
     ]
    },
    {
     "name": "stdout",
     "output_type": "stream",
     "text": [
      "2 0.8\n"
     ]
    },
    {
     "name": "stderr",
     "output_type": "stream",
     "text": [
      "100%|██████████████████████████████████████████████████████████████████████████████████| 29/29 [00:35<00:00,  1.21s/it]\n"
     ]
    },
    {
     "name": "stdout",
     "output_type": "stream",
     "text": [
      "2 0.8633333333333333\n"
     ]
    },
    {
     "name": "stderr",
     "output_type": "stream",
     "text": [
      "100%|██████████████████████████████████████████████████████████████████████████████████| 29/29 [00:35<00:00,  1.21s/it]\n"
     ]
    },
    {
     "name": "stdout",
     "output_type": "stream",
     "text": [
      "2 0.9266666666666667\n"
     ]
    },
    {
     "name": "stderr",
     "output_type": "stream",
     "text": [
      "100%|██████████████████████████████████████████████████████████████████████████████████| 29/29 [00:30<00:00,  1.04s/it]\n"
     ]
    },
    {
     "name": "stdout",
     "output_type": "stream",
     "text": [
      "2 0.99\n"
     ]
    },
    {
     "name": "stderr",
     "output_type": "stream",
     "text": [
      "100%|██████████████████████████████████████████████████████████████████████████████████| 29/29 [00:28<00:00,  1.01it/s]\n"
     ]
    },
    {
     "name": "stdout",
     "output_type": "stream",
     "text": [
      "3 0.42\n"
     ]
    },
    {
     "name": "stderr",
     "output_type": "stream",
     "text": [
      "100%|██████████████████████████████████████████████████████████████████████████████████| 29/29 [01:50<00:00,  3.83s/it]\n"
     ]
    },
    {
     "name": "stdout",
     "output_type": "stream",
     "text": [
      "3 0.48333333333333334\n"
     ]
    },
    {
     "name": "stderr",
     "output_type": "stream",
     "text": [
      "100%|██████████████████████████████████████████████████████████████████████████████████| 29/29 [01:11<00:00,  2.48s/it]\n"
     ]
    },
    {
     "name": "stdout",
     "output_type": "stream",
     "text": [
      "3 0.5466666666666666\n"
     ]
    },
    {
     "name": "stderr",
     "output_type": "stream",
     "text": [
      "100%|██████████████████████████████████████████████████████████████████████████████████| 29/29 [00:56<00:00,  1.93s/it]\n"
     ]
    },
    {
     "name": "stdout",
     "output_type": "stream",
     "text": [
      "3 0.61\n"
     ]
    },
    {
     "name": "stderr",
     "output_type": "stream",
     "text": [
      "100%|██████████████████████████████████████████████████████████████████████████████████| 29/29 [00:46<00:00,  1.61s/it]\n"
     ]
    },
    {
     "name": "stdout",
     "output_type": "stream",
     "text": [
      "3 0.6733333333333333\n"
     ]
    },
    {
     "name": "stderr",
     "output_type": "stream",
     "text": [
      "100%|██████████████████████████████████████████████████████████████████████████████████| 29/29 [00:41<00:00,  1.44s/it]\n"
     ]
    },
    {
     "name": "stdout",
     "output_type": "stream",
     "text": [
      "3 0.7366666666666667\n"
     ]
    },
    {
     "name": "stderr",
     "output_type": "stream",
     "text": [
      "100%|██████████████████████████████████████████████████████████████████████████████████| 29/29 [00:37<00:00,  1.30s/it]\n"
     ]
    },
    {
     "name": "stdout",
     "output_type": "stream",
     "text": [
      "3 0.8\n"
     ]
    },
    {
     "name": "stderr",
     "output_type": "stream",
     "text": [
      "100%|██████████████████████████████████████████████████████████████████████████████████| 29/29 [00:35<00:00,  1.21s/it]\n"
     ]
    },
    {
     "name": "stdout",
     "output_type": "stream",
     "text": [
      "3 0.8633333333333333\n"
     ]
    },
    {
     "name": "stderr",
     "output_type": "stream",
     "text": [
      "100%|██████████████████████████████████████████████████████████████████████████████████| 29/29 [00:32<00:00,  1.11s/it]\n"
     ]
    },
    {
     "name": "stdout",
     "output_type": "stream",
     "text": [
      "3 0.9266666666666667\n"
     ]
    },
    {
     "name": "stderr",
     "output_type": "stream",
     "text": [
      "100%|██████████████████████████████████████████████████████████████████████████████████| 29/29 [00:30<00:00,  1.05s/it]\n"
     ]
    },
    {
     "name": "stdout",
     "output_type": "stream",
     "text": [
      "3 0.99\n"
     ]
    },
    {
     "name": "stderr",
     "output_type": "stream",
     "text": [
      "100%|██████████████████████████████████████████████████████████████████████████████████| 29/29 [00:28<00:00,  1.02it/s]\n"
     ]
    },
    {
     "name": "stdout",
     "output_type": "stream",
     "text": [
      "4 0.42\n"
     ]
    },
    {
     "name": "stderr",
     "output_type": "stream",
     "text": [
      "100%|██████████████████████████████████████████████████████████████████████████████████| 29/29 [01:44<00:00,  3.61s/it]\n"
     ]
    },
    {
     "name": "stdout",
     "output_type": "stream",
     "text": [
      "4 0.48333333333333334\n"
     ]
    },
    {
     "name": "stderr",
     "output_type": "stream",
     "text": [
      "100%|██████████████████████████████████████████████████████████████████████████████████| 29/29 [01:12<00:00,  2.51s/it]\n"
     ]
    },
    {
     "name": "stdout",
     "output_type": "stream",
     "text": [
      "4 0.5466666666666666\n"
     ]
    },
    {
     "name": "stderr",
     "output_type": "stream",
     "text": [
      "100%|██████████████████████████████████████████████████████████████████████████████████| 29/29 [00:56<00:00,  1.96s/it]\n"
     ]
    },
    {
     "name": "stdout",
     "output_type": "stream",
     "text": [
      "4 0.61\n"
     ]
    },
    {
     "name": "stderr",
     "output_type": "stream",
     "text": [
      "100%|██████████████████████████████████████████████████████████████████████████████████| 29/29 [00:46<00:00,  1.61s/it]\n"
     ]
    },
    {
     "name": "stdout",
     "output_type": "stream",
     "text": [
      "4 0.6733333333333333\n"
     ]
    },
    {
     "name": "stderr",
     "output_type": "stream",
     "text": [
      "100%|██████████████████████████████████████████████████████████████████████████████████| 29/29 [00:44<00:00,  1.53s/it]\n"
     ]
    },
    {
     "name": "stdout",
     "output_type": "stream",
     "text": [
      "4 0.7366666666666667\n"
     ]
    },
    {
     "name": "stderr",
     "output_type": "stream",
     "text": [
      "100%|██████████████████████████████████████████████████████████████████████████████████| 29/29 [00:38<00:00,  1.34s/it]\n"
     ]
    },
    {
     "name": "stdout",
     "output_type": "stream",
     "text": [
      "4 0.8\n"
     ]
    },
    {
     "name": "stderr",
     "output_type": "stream",
     "text": [
      "100%|██████████████████████████████████████████████████████████████████████████████████| 29/29 [00:35<00:00,  1.22s/it]\n"
     ]
    },
    {
     "name": "stdout",
     "output_type": "stream",
     "text": [
      "4 0.8633333333333333\n"
     ]
    },
    {
     "name": "stderr",
     "output_type": "stream",
     "text": [
      "100%|██████████████████████████████████████████████████████████████████████████████████| 29/29 [00:34<00:00,  1.18s/it]\n"
     ]
    },
    {
     "name": "stdout",
     "output_type": "stream",
     "text": [
      "4 0.9266666666666667\n"
     ]
    },
    {
     "name": "stderr",
     "output_type": "stream",
     "text": [
      "100%|██████████████████████████████████████████████████████████████████████████████████| 29/29 [00:30<00:00,  1.05s/it]\n"
     ]
    },
    {
     "name": "stdout",
     "output_type": "stream",
     "text": [
      "4 0.99\n"
     ]
    },
    {
     "name": "stderr",
     "output_type": "stream",
     "text": [
      "100%|██████████████████████████████████████████████████████████████████████████████████| 29/29 [00:28<00:00,  1.00it/s]\n"
     ]
    },
    {
     "name": "stdout",
     "output_type": "stream",
     "text": [
      "5 0.42\n"
     ]
    },
    {
     "name": "stderr",
     "output_type": "stream",
     "text": [
      "100%|██████████████████████████████████████████████████████████████████████████████████| 29/29 [01:40<00:00,  3.46s/it]\n"
     ]
    },
    {
     "name": "stdout",
     "output_type": "stream",
     "text": [
      "5 0.48333333333333334\n"
     ]
    },
    {
     "name": "stderr",
     "output_type": "stream",
     "text": [
      "100%|██████████████████████████████████████████████████████████████████████████████████| 29/29 [01:13<00:00,  2.54s/it]\n"
     ]
    },
    {
     "name": "stdout",
     "output_type": "stream",
     "text": [
      "5 0.5466666666666666\n"
     ]
    },
    {
     "name": "stderr",
     "output_type": "stream",
     "text": [
      "100%|██████████████████████████████████████████████████████████████████████████████████| 29/29 [00:56<00:00,  1.95s/it]\n"
     ]
    },
    {
     "name": "stdout",
     "output_type": "stream",
     "text": [
      "5 0.61\n"
     ]
    },
    {
     "name": "stderr",
     "output_type": "stream",
     "text": [
      "100%|██████████████████████████████████████████████████████████████████████████████████| 29/29 [00:49<00:00,  1.69s/it]\n"
     ]
    },
    {
     "name": "stdout",
     "output_type": "stream",
     "text": [
      "5 0.6733333333333333\n"
     ]
    },
    {
     "name": "stderr",
     "output_type": "stream",
     "text": [
      "100%|██████████████████████████████████████████████████████████████████████████████████| 29/29 [00:41<00:00,  1.44s/it]\n"
     ]
    },
    {
     "name": "stdout",
     "output_type": "stream",
     "text": [
      "5 0.7366666666666667\n"
     ]
    },
    {
     "name": "stderr",
     "output_type": "stream",
     "text": [
      "100%|██████████████████████████████████████████████████████████████████████████████████| 29/29 [00:38<00:00,  1.31s/it]\n"
     ]
    },
    {
     "name": "stdout",
     "output_type": "stream",
     "text": [
      "5 0.8\n"
     ]
    },
    {
     "name": "stderr",
     "output_type": "stream",
     "text": [
      "100%|██████████████████████████████████████████████████████████████████████████████████| 29/29 [00:35<00:00,  1.21s/it]\n"
     ]
    },
    {
     "name": "stdout",
     "output_type": "stream",
     "text": [
      "5 0.8633333333333333\n"
     ]
    },
    {
     "name": "stderr",
     "output_type": "stream",
     "text": [
      "100%|██████████████████████████████████████████████████████████████████████████████████| 29/29 [00:32<00:00,  1.11s/it]\n"
     ]
    },
    {
     "name": "stdout",
     "output_type": "stream",
     "text": [
      "5 0.9266666666666667\n"
     ]
    },
    {
     "name": "stderr",
     "output_type": "stream",
     "text": [
      "100%|██████████████████████████████████████████████████████████████████████████████████| 29/29 [00:30<00:00,  1.06s/it]\n"
     ]
    },
    {
     "name": "stdout",
     "output_type": "stream",
     "text": [
      "5 0.99\n"
     ]
    },
    {
     "name": "stderr",
     "output_type": "stream",
     "text": [
      "100%|██████████████████████████████████████████████████████████████████████████████████| 29/29 [00:29<00:00,  1.01s/it]\n"
     ]
    }
   ],
   "source": [
    "df_models = pd.DataFrame()\n",
    "fator_balanceamento = np.linspace(0.42,0.99,10).tolist()\n",
    "\n",
    "#numero de repetições do experimento\n",
    "for i in range(5):\n",
    "    \n",
    "    #Balanceamento\n",
    "    for fator in fator_balanceamento:\n",
    "        \n",
    "        #Acompanhamento do andamento dos experimentos\n",
    "        print(i+1,fator)\n",
    "        \n",
    "        #Aplicando balanceamento    \n",
    "        nr = NearMiss(sampling_strategy = fator)\n",
    "        X_balanceado, y_balanceado = nr.fit_resample(X, y)\n",
    "        \n",
    "        #Holdout\n",
    "        X_train, X_test, y_train, y_test = train_test_split(X_balanceado, y_balanceado,test_size=0.3,random_state = i)\n",
    "        \n",
    "        #Treinando algoritmos e armazenando os resultados\n",
    "        clf = LazyClassifier(verbose=0,ignore_warnings=True, custom_metric=None)\n",
    "        models,predictions = clf.fit(X_train, X_test, y_train, y_test)\n",
    "        models['fator'] = fator\n",
    "        df_models = df_models.append(models.reset_index(), ignore_index=True)\n",
    "\n",
    "\n"
   ]
  },
  {
   "cell_type": "code",
   "execution_count": 50,
   "metadata": {},
   "outputs": [],
   "source": [
    "pd.set_option('display.precision',5)"
   ]
  },
  {
   "cell_type": "code",
   "execution_count": 51,
   "metadata": {},
   "outputs": [],
   "source": [
    "pd.reset_option('^display.',silent=True)"
   ]
  },
  {
   "cell_type": "code",
   "execution_count": 52,
   "metadata": {},
   "outputs": [
    {
     "data": {
      "text/html": [
       "<div>\n",
       "<style scoped>\n",
       "    .dataframe tbody tr th:only-of-type {\n",
       "        vertical-align: middle;\n",
       "    }\n",
       "\n",
       "    .dataframe tbody tr th {\n",
       "        vertical-align: top;\n",
       "    }\n",
       "\n",
       "    .dataframe thead th {\n",
       "        text-align: right;\n",
       "    }\n",
       "</style>\n",
       "<table border=\"1\" class=\"dataframe\">\n",
       "  <thead>\n",
       "    <tr style=\"text-align: right;\">\n",
       "      <th></th>\n",
       "      <th></th>\n",
       "      <th>Accuracy</th>\n",
       "      <th>Balanced Accuracy</th>\n",
       "      <th>ROC AUC</th>\n",
       "      <th>F1 Score</th>\n",
       "    </tr>\n",
       "    <tr>\n",
       "      <th>Model</th>\n",
       "      <th>fator</th>\n",
       "      <th></th>\n",
       "      <th></th>\n",
       "      <th></th>\n",
       "      <th></th>\n",
       "    </tr>\n",
       "  </thead>\n",
       "  <tbody>\n",
       "    <tr>\n",
       "      <th rowspan=\"4\" valign=\"top\">XGBClassifier</th>\n",
       "      <th>0.863333</th>\n",
       "      <td>0.988567</td>\n",
       "      <td>0.988342</td>\n",
       "      <td>0.988342</td>\n",
       "      <td>0.988565</td>\n",
       "    </tr>\n",
       "    <tr>\n",
       "      <th>0.673333</th>\n",
       "      <td>0.989417</td>\n",
       "      <td>0.988276</td>\n",
       "      <td>0.988276</td>\n",
       "      <td>0.989409</td>\n",
       "    </tr>\n",
       "    <tr>\n",
       "      <th>0.736667</th>\n",
       "      <td>0.989120</td>\n",
       "      <td>0.988261</td>\n",
       "      <td>0.988261</td>\n",
       "      <td>0.989114</td>\n",
       "    </tr>\n",
       "    <tr>\n",
       "      <th>0.800000</th>\n",
       "      <td>0.988420</td>\n",
       "      <td>0.987867</td>\n",
       "      <td>0.987867</td>\n",
       "      <td>0.988415</td>\n",
       "    </tr>\n",
       "    <tr>\n",
       "      <th rowspan=\"2\" valign=\"top\">LGBMClassifier</th>\n",
       "      <th>0.863333</th>\n",
       "      <td>0.988078</td>\n",
       "      <td>0.987816</td>\n",
       "      <td>0.987816</td>\n",
       "      <td>0.988075</td>\n",
       "    </tr>\n",
       "    <tr>\n",
       "      <th>0.736667</th>\n",
       "      <td>0.988294</td>\n",
       "      <td>0.987474</td>\n",
       "      <td>0.987474</td>\n",
       "      <td>0.988288</td>\n",
       "    </tr>\n",
       "    <tr>\n",
       "      <th rowspan=\"2\" valign=\"top\">XGBClassifier</th>\n",
       "      <th>0.990000</th>\n",
       "      <td>0.987442</td>\n",
       "      <td>0.987423</td>\n",
       "      <td>0.987423</td>\n",
       "      <td>0.987442</td>\n",
       "    </tr>\n",
       "    <tr>\n",
       "      <th>0.483333</th>\n",
       "      <td>0.990188</td>\n",
       "      <td>0.987376</td>\n",
       "      <td>0.987376</td>\n",
       "      <td>0.990173</td>\n",
       "    </tr>\n",
       "    <tr>\n",
       "      <th rowspan=\"3\" valign=\"top\">LGBMClassifier</th>\n",
       "      <th>0.800000</th>\n",
       "      <td>0.987734</td>\n",
       "      <td>0.987137</td>\n",
       "      <td>0.987137</td>\n",
       "      <td>0.987729</td>\n",
       "    </tr>\n",
       "    <tr>\n",
       "      <th>0.990000</th>\n",
       "      <td>0.987119</td>\n",
       "      <td>0.987105</td>\n",
       "      <td>0.987105</td>\n",
       "      <td>0.987119</td>\n",
       "    </tr>\n",
       "    <tr>\n",
       "      <th>0.673333</th>\n",
       "      <td>0.988306</td>\n",
       "      <td>0.987102</td>\n",
       "      <td>0.987102</td>\n",
       "      <td>0.988298</td>\n",
       "    </tr>\n",
       "    <tr>\n",
       "      <th>XGBClassifier</th>\n",
       "      <th>0.546667</th>\n",
       "      <td>0.988983</td>\n",
       "      <td>0.986754</td>\n",
       "      <td>0.986754</td>\n",
       "      <td>0.988970</td>\n",
       "    </tr>\n",
       "    <tr>\n",
       "      <th>LGBMClassifier</th>\n",
       "      <th>0.546667</th>\n",
       "      <td>0.988811</td>\n",
       "      <td>0.986586</td>\n",
       "      <td>0.986586</td>\n",
       "      <td>0.988797</td>\n",
       "    </tr>\n",
       "    <tr>\n",
       "      <th>XGBClassifier</th>\n",
       "      <th>0.926667</th>\n",
       "      <td>0.986648</td>\n",
       "      <td>0.986522</td>\n",
       "      <td>0.986522</td>\n",
       "      <td>0.986647</td>\n",
       "    </tr>\n",
       "    <tr>\n",
       "      <th>LGBMClassifier</th>\n",
       "      <th>0.610000</th>\n",
       "      <td>0.987944</td>\n",
       "      <td>0.986388</td>\n",
       "      <td>0.986388</td>\n",
       "      <td>0.987934</td>\n",
       "    </tr>\n",
       "    <tr>\n",
       "      <th rowspan=\"2\" valign=\"top\">XGBClassifier</th>\n",
       "      <th>0.420000</th>\n",
       "      <td>0.990061</td>\n",
       "      <td>0.986325</td>\n",
       "      <td>0.986325</td>\n",
       "      <td>0.990044</td>\n",
       "    </tr>\n",
       "    <tr>\n",
       "      <th>0.610000</th>\n",
       "      <td>0.987698</td>\n",
       "      <td>0.986061</td>\n",
       "      <td>0.986061</td>\n",
       "      <td>0.987687</td>\n",
       "    </tr>\n",
       "    <tr>\n",
       "      <th rowspan=\"3\" valign=\"top\">LGBMClassifier</th>\n",
       "      <th>0.483333</th>\n",
       "      <td>0.989051</td>\n",
       "      <td>0.986006</td>\n",
       "      <td>0.986006</td>\n",
       "      <td>0.989033</td>\n",
       "    </tr>\n",
       "    <tr>\n",
       "      <th>0.926667</th>\n",
       "      <td>0.985711</td>\n",
       "      <td>0.985574</td>\n",
       "      <td>0.985574</td>\n",
       "      <td>0.985709</td>\n",
       "    </tr>\n",
       "    <tr>\n",
       "      <th>0.420000</th>\n",
       "      <td>0.988813</td>\n",
       "      <td>0.984669</td>\n",
       "      <td>0.984669</td>\n",
       "      <td>0.988792</td>\n",
       "    </tr>\n",
       "    <tr>\n",
       "      <th rowspan=\"2\" valign=\"top\">ExtraTreesClassifier</th>\n",
       "      <th>0.736667</th>\n",
       "      <td>0.985953</td>\n",
       "      <td>0.984404</td>\n",
       "      <td>0.984404</td>\n",
       "      <td>0.985935</td>\n",
       "    </tr>\n",
       "    <tr>\n",
       "      <th>0.863333</th>\n",
       "      <td>0.984205</td>\n",
       "      <td>0.983692</td>\n",
       "      <td>0.983692</td>\n",
       "      <td>0.984196</td>\n",
       "    </tr>\n",
       "    <tr>\n",
       "      <th>RandomForestClassifier</th>\n",
       "      <th>0.990000</th>\n",
       "      <td>0.983687</td>\n",
       "      <td>0.983673</td>\n",
       "      <td>0.983673</td>\n",
       "      <td>0.983686</td>\n",
       "    </tr>\n",
       "    <tr>\n",
       "      <th>ExtraTreesClassifier</th>\n",
       "      <th>0.990000</th>\n",
       "      <td>0.983525</td>\n",
       "      <td>0.983510</td>\n",
       "      <td>0.983510</td>\n",
       "      <td>0.983524</td>\n",
       "    </tr>\n",
       "    <tr>\n",
       "      <th rowspan=\"3\" valign=\"top\">RandomForestClassifier</th>\n",
       "      <th>0.736667</th>\n",
       "      <td>0.984920</td>\n",
       "      <td>0.983508</td>\n",
       "      <td>0.983508</td>\n",
       "      <td>0.984904</td>\n",
       "    </tr>\n",
       "    <tr>\n",
       "      <th>0.863333</th>\n",
       "      <td>0.983528</td>\n",
       "      <td>0.983094</td>\n",
       "      <td>0.983094</td>\n",
       "      <td>0.983521</td>\n",
       "    </tr>\n",
       "    <tr>\n",
       "      <th>0.673333</th>\n",
       "      <td>0.984811</td>\n",
       "      <td>0.982943</td>\n",
       "      <td>0.982943</td>\n",
       "      <td>0.984792</td>\n",
       "    </tr>\n",
       "    <tr>\n",
       "      <th>ExtraTreesClassifier</th>\n",
       "      <th>0.673333</th>\n",
       "      <td>0.985138</td>\n",
       "      <td>0.982885</td>\n",
       "      <td>0.982885</td>\n",
       "      <td>0.985113</td>\n",
       "    </tr>\n",
       "    <tr>\n",
       "      <th rowspan=\"2\" valign=\"top\">RandomForestClassifier</th>\n",
       "      <th>0.800000</th>\n",
       "      <td>0.983766</td>\n",
       "      <td>0.982830</td>\n",
       "      <td>0.982830</td>\n",
       "      <td>0.983753</td>\n",
       "    </tr>\n",
       "    <tr>\n",
       "      <th>0.610000</th>\n",
       "      <td>0.984684</td>\n",
       "      <td>0.982235</td>\n",
       "      <td>0.982235</td>\n",
       "      <td>0.984659</td>\n",
       "    </tr>\n",
       "    <tr>\n",
       "      <th>ExtraTreesClassifier</th>\n",
       "      <th>0.926667</th>\n",
       "      <td>0.982432</td>\n",
       "      <td>0.982196</td>\n",
       "      <td>0.982196</td>\n",
       "      <td>0.982427</td>\n",
       "    </tr>\n",
       "    <tr>\n",
       "      <th>RandomForestClassifier</th>\n",
       "      <th>0.926667</th>\n",
       "      <td>0.982315</td>\n",
       "      <td>0.982128</td>\n",
       "      <td>0.982128</td>\n",
       "      <td>0.982311</td>\n",
       "    </tr>\n",
       "    <tr>\n",
       "      <th>ExtraTreesClassifier</th>\n",
       "      <th>0.800000</th>\n",
       "      <td>0.983261</td>\n",
       "      <td>0.982028</td>\n",
       "      <td>0.982028</td>\n",
       "      <td>0.983242</td>\n",
       "    </tr>\n",
       "    <tr>\n",
       "      <th>BaggingClassifier</th>\n",
       "      <th>0.990000</th>\n",
       "      <td>0.981991</td>\n",
       "      <td>0.981979</td>\n",
       "      <td>0.981979</td>\n",
       "      <td>0.981990</td>\n",
       "    </tr>\n",
       "    <tr>\n",
       "      <th rowspan=\"2\" valign=\"top\">RandomForestClassifier</th>\n",
       "      <th>0.546667</th>\n",
       "      <td>0.985081</td>\n",
       "      <td>0.981681</td>\n",
       "      <td>0.981681</td>\n",
       "      <td>0.985049</td>\n",
       "    </tr>\n",
       "    <tr>\n",
       "      <th>0.483333</th>\n",
       "      <td>0.985930</td>\n",
       "      <td>0.981672</td>\n",
       "      <td>0.981672</td>\n",
       "      <td>0.985896</td>\n",
       "    </tr>\n",
       "    <tr>\n",
       "      <th>ExtraTreesClassifier</th>\n",
       "      <th>0.546667</th>\n",
       "      <td>0.985454</td>\n",
       "      <td>0.981626</td>\n",
       "      <td>0.981626</td>\n",
       "      <td>0.985417</td>\n",
       "    </tr>\n",
       "    <tr>\n",
       "      <th>RandomForestClassifier</th>\n",
       "      <th>0.420000</th>\n",
       "      <td>0.986604</td>\n",
       "      <td>0.981512</td>\n",
       "      <td>0.981512</td>\n",
       "      <td>0.986573</td>\n",
       "    </tr>\n",
       "    <tr>\n",
       "      <th rowspan=\"3\" valign=\"top\">BaggingClassifier</th>\n",
       "      <th>0.673333</th>\n",
       "      <td>0.982786</td>\n",
       "      <td>0.981007</td>\n",
       "      <td>0.981007</td>\n",
       "      <td>0.982767</td>\n",
       "    </tr>\n",
       "    <tr>\n",
       "      <th>0.736667</th>\n",
       "      <td>0.982234</td>\n",
       "      <td>0.980969</td>\n",
       "      <td>0.980969</td>\n",
       "      <td>0.982220</td>\n",
       "    </tr>\n",
       "    <tr>\n",
       "      <th>0.800000</th>\n",
       "      <td>0.981710</td>\n",
       "      <td>0.980821</td>\n",
       "      <td>0.980821</td>\n",
       "      <td>0.981697</td>\n",
       "    </tr>\n",
       "    <tr>\n",
       "      <th>ExtraTreesClassifier</th>\n",
       "      <th>0.610000</th>\n",
       "      <td>0.983977</td>\n",
       "      <td>0.980819</td>\n",
       "      <td>0.980819</td>\n",
       "      <td>0.983940</td>\n",
       "    </tr>\n",
       "    <tr>\n",
       "      <th>BaggingClassifier</th>\n",
       "      <th>0.483333</th>\n",
       "      <td>0.984660</td>\n",
       "      <td>0.980716</td>\n",
       "      <td>0.980716</td>\n",
       "      <td>0.984632</td>\n",
       "    </tr>\n",
       "    <tr>\n",
       "      <th rowspan=\"2\" valign=\"top\">ExtraTreesClassifier</th>\n",
       "      <th>0.483333</th>\n",
       "      <td>0.985771</td>\n",
       "      <td>0.980633</td>\n",
       "      <td>0.980633</td>\n",
       "      <td>0.985724</td>\n",
       "    </tr>\n",
       "    <tr>\n",
       "      <th>0.420000</th>\n",
       "      <td>0.986700</td>\n",
       "      <td>0.980408</td>\n",
       "      <td>0.980408</td>\n",
       "      <td>0.986652</td>\n",
       "    </tr>\n",
       "    <tr>\n",
       "      <th rowspan=\"4\" valign=\"top\">BaggingClassifier</th>\n",
       "      <th>0.863333</th>\n",
       "      <td>0.980557</td>\n",
       "      <td>0.980215</td>\n",
       "      <td>0.980215</td>\n",
       "      <td>0.980551</td>\n",
       "    </tr>\n",
       "    <tr>\n",
       "      <th>0.610000</th>\n",
       "      <td>0.982316</td>\n",
       "      <td>0.980109</td>\n",
       "      <td>0.980109</td>\n",
       "      <td>0.982295</td>\n",
       "    </tr>\n",
       "    <tr>\n",
       "      <th>0.926667</th>\n",
       "      <td>0.979777</td>\n",
       "      <td>0.979603</td>\n",
       "      <td>0.979603</td>\n",
       "      <td>0.979773</td>\n",
       "    </tr>\n",
       "    <tr>\n",
       "      <th>0.546667</th>\n",
       "      <td>0.982556</td>\n",
       "      <td>0.979262</td>\n",
       "      <td>0.979262</td>\n",
       "      <td>0.982528</td>\n",
       "    </tr>\n",
       "    <tr>\n",
       "      <th>DecisionTreeClassifier</th>\n",
       "      <th>0.990000</th>\n",
       "      <td>0.979164</td>\n",
       "      <td>0.979156</td>\n",
       "      <td>0.979156</td>\n",
       "      <td>0.979164</td>\n",
       "    </tr>\n",
       "  </tbody>\n",
       "</table>\n",
       "</div>"
      ],
      "text/plain": [
       "                                 Accuracy  Balanced Accuracy   ROC AUC  \\\n",
       "Model                  fator                                             \n",
       "XGBClassifier          0.863333  0.988567           0.988342  0.988342   \n",
       "                       0.673333  0.989417           0.988276  0.988276   \n",
       "                       0.736667  0.989120           0.988261  0.988261   \n",
       "                       0.800000  0.988420           0.987867  0.987867   \n",
       "LGBMClassifier         0.863333  0.988078           0.987816  0.987816   \n",
       "                       0.736667  0.988294           0.987474  0.987474   \n",
       "XGBClassifier          0.990000  0.987442           0.987423  0.987423   \n",
       "                       0.483333  0.990188           0.987376  0.987376   \n",
       "LGBMClassifier         0.800000  0.987734           0.987137  0.987137   \n",
       "                       0.990000  0.987119           0.987105  0.987105   \n",
       "                       0.673333  0.988306           0.987102  0.987102   \n",
       "XGBClassifier          0.546667  0.988983           0.986754  0.986754   \n",
       "LGBMClassifier         0.546667  0.988811           0.986586  0.986586   \n",
       "XGBClassifier          0.926667  0.986648           0.986522  0.986522   \n",
       "LGBMClassifier         0.610000  0.987944           0.986388  0.986388   \n",
       "XGBClassifier          0.420000  0.990061           0.986325  0.986325   \n",
       "                       0.610000  0.987698           0.986061  0.986061   \n",
       "LGBMClassifier         0.483333  0.989051           0.986006  0.986006   \n",
       "                       0.926667  0.985711           0.985574  0.985574   \n",
       "                       0.420000  0.988813           0.984669  0.984669   \n",
       "ExtraTreesClassifier   0.736667  0.985953           0.984404  0.984404   \n",
       "                       0.863333  0.984205           0.983692  0.983692   \n",
       "RandomForestClassifier 0.990000  0.983687           0.983673  0.983673   \n",
       "ExtraTreesClassifier   0.990000  0.983525           0.983510  0.983510   \n",
       "RandomForestClassifier 0.736667  0.984920           0.983508  0.983508   \n",
       "                       0.863333  0.983528           0.983094  0.983094   \n",
       "                       0.673333  0.984811           0.982943  0.982943   \n",
       "ExtraTreesClassifier   0.673333  0.985138           0.982885  0.982885   \n",
       "RandomForestClassifier 0.800000  0.983766           0.982830  0.982830   \n",
       "                       0.610000  0.984684           0.982235  0.982235   \n",
       "ExtraTreesClassifier   0.926667  0.982432           0.982196  0.982196   \n",
       "RandomForestClassifier 0.926667  0.982315           0.982128  0.982128   \n",
       "ExtraTreesClassifier   0.800000  0.983261           0.982028  0.982028   \n",
       "BaggingClassifier      0.990000  0.981991           0.981979  0.981979   \n",
       "RandomForestClassifier 0.546667  0.985081           0.981681  0.981681   \n",
       "                       0.483333  0.985930           0.981672  0.981672   \n",
       "ExtraTreesClassifier   0.546667  0.985454           0.981626  0.981626   \n",
       "RandomForestClassifier 0.420000  0.986604           0.981512  0.981512   \n",
       "BaggingClassifier      0.673333  0.982786           0.981007  0.981007   \n",
       "                       0.736667  0.982234           0.980969  0.980969   \n",
       "                       0.800000  0.981710           0.980821  0.980821   \n",
       "ExtraTreesClassifier   0.610000  0.983977           0.980819  0.980819   \n",
       "BaggingClassifier      0.483333  0.984660           0.980716  0.980716   \n",
       "ExtraTreesClassifier   0.483333  0.985771           0.980633  0.980633   \n",
       "                       0.420000  0.986700           0.980408  0.980408   \n",
       "BaggingClassifier      0.863333  0.980557           0.980215  0.980215   \n",
       "                       0.610000  0.982316           0.980109  0.980109   \n",
       "                       0.926667  0.979777           0.979603  0.979603   \n",
       "                       0.546667  0.982556           0.979262  0.979262   \n",
       "DecisionTreeClassifier 0.990000  0.979164           0.979156  0.979156   \n",
       "\n",
       "                                 F1 Score  \n",
       "Model                  fator               \n",
       "XGBClassifier          0.863333  0.988565  \n",
       "                       0.673333  0.989409  \n",
       "                       0.736667  0.989114  \n",
       "                       0.800000  0.988415  \n",
       "LGBMClassifier         0.863333  0.988075  \n",
       "                       0.736667  0.988288  \n",
       "XGBClassifier          0.990000  0.987442  \n",
       "                       0.483333  0.990173  \n",
       "LGBMClassifier         0.800000  0.987729  \n",
       "                       0.990000  0.987119  \n",
       "                       0.673333  0.988298  \n",
       "XGBClassifier          0.546667  0.988970  \n",
       "LGBMClassifier         0.546667  0.988797  \n",
       "XGBClassifier          0.926667  0.986647  \n",
       "LGBMClassifier         0.610000  0.987934  \n",
       "XGBClassifier          0.420000  0.990044  \n",
       "                       0.610000  0.987687  \n",
       "LGBMClassifier         0.483333  0.989033  \n",
       "                       0.926667  0.985709  \n",
       "                       0.420000  0.988792  \n",
       "ExtraTreesClassifier   0.736667  0.985935  \n",
       "                       0.863333  0.984196  \n",
       "RandomForestClassifier 0.990000  0.983686  \n",
       "ExtraTreesClassifier   0.990000  0.983524  \n",
       "RandomForestClassifier 0.736667  0.984904  \n",
       "                       0.863333  0.983521  \n",
       "                       0.673333  0.984792  \n",
       "ExtraTreesClassifier   0.673333  0.985113  \n",
       "RandomForestClassifier 0.800000  0.983753  \n",
       "                       0.610000  0.984659  \n",
       "ExtraTreesClassifier   0.926667  0.982427  \n",
       "RandomForestClassifier 0.926667  0.982311  \n",
       "ExtraTreesClassifier   0.800000  0.983242  \n",
       "BaggingClassifier      0.990000  0.981990  \n",
       "RandomForestClassifier 0.546667  0.985049  \n",
       "                       0.483333  0.985896  \n",
       "ExtraTreesClassifier   0.546667  0.985417  \n",
       "RandomForestClassifier 0.420000  0.986573  \n",
       "BaggingClassifier      0.673333  0.982767  \n",
       "                       0.736667  0.982220  \n",
       "                       0.800000  0.981697  \n",
       "ExtraTreesClassifier   0.610000  0.983940  \n",
       "BaggingClassifier      0.483333  0.984632  \n",
       "ExtraTreesClassifier   0.483333  0.985724  \n",
       "                       0.420000  0.986652  \n",
       "BaggingClassifier      0.863333  0.980551  \n",
       "                       0.610000  0.982295  \n",
       "                       0.926667  0.979773  \n",
       "                       0.546667  0.982528  \n",
       "DecisionTreeClassifier 0.990000  0.979164  "
      ]
     },
     "execution_count": 52,
     "metadata": {},
     "output_type": "execute_result"
    }
   ],
   "source": [
    "df_models.groupby(['Model','fator']).agg({'Accuracy':np.mean, 'Balanced Accuracy':np.mean, 'ROC AUC':np.mean, 'F1 Score':np.mean}).sort_values(by='Balanced Accuracy', ascending=False).head(50)"
   ]
  },
  {
   "cell_type": "markdown",
   "metadata": {},
   "source": [
    "O modelo random forest ingênuo atingiu acurácia de 98% com dados de treino 50% transações normais e 50% fraudes (fator de balanceamento = 0.99 = 1. utilizando todas as features\n",
    "\n",
    "- Modelo: Random Forest\n",
    "- Fator de Balanceamento: 1"
   ]
  },
  {
   "cell_type": "markdown",
   "metadata": {},
   "source": [
    "## Rebalanceando a amostra 50% / 50% - Aplicando fator de balanceamento = 1:"
   ]
  },
  {
   "cell_type": "code",
   "execution_count": 101,
   "metadata": {},
   "outputs": [
    {
     "data": {
      "text/plain": [
       "0    32852\n",
       "1     8213\n",
       "Name: isFraud, dtype: int64"
      ]
     },
     "execution_count": 101,
     "metadata": {},
     "output_type": "execute_result"
    }
   ],
   "source": [
    "y_valid.value_counts()"
   ]
  },
  {
   "cell_type": "code",
   "execution_count": 102,
   "metadata": {},
   "outputs": [],
   "source": [
    "nr = NearMiss()\n",
    "X_balanc, y_balanc = nr.fit_resample(X_valid, y_valid)"
   ]
  },
  {
   "cell_type": "code",
   "execution_count": 103,
   "metadata": {},
   "outputs": [
    {
     "data": {
      "text/plain": [
       "1    8213\n",
       "0    8213\n",
       "Name: isFraud, dtype: int64"
      ]
     },
     "execution_count": 103,
     "metadata": {},
     "output_type": "execute_result"
    }
   ],
   "source": [
    "y_balanc.value_counts()"
   ]
  },
  {
   "cell_type": "markdown",
   "metadata": {},
   "source": [
    "# 6 Seleção de features - Random Forest"
   ]
  },
  {
   "cell_type": "code",
   "execution_count": 96,
   "metadata": {},
   "outputs": [
    {
     "data": {
      "image/png": "[encoded data removed]",
      "text/plain": [
       "<Figure size 1080x1080 with 2 Axes>"
      ]
     },
     "metadata": {
      "needs_background": "light"
     },
     "output_type": "display_data"
    }
   ],
   "source": [
    "plt.figure(figsize=(15,15))\n",
    "cmap = sns.diverging_palette(250, 10, s=80, l=55, n=9, as_cmap=True)\n",
    "sns.heatmap(df_final_norm.corr(),annot=True, cmap=cmap, center=0)\n",
    "plt.show()"
   ]
  },
  {
   "cell_type": "code",
   "execution_count": 99,
   "metadata": {},
   "outputs": [
    {
     "data": {
      "text/plain": [
       "isFraud           1.000000\n",
       "amount            0.076688\n",
       "type_4            0.053869\n",
       "step              0.031578\n",
       "type_1            0.011256\n",
       "oldbalanceOrg     0.010154\n",
       "newbalanceDest    0.000535\n",
       "varDest           0.000021\n",
       "varOrig          -0.000677\n",
       "type_2           -0.002911\n",
       "oldbalanceDest   -0.005885\n",
       "newbalanceOrig   -0.008148\n",
       "type_0           -0.019089\n",
       "type_3           -0.025697\n",
       "Name: isFraud, dtype: float64"
      ]
     },
     "execution_count": 99,
     "metadata": {},
     "output_type": "execute_result"
    }
   ],
   "source": [
    "df_final_norm.corr().sort_values(by = 'isFraud', ascending = False)['isFraud']"
   ]
  },
  {
   "cell_type": "markdown",
   "metadata": {},
   "source": [
    " Ordem de das features mais correlacionados: \n",
    "        \n",
    "        - amount, type_4, type_3, type_0, type_1, oldbalanceOrg ,newbalanceOrig, oldbalanceDest, newbalanceDest, type_2, varOrig , varDest  "
   ]
  },
  {
   "cell_type": "code",
   "execution_count": 109,
   "metadata": {},
   "outputs": [],
   "source": [
    "acuracia_dados = make_scorer(accuracy_score)\n",
    "f1_dados = make_scorer(f1_score)\n",
    "balanced_acc_dados = make_scorer(balanced_accuracy_score)\n",
    "scoring = {\"accuracy\": acuracia_dados, \"f1\":f1_dados, \"bacuracy\":balanced_acc_dados}\n",
    "resultados = []"
   ]
  },
  {
   "cell_type": "code",
   "execution_count": 129,
   "metadata": {},
   "outputs": [
    {
     "name": "stdout",
     "output_type": "stream",
     "text": [
      "Fazendo gridsearch - Repeticao 1\n",
      "Fazendo gridsearch - Repeticao 2\n",
      "Fazendo gridsearch - Repeticao 3\n",
      "Fazendo gridsearch - Repeticao 4\n",
      "Fazendo gridsearch - Repeticao 5\n"
     ]
    }
   ],
   "source": [
    "## hiperparametros default do randomforest com o fator de balanceamento definido na etapa 5.3\n",
    "fator_balanceamento = [1]\n",
    "max_depth = [None]\n",
    "min_samples_split = [2]\n",
    "min_samples_leaf = [1] \n",
    "criterion = ['gini']\n",
    "\n",
    "features = ['amount','type_4','type_3','type_0','type_1','oldbalanceOrg','newbalanceOrig','oldbalanceDest','newbalanceDest','type_2','varOrig','varDest']\n",
    "features = ['amount','type_4','type_3','type_0','type_1','oldbalanceOrg','newbalanceOrig','oldbalanceDest','newbalanceDest','type_2','varOrig']\n",
    "features = ['amount','type_4','type_3','type_0','type_1','oldbalanceOrg','newbalanceOrig','oldbalanceDest','newbalanceDest','type_2']\n",
    "features = ['amount','type_4','type_3','type_0','type_1','oldbalanceOrg','newbalanceOrig','oldbalanceDest','newbalanceDest','varOrig']\n",
    "features = ['amount','type_4','type_3','type_0','type_1','oldbalanceOrg','newbalanceOrig','oldbalanceDest','type_2','varOrig'] ##\n",
    "features = ['amount','type_4','type_3','type_0','type_1','oldbalanceOrg','newbalanceOrig','oldbalanceDest','type_2']\n",
    "features = ['amount','type_4','type_3','type_0','type_1','oldbalanceOrg','newbalanceOrig','oldbalanceDest','varOrig'] \n",
    "features = ['amount','type_4','type_3','type_0','type_1','oldbalanceOrg','newbalanceOrig','type_2','varOrig'] ##\n",
    "features = ['amount','type_4','type_3','type_0','type_1','oldbalanceOrg','type_2','varOrig']\n",
    "features = ['amount','type_4','type_3','type_0','type_1','newbalanceOrig','type_2','varOrig'] \n",
    "\n",
    "\n",
    "# Numero de repetições do experimento\n",
    "for i in range(5): \n",
    "    \n",
    "    \n",
    "    #Validação cruzada com 10 kfolds\n",
    "    kfold = KFold(n_splits = 10, shuffle = True, random_state = i)\n",
    "    \n",
    "    print(\"Fazendo gridsearch - Repeticao %s\" % (i+1))\n",
    "    \n",
    "    \n",
    "    # itera sobre parametro 1:\n",
    "    for k in max_depth:\n",
    "\n",
    "        \n",
    "        # itera sobre parametro 2:\n",
    "        for u in min_samples_split:\n",
    "            \n",
    "            #itera sobre o parametro 3:\n",
    "            for w in min_samples_leaf:\n",
    "                \n",
    "                #itera sobre parametro 4\n",
    "                for v in criterion:\n",
    "                    \n",
    "                    for fator in fator_balanceamento:\n",
    "                        #print(fator)\n",
    "                        #print(\"Fazendo gridsearch - Repeticao %s\" %(i+1))\n",
    "                        \n",
    "                        #Selecionando apenas as features de interesse:\n",
    "                        X_features = X_balanc[features]\n",
    "\n",
    "                        #Separação em dados de 70% treino e 30% teste\n",
    "                        X_train, X_test, y_train, y_test = train_test_split(X_features, y_balanc, test_size=0.3, random_state=i, stratify=y_balanc)\n",
    "                        \n",
    "                        gs = GridSearchCV(\n",
    "                                RandomForestClassifier(random_state=i) ,\n",
    "                                param_grid={\"max_depth\": [k], \n",
    "                                            \"min_samples_split\":[u],\n",
    "                                            \"min_samples_leaf\":[w],\n",
    "                                            \"criterion\":[v]}, \n",
    "                                scoring=scoring,\n",
    "                                refit=\"bacuracy\",\n",
    "                                n_jobs=2,\n",
    "                                return_train_score=True,\n",
    "                                cv = kfold\n",
    "                                    )\n",
    "                            \n",
    "                        #gs = RandomForestClassifier(random_state=i)\n",
    "\n",
    "                        #Treinando o modelo com dados de treino c/ 9 folds e utilizando 1 fold para teste\n",
    "                        gs.fit(X_train, y_train)\n",
    "\n",
    "                        #Melhores resultados e hiperparâmetros encontrados\n",
    "                           \n",
    "                        #acuracy_treino = gs.best_score_\n",
    "                        scoretreino = gs.score(X_train,y_train)\n",
    "                            \n",
    "                        ##Predizendo as classes nos dados de teste e todos dados, utilizando os melhores parâmetros\n",
    "                        y_test_pred = gs.predict(X_test)\n",
    "                        y_valid_pred = gs.predict(X_valid[features])\n",
    "\n",
    "                            \n",
    "                        #Calculando acurácia \n",
    "                        accuracy_teste = accuracy_score(y_test, y_test_pred)\n",
    "                        acuracy_valid = accuracy_score(y_valid, y_valid_pred)\n",
    "                        \n",
    "                        #Calculando Recall clase 1\n",
    "                        rec0_teste = recall_score(y_test, y_test_pred, pos_label=0)\n",
    "                        rec1_teste = recall_score(y_test, y_test_pred, pos_label=1)\n",
    "                        rec_0_valid = recall_score(y_valid, y_valid_pred, pos_label=0)\n",
    "                        rec_1_valid = recall_score(y_valid, y_valid_pred, pos_label=1)\n",
    "                        \n",
    "                        #calculando auc\n",
    "                        auc_test = roc_auc_score(y_test, y_test_pred)\n",
    "                        auc_valid = roc_auc_score(y_valid, y_valid_pred)\n",
    "                        \n",
    "                        exemplos_minoritarios_ratio = fator/(fator+1)\n",
    "                        \n",
    "                        conjunto_features = ','.join(features)\n",
    "                        \n",
    "                        # Adicionando todos resultados em uma única lista\n",
    "                        resultados.append(np.array([conjunto_features,scoretreino,accuracy_teste,rec0_teste,rec1_teste,auc_test,acuracy_valid,rec_0_valid,rec_1_valid,auc_valid]))"
   ]
  },
  {
   "cell_type": "code",
   "execution_count": 130,
   "metadata": {},
   "outputs": [
    {
     "data": {
      "text/html": [
       "<div>\n",
       "<style scoped>\n",
       "    .dataframe tbody tr th:only-of-type {\n",
       "        vertical-align: middle;\n",
       "    }\n",
       "\n",
       "    .dataframe tbody tr th {\n",
       "        vertical-align: top;\n",
       "    }\n",
       "\n",
       "    .dataframe thead th {\n",
       "        text-align: right;\n",
       "    }\n",
       "</style>\n",
       "<table border=\"1\" class=\"dataframe\">\n",
       "  <thead>\n",
       "    <tr style=\"text-align: right;\">\n",
       "      <th></th>\n",
       "      <th>acuracy_treino</th>\n",
       "      <th>acuracia_teste</th>\n",
       "      <th>rec_0_teste</th>\n",
       "      <th>rec_1_teste</th>\n",
       "      <th>auc_teste</th>\n",
       "      <th>acuracia_valid</th>\n",
       "      <th>rec_0_valid</th>\n",
       "      <th>rec_1_valid</th>\n",
       "      <th>auc_valid</th>\n",
       "    </tr>\n",
       "    <tr>\n",
       "      <th>features</th>\n",
       "      <th></th>\n",
       "      <th></th>\n",
       "      <th></th>\n",
       "      <th></th>\n",
       "      <th></th>\n",
       "      <th></th>\n",
       "      <th></th>\n",
       "      <th></th>\n",
       "      <th></th>\n",
       "    </tr>\n",
       "  </thead>\n",
       "  <tbody>\n",
       "    <tr>\n",
       "      <th>amount,type_4,type_3,type_0,type_1,oldbalanceOrg,newbalanceOrig,type_2,varOrig</th>\n",
       "      <td>1.000000</td>\n",
       "      <td>0.982995</td>\n",
       "      <td>0.976542</td>\n",
       "      <td>0.989448</td>\n",
       "      <td>0.982995</td>\n",
       "      <td>0.989013</td>\n",
       "      <td>0.987057</td>\n",
       "      <td>0.996834</td>\n",
       "      <td>0.991946</td>\n",
       "    </tr>\n",
       "    <tr>\n",
       "      <th>amount,type_4,type_3,type_0,type_1,oldbalanceOrg,type_2,varOrig</th>\n",
       "      <td>1.000000</td>\n",
       "      <td>0.982792</td>\n",
       "      <td>0.976380</td>\n",
       "      <td>0.989205</td>\n",
       "      <td>0.982792</td>\n",
       "      <td>0.988978</td>\n",
       "      <td>0.987033</td>\n",
       "      <td>0.996761</td>\n",
       "      <td>0.991897</td>\n",
       "    </tr>\n",
       "    <tr>\n",
       "      <th>amount,type_4,type_3,type_0,type_1,oldbalanceOrg,newbalanceOrig,oldbalanceDest,varOrig</th>\n",
       "      <td>1.000000</td>\n",
       "      <td>0.982346</td>\n",
       "      <td>0.982955</td>\n",
       "      <td>0.981737</td>\n",
       "      <td>0.982346</td>\n",
       "      <td>0.988467</td>\n",
       "      <td>0.986954</td>\n",
       "      <td>0.994521</td>\n",
       "      <td>0.990737</td>\n",
       "    </tr>\n",
       "    <tr>\n",
       "      <th>amount,type_4,type_3,type_0,type_1,oldbalanceOrg,newbalanceOrig,oldbalanceDest,type_2,varOrig</th>\n",
       "      <td>1.000000</td>\n",
       "      <td>0.982549</td>\n",
       "      <td>0.983523</td>\n",
       "      <td>0.981575</td>\n",
       "      <td>0.982549</td>\n",
       "      <td>0.988472</td>\n",
       "      <td>0.986972</td>\n",
       "      <td>0.994472</td>\n",
       "      <td>0.990722</td>\n",
       "    </tr>\n",
       "    <tr>\n",
       "      <th>amount,type_4,type_3,type_0,type_1,oldbalanceOrg,newbalanceOrig,oldbalanceDest,type_2</th>\n",
       "      <td>1.000000</td>\n",
       "      <td>0.982508</td>\n",
       "      <td>0.983198</td>\n",
       "      <td>0.981818</td>\n",
       "      <td>0.982508</td>\n",
       "      <td>0.987810</td>\n",
       "      <td>0.986126</td>\n",
       "      <td>0.994545</td>\n",
       "      <td>0.990335</td>\n",
       "    </tr>\n",
       "    <tr>\n",
       "      <th>amount,type_4,type_3,type_0,type_1,oldbalanceOrg,newbalanceOrig,oldbalanceDest,newbalanceDest,type_2,varOrig</th>\n",
       "      <td>1.000000</td>\n",
       "      <td>0.983421</td>\n",
       "      <td>0.985917</td>\n",
       "      <td>0.980925</td>\n",
       "      <td>0.983421</td>\n",
       "      <td>0.987257</td>\n",
       "      <td>0.985502</td>\n",
       "      <td>0.994277</td>\n",
       "      <td>0.989890</td>\n",
       "    </tr>\n",
       "    <tr>\n",
       "      <th>amount,type_4,type_3,type_0,type_1,oldbalanceOrg,newbalanceOrig,oldbalanceDest,newbalanceDest,varOrig</th>\n",
       "      <td>1.000000</td>\n",
       "      <td>0.982427</td>\n",
       "      <td>0.984253</td>\n",
       "      <td>0.980601</td>\n",
       "      <td>0.982427</td>\n",
       "      <td>0.987206</td>\n",
       "      <td>0.985462</td>\n",
       "      <td>0.994180</td>\n",
       "      <td>0.989821</td>\n",
       "    </tr>\n",
       "    <tr>\n",
       "      <th>amount,type_4,type_3,type_0,type_1,oldbalanceOrg,newbalanceOrig,oldbalanceDest,newbalanceDest,type_2,varOrig,varDest</th>\n",
       "      <td>1.000000</td>\n",
       "      <td>0.982914</td>\n",
       "      <td>0.985511</td>\n",
       "      <td>0.980317</td>\n",
       "      <td>0.982914</td>\n",
       "      <td>0.986984</td>\n",
       "      <td>0.985206</td>\n",
       "      <td>0.994095</td>\n",
       "      <td>0.989651</td>\n",
       "    </tr>\n",
       "    <tr>\n",
       "      <th>amount,type_4,type_3,type_0,type_1,oldbalanceOrg,newbalanceOrig,oldbalanceDest,newbalanceDest,type_2</th>\n",
       "      <td>1.000000</td>\n",
       "      <td>0.983076</td>\n",
       "      <td>0.985268</td>\n",
       "      <td>0.980885</td>\n",
       "      <td>0.983076</td>\n",
       "      <td>0.986818</td>\n",
       "      <td>0.984957</td>\n",
       "      <td>0.994265</td>\n",
       "      <td>0.989611</td>\n",
       "    </tr>\n",
       "    <tr>\n",
       "      <th>amount,type_4,type_3,type_0,type_1,newbalanceOrig,type_2,varOrig</th>\n",
       "      <td>0.998782</td>\n",
       "      <td>0.873823</td>\n",
       "      <td>0.869643</td>\n",
       "      <td>0.878003</td>\n",
       "      <td>0.873823</td>\n",
       "      <td>0.876922</td>\n",
       "      <td>0.855674</td>\n",
       "      <td>0.961914</td>\n",
       "      <td>0.908794</td>\n",
       "    </tr>\n",
       "  </tbody>\n",
       "</table>\n",
       "</div>"
      ],
      "text/plain": [
       "                                                    acuracy_treino  \\\n",
       "features                                                             \n",
       "amount,type_4,type_3,type_0,type_1,oldbalanceOr...        1.000000   \n",
       "amount,type_4,type_3,type_0,type_1,oldbalanceOr...        1.000000   \n",
       "amount,type_4,type_3,type_0,type_1,oldbalanceOr...        1.000000   \n",
       "amount,type_4,type_3,type_0,type_1,oldbalanceOr...        1.000000   \n",
       "amount,type_4,type_3,type_0,type_1,oldbalanceOr...        1.000000   \n",
       "amount,type_4,type_3,type_0,type_1,oldbalanceOr...        1.000000   \n",
       "amount,type_4,type_3,type_0,type_1,oldbalanceOr...        1.000000   \n",
       "amount,type_4,type_3,type_0,type_1,oldbalanceOr...        1.000000   \n",
       "amount,type_4,type_3,type_0,type_1,oldbalanceOr...        1.000000   \n",
       "amount,type_4,type_3,type_0,type_1,newbalanceOr...        0.998782   \n",
       "\n",
       "                                                    acuracia_teste  \\\n",
       "features                                                             \n",
       "amount,type_4,type_3,type_0,type_1,oldbalanceOr...        0.982995   \n",
       "amount,type_4,type_3,type_0,type_1,oldbalanceOr...        0.982792   \n",
       "amount,type_4,type_3,type_0,type_1,oldbalanceOr...        0.982346   \n",
       "amount,type_4,type_3,type_0,type_1,oldbalanceOr...        0.982549   \n",
       "amount,type_4,type_3,type_0,type_1,oldbalanceOr...        0.982508   \n",
       "amount,type_4,type_3,type_0,type_1,oldbalanceOr...        0.983421   \n",
       "amount,type_4,type_3,type_0,type_1,oldbalanceOr...        0.982427   \n",
       "amount,type_4,type_3,type_0,type_1,oldbalanceOr...        0.982914   \n",
       "amount,type_4,type_3,type_0,type_1,oldbalanceOr...        0.983076   \n",
       "amount,type_4,type_3,type_0,type_1,newbalanceOr...        0.873823   \n",
       "\n",
       "                                                    rec_0_teste  rec_1_teste  \\\n",
       "features                                                                       \n",
       "amount,type_4,type_3,type_0,type_1,oldbalanceOr...     0.976542     0.989448   \n",
       "amount,type_4,type_3,type_0,type_1,oldbalanceOr...     0.976380     0.989205   \n",
       "amount,type_4,type_3,type_0,type_1,oldbalanceOr...     0.982955     0.981737   \n",
       "amount,type_4,type_3,type_0,type_1,oldbalanceOr...     0.983523     0.981575   \n",
       "amount,type_4,type_3,type_0,type_1,oldbalanceOr...     0.983198     0.981818   \n",
       "amount,type_4,type_3,type_0,type_1,oldbalanceOr...     0.985917     0.980925   \n",
       "amount,type_4,type_3,type_0,type_1,oldbalanceOr...     0.984253     0.980601   \n",
       "amount,type_4,type_3,type_0,type_1,oldbalanceOr...     0.985511     0.980317   \n",
       "amount,type_4,type_3,type_0,type_1,oldbalanceOr...     0.985268     0.980885   \n",
       "amount,type_4,type_3,type_0,type_1,newbalanceOr...     0.869643     0.878003   \n",
       "\n",
       "                                                    auc_teste  acuracia_valid  \\\n",
       "features                                                                        \n",
       "amount,type_4,type_3,type_0,type_1,oldbalanceOr...   0.982995        0.989013   \n",
       "amount,type_4,type_3,type_0,type_1,oldbalanceOr...   0.982792        0.988978   \n",
       "amount,type_4,type_3,type_0,type_1,oldbalanceOr...   0.982346        0.988467   \n",
       "amount,type_4,type_3,type_0,type_1,oldbalanceOr...   0.982549        0.988472   \n",
       "amount,type_4,type_3,type_0,type_1,oldbalanceOr...   0.982508        0.987810   \n",
       "amount,type_4,type_3,type_0,type_1,oldbalanceOr...   0.983421        0.987257   \n",
       "amount,type_4,type_3,type_0,type_1,oldbalanceOr...   0.982427        0.987206   \n",
       "amount,type_4,type_3,type_0,type_1,oldbalanceOr...   0.982914        0.986984   \n",
       "amount,type_4,type_3,type_0,type_1,oldbalanceOr...   0.983076        0.986818   \n",
       "amount,type_4,type_3,type_0,type_1,newbalanceOr...   0.873823        0.876922   \n",
       "\n",
       "                                                    rec_0_valid  rec_1_valid  \\\n",
       "features                                                                       \n",
       "amount,type_4,type_3,type_0,type_1,oldbalanceOr...     0.987057     0.996834   \n",
       "amount,type_4,type_3,type_0,type_1,oldbalanceOr...     0.987033     0.996761   \n",
       "amount,type_4,type_3,type_0,type_1,oldbalanceOr...     0.986954     0.994521   \n",
       "amount,type_4,type_3,type_0,type_1,oldbalanceOr...     0.986972     0.994472   \n",
       "amount,type_4,type_3,type_0,type_1,oldbalanceOr...     0.986126     0.994545   \n",
       "amount,type_4,type_3,type_0,type_1,oldbalanceOr...     0.985502     0.994277   \n",
       "amount,type_4,type_3,type_0,type_1,oldbalanceOr...     0.985462     0.994180   \n",
       "amount,type_4,type_3,type_0,type_1,oldbalanceOr...     0.985206     0.994095   \n",
       "amount,type_4,type_3,type_0,type_1,oldbalanceOr...     0.984957     0.994265   \n",
       "amount,type_4,type_3,type_0,type_1,newbalanceOr...     0.855674     0.961914   \n",
       "\n",
       "                                                    auc_valid  \n",
       "features                                                       \n",
       "amount,type_4,type_3,type_0,type_1,oldbalanceOr...   0.991946  \n",
       "amount,type_4,type_3,type_0,type_1,oldbalanceOr...   0.991897  \n",
       "amount,type_4,type_3,type_0,type_1,oldbalanceOr...   0.990737  \n",
       "amount,type_4,type_3,type_0,type_1,oldbalanceOr...   0.990722  \n",
       "amount,type_4,type_3,type_0,type_1,oldbalanceOr...   0.990335  \n",
       "amount,type_4,type_3,type_0,type_1,oldbalanceOr...   0.989890  \n",
       "amount,type_4,type_3,type_0,type_1,oldbalanceOr...   0.989821  \n",
       "amount,type_4,type_3,type_0,type_1,oldbalanceOr...   0.989651  \n",
       "amount,type_4,type_3,type_0,type_1,oldbalanceOr...   0.989611  \n",
       "amount,type_4,type_3,type_0,type_1,newbalanceOr...   0.908794  "
      ]
     },
     "execution_count": 130,
     "metadata": {},
     "output_type": "execute_result"
    }
   ],
   "source": [
    "resultados_df = pd.DataFrame(np.array(resultados), columns=['features','acuracy_treino','acuracia_teste','rec_0_teste','rec_1_teste','auc_teste','acuracia_valid','rec_0_valid','rec_1_valid','auc_valid'])\n",
    "resultados_df['auc_teste'] = resultados_df['auc_teste'].astype(float, errors = 'raise')\n",
    "resultados_df['auc_valid'] = resultados_df['auc_valid'].astype(float, errors = 'raise')\n",
    "resultados_df.astype({'features': 'str','acuracy_treino': 'float','acuracia_teste': 'float','rec_0_teste': 'float','rec_1_teste': 'float','auc_teste': 'float', 'acuracia_valid': 'float','rec_0_valid': 'float','rec_1_valid': 'float','auc_valid': 'float'  }).groupby(['features']).agg({'acuracy_treino':np.mean, 'acuracia_teste':np.mean, 'rec_0_teste':np.mean, 'rec_1_teste':np.mean, 'auc_teste':np.mean, 'acuracia_valid':np.mean, 'rec_0_valid':np.mean, 'rec_1_valid':np.mean, 'auc_valid':np.mean}).sort_values(by='auc_valid', ascending=False).head(50)"
   ]
  },
  {
   "cell_type": "code",
   "execution_count": 131,
   "metadata": {},
   "outputs": [],
   "source": [
    "features_selecionadas = ['amount','type_4','type_3','type_0','type_1','oldbalanceOrg','newbalanceOrig','type_2','varOrig']"
   ]
  },
  {
   "cell_type": "markdown",
   "metadata": {},
   "source": [
    "# 7 Machine Learning - Random Forest"
   ]
  },
  {
   "cell_type": "code",
   "execution_count": 152,
   "metadata": {},
   "outputs": [],
   "source": [
    "features_selecionadas = ['amount','type_4','type_3','type_0','type_1','oldbalanceOrg','newbalanceOrig','type_2','varOrig']"
   ]
  },
  {
   "cell_type": "code",
   "execution_count": 155,
   "metadata": {},
   "outputs": [],
   "source": [
    "acuracia_dados = make_scorer(accuracy_score)\n",
    "f1_dados = make_scorer(f1_score)\n",
    "balanced_acc_dados = make_scorer(balanced_accuracy_score)\n",
    "scoring = {\"accuracy\": acuracia_dados, \"f1\":f1_dados, \"bacuracy\":balanced_acc_dados}\n",
    "resultados = []"
   ]
  },
  {
   "cell_type": "code",
   "execution_count": 158,
   "metadata": {},
   "outputs": [
    {
     "name": "stdout",
     "output_type": "stream",
     "text": [
      "Fazendo gridsearch - iteracao 1 de um total de 28\n",
      "Fazendo gridsearch - iteracao 2 de um total de 28\n",
      "Fazendo gridsearch - iteracao 3 de um total de 28\n",
      "Fazendo gridsearch - iteracao 4 de um total de 28\n",
      "Fazendo gridsearch - iteracao 5 de um total de 28\n",
      "Fazendo gridsearch - iteracao 6 de um total de 28\n",
      "Fazendo gridsearch - iteracao 7 de um total de 28\n",
      "Fazendo gridsearch - iteracao 8 de um total de 28\n",
      "Fazendo gridsearch - iteracao 9 de um total de 28\n",
      "Fazendo gridsearch - iteracao 10 de um total de 28\n",
      "Fazendo gridsearch - iteracao 11 de um total de 28\n",
      "Fazendo gridsearch - iteracao 12 de um total de 28\n",
      "Fazendo gridsearch - iteracao 13 de um total de 28\n",
      "Fazendo gridsearch - iteracao 14 de um total de 28\n",
      "Fazendo gridsearch - iteracao 15 de um total de 28\n",
      "Fazendo gridsearch - iteracao 16 de um total de 28\n",
      "Fazendo gridsearch - iteracao 17 de um total de 28\n",
      "Fazendo gridsearch - iteracao 18 de um total de 28\n",
      "Fazendo gridsearch - iteracao 19 de um total de 28\n",
      "Fazendo gridsearch - iteracao 20 de um total de 28\n",
      "Fazendo gridsearch - iteracao 21 de um total de 28\n",
      "Fazendo gridsearch - iteracao 22 de um total de 28\n",
      "Fazendo gridsearch - iteracao 23 de um total de 28\n",
      "Fazendo gridsearch - iteracao 24 de um total de 28\n",
      "Fazendo gridsearch - iteracao 25 de um total de 28\n",
      "Fazendo gridsearch - iteracao 26 de um total de 28\n",
      "Fazendo gridsearch - iteracao 27 de um total de 28\n",
      "Fazendo gridsearch - iteracao 28 de um total de 28\n"
     ]
    }
   ],
   "source": [
    "# Numero de repetições do experimento\n",
    "repeticoes = 7\n",
    "\n",
    "#fator_balanceamento = [1]\n",
    "#max_depth = [None]\n",
    "#min_samples_split = [2]\n",
    "#min_samples_leaf = [1] \n",
    "#criterion = ['gini']\n",
    "\n",
    "fator_balanceamento = [1]\n",
    "max_depth = [5,10,20]\n",
    "min_samples_split = [2,5,10]\n",
    "min_samples_leaf = [1,5,10] \n",
    "criterion = ['gini','entropy']\n",
    "\n",
    "fator_balanceamento = [1]\n",
    "max_depth = [None,25,30,35]\n",
    "min_samples_split = [2]\n",
    "min_samples_leaf = [1] \n",
    "criterion = ['entropy']\n",
    "\n",
    "num_iteracoes = repeticoes*len(fator_balanceamento)*len(max_depth)*len(min_samples_split)*len(min_samples_leaf)*len(criterion)\n",
    "iteracao = 1\n",
    "\n",
    "for i in range(repeticoes): \n",
    "    \n",
    "    #Validação cruzada com 10 kfolds\n",
    "    kfold = KFold(n_splits = 10, shuffle = True, random_state = i)\n",
    "        \n",
    "    # itera sobre parametro 1:\n",
    "    for k in max_depth:\n",
    "\n",
    "        \n",
    "        # itera sobre parametro 2:\n",
    "        for u in min_samples_split:\n",
    "            \n",
    "            #itera sobre o parametro 3:\n",
    "            for w in min_samples_leaf:\n",
    "                \n",
    "                #itera sobre parametro 4\n",
    "                for v in criterion:\n",
    "                    \n",
    "                    for fator in fator_balanceamento:\n",
    "                        \n",
    "                        print(\"Fazendo gridsearch - iteracao %s de um total de %s\" % (iteracao,num_iteracoes ))\n",
    "                        iteracao = iteracao + 1\n",
    "                        \n",
    "\n",
    "                        X_train, X_test, y_train, y_test = train_test_split(X_balanc[features_selecionadas], y_balanc, test_size=0.3, random_state=i, stratify=y_balanc)\n",
    "                        \n",
    "                        gs = GridSearchCV(\n",
    "                                RandomForestClassifier(random_state=i) ,\n",
    "                                param_grid={\"max_depth\": [k], \n",
    "                                            \"min_samples_split\":[u],\n",
    "                                            \"min_samples_leaf\":[w],\n",
    "                                            \"criterion\":[v]}, \n",
    "                                scoring=scoring,\n",
    "                                refit=\"bacuracy\",\n",
    "                                n_jobs=2,\n",
    "                                return_train_score=True,\n",
    "                                cv = kfold\n",
    "                                    )\n",
    "                            \n",
    "                        #gs = RandomForestClassifier(random_state=i)\n",
    "\n",
    "                        #Treinando o modelo com dados de treino c/ 9 folds e utilizando 1 fold para teste\n",
    "                        gs.fit(X_train, y_train)\n",
    "\n",
    "                        #Melhores resultados e hiperparâmetros encontrados\n",
    "                           \n",
    "                        #acuracy_treino = gs.best_score_\n",
    "                        scoretreino = gs.score(X_train,y_train)\n",
    "                            \n",
    "                        ##Predizendo as classes nos dados de teste e todos dados, utilizando os melhores parâmetros\n",
    "                        y_test_pred = gs.predict(X_test)\n",
    "                        y_valid_pred = gs.predict(X_valid[features_selecionadas])\n",
    "\n",
    "                            \n",
    "                        #Calculando acurácia \n",
    "                        accuracy_teste = accuracy_score(y_test, y_test_pred)\n",
    "                        acuracy_valid = accuracy_score(y_valid, y_valid_pred)\n",
    "                        \n",
    "                        #Calculando Recall clase 1\n",
    "                        rec0_teste = recall_score(y_test, y_test_pred, pos_label=0)\n",
    "                        rec1_teste = recall_score(y_test, y_test_pred, pos_label=1)\n",
    "                        rec_0_valid = recall_score(y_valid, y_valid_pred, pos_label=0)\n",
    "                        rec_1_valid = recall_score(y_valid, y_valid_pred, pos_label=1)\n",
    "                        \n",
    "                        #calculando auc\n",
    "                        auc_test = roc_auc_score(y_test, y_test_pred)\n",
    "                        auc_valid = roc_auc_score(y_valid, y_valid_pred)\n",
    "                        \n",
    "                        exemplos_minoritarios_ratio = fator/(fator+1)\n",
    "                        \n",
    "                        # Adicionando todos resultados em uma única lista\n",
    "                        resultados.append(np.array([exemplos_minoritarios_ratio,k,u,w,v,scoretreino,accuracy_teste,rec0_teste,rec1_teste,auc_test,acuracy_valid,rec_0_valid,rec_1_valid,auc_valid]))"
   ]
  },
  {
   "cell_type": "code",
   "execution_count": 159,
   "metadata": {},
   "outputs": [
    {
     "data": {
      "text/html": [
       "<div>\n",
       "<style scoped>\n",
       "    .dataframe tbody tr th:only-of-type {\n",
       "        vertical-align: middle;\n",
       "    }\n",
       "\n",
       "    .dataframe tbody tr th {\n",
       "        vertical-align: top;\n",
       "    }\n",
       "\n",
       "    .dataframe thead th {\n",
       "        text-align: right;\n",
       "    }\n",
       "</style>\n",
       "<table border=\"1\" class=\"dataframe\">\n",
       "  <thead>\n",
       "    <tr style=\"text-align: right;\">\n",
       "      <th></th>\n",
       "      <th></th>\n",
       "      <th></th>\n",
       "      <th></th>\n",
       "      <th></th>\n",
       "      <th>acuracy_treino</th>\n",
       "      <th>acuracia_teste</th>\n",
       "      <th>rec_0_teste</th>\n",
       "      <th>rec_1_teste</th>\n",
       "      <th>auc_teste</th>\n",
       "      <th>acuracia_valid</th>\n",
       "      <th>rec_0_valid</th>\n",
       "      <th>rec_1_valid</th>\n",
       "      <th>auc_valid</th>\n",
       "    </tr>\n",
       "    <tr>\n",
       "      <th>ratio_exemplos</th>\n",
       "      <th>max_depth</th>\n",
       "      <th>min_samples_split</th>\n",
       "      <th>min_samples_leaf</th>\n",
       "      <th>criterion</th>\n",
       "      <th></th>\n",
       "      <th></th>\n",
       "      <th></th>\n",
       "      <th></th>\n",
       "      <th></th>\n",
       "      <th></th>\n",
       "      <th></th>\n",
       "      <th></th>\n",
       "      <th></th>\n",
       "    </tr>\n",
       "  </thead>\n",
       "  <tbody>\n",
       "    <tr>\n",
       "      <th rowspan=\"50\" valign=\"top\">0.5</th>\n",
       "      <th>None</th>\n",
       "      <th>2</th>\n",
       "      <th>1</th>\n",
       "      <th>entropy</th>\n",
       "      <td>1.000000</td>\n",
       "      <td>0.983592</td>\n",
       "      <td>0.977563</td>\n",
       "      <td>0.989622</td>\n",
       "      <td>0.983592</td>\n",
       "      <td>0.989355</td>\n",
       "      <td>0.987472</td>\n",
       "      <td>0.996886</td>\n",
       "      <td>0.992179</td>\n",
       "    </tr>\n",
       "    <tr>\n",
       "      <th>35</th>\n",
       "      <th>2</th>\n",
       "      <th>1</th>\n",
       "      <th>entropy</th>\n",
       "      <td>1.000000</td>\n",
       "      <td>0.983592</td>\n",
       "      <td>0.977563</td>\n",
       "      <td>0.989622</td>\n",
       "      <td>0.983592</td>\n",
       "      <td>0.989355</td>\n",
       "      <td>0.987472</td>\n",
       "      <td>0.996886</td>\n",
       "      <td>0.992179</td>\n",
       "    </tr>\n",
       "    <tr>\n",
       "      <th>30</th>\n",
       "      <th>2</th>\n",
       "      <th>1</th>\n",
       "      <th>entropy</th>\n",
       "      <td>1.000000</td>\n",
       "      <td>0.983592</td>\n",
       "      <td>0.977563</td>\n",
       "      <td>0.989622</td>\n",
       "      <td>0.983592</td>\n",
       "      <td>0.989355</td>\n",
       "      <td>0.987472</td>\n",
       "      <td>0.996886</td>\n",
       "      <td>0.992179</td>\n",
       "    </tr>\n",
       "    <tr>\n",
       "      <th>25</th>\n",
       "      <th>2</th>\n",
       "      <th>1</th>\n",
       "      <th>entropy</th>\n",
       "      <td>1.000000</td>\n",
       "      <td>0.983563</td>\n",
       "      <td>0.977737</td>\n",
       "      <td>0.989390</td>\n",
       "      <td>0.983563</td>\n",
       "      <td>0.989379</td>\n",
       "      <td>0.987520</td>\n",
       "      <td>0.996817</td>\n",
       "      <td>0.992168</td>\n",
       "    </tr>\n",
       "    <tr>\n",
       "      <th rowspan=\"18\" valign=\"top\">20</th>\n",
       "      <th rowspan=\"2\" valign=\"top\">2</th>\n",
       "      <th rowspan=\"2\" valign=\"top\">1</th>\n",
       "      <th>entropy</th>\n",
       "      <td>1.000000</td>\n",
       "      <td>0.983302</td>\n",
       "      <td>0.976693</td>\n",
       "      <td>0.989912</td>\n",
       "      <td>0.983302</td>\n",
       "      <td>0.989063</td>\n",
       "      <td>0.987085</td>\n",
       "      <td>0.996973</td>\n",
       "      <td>0.992029</td>\n",
       "    </tr>\n",
       "    <tr>\n",
       "      <th>gini</th>\n",
       "      <td>1.000000</td>\n",
       "      <td>0.983157</td>\n",
       "      <td>0.977099</td>\n",
       "      <td>0.989216</td>\n",
       "      <td>0.983157</td>\n",
       "      <td>0.989094</td>\n",
       "      <td>0.987176</td>\n",
       "      <td>0.996765</td>\n",
       "      <td>0.991970</td>\n",
       "    </tr>\n",
       "    <tr>\n",
       "      <th rowspan=\"2\" valign=\"top\">5</th>\n",
       "      <th rowspan=\"2\" valign=\"top\">1</th>\n",
       "      <th>entropy</th>\n",
       "      <td>0.999354</td>\n",
       "      <td>0.983099</td>\n",
       "      <td>0.977447</td>\n",
       "      <td>0.988752</td>\n",
       "      <td>0.983099</td>\n",
       "      <td>0.988937</td>\n",
       "      <td>0.987068</td>\n",
       "      <td>0.996417</td>\n",
       "      <td>0.991742</td>\n",
       "    </tr>\n",
       "    <tr>\n",
       "      <th>gini</th>\n",
       "      <td>0.999342</td>\n",
       "      <td>0.982636</td>\n",
       "      <td>0.976345</td>\n",
       "      <td>0.988926</td>\n",
       "      <td>0.982636</td>\n",
       "      <td>0.988736</td>\n",
       "      <td>0.986794</td>\n",
       "      <td>0.996504</td>\n",
       "      <td>0.991649</td>\n",
       "    </tr>\n",
       "    <tr>\n",
       "      <th rowspan=\"2\" valign=\"top\">10</th>\n",
       "      <th rowspan=\"2\" valign=\"top\">1</th>\n",
       "      <th>entropy</th>\n",
       "      <td>0.996422</td>\n",
       "      <td>0.981563</td>\n",
       "      <td>0.975301</td>\n",
       "      <td>0.987825</td>\n",
       "      <td>0.981563</td>\n",
       "      <td>0.987142</td>\n",
       "      <td>0.985037</td>\n",
       "      <td>0.995565</td>\n",
       "      <td>0.990301</td>\n",
       "    </tr>\n",
       "    <tr>\n",
       "      <th>gini</th>\n",
       "      <td>0.996148</td>\n",
       "      <td>0.981244</td>\n",
       "      <td>0.975244</td>\n",
       "      <td>0.987245</td>\n",
       "      <td>0.981244</td>\n",
       "      <td>0.987226</td>\n",
       "      <td>0.985263</td>\n",
       "      <td>0.995077</td>\n",
       "      <td>0.990170</td>\n",
       "    </tr>\n",
       "    <tr>\n",
       "      <th>5</th>\n",
       "      <th>5</th>\n",
       "      <th>entropy</th>\n",
       "      <td>0.989166</td>\n",
       "      <td>0.978229</td>\n",
       "      <td>0.971475</td>\n",
       "      <td>0.984984</td>\n",
       "      <td>0.978229</td>\n",
       "      <td>0.981973</td>\n",
       "      <td>0.979449</td>\n",
       "      <td>0.992068</td>\n",
       "      <td>0.985759</td>\n",
       "    </tr>\n",
       "    <tr>\n",
       "      <th>2</th>\n",
       "      <th>5</th>\n",
       "      <th>entropy</th>\n",
       "      <td>0.989166</td>\n",
       "      <td>0.978229</td>\n",
       "      <td>0.971475</td>\n",
       "      <td>0.984984</td>\n",
       "      <td>0.978229</td>\n",
       "      <td>0.981973</td>\n",
       "      <td>0.979449</td>\n",
       "      <td>0.992068</td>\n",
       "      <td>0.985759</td>\n",
       "    </tr>\n",
       "    <tr>\n",
       "      <th>10</th>\n",
       "      <th>5</th>\n",
       "      <th>entropy</th>\n",
       "      <td>0.989166</td>\n",
       "      <td>0.978229</td>\n",
       "      <td>0.971475</td>\n",
       "      <td>0.984984</td>\n",
       "      <td>0.978229</td>\n",
       "      <td>0.981973</td>\n",
       "      <td>0.979449</td>\n",
       "      <td>0.992068</td>\n",
       "      <td>0.985759</td>\n",
       "    </tr>\n",
       "    <tr>\n",
       "      <th>5</th>\n",
       "      <th>5</th>\n",
       "      <th>gini</th>\n",
       "      <td>0.988097</td>\n",
       "      <td>0.976838</td>\n",
       "      <td>0.971359</td>\n",
       "      <td>0.982317</td>\n",
       "      <td>0.976838</td>\n",
       "      <td>0.981107</td>\n",
       "      <td>0.978836</td>\n",
       "      <td>0.990190</td>\n",
       "      <td>0.984513</td>\n",
       "    </tr>\n",
       "    <tr>\n",
       "      <th>10</th>\n",
       "      <th>5</th>\n",
       "      <th>gini</th>\n",
       "      <td>0.988097</td>\n",
       "      <td>0.976838</td>\n",
       "      <td>0.971359</td>\n",
       "      <td>0.982317</td>\n",
       "      <td>0.976838</td>\n",
       "      <td>0.981107</td>\n",
       "      <td>0.978836</td>\n",
       "      <td>0.990190</td>\n",
       "      <td>0.984513</td>\n",
       "    </tr>\n",
       "    <tr>\n",
       "      <th>2</th>\n",
       "      <th>5</th>\n",
       "      <th>gini</th>\n",
       "      <td>0.988097</td>\n",
       "      <td>0.976838</td>\n",
       "      <td>0.971359</td>\n",
       "      <td>0.982317</td>\n",
       "      <td>0.976838</td>\n",
       "      <td>0.981107</td>\n",
       "      <td>0.978836</td>\n",
       "      <td>0.990190</td>\n",
       "      <td>0.984513</td>\n",
       "    </tr>\n",
       "    <tr>\n",
       "      <th>5</th>\n",
       "      <th>10</th>\n",
       "      <th>entropy</th>\n",
       "      <td>0.978071</td>\n",
       "      <td>0.968750</td>\n",
       "      <td>0.963300</td>\n",
       "      <td>0.974200</td>\n",
       "      <td>0.968750</td>\n",
       "      <td>0.971143</td>\n",
       "      <td>0.968273</td>\n",
       "      <td>0.982623</td>\n",
       "      <td>0.975448</td>\n",
       "    </tr>\n",
       "    <tr>\n",
       "      <th>10</th>\n",
       "      <th>10</th>\n",
       "      <th>entropy</th>\n",
       "      <td>0.978071</td>\n",
       "      <td>0.968750</td>\n",
       "      <td>0.963300</td>\n",
       "      <td>0.974200</td>\n",
       "      <td>0.968750</td>\n",
       "      <td>0.971143</td>\n",
       "      <td>0.968273</td>\n",
       "      <td>0.982623</td>\n",
       "      <td>0.975448</td>\n",
       "    </tr>\n",
       "    <tr>\n",
       "      <th>2</th>\n",
       "      <th>10</th>\n",
       "      <th>entropy</th>\n",
       "      <td>0.978071</td>\n",
       "      <td>0.968750</td>\n",
       "      <td>0.963300</td>\n",
       "      <td>0.974200</td>\n",
       "      <td>0.968750</td>\n",
       "      <td>0.971143</td>\n",
       "      <td>0.968273</td>\n",
       "      <td>0.982623</td>\n",
       "      <td>0.975448</td>\n",
       "    </tr>\n",
       "    <tr>\n",
       "      <th>10</th>\n",
       "      <th>10</th>\n",
       "      <th>gini</th>\n",
       "      <td>0.977226</td>\n",
       "      <td>0.967735</td>\n",
       "      <td>0.965561</td>\n",
       "      <td>0.969910</td>\n",
       "      <td>0.967735</td>\n",
       "      <td>0.971947</td>\n",
       "      <td>0.970265</td>\n",
       "      <td>0.978675</td>\n",
       "      <td>0.974470</td>\n",
       "    </tr>\n",
       "    <tr>\n",
       "      <th>2</th>\n",
       "      <th>10</th>\n",
       "      <th>gini</th>\n",
       "      <td>0.977226</td>\n",
       "      <td>0.967735</td>\n",
       "      <td>0.965561</td>\n",
       "      <td>0.969910</td>\n",
       "      <td>0.967735</td>\n",
       "      <td>0.971947</td>\n",
       "      <td>0.970265</td>\n",
       "      <td>0.978675</td>\n",
       "      <td>0.974470</td>\n",
       "    </tr>\n",
       "    <tr>\n",
       "      <th>5</th>\n",
       "      <th>10</th>\n",
       "      <th>gini</th>\n",
       "      <td>0.977226</td>\n",
       "      <td>0.967735</td>\n",
       "      <td>0.965561</td>\n",
       "      <td>0.969910</td>\n",
       "      <td>0.967735</td>\n",
       "      <td>0.971947</td>\n",
       "      <td>0.970265</td>\n",
       "      <td>0.978675</td>\n",
       "      <td>0.974470</td>\n",
       "    </tr>\n",
       "    <tr>\n",
       "      <th rowspan=\"18\" valign=\"top\">10</th>\n",
       "      <th>2</th>\n",
       "      <th>1</th>\n",
       "      <th>gini</th>\n",
       "      <td>0.976195</td>\n",
       "      <td>0.967590</td>\n",
       "      <td>0.981447</td>\n",
       "      <td>0.953734</td>\n",
       "      <td>0.967590</td>\n",
       "      <td>0.979044</td>\n",
       "      <td>0.983954</td>\n",
       "      <td>0.959402</td>\n",
       "      <td>0.971678</td>\n",
       "    </tr>\n",
       "    <tr>\n",
       "      <th>5</th>\n",
       "      <th>1</th>\n",
       "      <th>gini</th>\n",
       "      <td>0.975760</td>\n",
       "      <td>0.967272</td>\n",
       "      <td>0.981215</td>\n",
       "      <td>0.953328</td>\n",
       "      <td>0.967272</td>\n",
       "      <td>0.978814</td>\n",
       "      <td>0.983837</td>\n",
       "      <td>0.958724</td>\n",
       "      <td>0.971280</td>\n",
       "    </tr>\n",
       "    <tr>\n",
       "      <th>10</th>\n",
       "      <th>1</th>\n",
       "      <th>gini</th>\n",
       "      <td>0.975263</td>\n",
       "      <td>0.967156</td>\n",
       "      <td>0.981331</td>\n",
       "      <td>0.952980</td>\n",
       "      <td>0.967156</td>\n",
       "      <td>0.978751</td>\n",
       "      <td>0.983793</td>\n",
       "      <td>0.958585</td>\n",
       "      <td>0.971189</td>\n",
       "    </tr>\n",
       "    <tr>\n",
       "      <th>5</th>\n",
       "      <th>1</th>\n",
       "      <th>entropy</th>\n",
       "      <td>0.973809</td>\n",
       "      <td>0.967243</td>\n",
       "      <td>0.981853</td>\n",
       "      <td>0.952632</td>\n",
       "      <td>0.967243</td>\n",
       "      <td>0.978348</td>\n",
       "      <td>0.983754</td>\n",
       "      <td>0.956724</td>\n",
       "      <td>0.970239</td>\n",
       "    </tr>\n",
       "    <tr>\n",
       "      <th>2</th>\n",
       "      <th>1</th>\n",
       "      <th>entropy</th>\n",
       "      <td>0.973797</td>\n",
       "      <td>0.966634</td>\n",
       "      <td>0.981331</td>\n",
       "      <td>0.951936</td>\n",
       "      <td>0.966634</td>\n",
       "      <td>0.978334</td>\n",
       "      <td>0.983815</td>\n",
       "      <td>0.956411</td>\n",
       "      <td>0.970113</td>\n",
       "    </tr>\n",
       "    <tr>\n",
       "      <th>10</th>\n",
       "      <th>1</th>\n",
       "      <th>entropy</th>\n",
       "      <td>0.973374</td>\n",
       "      <td>0.966895</td>\n",
       "      <td>0.981911</td>\n",
       "      <td>0.951878</td>\n",
       "      <td>0.966895</td>\n",
       "      <td>0.978233</td>\n",
       "      <td>0.983758</td>\n",
       "      <td>0.956132</td>\n",
       "      <td>0.969945</td>\n",
       "    </tr>\n",
       "    <tr>\n",
       "      <th>5</th>\n",
       "      <th>5</th>\n",
       "      <th>gini</th>\n",
       "      <td>0.970082</td>\n",
       "      <td>0.963445</td>\n",
       "      <td>0.977910</td>\n",
       "      <td>0.948980</td>\n",
       "      <td>0.963445</td>\n",
       "      <td>0.974267</td>\n",
       "      <td>0.979214</td>\n",
       "      <td>0.954480</td>\n",
       "      <td>0.966847</td>\n",
       "    </tr>\n",
       "    <tr>\n",
       "      <th>2</th>\n",
       "      <th>5</th>\n",
       "      <th>gini</th>\n",
       "      <td>0.970082</td>\n",
       "      <td>0.963445</td>\n",
       "      <td>0.977910</td>\n",
       "      <td>0.948980</td>\n",
       "      <td>0.963445</td>\n",
       "      <td>0.974267</td>\n",
       "      <td>0.979214</td>\n",
       "      <td>0.954480</td>\n",
       "      <td>0.966847</td>\n",
       "    </tr>\n",
       "    <tr>\n",
       "      <th rowspan=\"2\" valign=\"top\">10</th>\n",
       "      <th rowspan=\"2\" valign=\"top\">5</th>\n",
       "      <th>gini</th>\n",
       "      <td>0.970082</td>\n",
       "      <td>0.963445</td>\n",
       "      <td>0.977910</td>\n",
       "      <td>0.948980</td>\n",
       "      <td>0.963445</td>\n",
       "      <td>0.974267</td>\n",
       "      <td>0.979214</td>\n",
       "      <td>0.954480</td>\n",
       "      <td>0.966847</td>\n",
       "    </tr>\n",
       "    <tr>\n",
       "      <th>entropy</th>\n",
       "      <td>0.968317</td>\n",
       "      <td>0.963184</td>\n",
       "      <td>0.977910</td>\n",
       "      <td>0.948458</td>\n",
       "      <td>0.963184</td>\n",
       "      <td>0.973721</td>\n",
       "      <td>0.978992</td>\n",
       "      <td>0.952636</td>\n",
       "      <td>0.965814</td>\n",
       "    </tr>\n",
       "    <tr>\n",
       "      <th>5</th>\n",
       "      <th>5</th>\n",
       "      <th>entropy</th>\n",
       "      <td>0.968317</td>\n",
       "      <td>0.963184</td>\n",
       "      <td>0.977910</td>\n",
       "      <td>0.948458</td>\n",
       "      <td>0.963184</td>\n",
       "      <td>0.973721</td>\n",
       "      <td>0.978992</td>\n",
       "      <td>0.952636</td>\n",
       "      <td>0.965814</td>\n",
       "    </tr>\n",
       "    <tr>\n",
       "      <th>2</th>\n",
       "      <th>5</th>\n",
       "      <th>entropy</th>\n",
       "      <td>0.968317</td>\n",
       "      <td>0.963184</td>\n",
       "      <td>0.977910</td>\n",
       "      <td>0.948458</td>\n",
       "      <td>0.963184</td>\n",
       "      <td>0.973721</td>\n",
       "      <td>0.978992</td>\n",
       "      <td>0.952636</td>\n",
       "      <td>0.965814</td>\n",
       "    </tr>\n",
       "    <tr>\n",
       "      <th>10</th>\n",
       "      <th>10</th>\n",
       "      <th>gini</th>\n",
       "      <td>0.961298</td>\n",
       "      <td>0.955792</td>\n",
       "      <td>0.970663</td>\n",
       "      <td>0.940921</td>\n",
       "      <td>0.955792</td>\n",
       "      <td>0.966708</td>\n",
       "      <td>0.971839</td>\n",
       "      <td>0.946183</td>\n",
       "      <td>0.959011</td>\n",
       "    </tr>\n",
       "    <tr>\n",
       "      <th>2</th>\n",
       "      <th>10</th>\n",
       "      <th>gini</th>\n",
       "      <td>0.961298</td>\n",
       "      <td>0.955792</td>\n",
       "      <td>0.970663</td>\n",
       "      <td>0.940921</td>\n",
       "      <td>0.955792</td>\n",
       "      <td>0.966708</td>\n",
       "      <td>0.971839</td>\n",
       "      <td>0.946183</td>\n",
       "      <td>0.959011</td>\n",
       "    </tr>\n",
       "    <tr>\n",
       "      <th>5</th>\n",
       "      <th>10</th>\n",
       "      <th>gini</th>\n",
       "      <td>0.961298</td>\n",
       "      <td>0.955792</td>\n",
       "      <td>0.970663</td>\n",
       "      <td>0.940921</td>\n",
       "      <td>0.955792</td>\n",
       "      <td>0.966708</td>\n",
       "      <td>0.971839</td>\n",
       "      <td>0.946183</td>\n",
       "      <td>0.959011</td>\n",
       "    </tr>\n",
       "    <tr>\n",
       "      <th>10</th>\n",
       "      <th>10</th>\n",
       "      <th>entropy</th>\n",
       "      <td>0.958962</td>\n",
       "      <td>0.953386</td>\n",
       "      <td>0.970895</td>\n",
       "      <td>0.935877</td>\n",
       "      <td>0.953386</td>\n",
       "      <td>0.965602</td>\n",
       "      <td>0.971491</td>\n",
       "      <td>0.942043</td>\n",
       "      <td>0.956767</td>\n",
       "    </tr>\n",
       "    <tr>\n",
       "      <th>2</th>\n",
       "      <th>10</th>\n",
       "      <th>entropy</th>\n",
       "      <td>0.958962</td>\n",
       "      <td>0.953386</td>\n",
       "      <td>0.970895</td>\n",
       "      <td>0.935877</td>\n",
       "      <td>0.953386</td>\n",
       "      <td>0.965602</td>\n",
       "      <td>0.971491</td>\n",
       "      <td>0.942043</td>\n",
       "      <td>0.956767</td>\n",
       "    </tr>\n",
       "    <tr>\n",
       "      <th>5</th>\n",
       "      <th>10</th>\n",
       "      <th>entropy</th>\n",
       "      <td>0.958962</td>\n",
       "      <td>0.953386</td>\n",
       "      <td>0.970895</td>\n",
       "      <td>0.935877</td>\n",
       "      <td>0.953386</td>\n",
       "      <td>0.965602</td>\n",
       "      <td>0.971491</td>\n",
       "      <td>0.942043</td>\n",
       "      <td>0.956767</td>\n",
       "    </tr>\n",
       "    <tr>\n",
       "      <th rowspan=\"10\" valign=\"top\">5</th>\n",
       "      <th>2</th>\n",
       "      <th>1</th>\n",
       "      <th>gini</th>\n",
       "      <td>0.931156</td>\n",
       "      <td>0.932108</td>\n",
       "      <td>0.977157</td>\n",
       "      <td>0.887059</td>\n",
       "      <td>0.932108</td>\n",
       "      <td>0.961375</td>\n",
       "      <td>0.980419</td>\n",
       "      <td>0.885199</td>\n",
       "      <td>0.932809</td>\n",
       "    </tr>\n",
       "    <tr>\n",
       "      <th>5</th>\n",
       "      <th>1</th>\n",
       "      <th>gini</th>\n",
       "      <td>0.931156</td>\n",
       "      <td>0.931934</td>\n",
       "      <td>0.976867</td>\n",
       "      <td>0.887001</td>\n",
       "      <td>0.931934</td>\n",
       "      <td>0.961309</td>\n",
       "      <td>0.980332</td>\n",
       "      <td>0.885217</td>\n",
       "      <td>0.932774</td>\n",
       "    </tr>\n",
       "    <tr>\n",
       "      <th>10</th>\n",
       "      <th>1</th>\n",
       "      <th>gini</th>\n",
       "      <td>0.931193</td>\n",
       "      <td>0.932021</td>\n",
       "      <td>0.976983</td>\n",
       "      <td>0.887059</td>\n",
       "      <td>0.932021</td>\n",
       "      <td>0.961229</td>\n",
       "      <td>0.980219</td>\n",
       "      <td>0.885269</td>\n",
       "      <td>0.932744</td>\n",
       "    </tr>\n",
       "    <tr>\n",
       "      <th>2</th>\n",
       "      <th>5</th>\n",
       "      <th>gini</th>\n",
       "      <td>0.929901</td>\n",
       "      <td>0.931006</td>\n",
       "      <td>0.974954</td>\n",
       "      <td>0.887059</td>\n",
       "      <td>0.931006</td>\n",
       "      <td>0.958839</td>\n",
       "      <td>0.977266</td>\n",
       "      <td>0.885130</td>\n",
       "      <td>0.931198</td>\n",
       "    </tr>\n",
       "    <tr>\n",
       "      <th>5</th>\n",
       "      <th>5</th>\n",
       "      <th>gini</th>\n",
       "      <td>0.929901</td>\n",
       "      <td>0.931006</td>\n",
       "      <td>0.974954</td>\n",
       "      <td>0.887059</td>\n",
       "      <td>0.931006</td>\n",
       "      <td>0.958839</td>\n",
       "      <td>0.977266</td>\n",
       "      <td>0.885130</td>\n",
       "      <td>0.931198</td>\n",
       "    </tr>\n",
       "    <tr>\n",
       "      <th>10</th>\n",
       "      <th>5</th>\n",
       "      <th>gini</th>\n",
       "      <td>0.929901</td>\n",
       "      <td>0.931006</td>\n",
       "      <td>0.974954</td>\n",
       "      <td>0.887059</td>\n",
       "      <td>0.931006</td>\n",
       "      <td>0.958839</td>\n",
       "      <td>0.977266</td>\n",
       "      <td>0.885130</td>\n",
       "      <td>0.931198</td>\n",
       "    </tr>\n",
       "    <tr>\n",
       "      <th>2</th>\n",
       "      <th>10</th>\n",
       "      <th>gini</th>\n",
       "      <td>0.929342</td>\n",
       "      <td>0.930775</td>\n",
       "      <td>0.973040</td>\n",
       "      <td>0.888509</td>\n",
       "      <td>0.930775</td>\n",
       "      <td>0.956748</td>\n",
       "      <td>0.974387</td>\n",
       "      <td>0.886191</td>\n",
       "      <td>0.930289</td>\n",
       "    </tr>\n",
       "    <tr>\n",
       "      <th>10</th>\n",
       "      <th>10</th>\n",
       "      <th>gini</th>\n",
       "      <td>0.929342</td>\n",
       "      <td>0.930775</td>\n",
       "      <td>0.973040</td>\n",
       "      <td>0.888509</td>\n",
       "      <td>0.930775</td>\n",
       "      <td>0.956748</td>\n",
       "      <td>0.974387</td>\n",
       "      <td>0.886191</td>\n",
       "      <td>0.930289</td>\n",
       "    </tr>\n",
       "    <tr>\n",
       "      <th rowspan=\"2\" valign=\"top\">5</th>\n",
       "      <th>10</th>\n",
       "      <th>gini</th>\n",
       "      <td>0.929342</td>\n",
       "      <td>0.930775</td>\n",
       "      <td>0.973040</td>\n",
       "      <td>0.888509</td>\n",
       "      <td>0.930775</td>\n",
       "      <td>0.956748</td>\n",
       "      <td>0.974387</td>\n",
       "      <td>0.886191</td>\n",
       "      <td>0.930289</td>\n",
       "    </tr>\n",
       "    <tr>\n",
       "      <th>1</th>\n",
       "      <th>entropy</th>\n",
       "      <td>0.929317</td>\n",
       "      <td>0.930195</td>\n",
       "      <td>0.976751</td>\n",
       "      <td>0.883639</td>\n",
       "      <td>0.930195</td>\n",
       "      <td>0.958707</td>\n",
       "      <td>0.977931</td>\n",
       "      <td>0.881808</td>\n",
       "      <td>0.929869</td>\n",
       "    </tr>\n",
       "  </tbody>\n",
       "</table>\n",
       "</div>"
      ],
      "text/plain": [
       "                                                                       acuracy_treino  \\\n",
       "ratio_exemplos max_depth min_samples_split min_samples_leaf criterion                   \n",
       "0.5            None      2                 1                entropy          1.000000   \n",
       "               35        2                 1                entropy          1.000000   \n",
       "               30        2                 1                entropy          1.000000   \n",
       "               25        2                 1                entropy          1.000000   \n",
       "               20        2                 1                entropy          1.000000   \n",
       "                                                            gini             1.000000   \n",
       "                         5                 1                entropy          0.999354   \n",
       "                                                            gini             0.999342   \n",
       "                         10                1                entropy          0.996422   \n",
       "                                                            gini             0.996148   \n",
       "                         5                 5                entropy          0.989166   \n",
       "                         2                 5                entropy          0.989166   \n",
       "                         10                5                entropy          0.989166   \n",
       "                         5                 5                gini             0.988097   \n",
       "                         10                5                gini             0.988097   \n",
       "                         2                 5                gini             0.988097   \n",
       "                         5                 10               entropy          0.978071   \n",
       "                         10                10               entropy          0.978071   \n",
       "                         2                 10               entropy          0.978071   \n",
       "                         10                10               gini             0.977226   \n",
       "                         2                 10               gini             0.977226   \n",
       "                         5                 10               gini             0.977226   \n",
       "               10        2                 1                gini             0.976195   \n",
       "                         5                 1                gini             0.975760   \n",
       "                         10                1                gini             0.975263   \n",
       "                         5                 1                entropy          0.973809   \n",
       "                         2                 1                entropy          0.973797   \n",
       "                         10                1                entropy          0.973374   \n",
       "                         5                 5                gini             0.970082   \n",
       "                         2                 5                gini             0.970082   \n",
       "                         10                5                gini             0.970082   \n",
       "                                                            entropy          0.968317   \n",
       "                         5                 5                entropy          0.968317   \n",
       "                         2                 5                entropy          0.968317   \n",
       "                         10                10               gini             0.961298   \n",
       "                         2                 10               gini             0.961298   \n",
       "                         5                 10               gini             0.961298   \n",
       "                         10                10               entropy          0.958962   \n",
       "                         2                 10               entropy          0.958962   \n",
       "                         5                 10               entropy          0.958962   \n",
       "               5         2                 1                gini             0.931156   \n",
       "                         5                 1                gini             0.931156   \n",
       "                         10                1                gini             0.931193   \n",
       "                         2                 5                gini             0.929901   \n",
       "                         5                 5                gini             0.929901   \n",
       "                         10                5                gini             0.929901   \n",
       "                         2                 10               gini             0.929342   \n",
       "                         10                10               gini             0.929342   \n",
       "                         5                 10               gini             0.929342   \n",
       "                                           1                entropy          0.929317   \n",
       "\n",
       "                                                                       acuracia_teste  \\\n",
       "ratio_exemplos max_depth min_samples_split min_samples_leaf criterion                   \n",
       "0.5            None      2                 1                entropy          0.983592   \n",
       "               35        2                 1                entropy          0.983592   \n",
       "               30        2                 1                entropy          0.983592   \n",
       "               25        2                 1                entropy          0.983563   \n",
       "               20        2                 1                entropy          0.983302   \n",
       "                                                            gini             0.983157   \n",
       "                         5                 1                entropy          0.983099   \n",
       "                                                            gini             0.982636   \n",
       "                         10                1                entropy          0.981563   \n",
       "                                                            gini             0.981244   \n",
       "                         5                 5                entropy          0.978229   \n",
       "                         2                 5                entropy          0.978229   \n",
       "                         10                5                entropy          0.978229   \n",
       "                         5                 5                gini             0.976838   \n",
       "                         10                5                gini             0.976838   \n",
       "                         2                 5                gini             0.976838   \n",
       "                         5                 10               entropy          0.968750   \n",
       "                         10                10               entropy          0.968750   \n",
       "                         2                 10               entropy          0.968750   \n",
       "                         10                10               gini             0.967735   \n",
       "                         2                 10               gini             0.967735   \n",
       "                         5                 10               gini             0.967735   \n",
       "               10        2                 1                gini             0.967590   \n",
       "                         5                 1                gini             0.967272   \n",
       "                         10                1                gini             0.967156   \n",
       "                         5                 1                entropy          0.967243   \n",
       "                         2                 1                entropy          0.966634   \n",
       "                         10                1                entropy          0.966895   \n",
       "                         5                 5                gini             0.963445   \n",
       "                         2                 5                gini             0.963445   \n",
       "                         10                5                gini             0.963445   \n",
       "                                                            entropy          0.963184   \n",
       "                         5                 5                entropy          0.963184   \n",
       "                         2                 5                entropy          0.963184   \n",
       "                         10                10               gini             0.955792   \n",
       "                         2                 10               gini             0.955792   \n",
       "                         5                 10               gini             0.955792   \n",
       "                         10                10               entropy          0.953386   \n",
       "                         2                 10               entropy          0.953386   \n",
       "                         5                 10               entropy          0.953386   \n",
       "               5         2                 1                gini             0.932108   \n",
       "                         5                 1                gini             0.931934   \n",
       "                         10                1                gini             0.932021   \n",
       "                         2                 5                gini             0.931006   \n",
       "                         5                 5                gini             0.931006   \n",
       "                         10                5                gini             0.931006   \n",
       "                         2                 10               gini             0.930775   \n",
       "                         10                10               gini             0.930775   \n",
       "                         5                 10               gini             0.930775   \n",
       "                                           1                entropy          0.930195   \n",
       "\n",
       "                                                                       rec_0_teste  \\\n",
       "ratio_exemplos max_depth min_samples_split min_samples_leaf criterion                \n",
       "0.5            None      2                 1                entropy       0.977563   \n",
       "               35        2                 1                entropy       0.977563   \n",
       "               30        2                 1                entropy       0.977563   \n",
       "               25        2                 1                entropy       0.977737   \n",
       "               20        2                 1                entropy       0.976693   \n",
       "                                                            gini          0.977099   \n",
       "                         5                 1                entropy       0.977447   \n",
       "                                                            gini          0.976345   \n",
       "                         10                1                entropy       0.975301   \n",
       "                                                            gini          0.975244   \n",
       "                         5                 5                entropy       0.971475   \n",
       "                         2                 5                entropy       0.971475   \n",
       "                         10                5                entropy       0.971475   \n",
       "                         5                 5                gini          0.971359   \n",
       "                         10                5                gini          0.971359   \n",
       "                         2                 5                gini          0.971359   \n",
       "                         5                 10               entropy       0.963300   \n",
       "                         10                10               entropy       0.963300   \n",
       "                         2                 10               entropy       0.963300   \n",
       "                         10                10               gini          0.965561   \n",
       "                         2                 10               gini          0.965561   \n",
       "                         5                 10               gini          0.965561   \n",
       "               10        2                 1                gini          0.981447   \n",
       "                         5                 1                gini          0.981215   \n",
       "                         10                1                gini          0.981331   \n",
       "                         5                 1                entropy       0.981853   \n",
       "                         2                 1                entropy       0.981331   \n",
       "                         10                1                entropy       0.981911   \n",
       "                         5                 5                gini          0.977910   \n",
       "                         2                 5                gini          0.977910   \n",
       "                         10                5                gini          0.977910   \n",
       "                                                            entropy       0.977910   \n",
       "                         5                 5                entropy       0.977910   \n",
       "                         2                 5                entropy       0.977910   \n",
       "                         10                10               gini          0.970663   \n",
       "                         2                 10               gini          0.970663   \n",
       "                         5                 10               gini          0.970663   \n",
       "                         10                10               entropy       0.970895   \n",
       "                         2                 10               entropy       0.970895   \n",
       "                         5                 10               entropy       0.970895   \n",
       "               5         2                 1                gini          0.977157   \n",
       "                         5                 1                gini          0.976867   \n",
       "                         10                1                gini          0.976983   \n",
       "                         2                 5                gini          0.974954   \n",
       "                         5                 5                gini          0.974954   \n",
       "                         10                5                gini          0.974954   \n",
       "                         2                 10               gini          0.973040   \n",
       "                         10                10               gini          0.973040   \n",
       "                         5                 10               gini          0.973040   \n",
       "                                           1                entropy       0.976751   \n",
       "\n",
       "                                                                       rec_1_teste  \\\n",
       "ratio_exemplos max_depth min_samples_split min_samples_leaf criterion                \n",
       "0.5            None      2                 1                entropy       0.989622   \n",
       "               35        2                 1                entropy       0.989622   \n",
       "               30        2                 1                entropy       0.989622   \n",
       "               25        2                 1                entropy       0.989390   \n",
       "               20        2                 1                entropy       0.989912   \n",
       "                                                            gini          0.989216   \n",
       "                         5                 1                entropy       0.988752   \n",
       "                                                            gini          0.988926   \n",
       "                         10                1                entropy       0.987825   \n",
       "                                                            gini          0.987245   \n",
       "                         5                 5                entropy       0.984984   \n",
       "                         2                 5                entropy       0.984984   \n",
       "                         10                5                entropy       0.984984   \n",
       "                         5                 5                gini          0.982317   \n",
       "                         10                5                gini          0.982317   \n",
       "                         2                 5                gini          0.982317   \n",
       "                         5                 10               entropy       0.974200   \n",
       "                         10                10               entropy       0.974200   \n",
       "                         2                 10               entropy       0.974200   \n",
       "                         10                10               gini          0.969910   \n",
       "                         2                 10               gini          0.969910   \n",
       "                         5                 10               gini          0.969910   \n",
       "               10        2                 1                gini          0.953734   \n",
       "                         5                 1                gini          0.953328   \n",
       "                         10                1                gini          0.952980   \n",
       "                         5                 1                entropy       0.952632   \n",
       "                         2                 1                entropy       0.951936   \n",
       "                         10                1                entropy       0.951878   \n",
       "                         5                 5                gini          0.948980   \n",
       "                         2                 5                gini          0.948980   \n",
       "                         10                5                gini          0.948980   \n",
       "                                                            entropy       0.948458   \n",
       "                         5                 5                entropy       0.948458   \n",
       "                         2                 5                entropy       0.948458   \n",
       "                         10                10               gini          0.940921   \n",
       "                         2                 10               gini          0.940921   \n",
       "                         5                 10               gini          0.940921   \n",
       "                         10                10               entropy       0.935877   \n",
       "                         2                 10               entropy       0.935877   \n",
       "                         5                 10               entropy       0.935877   \n",
       "               5         2                 1                gini          0.887059   \n",
       "                         5                 1                gini          0.887001   \n",
       "                         10                1                gini          0.887059   \n",
       "                         2                 5                gini          0.887059   \n",
       "                         5                 5                gini          0.887059   \n",
       "                         10                5                gini          0.887059   \n",
       "                         2                 10               gini          0.888509   \n",
       "                         10                10               gini          0.888509   \n",
       "                         5                 10               gini          0.888509   \n",
       "                                           1                entropy       0.883639   \n",
       "\n",
       "                                                                       auc_teste  \\\n",
       "ratio_exemplos max_depth min_samples_split min_samples_leaf criterion              \n",
       "0.5            None      2                 1                entropy     0.983592   \n",
       "               35        2                 1                entropy     0.983592   \n",
       "               30        2                 1                entropy     0.983592   \n",
       "               25        2                 1                entropy     0.983563   \n",
       "               20        2                 1                entropy     0.983302   \n",
       "                                                            gini        0.983157   \n",
       "                         5                 1                entropy     0.983099   \n",
       "                                                            gini        0.982636   \n",
       "                         10                1                entropy     0.981563   \n",
       "                                                            gini        0.981244   \n",
       "                         5                 5                entropy     0.978229   \n",
       "                         2                 5                entropy     0.978229   \n",
       "                         10                5                entropy     0.978229   \n",
       "                         5                 5                gini        0.976838   \n",
       "                         10                5                gini        0.976838   \n",
       "                         2                 5                gini        0.976838   \n",
       "                         5                 10               entropy     0.968750   \n",
       "                         10                10               entropy     0.968750   \n",
       "                         2                 10               entropy     0.968750   \n",
       "                         10                10               gini        0.967735   \n",
       "                         2                 10               gini        0.967735   \n",
       "                         5                 10               gini        0.967735   \n",
       "               10        2                 1                gini        0.967590   \n",
       "                         5                 1                gini        0.967272   \n",
       "                         10                1                gini        0.967156   \n",
       "                         5                 1                entropy     0.967243   \n",
       "                         2                 1                entropy     0.966634   \n",
       "                         10                1                entropy     0.966895   \n",
       "                         5                 5                gini        0.963445   \n",
       "                         2                 5                gini        0.963445   \n",
       "                         10                5                gini        0.963445   \n",
       "                                                            entropy     0.963184   \n",
       "                         5                 5                entropy     0.963184   \n",
       "                         2                 5                entropy     0.963184   \n",
       "                         10                10               gini        0.955792   \n",
       "                         2                 10               gini        0.955792   \n",
       "                         5                 10               gini        0.955792   \n",
       "                         10                10               entropy     0.953386   \n",
       "                         2                 10               entropy     0.953386   \n",
       "                         5                 10               entropy     0.953386   \n",
       "               5         2                 1                gini        0.932108   \n",
       "                         5                 1                gini        0.931934   \n",
       "                         10                1                gini        0.932021   \n",
       "                         2                 5                gini        0.931006   \n",
       "                         5                 5                gini        0.931006   \n",
       "                         10                5                gini        0.931006   \n",
       "                         2                 10               gini        0.930775   \n",
       "                         10                10               gini        0.930775   \n",
       "                         5                 10               gini        0.930775   \n",
       "                                           1                entropy     0.930195   \n",
       "\n",
       "                                                                       acuracia_valid  \\\n",
       "ratio_exemplos max_depth min_samples_split min_samples_leaf criterion                   \n",
       "0.5            None      2                 1                entropy          0.989355   \n",
       "               35        2                 1                entropy          0.989355   \n",
       "               30        2                 1                entropy          0.989355   \n",
       "               25        2                 1                entropy          0.989379   \n",
       "               20        2                 1                entropy          0.989063   \n",
       "                                                            gini             0.989094   \n",
       "                         5                 1                entropy          0.988937   \n",
       "                                                            gini             0.988736   \n",
       "                         10                1                entropy          0.987142   \n",
       "                                                            gini             0.987226   \n",
       "                         5                 5                entropy          0.981973   \n",
       "                         2                 5                entropy          0.981973   \n",
       "                         10                5                entropy          0.981973   \n",
       "                         5                 5                gini             0.981107   \n",
       "                         10                5                gini             0.981107   \n",
       "                         2                 5                gini             0.981107   \n",
       "                         5                 10               entropy          0.971143   \n",
       "                         10                10               entropy          0.971143   \n",
       "                         2                 10               entropy          0.971143   \n",
       "                         10                10               gini             0.971947   \n",
       "                         2                 10               gini             0.971947   \n",
       "                         5                 10               gini             0.971947   \n",
       "               10        2                 1                gini             0.979044   \n",
       "                         5                 1                gini             0.978814   \n",
       "                         10                1                gini             0.978751   \n",
       "                         5                 1                entropy          0.978348   \n",
       "                         2                 1                entropy          0.978334   \n",
       "                         10                1                entropy          0.978233   \n",
       "                         5                 5                gini             0.974267   \n",
       "                         2                 5                gini             0.974267   \n",
       "                         10                5                gini             0.974267   \n",
       "                                                            entropy          0.973721   \n",
       "                         5                 5                entropy          0.973721   \n",
       "                         2                 5                entropy          0.973721   \n",
       "                         10                10               gini             0.966708   \n",
       "                         2                 10               gini             0.966708   \n",
       "                         5                 10               gini             0.966708   \n",
       "                         10                10               entropy          0.965602   \n",
       "                         2                 10               entropy          0.965602   \n",
       "                         5                 10               entropy          0.965602   \n",
       "               5         2                 1                gini             0.961375   \n",
       "                         5                 1                gini             0.961309   \n",
       "                         10                1                gini             0.961229   \n",
       "                         2                 5                gini             0.958839   \n",
       "                         5                 5                gini             0.958839   \n",
       "                         10                5                gini             0.958839   \n",
       "                         2                 10               gini             0.956748   \n",
       "                         10                10               gini             0.956748   \n",
       "                         5                 10               gini             0.956748   \n",
       "                                           1                entropy          0.958707   \n",
       "\n",
       "                                                                       rec_0_valid  \\\n",
       "ratio_exemplos max_depth min_samples_split min_samples_leaf criterion                \n",
       "0.5            None      2                 1                entropy       0.987472   \n",
       "               35        2                 1                entropy       0.987472   \n",
       "               30        2                 1                entropy       0.987472   \n",
       "               25        2                 1                entropy       0.987520   \n",
       "               20        2                 1                entropy       0.987085   \n",
       "                                                            gini          0.987176   \n",
       "                         5                 1                entropy       0.987068   \n",
       "                                                            gini          0.986794   \n",
       "                         10                1                entropy       0.985037   \n",
       "                                                            gini          0.985263   \n",
       "                         5                 5                entropy       0.979449   \n",
       "                         2                 5                entropy       0.979449   \n",
       "                         10                5                entropy       0.979449   \n",
       "                         5                 5                gini          0.978836   \n",
       "                         10                5                gini          0.978836   \n",
       "                         2                 5                gini          0.978836   \n",
       "                         5                 10               entropy       0.968273   \n",
       "                         10                10               entropy       0.968273   \n",
       "                         2                 10               entropy       0.968273   \n",
       "                         10                10               gini          0.970265   \n",
       "                         2                 10               gini          0.970265   \n",
       "                         5                 10               gini          0.970265   \n",
       "               10        2                 1                gini          0.983954   \n",
       "                         5                 1                gini          0.983837   \n",
       "                         10                1                gini          0.983793   \n",
       "                         5                 1                entropy       0.983754   \n",
       "                         2                 1                entropy       0.983815   \n",
       "                         10                1                entropy       0.983758   \n",
       "                         5                 5                gini          0.979214   \n",
       "                         2                 5                gini          0.979214   \n",
       "                         10                5                gini          0.979214   \n",
       "                                                            entropy       0.978992   \n",
       "                         5                 5                entropy       0.978992   \n",
       "                         2                 5                entropy       0.978992   \n",
       "                         10                10               gini          0.971839   \n",
       "                         2                 10               gini          0.971839   \n",
       "                         5                 10               gini          0.971839   \n",
       "                         10                10               entropy       0.971491   \n",
       "                         2                 10               entropy       0.971491   \n",
       "                         5                 10               entropy       0.971491   \n",
       "               5         2                 1                gini          0.980419   \n",
       "                         5                 1                gini          0.980332   \n",
       "                         10                1                gini          0.980219   \n",
       "                         2                 5                gini          0.977266   \n",
       "                         5                 5                gini          0.977266   \n",
       "                         10                5                gini          0.977266   \n",
       "                         2                 10               gini          0.974387   \n",
       "                         10                10               gini          0.974387   \n",
       "                         5                 10               gini          0.974387   \n",
       "                                           1                entropy       0.977931   \n",
       "\n",
       "                                                                       rec_1_valid  \\\n",
       "ratio_exemplos max_depth min_samples_split min_samples_leaf criterion                \n",
       "0.5            None      2                 1                entropy       0.996886   \n",
       "               35        2                 1                entropy       0.996886   \n",
       "               30        2                 1                entropy       0.996886   \n",
       "               25        2                 1                entropy       0.996817   \n",
       "               20        2                 1                entropy       0.996973   \n",
       "                                                            gini          0.996765   \n",
       "                         5                 1                entropy       0.996417   \n",
       "                                                            gini          0.996504   \n",
       "                         10                1                entropy       0.995565   \n",
       "                                                            gini          0.995077   \n",
       "                         5                 5                entropy       0.992068   \n",
       "                         2                 5                entropy       0.992068   \n",
       "                         10                5                entropy       0.992068   \n",
       "                         5                 5                gini          0.990190   \n",
       "                         10                5                gini          0.990190   \n",
       "                         2                 5                gini          0.990190   \n",
       "                         5                 10               entropy       0.982623   \n",
       "                         10                10               entropy       0.982623   \n",
       "                         2                 10               entropy       0.982623   \n",
       "                         10                10               gini          0.978675   \n",
       "                         2                 10               gini          0.978675   \n",
       "                         5                 10               gini          0.978675   \n",
       "               10        2                 1                gini          0.959402   \n",
       "                         5                 1                gini          0.958724   \n",
       "                         10                1                gini          0.958585   \n",
       "                         5                 1                entropy       0.956724   \n",
       "                         2                 1                entropy       0.956411   \n",
       "                         10                1                entropy       0.956132   \n",
       "                         5                 5                gini          0.954480   \n",
       "                         2                 5                gini          0.954480   \n",
       "                         10                5                gini          0.954480   \n",
       "                                                            entropy       0.952636   \n",
       "                         5                 5                entropy       0.952636   \n",
       "                         2                 5                entropy       0.952636   \n",
       "                         10                10               gini          0.946183   \n",
       "                         2                 10               gini          0.946183   \n",
       "                         5                 10               gini          0.946183   \n",
       "                         10                10               entropy       0.942043   \n",
       "                         2                 10               entropy       0.942043   \n",
       "                         5                 10               entropy       0.942043   \n",
       "               5         2                 1                gini          0.885199   \n",
       "                         5                 1                gini          0.885217   \n",
       "                         10                1                gini          0.885269   \n",
       "                         2                 5                gini          0.885130   \n",
       "                         5                 5                gini          0.885130   \n",
       "                         10                5                gini          0.885130   \n",
       "                         2                 10               gini          0.886191   \n",
       "                         10                10               gini          0.886191   \n",
       "                         5                 10               gini          0.886191   \n",
       "                                           1                entropy       0.881808   \n",
       "\n",
       "                                                                       auc_valid  \n",
       "ratio_exemplos max_depth min_samples_split min_samples_leaf criterion             \n",
       "0.5            None      2                 1                entropy     0.992179  \n",
       "               35        2                 1                entropy     0.992179  \n",
       "               30        2                 1                entropy     0.992179  \n",
       "               25        2                 1                entropy     0.992168  \n",
       "               20        2                 1                entropy     0.992029  \n",
       "                                                            gini        0.991970  \n",
       "                         5                 1                entropy     0.991742  \n",
       "                                                            gini        0.991649  \n",
       "                         10                1                entropy     0.990301  \n",
       "                                                            gini        0.990170  \n",
       "                         5                 5                entropy     0.985759  \n",
       "                         2                 5                entropy     0.985759  \n",
       "                         10                5                entropy     0.985759  \n",
       "                         5                 5                gini        0.984513  \n",
       "                         10                5                gini        0.984513  \n",
       "                         2                 5                gini        0.984513  \n",
       "                         5                 10               entropy     0.975448  \n",
       "                         10                10               entropy     0.975448  \n",
       "                         2                 10               entropy     0.975448  \n",
       "                         10                10               gini        0.974470  \n",
       "                         2                 10               gini        0.974470  \n",
       "                         5                 10               gini        0.974470  \n",
       "               10        2                 1                gini        0.971678  \n",
       "                         5                 1                gini        0.971280  \n",
       "                         10                1                gini        0.971189  \n",
       "                         5                 1                entropy     0.970239  \n",
       "                         2                 1                entropy     0.970113  \n",
       "                         10                1                entropy     0.969945  \n",
       "                         5                 5                gini        0.966847  \n",
       "                         2                 5                gini        0.966847  \n",
       "                         10                5                gini        0.966847  \n",
       "                                                            entropy     0.965814  \n",
       "                         5                 5                entropy     0.965814  \n",
       "                         2                 5                entropy     0.965814  \n",
       "                         10                10               gini        0.959011  \n",
       "                         2                 10               gini        0.959011  \n",
       "                         5                 10               gini        0.959011  \n",
       "                         10                10               entropy     0.956767  \n",
       "                         2                 10               entropy     0.956767  \n",
       "                         5                 10               entropy     0.956767  \n",
       "               5         2                 1                gini        0.932809  \n",
       "                         5                 1                gini        0.932774  \n",
       "                         10                1                gini        0.932744  \n",
       "                         2                 5                gini        0.931198  \n",
       "                         5                 5                gini        0.931198  \n",
       "                         10                5                gini        0.931198  \n",
       "                         2                 10               gini        0.930289  \n",
       "                         10                10               gini        0.930289  \n",
       "                         5                 10               gini        0.930289  \n",
       "                                           1                entropy     0.929869  "
      ]
     },
     "execution_count": 159,
     "metadata": {},
     "output_type": "execute_result"
    }
   ],
   "source": [
    "resultados_df = pd.DataFrame(np.array(resultados), columns=['ratio_exemplos','max_depth','min_samples_split','min_samples_leaf','criterion','acuracy_treino','acuracia_teste','rec_0_teste','rec_1_teste','auc_teste','acuracia_valid','rec_0_valid','rec_1_valid','auc_valid'])\n",
    "resultados_df['auc_teste'] = resultados_df['auc_teste'].astype(float, errors = 'raise')\n",
    "resultados_df['auc_valid'] = resultados_df['auc_valid'].astype(float, errors = 'raise')\n",
    "resultados_df.astype({'ratio_exemplos': 'str', 'max_depth': 'str', 'min_samples_split': 'str','min_samples_leaf': 'str','criterion':'str','acuracy_treino': 'float','acuracia_teste': 'float','rec_0_teste': 'float','rec_1_teste': 'float','auc_teste': 'float', 'acuracia_valid': 'float','rec_0_valid': 'float','rec_1_valid': 'float','auc_valid': 'float'  }).groupby(['ratio_exemplos','max_depth','min_samples_split','min_samples_leaf','criterion']).agg({'acuracy_treino':np.mean, 'acuracia_teste':np.mean, 'rec_0_teste':np.mean, 'rec_1_teste':np.mean, 'auc_teste':np.mean, 'acuracia_valid':np.mean, 'rec_0_valid':np.mean, 'rec_1_valid':np.mean, 'auc_valid':np.mean}).sort_values(by='auc_valid', ascending=False).head(50)"
   ]
  },
  {
   "cell_type": "code",
   "execution_count": 160,
   "metadata": {},
   "outputs": [
    {
     "data": {
      "text/plain": [
       "RandomForestClassifier(criterion='entropy')"
      ]
     },
     "execution_count": 160,
     "metadata": {},
     "output_type": "execute_result"
    }
   ],
   "source": [
    "X = X_balanc[features_selecionadas]\n",
    "y = y_balanc\n",
    "\n",
    "X_train, X_test, y_train, y_test = train_test_split(X, y, test_size=0.3, random_state=1, stratify=y_balanc)\n",
    "\n",
    "rf = RandomForestClassifier(max_depth=None, min_samples_split=2 ,min_samples_leaf=1,criterion='entropy')\n",
    "rf.fit(X_train,y_train)"
   ]
  },
  {
   "cell_type": "code",
   "execution_count": 166,
   "metadata": {},
   "outputs": [
    {
     "name": "stdout",
     "output_type": "stream",
     "text": [
      "Resultados dados de teste\n",
      "\n",
      "Classification Report Dados:\n",
      "               precision    recall  f1-score   support\n",
      "\n",
      "           0       0.99      0.98      0.99      2464\n",
      "           1       0.98      0.99      0.99      2464\n",
      "\n",
      "    accuracy                           0.99      4928\n",
      "   macro avg       0.99      0.99      0.99      4928\n",
      "weighted avg       0.99      0.99      0.99      4928\n",
      "\n",
      "\n",
      "Confusion Matrix:\n",
      " [[2418   46]\n",
      " [  23 2441]]\n",
      "\n",
      "Recall_0: 0.9813311688311688\n",
      "Recall_1: 0.9906655844155844\n",
      "Acuracia: 0.9859983766233766\n",
      "Acuracia Balanceada: 0.9859983766233766\n",
      "F1_Score_0: 0.9859327217125382\n",
      "F1_Score_1: 0.9860634215310038\n",
      "AUC: 0.9859983766233765\n"
     ]
    }
   ],
   "source": [
    "#Predizendo y\n",
    "y_pred = rf.predict(X_test[features_selecionadas])\n",
    "\n",
    "#Relatórios e matriz de confusao\n",
    "print(\"Resultados dados de teste\")\n",
    "print(\"\")\n",
    "print(\"Classification Report Dados:\\n\",classification_report(y_test,y_pred))\n",
    "print(\"\")\n",
    "print(\"Confusion Matrix:\\n\",confusion_matrix(y_test,y_pred))\n",
    "print(\"\")\n",
    "\n",
    "#Calculando o recall\n",
    "recall_0 = recall_score(y_test, y_pred, pos_label=0)\n",
    "recall_1 = recall_score(y_test, y_pred, pos_label=1)\n",
    "\n",
    "#Calculando acurácia \n",
    "accuracy = accuracy_score(y_test, y_pred)\n",
    "\n",
    "#Calculando acurácia balanceada\n",
    "accuracy_balanced = balanced_accuracy_score(y_test, y_pred)\n",
    "\n",
    "#calculando f1_score\n",
    "f1_0 = f1_score(y_test, y_pred,pos_label=0)\n",
    "f1_1 = f1_score(y_test, y_pred,pos_label=1)\n",
    "\n",
    "#Calculando AUC\n",
    "auc = roc_auc_score(y_test, y_pred)\n",
    "\n",
    "print(\"Recall_0: %s\" % (recall_0))\n",
    "print(\"Recall_1: %s\" % (recall_1))\n",
    "print(\"Acuracia: %s\" % (accuracy))\n",
    "print(\"Acuracia Balanceada: %s\" % (accuracy_balanced))\n",
    "print(\"F1_Score_0: %s\" % (f1_0))\n",
    "print(\"F1_Score_1: %s\" % (f1_1))\n",
    "print(\"AUC: %s\" % (auc))"
   ]
  },
  {
   "cell_type": "code",
   "execution_count": 167,
   "metadata": {},
   "outputs": [
    {
     "name": "stdout",
     "output_type": "stream",
     "text": [
      "Resultados dados de validacao\n",
      "\n",
      "Classification Report Dados:\n",
      "               precision    recall  f1-score   support\n",
      "\n",
      "           0       1.00      0.99      0.99     32852\n",
      "           1       0.95      1.00      0.97      8213\n",
      "\n",
      "    accuracy                           0.99     41065\n",
      "   macro avg       0.98      0.99      0.98     41065\n",
      "weighted avg       0.99      0.99      0.99     41065\n",
      "\n",
      "\n",
      "Confusion Matrix:\n",
      " [[32450   402]\n",
      " [   23  8190]]\n",
      "\n",
      "Recall_0: 0.987763302082065\n",
      "Recall_1: 0.9971995616705224\n",
      "Acuracia: 0.9896505539997564\n",
      "Acuracia Balanceada: 0.9924814318762937\n",
      "F1_Score_0: 0.9934940681209338\n",
      "F1_Score_1: 0.974709907765546\n",
      "AUC: 0.9924814318762936\n"
     ]
    }
   ],
   "source": [
    "#Predizendo y\n",
    "y_pred = rf.predict(X_valid[features_selecionadas])\n",
    "\n",
    "#Relatórios e matriz de confusao\n",
    "print(\"Resultados dados de validacao\")\n",
    "print(\"\")\n",
    "print(\"Classification Report Dados:\\n\",classification_report(y_valid,y_pred))\n",
    "print(\"\")\n",
    "print(\"Confusion Matrix:\\n\",confusion_matrix(y_valid,y_pred))\n",
    "print(\"\")\n",
    "\n",
    "#Calculando o recall\n",
    "recall_0 = recall_score(y_valid,y_pred, pos_label=0)\n",
    "recall_1 = recall_score(y_valid,y_pred, pos_label=1)\n",
    "\n",
    "#Calculando acurácia \n",
    "accuracy = accuracy_score(y_valid,y_pred)\n",
    "\n",
    "#Calculando acurácia balanceada\n",
    "accuracy_balanced = balanced_accuracy_score(y_valid,y_pred)\n",
    "\n",
    "#calculando f1_score\n",
    "f1_0 = f1_score(y_valid,y_pred,pos_label=0)\n",
    "f1_1 = f1_score(y_valid,y_pred,pos_label=1)\n",
    "\n",
    "#Calculando AUC\n",
    "auc = roc_auc_score(y_valid,y_pred)\n",
    "\n",
    "print(\"Recall_0: %s\" % (recall_0))\n",
    "print(\"Recall_1: %s\" % (recall_1))\n",
    "print(\"Acuracia: %s\" % (accuracy))\n",
    "print(\"Acuracia Balanceada: %s\" % (accuracy_balanced))\n",
    "print(\"F1_Score_0: %s\" % (f1_0))\n",
    "print(\"F1_Score_1: %s\" % (f1_1))\n",
    "print(\"AUC: %s\" % (auc))"
   ]
  },
  {
   "cell_type": "markdown",
   "metadata": {},
   "source": [
    "# Conclusão"
   ]
  },
  {
   "cell_type": "markdown",
   "metadata": {},
   "source": [
    "Apartir de uma amostragem do total de dados separando-os em treino e teste o modelo foi capaz de aprender sobre toda a base de dados do dataset atingindo\n",
    "\n",
    "performance de:\n",
    "    \n",
    "- 98,50% de acurácia sobre os dados de teste e 98,97% sobre todo o dataset\n",
    "- 99,07% de recall de fraudes nos dados de teste e 99,71% sobre todo dataset\n",
    "- 98,13% de recall de transações normais nos dados de teste e 98,77% sobre todo dataset"
   ]
  },
  {
   "cell_type": "code",
   "execution_count": null,
   "metadata": {},
   "outputs": [],
   "source": []
  }
 ],
 "metadata": {
  "kernelspec": {
   "display_name": "Python 3",
   "language": "python",
   "name": "python3"
  },
  "language_info": {
   "codemirror_mode": {
    "name": "ipython",
    "version": 3
   },
   "file_extension": ".py",
   "mimetype": "text/x-python",
   "name": "python",
   "nbconvert_exporter": "python",
   "pygments_lexer": "ipython3",
   "version": "3.8.3"
  }
 },
 "nbformat": 4,
 "nbformat_minor": 4
}

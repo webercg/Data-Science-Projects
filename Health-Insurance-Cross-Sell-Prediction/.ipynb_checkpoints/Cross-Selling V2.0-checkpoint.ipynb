{
 "cells": [
  {
   "cell_type": "markdown",
   "metadata": {},
   "source": [
    "# 1 Import de bibliotecas"
   ]
  },
  {
   "cell_type": "code",
   "execution_count": 36,
   "metadata": {},
   "outputs": [],
   "source": [
    "import numpy as np\n",
    "import pandas as pd\n",
    "from matplotlib import pyplot as plt\n",
    "import seaborn as sns\n",
    "\n",
    "from imblearn.under_sampling import NearMiss\n",
    "from imblearn.over_sampling import SMOTE\n",
    "\n",
    "from hypopt import GridSearch\n",
    "\n",
    "from sklearn.decomposition import PCA\n",
    "from sklearn.pipeline import Pipeline\n",
    "from sklearn.preprocessing import StandardScaler\n",
    "from sklearn.model_selection import train_test_split\n",
    "from sklearn.linear_model import LogisticRegression\n",
    "from sklearn.ensemble import RandomForestClassifier\n",
    "\n",
    "from sklearn.neural_network import MLPClassifier    # MLP\n",
    "\n",
    "from sklearn.metrics import accuracy_score, classification_report, confusion_matrix"
   ]
  },
  {
   "cell_type": "markdown",
   "metadata": {},
   "source": [
    "# 2 Leitura dos dados"
   ]
  },
  {
   "cell_type": "code",
   "execution_count": 37,
   "metadata": {},
   "outputs": [
    {
     "data": {
      "text/html": [
       "<div>\n",
       "<style scoped>\n",
       "    .dataframe tbody tr th:only-of-type {\n",
       "        vertical-align: middle;\n",
       "    }\n",
       "\n",
       "    .dataframe tbody tr th {\n",
       "        vertical-align: top;\n",
       "    }\n",
       "\n",
       "    .dataframe thead th {\n",
       "        text-align: right;\n",
       "    }\n",
       "</style>\n",
       "<table border=\"1\" class=\"dataframe\">\n",
       "  <thead>\n",
       "    <tr style=\"text-align: right;\">\n",
       "      <th></th>\n",
       "      <th>id</th>\n",
       "      <th>Gender</th>\n",
       "      <th>Age</th>\n",
       "      <th>Driving_License</th>\n",
       "      <th>Region_Code</th>\n",
       "      <th>Previously_Insured</th>\n",
       "      <th>Vehicle_Age</th>\n",
       "      <th>Vehicle_Damage</th>\n",
       "      <th>Annual_Premium</th>\n",
       "      <th>Policy_Sales_Channel</th>\n",
       "      <th>Vintage</th>\n",
       "    </tr>\n",
       "  </thead>\n",
       "  <tbody>\n",
       "    <tr>\n",
       "      <th>0</th>\n",
       "      <td>381110</td>\n",
       "      <td>Male</td>\n",
       "      <td>25</td>\n",
       "      <td>1</td>\n",
       "      <td>11.0</td>\n",
       "      <td>1</td>\n",
       "      <td>&lt; 1 Year</td>\n",
       "      <td>No</td>\n",
       "      <td>35786.0</td>\n",
       "      <td>152.0</td>\n",
       "      <td>53</td>\n",
       "    </tr>\n",
       "    <tr>\n",
       "      <th>1</th>\n",
       "      <td>381111</td>\n",
       "      <td>Male</td>\n",
       "      <td>40</td>\n",
       "      <td>1</td>\n",
       "      <td>28.0</td>\n",
       "      <td>0</td>\n",
       "      <td>1-2 Year</td>\n",
       "      <td>Yes</td>\n",
       "      <td>33762.0</td>\n",
       "      <td>7.0</td>\n",
       "      <td>111</td>\n",
       "    </tr>\n",
       "    <tr>\n",
       "      <th>2</th>\n",
       "      <td>381112</td>\n",
       "      <td>Male</td>\n",
       "      <td>47</td>\n",
       "      <td>1</td>\n",
       "      <td>28.0</td>\n",
       "      <td>0</td>\n",
       "      <td>1-2 Year</td>\n",
       "      <td>Yes</td>\n",
       "      <td>40050.0</td>\n",
       "      <td>124.0</td>\n",
       "      <td>199</td>\n",
       "    </tr>\n",
       "    <tr>\n",
       "      <th>3</th>\n",
       "      <td>381113</td>\n",
       "      <td>Male</td>\n",
       "      <td>24</td>\n",
       "      <td>1</td>\n",
       "      <td>27.0</td>\n",
       "      <td>1</td>\n",
       "      <td>&lt; 1 Year</td>\n",
       "      <td>Yes</td>\n",
       "      <td>37356.0</td>\n",
       "      <td>152.0</td>\n",
       "      <td>187</td>\n",
       "    </tr>\n",
       "    <tr>\n",
       "      <th>4</th>\n",
       "      <td>381114</td>\n",
       "      <td>Male</td>\n",
       "      <td>27</td>\n",
       "      <td>1</td>\n",
       "      <td>28.0</td>\n",
       "      <td>1</td>\n",
       "      <td>&lt; 1 Year</td>\n",
       "      <td>No</td>\n",
       "      <td>59097.0</td>\n",
       "      <td>152.0</td>\n",
       "      <td>297</td>\n",
       "    </tr>\n",
       "  </tbody>\n",
       "</table>\n",
       "</div>"
      ],
      "text/plain": [
       "       id Gender  Age  Driving_License  Region_Code  Previously_Insured  \\\n",
       "0  381110   Male   25                1         11.0                   1   \n",
       "1  381111   Male   40                1         28.0                   0   \n",
       "2  381112   Male   47                1         28.0                   0   \n",
       "3  381113   Male   24                1         27.0                   1   \n",
       "4  381114   Male   27                1         28.0                   1   \n",
       "\n",
       "  Vehicle_Age Vehicle_Damage  Annual_Premium  Policy_Sales_Channel  Vintage  \n",
       "0    < 1 Year             No         35786.0                 152.0       53  \n",
       "1    1-2 Year            Yes         33762.0                   7.0      111  \n",
       "2    1-2 Year            Yes         40050.0                 124.0      199  \n",
       "3    < 1 Year            Yes         37356.0                 152.0      187  \n",
       "4    < 1 Year             No         59097.0                 152.0      297  "
      ]
     },
     "execution_count": 37,
     "metadata": {},
     "output_type": "execute_result"
    }
   ],
   "source": [
    "df_test = pd.read_csv('test.csv')\n",
    "df_test.head()"
   ]
  },
  {
   "cell_type": "code",
   "execution_count": 38,
   "metadata": {},
   "outputs": [
    {
     "data": {
      "text/html": [
       "<div>\n",
       "<style scoped>\n",
       "    .dataframe tbody tr th:only-of-type {\n",
       "        vertical-align: middle;\n",
       "    }\n",
       "\n",
       "    .dataframe tbody tr th {\n",
       "        vertical-align: top;\n",
       "    }\n",
       "\n",
       "    .dataframe thead th {\n",
       "        text-align: right;\n",
       "    }\n",
       "</style>\n",
       "<table border=\"1\" class=\"dataframe\">\n",
       "  <thead>\n",
       "    <tr style=\"text-align: right;\">\n",
       "      <th></th>\n",
       "      <th>id</th>\n",
       "      <th>Gender</th>\n",
       "      <th>Age</th>\n",
       "      <th>Driving_License</th>\n",
       "      <th>Region_Code</th>\n",
       "      <th>Previously_Insured</th>\n",
       "      <th>Vehicle_Age</th>\n",
       "      <th>Vehicle_Damage</th>\n",
       "      <th>Annual_Premium</th>\n",
       "      <th>Policy_Sales_Channel</th>\n",
       "      <th>Vintage</th>\n",
       "      <th>Response</th>\n",
       "    </tr>\n",
       "  </thead>\n",
       "  <tbody>\n",
       "    <tr>\n",
       "      <th>0</th>\n",
       "      <td>1</td>\n",
       "      <td>Male</td>\n",
       "      <td>44</td>\n",
       "      <td>1</td>\n",
       "      <td>28.0</td>\n",
       "      <td>0</td>\n",
       "      <td>&gt; 2 Years</td>\n",
       "      <td>Yes</td>\n",
       "      <td>40454.0</td>\n",
       "      <td>26.0</td>\n",
       "      <td>217</td>\n",
       "      <td>1</td>\n",
       "    </tr>\n",
       "    <tr>\n",
       "      <th>1</th>\n",
       "      <td>2</td>\n",
       "      <td>Male</td>\n",
       "      <td>76</td>\n",
       "      <td>1</td>\n",
       "      <td>3.0</td>\n",
       "      <td>0</td>\n",
       "      <td>1-2 Year</td>\n",
       "      <td>No</td>\n",
       "      <td>33536.0</td>\n",
       "      <td>26.0</td>\n",
       "      <td>183</td>\n",
       "      <td>0</td>\n",
       "    </tr>\n",
       "    <tr>\n",
       "      <th>2</th>\n",
       "      <td>3</td>\n",
       "      <td>Male</td>\n",
       "      <td>47</td>\n",
       "      <td>1</td>\n",
       "      <td>28.0</td>\n",
       "      <td>0</td>\n",
       "      <td>&gt; 2 Years</td>\n",
       "      <td>Yes</td>\n",
       "      <td>38294.0</td>\n",
       "      <td>26.0</td>\n",
       "      <td>27</td>\n",
       "      <td>1</td>\n",
       "    </tr>\n",
       "    <tr>\n",
       "      <th>3</th>\n",
       "      <td>4</td>\n",
       "      <td>Male</td>\n",
       "      <td>21</td>\n",
       "      <td>1</td>\n",
       "      <td>11.0</td>\n",
       "      <td>1</td>\n",
       "      <td>&lt; 1 Year</td>\n",
       "      <td>No</td>\n",
       "      <td>28619.0</td>\n",
       "      <td>152.0</td>\n",
       "      <td>203</td>\n",
       "      <td>0</td>\n",
       "    </tr>\n",
       "    <tr>\n",
       "      <th>4</th>\n",
       "      <td>5</td>\n",
       "      <td>Female</td>\n",
       "      <td>29</td>\n",
       "      <td>1</td>\n",
       "      <td>41.0</td>\n",
       "      <td>1</td>\n",
       "      <td>&lt; 1 Year</td>\n",
       "      <td>No</td>\n",
       "      <td>27496.0</td>\n",
       "      <td>152.0</td>\n",
       "      <td>39</td>\n",
       "      <td>0</td>\n",
       "    </tr>\n",
       "  </tbody>\n",
       "</table>\n",
       "</div>"
      ],
      "text/plain": [
       "   id  Gender  Age  Driving_License  Region_Code  Previously_Insured  \\\n",
       "0   1    Male   44                1         28.0                   0   \n",
       "1   2    Male   76                1          3.0                   0   \n",
       "2   3    Male   47                1         28.0                   0   \n",
       "3   4    Male   21                1         11.0                   1   \n",
       "4   5  Female   29                1         41.0                   1   \n",
       "\n",
       "  Vehicle_Age Vehicle_Damage  Annual_Premium  Policy_Sales_Channel  Vintage  \\\n",
       "0   > 2 Years            Yes         40454.0                  26.0      217   \n",
       "1    1-2 Year             No         33536.0                  26.0      183   \n",
       "2   > 2 Years            Yes         38294.0                  26.0       27   \n",
       "3    < 1 Year             No         28619.0                 152.0      203   \n",
       "4    < 1 Year             No         27496.0                 152.0       39   \n",
       "\n",
       "   Response  \n",
       "0         1  \n",
       "1         0  \n",
       "2         1  \n",
       "3         0  \n",
       "4         0  "
      ]
     },
     "execution_count": 38,
     "metadata": {},
     "output_type": "execute_result"
    }
   ],
   "source": [
    "df_train = pd.read_csv('train.csv')\n",
    "df_train.head()"
   ]
  },
  {
   "cell_type": "code",
   "execution_count": 39,
   "metadata": {},
   "outputs": [
    {
     "data": {
      "text/html": [
       "<div>\n",
       "<style scoped>\n",
       "    .dataframe tbody tr th:only-of-type {\n",
       "        vertical-align: middle;\n",
       "    }\n",
       "\n",
       "    .dataframe tbody tr th {\n",
       "        vertical-align: top;\n",
       "    }\n",
       "\n",
       "    .dataframe thead th {\n",
       "        text-align: right;\n",
       "    }\n",
       "</style>\n",
       "<table border=\"1\" class=\"dataframe\">\n",
       "  <thead>\n",
       "    <tr style=\"text-align: right;\">\n",
       "      <th></th>\n",
       "      <th>id</th>\n",
       "      <th>Gender</th>\n",
       "      <th>Age</th>\n",
       "      <th>Driving_License</th>\n",
       "      <th>Region_Code</th>\n",
       "      <th>Previously_Insured</th>\n",
       "      <th>Vehicle_Age</th>\n",
       "      <th>Vehicle_Damage</th>\n",
       "      <th>Annual_Premium</th>\n",
       "      <th>Policy_Sales_Channel</th>\n",
       "      <th>Vintage</th>\n",
       "      <th>Response</th>\n",
       "    </tr>\n",
       "  </thead>\n",
       "  <tbody>\n",
       "    <tr>\n",
       "      <th>0</th>\n",
       "      <td>1</td>\n",
       "      <td>Male</td>\n",
       "      <td>44</td>\n",
       "      <td>1</td>\n",
       "      <td>28.0</td>\n",
       "      <td>0</td>\n",
       "      <td>&gt; 2 Years</td>\n",
       "      <td>Yes</td>\n",
       "      <td>40454.0</td>\n",
       "      <td>26.0</td>\n",
       "      <td>217</td>\n",
       "      <td>1.0</td>\n",
       "    </tr>\n",
       "    <tr>\n",
       "      <th>1</th>\n",
       "      <td>2</td>\n",
       "      <td>Male</td>\n",
       "      <td>76</td>\n",
       "      <td>1</td>\n",
       "      <td>3.0</td>\n",
       "      <td>0</td>\n",
       "      <td>1-2 Year</td>\n",
       "      <td>No</td>\n",
       "      <td>33536.0</td>\n",
       "      <td>26.0</td>\n",
       "      <td>183</td>\n",
       "      <td>0.0</td>\n",
       "    </tr>\n",
       "    <tr>\n",
       "      <th>2</th>\n",
       "      <td>3</td>\n",
       "      <td>Male</td>\n",
       "      <td>47</td>\n",
       "      <td>1</td>\n",
       "      <td>28.0</td>\n",
       "      <td>0</td>\n",
       "      <td>&gt; 2 Years</td>\n",
       "      <td>Yes</td>\n",
       "      <td>38294.0</td>\n",
       "      <td>26.0</td>\n",
       "      <td>27</td>\n",
       "      <td>1.0</td>\n",
       "    </tr>\n",
       "    <tr>\n",
       "      <th>3</th>\n",
       "      <td>4</td>\n",
       "      <td>Male</td>\n",
       "      <td>21</td>\n",
       "      <td>1</td>\n",
       "      <td>11.0</td>\n",
       "      <td>1</td>\n",
       "      <td>&lt; 1 Year</td>\n",
       "      <td>No</td>\n",
       "      <td>28619.0</td>\n",
       "      <td>152.0</td>\n",
       "      <td>203</td>\n",
       "      <td>0.0</td>\n",
       "    </tr>\n",
       "    <tr>\n",
       "      <th>4</th>\n",
       "      <td>5</td>\n",
       "      <td>Female</td>\n",
       "      <td>29</td>\n",
       "      <td>1</td>\n",
       "      <td>41.0</td>\n",
       "      <td>1</td>\n",
       "      <td>&lt; 1 Year</td>\n",
       "      <td>No</td>\n",
       "      <td>27496.0</td>\n",
       "      <td>152.0</td>\n",
       "      <td>39</td>\n",
       "      <td>0.0</td>\n",
       "    </tr>\n",
       "  </tbody>\n",
       "</table>\n",
       "</div>"
      ],
      "text/plain": [
       "   id  Gender  Age  Driving_License  Region_Code  Previously_Insured  \\\n",
       "0   1    Male   44                1         28.0                   0   \n",
       "1   2    Male   76                1          3.0                   0   \n",
       "2   3    Male   47                1         28.0                   0   \n",
       "3   4    Male   21                1         11.0                   1   \n",
       "4   5  Female   29                1         41.0                   1   \n",
       "\n",
       "  Vehicle_Age Vehicle_Damage  Annual_Premium  Policy_Sales_Channel  Vintage  \\\n",
       "0   > 2 Years            Yes         40454.0                  26.0      217   \n",
       "1    1-2 Year             No         33536.0                  26.0      183   \n",
       "2   > 2 Years            Yes         38294.0                  26.0       27   \n",
       "3    < 1 Year             No         28619.0                 152.0      203   \n",
       "4    < 1 Year             No         27496.0                 152.0       39   \n",
       "\n",
       "   Response  \n",
       "0       1.0  \n",
       "1       0.0  \n",
       "2       1.0  \n",
       "3       0.0  \n",
       "4       0.0  "
      ]
     },
     "execution_count": 39,
     "metadata": {},
     "output_type": "execute_result"
    }
   ],
   "source": [
    "df = pd.concat([df_train,df_test],ignore_index=True)\n",
    "df.head()"
   ]
  },
  {
   "cell_type": "code",
   "execution_count": 40,
   "metadata": {},
   "outputs": [
    {
     "name": "stdout",
     "output_type": "stream",
     "text": [
      "<class 'pandas.core.frame.DataFrame'>\n",
      "RangeIndex: 508146 entries, 0 to 508145\n",
      "Data columns (total 12 columns):\n",
      " #   Column                Non-Null Count   Dtype  \n",
      "---  ------                --------------   -----  \n",
      " 0   id                    508146 non-null  int64  \n",
      " 1   Gender                508146 non-null  object \n",
      " 2   Age                   508146 non-null  int64  \n",
      " 3   Driving_License       508146 non-null  int64  \n",
      " 4   Region_Code           508146 non-null  float64\n",
      " 5   Previously_Insured    508146 non-null  int64  \n",
      " 6   Vehicle_Age           508146 non-null  object \n",
      " 7   Vehicle_Damage        508146 non-null  object \n",
      " 8   Annual_Premium        508146 non-null  float64\n",
      " 9   Policy_Sales_Channel  508146 non-null  float64\n",
      " 10  Vintage               508146 non-null  int64  \n",
      " 11  Response              381109 non-null  float64\n",
      "dtypes: float64(4), int64(5), object(3)\n",
      "memory usage: 46.5+ MB\n"
     ]
    }
   ],
   "source": [
    "df.info()"
   ]
  },
  {
   "cell_type": "markdown",
   "metadata": {},
   "source": [
    "## 3 Limpeza"
   ]
  },
  {
   "cell_type": "markdown",
   "metadata": {},
   "source": [
    "## 3.1 Valores nulos"
   ]
  },
  {
   "cell_type": "code",
   "execution_count": 41,
   "metadata": {},
   "outputs": [
    {
     "data": {
      "text/plain": [
       "id                           0\n",
       "Gender                       0\n",
       "Age                          0\n",
       "Driving_License              0\n",
       "Region_Code                  0\n",
       "Previously_Insured           0\n",
       "Vehicle_Age                  0\n",
       "Vehicle_Damage               0\n",
       "Annual_Premium               0\n",
       "Policy_Sales_Channel         0\n",
       "Vintage                      0\n",
       "Response                127037\n",
       "dtype: int64"
      ]
     },
     "execution_count": 41,
     "metadata": {},
     "output_type": "execute_result"
    }
   ],
   "source": [
    "df.isnull().sum()"
   ]
  },
  {
   "cell_type": "code",
   "execution_count": 42,
   "metadata": {},
   "outputs": [
    {
     "data": {
      "text/html": [
       "<div>\n",
       "<style scoped>\n",
       "    .dataframe tbody tr th:only-of-type {\n",
       "        vertical-align: middle;\n",
       "    }\n",
       "\n",
       "    .dataframe tbody tr th {\n",
       "        vertical-align: top;\n",
       "    }\n",
       "\n",
       "    .dataframe thead th {\n",
       "        text-align: right;\n",
       "    }\n",
       "</style>\n",
       "<table border=\"1\" class=\"dataframe\">\n",
       "  <thead>\n",
       "    <tr style=\"text-align: right;\">\n",
       "      <th></th>\n",
       "      <th>id</th>\n",
       "      <th>Gender</th>\n",
       "      <th>Age</th>\n",
       "      <th>Driving_License</th>\n",
       "      <th>Region_Code</th>\n",
       "      <th>Previously_Insured</th>\n",
       "      <th>Vehicle_Age</th>\n",
       "      <th>Vehicle_Damage</th>\n",
       "      <th>Annual_Premium</th>\n",
       "      <th>Policy_Sales_Channel</th>\n",
       "      <th>Vintage</th>\n",
       "      <th>Response</th>\n",
       "    </tr>\n",
       "  </thead>\n",
       "  <tbody>\n",
       "    <tr>\n",
       "      <th>0</th>\n",
       "      <td>1</td>\n",
       "      <td>Male</td>\n",
       "      <td>44</td>\n",
       "      <td>1</td>\n",
       "      <td>28.0</td>\n",
       "      <td>0</td>\n",
       "      <td>&gt; 2 Years</td>\n",
       "      <td>Yes</td>\n",
       "      <td>40454.0</td>\n",
       "      <td>26.0</td>\n",
       "      <td>217</td>\n",
       "      <td>1.0</td>\n",
       "    </tr>\n",
       "    <tr>\n",
       "      <th>1</th>\n",
       "      <td>2</td>\n",
       "      <td>Male</td>\n",
       "      <td>76</td>\n",
       "      <td>1</td>\n",
       "      <td>3.0</td>\n",
       "      <td>0</td>\n",
       "      <td>1-2 Year</td>\n",
       "      <td>No</td>\n",
       "      <td>33536.0</td>\n",
       "      <td>26.0</td>\n",
       "      <td>183</td>\n",
       "      <td>0.0</td>\n",
       "    </tr>\n",
       "    <tr>\n",
       "      <th>2</th>\n",
       "      <td>3</td>\n",
       "      <td>Male</td>\n",
       "      <td>47</td>\n",
       "      <td>1</td>\n",
       "      <td>28.0</td>\n",
       "      <td>0</td>\n",
       "      <td>&gt; 2 Years</td>\n",
       "      <td>Yes</td>\n",
       "      <td>38294.0</td>\n",
       "      <td>26.0</td>\n",
       "      <td>27</td>\n",
       "      <td>1.0</td>\n",
       "    </tr>\n",
       "    <tr>\n",
       "      <th>3</th>\n",
       "      <td>4</td>\n",
       "      <td>Male</td>\n",
       "      <td>21</td>\n",
       "      <td>1</td>\n",
       "      <td>11.0</td>\n",
       "      <td>1</td>\n",
       "      <td>&lt; 1 Year</td>\n",
       "      <td>No</td>\n",
       "      <td>28619.0</td>\n",
       "      <td>152.0</td>\n",
       "      <td>203</td>\n",
       "      <td>0.0</td>\n",
       "    </tr>\n",
       "    <tr>\n",
       "      <th>4</th>\n",
       "      <td>5</td>\n",
       "      <td>Female</td>\n",
       "      <td>29</td>\n",
       "      <td>1</td>\n",
       "      <td>41.0</td>\n",
       "      <td>1</td>\n",
       "      <td>&lt; 1 Year</td>\n",
       "      <td>No</td>\n",
       "      <td>27496.0</td>\n",
       "      <td>152.0</td>\n",
       "      <td>39</td>\n",
       "      <td>0.0</td>\n",
       "    </tr>\n",
       "    <tr>\n",
       "      <th>...</th>\n",
       "      <td>...</td>\n",
       "      <td>...</td>\n",
       "      <td>...</td>\n",
       "      <td>...</td>\n",
       "      <td>...</td>\n",
       "      <td>...</td>\n",
       "      <td>...</td>\n",
       "      <td>...</td>\n",
       "      <td>...</td>\n",
       "      <td>...</td>\n",
       "      <td>...</td>\n",
       "      <td>...</td>\n",
       "    </tr>\n",
       "    <tr>\n",
       "      <th>381104</th>\n",
       "      <td>381105</td>\n",
       "      <td>Male</td>\n",
       "      <td>74</td>\n",
       "      <td>1</td>\n",
       "      <td>26.0</td>\n",
       "      <td>1</td>\n",
       "      <td>1-2 Year</td>\n",
       "      <td>No</td>\n",
       "      <td>30170.0</td>\n",
       "      <td>26.0</td>\n",
       "      <td>88</td>\n",
       "      <td>0.0</td>\n",
       "    </tr>\n",
       "    <tr>\n",
       "      <th>381105</th>\n",
       "      <td>381106</td>\n",
       "      <td>Male</td>\n",
       "      <td>30</td>\n",
       "      <td>1</td>\n",
       "      <td>37.0</td>\n",
       "      <td>1</td>\n",
       "      <td>&lt; 1 Year</td>\n",
       "      <td>No</td>\n",
       "      <td>40016.0</td>\n",
       "      <td>152.0</td>\n",
       "      <td>131</td>\n",
       "      <td>0.0</td>\n",
       "    </tr>\n",
       "    <tr>\n",
       "      <th>381106</th>\n",
       "      <td>381107</td>\n",
       "      <td>Male</td>\n",
       "      <td>21</td>\n",
       "      <td>1</td>\n",
       "      <td>30.0</td>\n",
       "      <td>1</td>\n",
       "      <td>&lt; 1 Year</td>\n",
       "      <td>No</td>\n",
       "      <td>35118.0</td>\n",
       "      <td>160.0</td>\n",
       "      <td>161</td>\n",
       "      <td>0.0</td>\n",
       "    </tr>\n",
       "    <tr>\n",
       "      <th>381107</th>\n",
       "      <td>381108</td>\n",
       "      <td>Female</td>\n",
       "      <td>68</td>\n",
       "      <td>1</td>\n",
       "      <td>14.0</td>\n",
       "      <td>0</td>\n",
       "      <td>&gt; 2 Years</td>\n",
       "      <td>Yes</td>\n",
       "      <td>44617.0</td>\n",
       "      <td>124.0</td>\n",
       "      <td>74</td>\n",
       "      <td>0.0</td>\n",
       "    </tr>\n",
       "    <tr>\n",
       "      <th>381108</th>\n",
       "      <td>381109</td>\n",
       "      <td>Male</td>\n",
       "      <td>46</td>\n",
       "      <td>1</td>\n",
       "      <td>29.0</td>\n",
       "      <td>0</td>\n",
       "      <td>1-2 Year</td>\n",
       "      <td>No</td>\n",
       "      <td>41777.0</td>\n",
       "      <td>26.0</td>\n",
       "      <td>237</td>\n",
       "      <td>0.0</td>\n",
       "    </tr>\n",
       "  </tbody>\n",
       "</table>\n",
       "<p>381109 rows × 12 columns</p>\n",
       "</div>"
      ],
      "text/plain": [
       "            id  Gender  Age  Driving_License  Region_Code  Previously_Insured  \\\n",
       "0            1    Male   44                1         28.0                   0   \n",
       "1            2    Male   76                1          3.0                   0   \n",
       "2            3    Male   47                1         28.0                   0   \n",
       "3            4    Male   21                1         11.0                   1   \n",
       "4            5  Female   29                1         41.0                   1   \n",
       "...        ...     ...  ...              ...          ...                 ...   \n",
       "381104  381105    Male   74                1         26.0                   1   \n",
       "381105  381106    Male   30                1         37.0                   1   \n",
       "381106  381107    Male   21                1         30.0                   1   \n",
       "381107  381108  Female   68                1         14.0                   0   \n",
       "381108  381109    Male   46                1         29.0                   0   \n",
       "\n",
       "       Vehicle_Age Vehicle_Damage  Annual_Premium  Policy_Sales_Channel  \\\n",
       "0        > 2 Years            Yes         40454.0                  26.0   \n",
       "1         1-2 Year             No         33536.0                  26.0   \n",
       "2        > 2 Years            Yes         38294.0                  26.0   \n",
       "3         < 1 Year             No         28619.0                 152.0   \n",
       "4         < 1 Year             No         27496.0                 152.0   \n",
       "...            ...            ...             ...                   ...   \n",
       "381104    1-2 Year             No         30170.0                  26.0   \n",
       "381105    < 1 Year             No         40016.0                 152.0   \n",
       "381106    < 1 Year             No         35118.0                 160.0   \n",
       "381107   > 2 Years            Yes         44617.0                 124.0   \n",
       "381108    1-2 Year             No         41777.0                  26.0   \n",
       "\n",
       "        Vintage  Response  \n",
       "0           217       1.0  \n",
       "1           183       0.0  \n",
       "2            27       1.0  \n",
       "3           203       0.0  \n",
       "4            39       0.0  \n",
       "...         ...       ...  \n",
       "381104       88       0.0  \n",
       "381105      131       0.0  \n",
       "381106      161       0.0  \n",
       "381107       74       0.0  \n",
       "381108      237       0.0  \n",
       "\n",
       "[381109 rows x 12 columns]"
      ]
     },
     "execution_count": 42,
     "metadata": {},
     "output_type": "execute_result"
    }
   ],
   "source": [
    "df = df[(df['Response'] == 1) | (df['Response'] == 0)]\n",
    "df"
   ]
  },
  {
   "cell_type": "markdown",
   "metadata": {},
   "source": [
    "## 3.2 Valores duplicados"
   ]
  },
  {
   "cell_type": "markdown",
   "metadata": {},
   "source": [
    "Chave primária da tabela é a 'id'"
   ]
  },
  {
   "cell_type": "code",
   "execution_count": 43,
   "metadata": {},
   "outputs": [
    {
     "data": {
      "text/plain": [
       "381109"
      ]
     },
     "execution_count": 43,
     "metadata": {},
     "output_type": "execute_result"
    }
   ],
   "source": [
    "len(df)"
   ]
  },
  {
   "cell_type": "code",
   "execution_count": 44,
   "metadata": {},
   "outputs": [
    {
     "data": {
      "text/plain": [
       "381109"
      ]
     },
     "execution_count": 44,
     "metadata": {},
     "output_type": "execute_result"
    }
   ],
   "source": [
    "df = df.drop_duplicates(subset=['id'])\n",
    "len(df)"
   ]
  },
  {
   "cell_type": "code",
   "execution_count": 45,
   "metadata": {},
   "outputs": [
    {
     "data": {
      "text/plain": [
       "381109"
      ]
     },
     "execution_count": 45,
     "metadata": {},
     "output_type": "execute_result"
    }
   ],
   "source": [
    "## Excluindo a chave primária\n",
    "df = df.drop(columns=['id'])\n",
    "len(df)"
   ]
  },
  {
   "cell_type": "markdown",
   "metadata": {},
   "source": [
    "## 4.0 Pré-processamento - Encoding\n",
    "\n",
    "Aplicaremos o Label Encoding, no entanto, manteremos o código da V.1.0 desse notebook que inputava valores manualmente para cada feature categórica."
   ]
  },
  {
   "cell_type": "code",
   "execution_count": 46,
   "metadata": {},
   "outputs": [
    {
     "data": {
      "text/html": [
       "<div>\n",
       "<style scoped>\n",
       "    .dataframe tbody tr th:only-of-type {\n",
       "        vertical-align: middle;\n",
       "    }\n",
       "\n",
       "    .dataframe tbody tr th {\n",
       "        vertical-align: top;\n",
       "    }\n",
       "\n",
       "    .dataframe thead th {\n",
       "        text-align: right;\n",
       "    }\n",
       "</style>\n",
       "<table border=\"1\" class=\"dataframe\">\n",
       "  <thead>\n",
       "    <tr style=\"text-align: right;\">\n",
       "      <th></th>\n",
       "      <th>Gender</th>\n",
       "      <th>Age</th>\n",
       "      <th>Driving_License</th>\n",
       "      <th>Region_Code</th>\n",
       "      <th>Previously_Insured</th>\n",
       "      <th>Vehicle_Age</th>\n",
       "      <th>Vehicle_Damage</th>\n",
       "      <th>Annual_Premium</th>\n",
       "      <th>Policy_Sales_Channel</th>\n",
       "      <th>Vintage</th>\n",
       "      <th>Response</th>\n",
       "    </tr>\n",
       "  </thead>\n",
       "  <tbody>\n",
       "    <tr>\n",
       "      <th>0</th>\n",
       "      <td>1</td>\n",
       "      <td>44</td>\n",
       "      <td>1</td>\n",
       "      <td>28.0</td>\n",
       "      <td>0</td>\n",
       "      <td>2</td>\n",
       "      <td>1</td>\n",
       "      <td>40454.0</td>\n",
       "      <td>26.0</td>\n",
       "      <td>217</td>\n",
       "      <td>1.0</td>\n",
       "    </tr>\n",
       "    <tr>\n",
       "      <th>1</th>\n",
       "      <td>1</td>\n",
       "      <td>76</td>\n",
       "      <td>1</td>\n",
       "      <td>3.0</td>\n",
       "      <td>0</td>\n",
       "      <td>1</td>\n",
       "      <td>0</td>\n",
       "      <td>33536.0</td>\n",
       "      <td>26.0</td>\n",
       "      <td>183</td>\n",
       "      <td>0.0</td>\n",
       "    </tr>\n",
       "    <tr>\n",
       "      <th>2</th>\n",
       "      <td>1</td>\n",
       "      <td>47</td>\n",
       "      <td>1</td>\n",
       "      <td>28.0</td>\n",
       "      <td>0</td>\n",
       "      <td>2</td>\n",
       "      <td>1</td>\n",
       "      <td>38294.0</td>\n",
       "      <td>26.0</td>\n",
       "      <td>27</td>\n",
       "      <td>1.0</td>\n",
       "    </tr>\n",
       "    <tr>\n",
       "      <th>3</th>\n",
       "      <td>1</td>\n",
       "      <td>21</td>\n",
       "      <td>1</td>\n",
       "      <td>11.0</td>\n",
       "      <td>1</td>\n",
       "      <td>0</td>\n",
       "      <td>0</td>\n",
       "      <td>28619.0</td>\n",
       "      <td>152.0</td>\n",
       "      <td>203</td>\n",
       "      <td>0.0</td>\n",
       "    </tr>\n",
       "    <tr>\n",
       "      <th>4</th>\n",
       "      <td>0</td>\n",
       "      <td>29</td>\n",
       "      <td>1</td>\n",
       "      <td>41.0</td>\n",
       "      <td>1</td>\n",
       "      <td>0</td>\n",
       "      <td>0</td>\n",
       "      <td>27496.0</td>\n",
       "      <td>152.0</td>\n",
       "      <td>39</td>\n",
       "      <td>0.0</td>\n",
       "    </tr>\n",
       "  </tbody>\n",
       "</table>\n",
       "</div>"
      ],
      "text/plain": [
       "   Gender  Age  Driving_License  Region_Code  Previously_Insured  Vehicle_Age  \\\n",
       "0       1   44                1         28.0                   0            2   \n",
       "1       1   76                1          3.0                   0            1   \n",
       "2       1   47                1         28.0                   0            2   \n",
       "3       1   21                1         11.0                   1            0   \n",
       "4       0   29                1         41.0                   1            0   \n",
       "\n",
       "   Vehicle_Damage  Annual_Premium  Policy_Sales_Channel  Vintage  Response  \n",
       "0               1         40454.0                  26.0      217       1.0  \n",
       "1               0         33536.0                  26.0      183       0.0  \n",
       "2               1         38294.0                  26.0       27       1.0  \n",
       "3               0         28619.0                 152.0      203       0.0  \n",
       "4               0         27496.0                 152.0       39       0.0  "
      ]
     },
     "execution_count": 46,
     "metadata": {},
     "output_type": "execute_result"
    }
   ],
   "source": [
    "### Preparando a base de dados para treinamento\n",
    "df['Gender'] = df['Gender'].map( {'Female': 0, 'Male': 1} ).astype(int)\n",
    "df['Vehicle_Age'] = df['Vehicle_Age'].map( {'< 1 Year': 0, '1-2 Year': 1, '> 2 Years': 2 } ).astype(int)\n",
    "df['Vehicle_Damage'] = df['Vehicle_Damage'].map( {'No': 0, 'Yes': 1} ).astype(int)\n",
    "df.head()"
   ]
  },
  {
   "cell_type": "markdown",
   "metadata": {},
   "source": [
    "## 5.0 EDA - Analise de dados - SIMPLES\n",
    "A análise de dados mais aprofundada foi realizada no PowerBI está disponibilizada no repositório"
   ]
  },
  {
   "cell_type": "code",
   "execution_count": 47,
   "metadata": {},
   "outputs": [
    {
     "data": {
      "text/plain": [
       "<seaborn.axisgrid.FacetGrid at 0x29c578dad90>"
      ]
     },
     "execution_count": 47,
     "metadata": {},
     "output_type": "execute_result"
    },
    {
     "data": {
      "image/png": "[encoded data removed]",
      "text/plain": [
       "<Figure size 360x360 with 1 Axes>"
      ]
     },
     "metadata": {
      "needs_background": "light"
     },
     "output_type": "display_data"
    }
   ],
   "source": [
    "%matplotlib inline\n",
    "sns.catplot(x=\"Response\", kind=\"count\", palette=\"Set2\", data= df).set(title=\"Contagem pessoas\")"
   ]
  },
  {
   "cell_type": "markdown",
   "metadata": {},
   "source": [
    "- Os dados estão desbalanceados, tereemos que utilizar técnicas para balanceamento."
   ]
  },
  {
   "cell_type": "markdown",
   "metadata": {},
   "source": [
    "# 6 Definição da função de custo para seleção de modelos de ML\n",
    "\n",
    "Definições:\n",
    "\n",
    "- <b>Custo abordagem - FP:</b> Custos relacionados a abordagem de clientes sem interesse devido ao erro de classificação da classe 0 (Falso Positivo - FP)\n",
    "\n",
    "- <b>Custo oportunidade - FN:</b> Custos relacionados ao custo de oportunidade da não abordagem e aquisição de seguros de veículos por clientes com interesse devido ao erro de classificação da classe 1 (Falso Negativo - FN)"
   ]
  },
  {
   "cell_type": "markdown",
   "metadata": {},
   "source": [
    "## 6.1 Custo FP (Abordagem)"
   ]
  },
  {
   "cell_type": "markdown",
   "metadata": {},
   "source": [
    "- Um mês tem em média 160 horas trabalhadas, \n",
    "- Supondo que cada telefonema para oferta do seguro tem uma duração de 20\n",
    "- Supondo que um telefonema de 20 minutos custa 2,00 reais\n",
    "- Supondo que a média do salário de um vendedor seja 2.500,00 reais mensais\n",
    "- A hora de um vendedor custa 15,62 reais.\n",
    "- O custo médio para deslocamento do vendedor ao cliente é de 12 reais.\n",
    "- Um vendedor demora cerca de 2 horas de deslocamento ida e volta até o cliente.\n",
    "\n",
    "        Custo_FP = 2 (Custo telefonema) + 20/60  * 15,62 (Horas trabalhadas) = 7,21  \n",
    "        Custo_FP = 2 (Custo telefonema) + 120/60 * 15,62 (Horas trabalhadas) + 12 (Combustivel) = 45,24\n",
    "\n",
    "Como não há informações sobre como os clientes são abordados adotaremos a média simples para calcular a média do custo de abordagem:\n",
    "\n",
    "<b> Custo_FP </b> = (7,21 + 45,24) / 2 = 26,225\n"
   ]
  },
  {
   "cell_type": "code",
   "execution_count": 48,
   "metadata": {},
   "outputs": [
    {
     "data": {
      "text/plain": [
       "26.225"
      ]
     },
     "execution_count": 48,
     "metadata": {},
     "output_type": "execute_result"
    }
   ],
   "source": [
    "Custo_FP = (7.21 + 45.24) / 2\n",
    "Custo_FP"
   ]
  },
  {
   "cell_type": "markdown",
   "metadata": {},
   "source": [
    "## 6.2 Custo FN (de oportunidade)"
   ]
  },
  {
   "cell_type": "markdown",
   "metadata": {},
   "source": [
    "####  6.2.2 Custo de oportunidade\n",
    "- Supondo que a parcela de um seguro de saúde seja de 70 reais ou 840,00 anuais.\n",
    "- Supondo que o valor do seguro de veículo seja igual ao seguro de saúde.\n",
    "\n",
    "Custo_FN = Valor seguro do veículo - Custo abordagem do cliente  \n",
    "Custo_FN = 840 - 26,23  \n",
    "Custo_FN = 813,77  "
   ]
  },
  {
   "cell_type": "code",
   "execution_count": 49,
   "metadata": {},
   "outputs": [
    {
     "data": {
      "text/plain": [
       "813.77"
      ]
     },
     "execution_count": 49,
     "metadata": {},
     "output_type": "execute_result"
    }
   ],
   "source": [
    "Custo_FN = 813.77\n",
    "Custo_FN"
   ]
  },
  {
   "cell_type": "markdown",
   "metadata": {},
   "source": [
    "# 6.4 Função custo total\n",
    "\n",
    "        Custo total = (Quantidade_FP * Custo_FP) + (Quantidade_FN * Custo_FN)"
   ]
  },
  {
   "cell_type": "code",
   "execution_count": 51,
   "metadata": {},
   "outputs": [],
   "source": [
    "from sklearn.metrics import confusion_matrix\n",
    "def funcao_custo(y_verdadeiro, y_predito):\n",
    "    \n",
    "    ## Quantidade FP    \n",
    "    qtde_FP = confusion_matrix(y_verdadeiro,y_predito)[0][1]\n",
    "    \n",
    "    ## Quantidade FN\n",
    "    qtde_FN = confusion_matrix(y_verdadeiro,y_predito)[1][0]\n",
    "    \n",
    "    ## Função de custo\n",
    "    custo = qtde_FP * Custo_FP + qtde_FN * Custo_FN\n",
    "    \n",
    "    return custo  "
   ]
  },
  {
   "cell_type": "code",
   "execution_count": 52,
   "metadata": {},
   "outputs": [
    {
     "data": {
      "text/plain": [
       "839.995"
      ]
     },
     "execution_count": 52,
     "metadata": {},
     "output_type": "execute_result"
    }
   ],
   "source": [
    "## Exemplo custo com 1 erro pessoa interessada e 1 erro pessoa não interessada\n",
    "funcao_custo(np.array([0,0,0,1,1,1]),np.array([0,0,1,1,1,0]))"
   ]
  },
  {
   "cell_type": "code",
   "execution_count": 53,
   "metadata": {},
   "outputs": [],
   "source": [
    "from sklearn.metrics import fbeta_score, make_scorer\n",
    "custo_func = make_scorer(funcao_custo, greater_is_better=False)"
   ]
  },
  {
   "cell_type": "markdown",
   "metadata": {},
   "source": [
    "## 6.5 TradeOff Custos:\n",
    "\n",
    "Dado que na nossa base de dados há maior proporção de pessoas sem o interesse no seguro. \n",
    "\n",
    "Qual o tradeoff na diminuição da taxa de acertos de pessoas com interesse no incremento de 1% da taxa de acertos de pessoas com interesse? O que o modelo irá priorizar segundo essa função de custo?"
   ]
  },
  {
   "cell_type": "code",
   "execution_count": 54,
   "metadata": {},
   "outputs": [
    {
     "data": {
      "text/plain": [
       "3343.9900000000002"
      ]
     },
     "execution_count": 54,
     "metadata": {},
     "output_type": "execute_result"
    }
   ],
   "source": [
    "n_clientes_sem_interesse = df.Response.value_counts()[0]\n",
    "um_perc_sem_interesse = 0.01 * n_clientes_sem_interesse\n",
    "um_perc_sem_interesse"
   ]
  },
  {
   "cell_type": "markdown",
   "metadata": {},
   "source": [
    "Para essa base de dados um incremento de 1% na taxa de acerto de pessoas sem interesse equivale a acertar 3343 clientes. Acertar essa quantidade transações equivale a uma economia de:\n",
    "\n",
    "        Economia = Acertos * Custo_FP"
   ]
  },
  {
   "cell_type": "code",
   "execution_count": 55,
   "metadata": {},
   "outputs": [
    {
     "data": {
      "text/plain": [
       "87696.13775000001"
      ]
     },
     "execution_count": 55,
     "metadata": {},
     "output_type": "execute_result"
    }
   ],
   "source": [
    "economia = um_perc_sem_interesse * Custo_FP\n",
    "economia"
   ]
  },
  {
   "cell_type": "markdown",
   "metadata": {},
   "source": [
    "Essa mesma economia equivale a um acerto de X clientes com interesse no seguro onde:\n",
    "\n",
    "    Economia = X_interessados * Custo_FN\n",
    "\n",
    "    X_interessados = Economia / Custo_FN"
   ]
  },
  {
   "cell_type": "code",
   "execution_count": 56,
   "metadata": {},
   "outputs": [
    {
     "data": {
      "text/plain": [
       "107.76526260491295"
      ]
     },
     "execution_count": 56,
     "metadata": {},
     "output_type": "execute_result"
    }
   ],
   "source": [
    "X_interessados = economia/ Custo_FN \n",
    "X_interessados"
   ]
  },
  {
   "cell_type": "code",
   "execution_count": 57,
   "metadata": {},
   "outputs": [
    {
     "data": {
      "text/plain": [
       "0.23071133077480827"
      ]
     },
     "execution_count": 57,
     "metadata": {},
     "output_type": "execute_result"
    }
   ],
   "source": [
    "n_clientes_interessados =  df.Response.value_counts()[1]\n",
    "\n",
    "perc_interessados = X_interessados / n_clientes_interessados * 100\n",
    "perc_interessados"
   ]
  },
  {
   "cell_type": "markdown",
   "metadata": {},
   "source": [
    "## Conclusão:\n",
    "- Dado o desbalanceamento das classes e os custos o modelo priorizará o acerto de 1 cliente interessado em detrimento de 107 clientes não interessados.\n",
    "- Isso equivale a dizer que o modelo priorizará no tradeoff um ganho de +23% (+1) na taxa de acerto de pessoas interessadas em detrimento de -1% na taxa de acertos de pessoas sem interesse."
   ]
  },
  {
   "cell_type": "markdown",
   "metadata": {},
   "source": [
    "# 7 Amostragem estratificada: 80% Treino e Valid / 20% Teste"
   ]
  },
  {
   "cell_type": "code",
   "execution_count": 58,
   "metadata": {},
   "outputs": [
    {
     "data": {
      "text/plain": [
       "0.0    66880\n",
       "1.0     9342\n",
       "Name: Response, dtype: int64"
      ]
     },
     "execution_count": 58,
     "metadata": {},
     "output_type": "execute_result"
    }
   ],
   "source": [
    "from sklearn.model_selection import train_test_split\n",
    "\n",
    "X = df.drop(['Response'], axis=1)\n",
    "y = df['Response']\n",
    "\n",
    "X_train_valid, X_test, y_train_valid, y_test = train_test_split(X, y, test_size=0.2, random_state=1, stratify=y)\n",
    "y_test.value_counts()"
   ]
  },
  {
   "cell_type": "markdown",
   "metadata": {},
   "source": [
    "# 8.0 Prototipação"
   ]
  },
  {
   "cell_type": "markdown",
   "metadata": {},
   "source": [
    "Na versão 1.0 do Projeto realizamos experimentos para escolher o melhor modelo e chegamos a conclusão que o RandomForest performava melhor, assim sendo, pularemos a etapa de prototipação e seguiremos com o tuning desse modelo."
   ]
  },
  {
   "cell_type": "markdown",
   "metadata": {},
   "source": [
    "# 8 Machine Learning"
   ]
  },
  {
   "cell_type": "markdown",
   "metadata": {},
   "source": [
    "O codigo abaixo é responsável por selecionar:\n",
    "\n",
    "- Melhor taxa de balanceamento aplicado APENAS em dados de treino\n",
    "- Melhor conjunto de hiperparâmetros baseado na função de custo\n",
    "- Melhor Quantidade de features (k = num_features)\n",
    "- Melhor conjunto de features\n",
    "- Pipelines sem seleção de features\n",
    "- Pipelines com seleção aleatória de features e com SelectFromModel do scikit-learn\n",
    "- Pipelines com aplicação de PCA (iterado sobre k-1 features á k-3 features)\n",
    "\n",
    "Metodologia:\n",
    "\n",
    "Cada pipeline foi treinada 5x em um conjunto distinto de 80% dos dados de treino para cada conjunto de taxa de balanceamento, hiperparametros, conjunto de features selecionadas.\n",
    "\n",
    "As médias do recall, precisao, acurácia sobre os dados de VALIDAÇÃO e também TESTES foram calculadas sobre as 5 repetições para selecionar os melhores modelos\n",
    "\n",
    "Boas práticas:\n",
    "\n",
    " - Seleção dos hiperparâmetros utilizando dados de VALIDAÇÂO\n",
    " - Avaliação das métricas sobre dados de VALIDAÇÂO e dados de TESTE.\n",
    " - Seleção do melhor modelo utilizando métricas dos dados de TESTE."
   ]
  },
  {
   "cell_type": "code",
   "execution_count": 227,
   "metadata": {},
   "outputs": [
    {
     "name": "stdout",
     "output_type": "stream",
     "text": [
      "Iterando seed = 0, fator balanc = 0.8\n"
     ]
    },
    {
     "ename": "KeyboardInterrupt",
     "evalue": "",
     "output_type": "error",
     "traceback": [
      "\u001b[1;31m---------------------------------------------------------------------------\u001b[0m",
      "\u001b[1;31mKeyboardInterrupt\u001b[0m                         Traceback (most recent call last)",
      "\u001b[1;32m<ipython-input-227-e4d3aeed415e>\u001b[0m in \u001b[0;36m<module>\u001b[1;34m\u001b[0m\n\u001b[0;32m    143\u001b[0m \u001b[1;33m\u001b[0m\u001b[0m\n\u001b[0;32m    144\u001b[0m             \u001b[1;31m#Fit dados\u001b[0m\u001b[1;33m\u001b[0m\u001b[1;33m\u001b[0m\u001b[1;33m\u001b[0m\u001b[0m\n\u001b[1;32m--> 145\u001b[1;33m             \u001b[0mgs\u001b[0m\u001b[1;33m.\u001b[0m\u001b[0mfit\u001b[0m\u001b[1;33m(\u001b[0m\u001b[0mX_train_valid_balanc\u001b[0m\u001b[1;33m,\u001b[0m\u001b[0my_train_valid_balanc\u001b[0m\u001b[1;33m)\u001b[0m\u001b[1;33m\u001b[0m\u001b[1;33m\u001b[0m\u001b[0m\n\u001b[0m\u001b[0;32m    146\u001b[0m \u001b[1;33m\u001b[0m\u001b[0m\n\u001b[0;32m    147\u001b[0m             \u001b[1;31m#melhores hyperparametros:\u001b[0m\u001b[1;33m\u001b[0m\u001b[1;33m\u001b[0m\u001b[1;33m\u001b[0m\u001b[0m\n",
      "\u001b[1;32m~\\AppData\\Roaming\\Python\\Python38\\site-packages\\sklearn\\utils\\validation.py\u001b[0m in \u001b[0;36minner_f\u001b[1;34m(*args, **kwargs)\u001b[0m\n\u001b[0;32m     71\u001b[0m                           FutureWarning)\n\u001b[0;32m     72\u001b[0m         \u001b[0mkwargs\u001b[0m\u001b[1;33m.\u001b[0m\u001b[0mupdate\u001b[0m\u001b[1;33m(\u001b[0m\u001b[1;33m{\u001b[0m\u001b[0mk\u001b[0m\u001b[1;33m:\u001b[0m \u001b[0marg\u001b[0m \u001b[1;32mfor\u001b[0m \u001b[0mk\u001b[0m\u001b[1;33m,\u001b[0m \u001b[0marg\u001b[0m \u001b[1;32min\u001b[0m \u001b[0mzip\u001b[0m\u001b[1;33m(\u001b[0m\u001b[0msig\u001b[0m\u001b[1;33m.\u001b[0m\u001b[0mparameters\u001b[0m\u001b[1;33m,\u001b[0m \u001b[0margs\u001b[0m\u001b[1;33m)\u001b[0m\u001b[1;33m}\u001b[0m\u001b[1;33m)\u001b[0m\u001b[1;33m\u001b[0m\u001b[1;33m\u001b[0m\u001b[0m\n\u001b[1;32m---> 73\u001b[1;33m         \u001b[1;32mreturn\u001b[0m \u001b[0mf\u001b[0m\u001b[1;33m(\u001b[0m\u001b[1;33m**\u001b[0m\u001b[0mkwargs\u001b[0m\u001b[1;33m)\u001b[0m\u001b[1;33m\u001b[0m\u001b[1;33m\u001b[0m\u001b[0m\n\u001b[0m\u001b[0;32m     74\u001b[0m     \u001b[1;32mreturn\u001b[0m \u001b[0minner_f\u001b[0m\u001b[1;33m\u001b[0m\u001b[1;33m\u001b[0m\u001b[0m\n\u001b[0;32m     75\u001b[0m \u001b[1;33m\u001b[0m\u001b[0m\n",
      "\u001b[1;32m~\\AppData\\Roaming\\Python\\Python38\\site-packages\\sklearn\\model_selection\\_search.py\u001b[0m in \u001b[0;36mfit\u001b[1;34m(self, X, y, groups, **fit_params)\u001b[0m\n\u001b[0;32m    734\u001b[0m                 \u001b[1;32mreturn\u001b[0m \u001b[0mresults\u001b[0m\u001b[1;33m\u001b[0m\u001b[1;33m\u001b[0m\u001b[0m\n\u001b[0;32m    735\u001b[0m \u001b[1;33m\u001b[0m\u001b[0m\n\u001b[1;32m--> 736\u001b[1;33m             \u001b[0mself\u001b[0m\u001b[1;33m.\u001b[0m\u001b[0m_run_search\u001b[0m\u001b[1;33m(\u001b[0m\u001b[0mevaluate_candidates\u001b[0m\u001b[1;33m)\u001b[0m\u001b[1;33m\u001b[0m\u001b[1;33m\u001b[0m\u001b[0m\n\u001b[0m\u001b[0;32m    737\u001b[0m \u001b[1;33m\u001b[0m\u001b[0m\n\u001b[0;32m    738\u001b[0m         \u001b[1;31m# For multi-metric evaluation, store the best_index_, best_params_ and\u001b[0m\u001b[1;33m\u001b[0m\u001b[1;33m\u001b[0m\u001b[1;33m\u001b[0m\u001b[0m\n",
      "\u001b[1;32m~\\AppData\\Roaming\\Python\\Python38\\site-packages\\sklearn\\model_selection\\_search.py\u001b[0m in \u001b[0;36m_run_search\u001b[1;34m(self, evaluate_candidates)\u001b[0m\n\u001b[0;32m   1186\u001b[0m     \u001b[1;32mdef\u001b[0m \u001b[0m_run_search\u001b[0m\u001b[1;33m(\u001b[0m\u001b[0mself\u001b[0m\u001b[1;33m,\u001b[0m \u001b[0mevaluate_candidates\u001b[0m\u001b[1;33m)\u001b[0m\u001b[1;33m:\u001b[0m\u001b[1;33m\u001b[0m\u001b[1;33m\u001b[0m\u001b[0m\n\u001b[0;32m   1187\u001b[0m         \u001b[1;34m\"\"\"Search all candidates in param_grid\"\"\"\u001b[0m\u001b[1;33m\u001b[0m\u001b[1;33m\u001b[0m\u001b[0m\n\u001b[1;32m-> 1188\u001b[1;33m         \u001b[0mevaluate_candidates\u001b[0m\u001b[1;33m(\u001b[0m\u001b[0mParameterGrid\u001b[0m\u001b[1;33m(\u001b[0m\u001b[0mself\u001b[0m\u001b[1;33m.\u001b[0m\u001b[0mparam_grid\u001b[0m\u001b[1;33m)\u001b[0m\u001b[1;33m)\u001b[0m\u001b[1;33m\u001b[0m\u001b[1;33m\u001b[0m\u001b[0m\n\u001b[0m\u001b[0;32m   1189\u001b[0m \u001b[1;33m\u001b[0m\u001b[0m\n\u001b[0;32m   1190\u001b[0m \u001b[1;33m\u001b[0m\u001b[0m\n",
      "\u001b[1;32m~\\AppData\\Roaming\\Python\\Python38\\site-packages\\sklearn\\model_selection\\_search.py\u001b[0m in \u001b[0;36mevaluate_candidates\u001b[1;34m(candidate_params)\u001b[0m\n\u001b[0;32m    706\u001b[0m                               n_splits, n_candidates, n_candidates * n_splits))\n\u001b[0;32m    707\u001b[0m \u001b[1;33m\u001b[0m\u001b[0m\n\u001b[1;32m--> 708\u001b[1;33m                 out = parallel(delayed(_fit_and_score)(clone(base_estimator),\n\u001b[0m\u001b[0;32m    709\u001b[0m                                                        \u001b[0mX\u001b[0m\u001b[1;33m,\u001b[0m \u001b[0my\u001b[0m\u001b[1;33m,\u001b[0m\u001b[1;33m\u001b[0m\u001b[1;33m\u001b[0m\u001b[0m\n\u001b[0;32m    710\u001b[0m                                                        \u001b[0mtrain\u001b[0m\u001b[1;33m=\u001b[0m\u001b[0mtrain\u001b[0m\u001b[1;33m,\u001b[0m \u001b[0mtest\u001b[0m\u001b[1;33m=\u001b[0m\u001b[0mtest\u001b[0m\u001b[1;33m,\u001b[0m\u001b[1;33m\u001b[0m\u001b[1;33m\u001b[0m\u001b[0m\n",
      "\u001b[1;32m~\\AppData\\Roaming\\Python\\Python38\\site-packages\\joblib\\parallel.py\u001b[0m in \u001b[0;36m__call__\u001b[1;34m(self, iterable)\u001b[0m\n\u001b[0;32m   1052\u001b[0m \u001b[1;33m\u001b[0m\u001b[0m\n\u001b[0;32m   1053\u001b[0m             \u001b[1;32mwith\u001b[0m \u001b[0mself\u001b[0m\u001b[1;33m.\u001b[0m\u001b[0m_backend\u001b[0m\u001b[1;33m.\u001b[0m\u001b[0mretrieval_context\u001b[0m\u001b[1;33m(\u001b[0m\u001b[1;33m)\u001b[0m\u001b[1;33m:\u001b[0m\u001b[1;33m\u001b[0m\u001b[1;33m\u001b[0m\u001b[0m\n\u001b[1;32m-> 1054\u001b[1;33m                 \u001b[0mself\u001b[0m\u001b[1;33m.\u001b[0m\u001b[0mretrieve\u001b[0m\u001b[1;33m(\u001b[0m\u001b[1;33m)\u001b[0m\u001b[1;33m\u001b[0m\u001b[1;33m\u001b[0m\u001b[0m\n\u001b[0m\u001b[0;32m   1055\u001b[0m             \u001b[1;31m# Make sure that we get a last message telling us we are done\u001b[0m\u001b[1;33m\u001b[0m\u001b[1;33m\u001b[0m\u001b[1;33m\u001b[0m\u001b[0m\n\u001b[0;32m   1056\u001b[0m             \u001b[0melapsed_time\u001b[0m \u001b[1;33m=\u001b[0m \u001b[0mtime\u001b[0m\u001b[1;33m.\u001b[0m\u001b[0mtime\u001b[0m\u001b[1;33m(\u001b[0m\u001b[1;33m)\u001b[0m \u001b[1;33m-\u001b[0m \u001b[0mself\u001b[0m\u001b[1;33m.\u001b[0m\u001b[0m_start_time\u001b[0m\u001b[1;33m\u001b[0m\u001b[1;33m\u001b[0m\u001b[0m\n",
      "\u001b[1;32m~\\AppData\\Roaming\\Python\\Python38\\site-packages\\joblib\\parallel.py\u001b[0m in \u001b[0;36mretrieve\u001b[1;34m(self)\u001b[0m\n\u001b[0;32m    931\u001b[0m             \u001b[1;32mtry\u001b[0m\u001b[1;33m:\u001b[0m\u001b[1;33m\u001b[0m\u001b[1;33m\u001b[0m\u001b[0m\n\u001b[0;32m    932\u001b[0m                 \u001b[1;32mif\u001b[0m \u001b[0mgetattr\u001b[0m\u001b[1;33m(\u001b[0m\u001b[0mself\u001b[0m\u001b[1;33m.\u001b[0m\u001b[0m_backend\u001b[0m\u001b[1;33m,\u001b[0m \u001b[1;34m'supports_timeout'\u001b[0m\u001b[1;33m,\u001b[0m \u001b[1;32mFalse\u001b[0m\u001b[1;33m)\u001b[0m\u001b[1;33m:\u001b[0m\u001b[1;33m\u001b[0m\u001b[1;33m\u001b[0m\u001b[0m\n\u001b[1;32m--> 933\u001b[1;33m                     \u001b[0mself\u001b[0m\u001b[1;33m.\u001b[0m\u001b[0m_output\u001b[0m\u001b[1;33m.\u001b[0m\u001b[0mextend\u001b[0m\u001b[1;33m(\u001b[0m\u001b[0mjob\u001b[0m\u001b[1;33m.\u001b[0m\u001b[0mget\u001b[0m\u001b[1;33m(\u001b[0m\u001b[0mtimeout\u001b[0m\u001b[1;33m=\u001b[0m\u001b[0mself\u001b[0m\u001b[1;33m.\u001b[0m\u001b[0mtimeout\u001b[0m\u001b[1;33m)\u001b[0m\u001b[1;33m)\u001b[0m\u001b[1;33m\u001b[0m\u001b[1;33m\u001b[0m\u001b[0m\n\u001b[0m\u001b[0;32m    934\u001b[0m                 \u001b[1;32melse\u001b[0m\u001b[1;33m:\u001b[0m\u001b[1;33m\u001b[0m\u001b[1;33m\u001b[0m\u001b[0m\n\u001b[0;32m    935\u001b[0m                     \u001b[0mself\u001b[0m\u001b[1;33m.\u001b[0m\u001b[0m_output\u001b[0m\u001b[1;33m.\u001b[0m\u001b[0mextend\u001b[0m\u001b[1;33m(\u001b[0m\u001b[0mjob\u001b[0m\u001b[1;33m.\u001b[0m\u001b[0mget\u001b[0m\u001b[1;33m(\u001b[0m\u001b[1;33m)\u001b[0m\u001b[1;33m)\u001b[0m\u001b[1;33m\u001b[0m\u001b[1;33m\u001b[0m\u001b[0m\n",
      "\u001b[1;32m~\\AppData\\Roaming\\Python\\Python38\\site-packages\\joblib\\_parallel_backends.py\u001b[0m in \u001b[0;36mwrap_future_result\u001b[1;34m(future, timeout)\u001b[0m\n\u001b[0;32m    540\u001b[0m         AsyncResults.get from multiprocessing.\"\"\"\n\u001b[0;32m    541\u001b[0m         \u001b[1;32mtry\u001b[0m\u001b[1;33m:\u001b[0m\u001b[1;33m\u001b[0m\u001b[1;33m\u001b[0m\u001b[0m\n\u001b[1;32m--> 542\u001b[1;33m             \u001b[1;32mreturn\u001b[0m \u001b[0mfuture\u001b[0m\u001b[1;33m.\u001b[0m\u001b[0mresult\u001b[0m\u001b[1;33m(\u001b[0m\u001b[0mtimeout\u001b[0m\u001b[1;33m=\u001b[0m\u001b[0mtimeout\u001b[0m\u001b[1;33m)\u001b[0m\u001b[1;33m\u001b[0m\u001b[1;33m\u001b[0m\u001b[0m\n\u001b[0m\u001b[0;32m    543\u001b[0m         \u001b[1;32mexcept\u001b[0m \u001b[0mCfTimeoutError\u001b[0m \u001b[1;32mas\u001b[0m \u001b[0me\u001b[0m\u001b[1;33m:\u001b[0m\u001b[1;33m\u001b[0m\u001b[1;33m\u001b[0m\u001b[0m\n\u001b[0;32m    544\u001b[0m             \u001b[1;32mraise\u001b[0m \u001b[0mTimeoutError\u001b[0m \u001b[1;32mfrom\u001b[0m \u001b[0me\u001b[0m\u001b[1;33m\u001b[0m\u001b[1;33m\u001b[0m\u001b[0m\n",
      "\u001b[1;32mC:\\anaconda3\\lib\\concurrent\\futures\\_base.py\u001b[0m in \u001b[0;36mresult\u001b[1;34m(self, timeout)\u001b[0m\n\u001b[0;32m    432\u001b[0m                 \u001b[1;32mreturn\u001b[0m \u001b[0mself\u001b[0m\u001b[1;33m.\u001b[0m\u001b[0m__get_result\u001b[0m\u001b[1;33m(\u001b[0m\u001b[1;33m)\u001b[0m\u001b[1;33m\u001b[0m\u001b[1;33m\u001b[0m\u001b[0m\n\u001b[0;32m    433\u001b[0m \u001b[1;33m\u001b[0m\u001b[0m\n\u001b[1;32m--> 434\u001b[1;33m             \u001b[0mself\u001b[0m\u001b[1;33m.\u001b[0m\u001b[0m_condition\u001b[0m\u001b[1;33m.\u001b[0m\u001b[0mwait\u001b[0m\u001b[1;33m(\u001b[0m\u001b[0mtimeout\u001b[0m\u001b[1;33m)\u001b[0m\u001b[1;33m\u001b[0m\u001b[1;33m\u001b[0m\u001b[0m\n\u001b[0m\u001b[0;32m    435\u001b[0m \u001b[1;33m\u001b[0m\u001b[0m\n\u001b[0;32m    436\u001b[0m             \u001b[1;32mif\u001b[0m \u001b[0mself\u001b[0m\u001b[1;33m.\u001b[0m\u001b[0m_state\u001b[0m \u001b[1;32min\u001b[0m \u001b[1;33m[\u001b[0m\u001b[0mCANCELLED\u001b[0m\u001b[1;33m,\u001b[0m \u001b[0mCANCELLED_AND_NOTIFIED\u001b[0m\u001b[1;33m]\u001b[0m\u001b[1;33m:\u001b[0m\u001b[1;33m\u001b[0m\u001b[1;33m\u001b[0m\u001b[0m\n",
      "\u001b[1;32mC:\\anaconda3\\lib\\threading.py\u001b[0m in \u001b[0;36mwait\u001b[1;34m(self, timeout)\u001b[0m\n\u001b[0;32m    300\u001b[0m         \u001b[1;32mtry\u001b[0m\u001b[1;33m:\u001b[0m    \u001b[1;31m# restore state no matter what (e.g., KeyboardInterrupt)\u001b[0m\u001b[1;33m\u001b[0m\u001b[1;33m\u001b[0m\u001b[0m\n\u001b[0;32m    301\u001b[0m             \u001b[1;32mif\u001b[0m \u001b[0mtimeout\u001b[0m \u001b[1;32mis\u001b[0m \u001b[1;32mNone\u001b[0m\u001b[1;33m:\u001b[0m\u001b[1;33m\u001b[0m\u001b[1;33m\u001b[0m\u001b[0m\n\u001b[1;32m--> 302\u001b[1;33m                 \u001b[0mwaiter\u001b[0m\u001b[1;33m.\u001b[0m\u001b[0macquire\u001b[0m\u001b[1;33m(\u001b[0m\u001b[1;33m)\u001b[0m\u001b[1;33m\u001b[0m\u001b[1;33m\u001b[0m\u001b[0m\n\u001b[0m\u001b[0;32m    303\u001b[0m                 \u001b[0mgotit\u001b[0m \u001b[1;33m=\u001b[0m \u001b[1;32mTrue\u001b[0m\u001b[1;33m\u001b[0m\u001b[1;33m\u001b[0m\u001b[0m\n\u001b[0;32m    304\u001b[0m             \u001b[1;32melse\u001b[0m\u001b[1;33m:\u001b[0m\u001b[1;33m\u001b[0m\u001b[1;33m\u001b[0m\u001b[0m\n",
      "\u001b[1;31mKeyboardInterrupt\u001b[0m: "
     ]
    }
   ],
   "source": [
    "from sklearn.feature_selection import SelectFromModel\n",
    "from sklearn.model_selection import GridSearchCV\n",
    "from sklearn.model_selection import cross_val_score, KFold\n",
    "from xgboost import XGBClassifier\n",
    "\n",
    "\n",
    "import random\n",
    "from sklearn.model_selection import PredefinedSplit\n",
    "from sklearn.ensemble import RandomForestClassifier\n",
    "from imblearn.pipeline import Pipeline\n",
    "from sklearn.preprocessing import StandardScaler\n",
    "from sklearn.preprocessing import MinMaxScaler\n",
    "from imblearn.over_sampling import SMOTE\n",
    "from sklearn.decomposition import PCA\n",
    "from imblearn.under_sampling import NearMiss \n",
    "from sklearn.ensemble import RandomForestClassifier\n",
    "\n",
    "\n",
    "from sklearn.metrics import fbeta_score, make_scorer\n",
    "from sklearn.metrics import f1_score\n",
    "from sklearn.metrics import accuracy_score\n",
    "from sklearn.metrics import recall_score\n",
    "from sklearn.metrics import roc_auc_score\n",
    "from sklearn.metrics import balanced_accuracy_score\n",
    "from sklearn.metrics import precision_score\n",
    "\n",
    "\n",
    "## Definição da função de refit no gridsearch acurácia balanceada:\n",
    "acuracia_dados = make_scorer(accuracy_score)\n",
    "f1_dados = make_scorer(f1_score)\n",
    "balanced_acc_dados = make_scorer(balanced_accuracy_score)\n",
    "roc_score = make_scorer(roc_auc_score)\n",
    "ftwo_scorer = make_scorer(fbeta_score, beta=2)\n",
    "#scoring = {\"accuracy\": acuracia_dados, \"f1\":f1_dados}\n",
    "#scoring = {\"accuracy\": acuracia_dados, \"f1\":f1_dados, \"bacuracy\":balanced_acc_dados, \"roc\": roc_score, 'f2': ftwo_scorer}\n",
    "#scoring = {\"accuracy\": acuracia_dados, \"f1\":f1_dados, \"bacuracy\":balanced_acc_dados, 'f2': ftwo_scorer}\n",
    "scoring = {\"accuracy\": acuracia_dados, \"f1\":f1_dados, \"bacuracy\":balanced_acc_dados, 'f2': ftwo_scorer, 'custo':custo_func}\n",
    "\n",
    "\n",
    "\n",
    "custo_minimo = 9999999999\n",
    "maximo_auc = 0\n",
    "maximo_auc_model1 = 0\n",
    "maximo_auc_model2 = 0\n",
    "\n",
    "\n",
    "#Reset na lista de resultados dos modelos iterados e experimentos rodados.\n",
    "resultados_model1 = []\n",
    "resultados_model2 = []\n",
    "contagem_experimentos_unicos = 0\n",
    "\n",
    "\n",
    "weights = np.linspace(0.01,0.99,20)\n",
    "list_class_weights = []\n",
    "for i in weights:\n",
    "    class_weight = {0: i, 1:1.0-i}\n",
    "    list_class_weights.append(class_weight)\n",
    "list_class_weights\n",
    "\n",
    "list_class_weights = [{0: 0.8352631578947368, 1: 0.16473684210526318}]\n",
    "\n",
    "\n",
    "#Split = [0.2,0.3,0.4,0.5,0.6,0.7,0.8,0.9,1] #Proporções testadas no balanceamento de classes\n",
    "Split = [0.8]\n",
    "\n",
    "num_holdouts = 5\n",
    "\n",
    "#Loop de seed aleatória\n",
    "for seed in range(1):\n",
    "    \n",
    "    \n",
    "    #print(\"Iterando seed = {}\".format(seed))\n",
    "\n",
    "\n",
    "    ################ Definição de modelos candidatos ################\n",
    "    #model1 = RandomForestClassifier(random_state=seed, n_jobs=-1)\n",
    "    model2 = XGBClassifier(random_state =seed, n_jobs=-1 )\n",
    "    \n",
    "    #models = [model1]\n",
    "    #nome_modelo = ['RandomForest']\n",
    "    \n",
    "    models = [model2]\n",
    "    nome_modelo = ['XGBoost']\n",
    "\n",
    "    \n",
    "    ##Loop Balanceamento de classes     \n",
    "    for fator_balanc in Split:\n",
    "        \n",
    "            \n",
    "        print(\"Iterando seed = {}, fator balanc = {}\".format(seed,fator_balanc))\n",
    "        \n",
    "      \n",
    "        nr = NearMiss(sampling_strategy=fator_balanc)\n",
    "        X_train_valid_balanc, y_train_valid_balanc = nr.fit_resample(X_train_valid, y_train_valid)\n",
    "        \n",
    "        ##Holdout 70% treino e 30% validação\n",
    "        X_train, X_valid, y_train, y_valid = train_test_split(X_train_valid_balanc, y_train_valid_balanc, test_size=0.3, random_state=seed, stratify=y_train_valid_balanc)\n",
    "\n",
    "        \n",
    "        ### Definindo índices de treino e índices de validação para usá-los na seleção de hiperparâmetros no GridSearch\n",
    "         \n",
    "        # The indices which have the value -1 will be kept in train.\n",
    "        train_indices = np.full((X_train.shape[0],), -1, dtype=int)\n",
    "\n",
    "        # The indices which have zero or positive values, will be kept in valid\n",
    "        valid_indices = np.full((X_valid.shape[0],), 0, dtype=int)\n",
    "        valid_fold = np.append(train_indices, valid_indices)\n",
    "\n",
    "        # definindo o conjunto de validação\n",
    "        ps = PredefinedSplit(valid_fold)\n",
    "                \n",
    "        \n",
    "        ############################# Paramgrid de modelos ###############################\n",
    "\n",
    "        ##Grid model 1 RandomForest\n",
    "        #param_grid1={\"max_depth\":[None,10,20], \"min_samples_split\":[2,3,5], \"min_samples_leaf\":[1,3], \"criterion\":['gini','entropy'], \"n_estimators\":[100,150,200]}\n",
    "        #param_grid1={\"max_depth\":[None], \"min_samples_split\":[2], \"min_samples_leaf\":[1], \"criterion\":['gini'], \"n_estimators\":[100], \"class_weight\": list_class_weights}\n",
    "        #param_grid1={\"max_depth\":[None], \"min_samples_split\":[2], \"min_samples_leaf\":[1], \"criterion\":['gini'], \"n_estimators\":[100]}\n",
    "        param_grid1={\"max_depth\":[None], \"min_samples_split\":[2], \"min_samples_leaf\":[1], \"criterion\":['gini'], \"n_estimators\":[100], \"class_weight\": list_class_weights } \n",
    "        \n",
    "        ##Grid model 2: XGBoost\n",
    "        param_grid2={\"max_depth\":[0,5,10,20], \"learning_rate \":[0.1,1,0.01], \"max_leaves \":[0,5,15], \"n_estimators\":[100,150]} \n",
    "        \n",
    "         ##Grid model 2 XGBoost\n",
    "        \n",
    "        #list_param_grids = [param_grid1]\n",
    "        list_param_grids = [param_grid2]\n",
    "\n",
    "        dictionary_paramgrid = dict(zip(models, list_param_grids))\n",
    "\n",
    "        \n",
    "\n",
    "        #Loop modelos\n",
    "        for num_modelo, model in enumerate(models):\n",
    "\n",
    "            nome_modelo_testado = nome_modelo[num_modelo]\n",
    "\n",
    "            param_grid = dictionary_paramgrid[model]\n",
    "\n",
    "            ############################ GridSearch de modelos candidatos com todas features ###############################\n",
    "            #gs = GridSearchCV(model , param_grid=param_grid, scoring=scoring,  refit=\"f2\", n_jobs=-1, cv = ps )\n",
    "            gs = GridSearchCV(model , param_grid=param_grid, scoring=scoring,  refit=\"custo\", n_jobs=-1, cv = ps )\n",
    "            \n",
    "            #Fit dados \n",
    "            gs.fit(X_train_valid_balanc,y_train_valid_balanc)\n",
    "\n",
    "            #melhores hyperparametros:\n",
    "            hyperparametros = list(gs.best_params_.values())\n",
    "            nome_hyperparametros = list(gs.best_params_.keys())\n",
    "\n",
    "\n",
    "            #melhor modelo\n",
    "            # CUIDADO: O atributo best_estimator_ retorna o melhor modelo ja treinado com o conjunto de dados\n",
    "            # passado pelo metodo gs.fit(), ou seja ja vem treinado com X_train_valid,y_train_valid, sendo, portanto\n",
    "            # necessário mais uma etapa de fit() do modelo tunado apenas com dados de treino.\n",
    "            modelo_tunado = gs.best_estimator_\n",
    "\n",
    "            # Refit no modelo tunado com apenas dados de treino para evitar superestimar os scores ao avaliar sobre dados de valid\n",
    "            modelo_tunado.fit(X_train,y_train)\n",
    "\n",
    "\n",
    "\n",
    "            #Loop Seletor de features:\n",
    "            #for k in range(X_train.shape[1], X_train.shape[1]+1, 1):  ## Iterar sobre n total de features e n (n = max)\n",
    "            #for k in range(5,10,1):  ## Iterar sobre 5 á 9 features\n",
    "            #for k in range(4,5,1):  ## Iterar sobre 4 á 4 features\n",
    "            for k in range(5,6,1):  ## Iterar sobre 5 á 5 features\n",
    "\n",
    "            \n",
    "                print(\"Iterando num_features = {}\".format(k))\n",
    "\n",
    "                #############################  Seletor aleatório features  ############################\n",
    "\n",
    "                selected = np.random.choice(X_train.columns, k, replace=False)\n",
    "                \n",
    "                #Ordem alfabetica das features\n",
    "                selected = ['Age','Previously_Insured','Vehicle_Damage','Annual_Premium','Vintage']\n",
    "                selected = sorted(selected)\n",
    "                \n",
    "                #Loop Holdout selecionar aleatoriamente 80% dados de treino para alimentar o modelo e a pipe.\n",
    "                for qtde_holdout in range(1,num_holdouts+1):\n",
    "\n",
    "                    #seed_holdout = random.randint(0,9999)\n",
    "                    X_train4, X_descarte, y_train4, y_descarte = train_test_split(X_train, y_train, test_size=0.2, random_state=seed_holdout, stratify=y_train)\n",
    "\n",
    "                    \n",
    "                    #X_train4 = X_train\n",
    "                    #y_train4 = y_train\n",
    "                    \n",
    "                    ## Renomeando valid e teste para ficar com mesmo índice de X_train\n",
    "                    X_valid4 = X_valid\n",
    "                    y_valid4 = y_valid\n",
    "                    \n",
    "                    X_test4 = X_test\n",
    "                    y_test4 = y_test\n",
    "\n",
    "                    #Fit do modelo aos 80% dos dados de treino selecionados pelo holdout aleatório\n",
    "                    modelo_tunado.fit(X_train4, y_train4)\n",
    "\n",
    "\n",
    "                    ## modelo seletor de feature\n",
    "                    modelo_seletor = RandomForestClassifier(random_state=seed, n_jobs=-1)\n",
    "                    modelo_seletor.fit(X_train4, y_train4)\n",
    "\n",
    "                    ################ Definição de Pipelines com modelo tunado ################\n",
    "\n",
    "                    ##Com Seletor K\n",
    "                    pipe1 = Pipeline([('scaler', StandardScaler()), ('seletor',  SelectFromModel(modelo_seletor, max_features=k, threshold=-np.inf)), (nome_modelo_testado, modelo_tunado)])\n",
    "                    pipe2 = Pipeline([('scaler', MinMaxScaler()), ('seletor',  SelectFromModel(modelo_seletor, max_features=k, threshold=-np.inf)), (nome_modelo_testado, modelo_tunado)])\n",
    "                    pipe3 = Pipeline([('seletor',  SelectFromModel(modelo_seletor, max_features=k, threshold=-np.inf)), (nome_modelo_testado, modelo_tunado)])\n",
    "\n",
    "\n",
    "                    ## Com seletor aleatorio\n",
    "                    pipe4 = Pipeline([('scaler', StandardScaler()), (nome_modelo_testado, modelo_tunado)])\n",
    "                    pipe5 = Pipeline([('scaler', MinMaxScaler()), (nome_modelo_testado, modelo_tunado)])\n",
    "                    pipe6 = Pipeline([(nome_modelo_testado, modelo_tunado)])\n",
    "\n",
    "                    ## Com PCA\n",
    "                    pipe7 = Pipeline([('PCA', PCA(n_components=k)),('scaler', StandardScaler()), (nome_modelo_testado, modelo_tunado)])\n",
    "                    pipe8 = Pipeline([('PCA', PCA(n_components=k)),('scaler', MinMaxScaler()), (nome_modelo_testado, modelo_tunado)])\n",
    "                    pipe9 = Pipeline([('PCA', PCA(n_components=k)),(nome_modelo_testado, modelo_tunado)])\n",
    "\n",
    "                    ## Com seletor aleatorio + PCA de k-1 features á k-3 features\n",
    "                    pipe10 = Pipeline([('PCA', PCA(n_components=k-1)),('scaler', StandardScaler()), (nome_modelo_testado, modelo_tunado)])\n",
    "                    pipe11 = Pipeline([('PCA', PCA(n_components=k-1)),('scaler', MinMaxScaler()), (nome_modelo_testado, modelo_tunado)])\n",
    "                    pipe12 = Pipeline([('PCA', PCA(n_components=k-1)),(nome_modelo_testado, modelo_tunado)])\n",
    "\n",
    "                    pipe13 = Pipeline([('PCA', PCA(n_components=k-2)),('scaler', StandardScaler()), (nome_modelo_testado, modelo_tunado)])\n",
    "                    pipe14 = Pipeline([('PCA', PCA(n_components=k-2)),('scaler', MinMaxScaler()), (nome_modelo_testado, modelo_tunado)])\n",
    "                    pipe15 = Pipeline([('PCA', PCA(n_components=k-2)),(nome_modelo_testado, modelo_tunado)])\n",
    "\n",
    "                    pipe16 = Pipeline([('PCA', PCA(n_components=k-3)),('scaler', StandardScaler()), (nome_modelo_testado, modelo_tunado)])\n",
    "                    pipe17 = Pipeline([('PCA', PCA(n_components=k-3)),('scaler', MinMaxScaler()), (nome_modelo_testado, modelo_tunado)])\n",
    "                    pipe18 = Pipeline([('PCA', PCA(n_components=k-3)),(nome_modelo_testado, modelo_tunado)])\n",
    "\n",
    "\n",
    "\n",
    "                    pipelines = [pipe1,pipe2,pipe3,pipe4,pipe5,pipe6,pipe7,pipe8,pipe9,pipe10,pipe11,pipe12,pipe13,pipe14,pipe15,pipe16,pipe17,pipe18]\n",
    "\n",
    "\n",
    "                    #Loop das pipelines testadas com seletor de features e outras etapas:\n",
    "                    for num_pipe, pipe in enumerate(pipelines):\n",
    "\n",
    "                        # features aleatorias aplicado ao  PIPE4 á PIPE6\n",
    "                        if num_pipe in [3,4,5]:\n",
    "\n",
    "                            X_train5 = X_train4[selected]\n",
    "                            y_train5 = y_train4\n",
    "\n",
    "                            X_valid5 = X_valid4[selected]\n",
    "\n",
    "                            X_test5 = X_test4[selected]\n",
    "\n",
    "                            ## Nome das features selecionadas aleatoriamente\n",
    "                            features_selecionadas = ','.join(list(selected))\n",
    "\n",
    "\n",
    "                        if num_pipe in [0,1,2]:\n",
    "\n",
    "                            X_train5 = X_train4\n",
    "                            y_train5 = y_train4\n",
    "\n",
    "                            X_valid5 = X_valid4\n",
    "                            y_valid5 = y_valid4\n",
    "\n",
    "                            X_test5 = X_test4\n",
    "                            y_test5 = y_test4\n",
    "\n",
    "                            ## Nome das features selecionadas pelo SelectFromModel\n",
    "                            selector = SelectFromModel(modelo_seletor, max_features=k, threshold=-np.inf)\n",
    "                            selector.fit(X_train5,y_train5)\n",
    "                            mask = selector.get_support()\n",
    "                            features_selecionadas = ','.join(list(X_train5.columns[mask]))\n",
    "\n",
    "                        if num_pipe in [6,7,8]:\n",
    "\n",
    "                            X_train5 = X_train4\n",
    "                            y_train5 = y_train4\n",
    "\n",
    "                            X_valid5 = X_valid4\n",
    "                            y_valid5 = y_valid4\n",
    "\n",
    "                            X_test5 = X_test4\n",
    "                            y_test5 = y_test4\n",
    "\n",
    "                            features_selecionadas = ','.join(list(selected))\n",
    "\n",
    "                        # features aleatorias aplicado ao  PIPE10 á PIPE16    \n",
    "                        if num_pipe >=9:\n",
    "\n",
    "                            X_train5 = X_train4[selected]\n",
    "                            y_train5 = y_train4\n",
    "\n",
    "                            X_valid5 = X_valid4[selected]\n",
    "\n",
    "                            X_test5 = X_test4[selected]\n",
    "\n",
    "                            ## Nome das features selecionadas aleatoriamente\n",
    "                            features_selecionadas = ','.join(list(selected))\n",
    "\n",
    "                        ############################ Fit Pipeline #################\n",
    "\n",
    "                        pipe.fit(X_train5,y_train5)\n",
    "\n",
    "\n",
    "                        #Armazenando propriedades das PIPES\n",
    "                        if num_pipe == 0:\n",
    "                            seletor_feature = \"SelectFromModel\"\n",
    "                            scaler = \"StandardScaler\"\n",
    "\n",
    "                        if num_pipe == 1:\n",
    "                            seletor_feature = \"SelectFromModel\"\n",
    "                            scaler = \"MinMax\"\n",
    "\n",
    "                        if num_pipe == 2:\n",
    "                            seletor_feature = 'SelectFromModel'\n",
    "                            scaler = \"Sem Scaler\"\n",
    "\n",
    "                        if num_pipe == 3:\n",
    "                        #if num_pipe == 0:\n",
    "                            seletor_feature = \"Aleatorio\"\n",
    "                            scaler = \"StandardScaler\"\n",
    "\n",
    "                        if num_pipe == 4:\n",
    "                            seletor_feature = \"Aleatorio\"\n",
    "                            scaler = \"MinMax\"\n",
    "\n",
    "                        if num_pipe == 5:\n",
    "                            seletor_feature = \"Aleatorio\"\n",
    "                            scaler = \"Sem Scaler\"\n",
    "\n",
    "                        if num_pipe == 6:\n",
    "                            seletor_feature = \"PCA k=num_feat\"\n",
    "                            scaler = \"StandardScaler\"\n",
    "\n",
    "                        if num_pipe == 7:\n",
    "                            seletor_feature = \"PCA k=num_feat\"\n",
    "                            scaler = \"MinMax\"\n",
    "\n",
    "                        if num_pipe == 8:\n",
    "                            seletor_feature = \"PCA k=num_feat\"\n",
    "                            scaler = \"Sem Scaler\"\n",
    "\n",
    "\n",
    "                        if num_pipe == 9:\n",
    "                            seletor_feature = \"Aleatório e PCA k-1\"\n",
    "                            scaler = \"StandardScaler\"\n",
    "\n",
    "                        if num_pipe == 10:\n",
    "                            seletor_feature = \"Aleatório e PCA k-1\"\n",
    "                            scaler = \"MinMax\"\n",
    "\n",
    "                        if num_pipe == 11:\n",
    "                            seletor_feature = \"Aleatório e PCA k-1\"\n",
    "                            scaler = \"Sem Scaler\"\n",
    "\n",
    "\n",
    "\n",
    "                        if num_pipe == 12:\n",
    "                            seletor_feature = \"Aleatório e PCA k-2\"\n",
    "                            scaler = \"StandardScaler\"\n",
    "\n",
    "                        if num_pipe == 13:\n",
    "                            seletor_feature = \"Aleatório e PCA k-2\"\n",
    "                            scaler = \"MinMax\"\n",
    "\n",
    "                        if num_pipe == 14:\n",
    "                            seletor_feature = \"Aleatório e PCA k-2\"\n",
    "                            scaler = \"Sem Scaler\"\n",
    "\n",
    "\n",
    "                        if num_pipe == 15:\n",
    "                            seletor_feature = \"Aleatório e PCA k-3\"\n",
    "                            scaler = \"StandardScaler\"\n",
    "\n",
    "                        if num_pipe == 16:\n",
    "                            seletor_feature = \"Aleatório e PCA k-3\"\n",
    "                            scaler = \"MinMax\"\n",
    "\n",
    "                        if num_pipe == 17:\n",
    "                            seletor_feature = \"Aleatório e PCA k-3\"\n",
    "                            scaler = \"Sem Scaler\"\n",
    "\n",
    "                        ################ Calculando métricas da pipe DADOS NÃO VISTOS - TESTE ################\n",
    "                        ################ DADOS DE TESTE\n",
    "\n",
    "                        # Fazendo predição\n",
    "                        p = pipe.predict(X_test5)\n",
    "\n",
    "                        contagem_experimentos_unicos = contagem_experimentos_unicos + 1\n",
    "\n",
    "                        #Calculando o recall\n",
    "                        recall_0 = recall_score(y_test5, p, pos_label=0)\n",
    "                        recall_1 = recall_score(y_test5, p, pos_label=1)\n",
    "\n",
    "                        #Calculando Precision\n",
    "                        precision_0 = precision_score(y_test5, p, pos_label = 0)\n",
    "                        precision_1 = precision_score(y_test5, p, pos_label = 1)\n",
    "\n",
    "                        #Calculando acurácia\n",
    "                        accuracy = accuracy_score(y_test5, p)\n",
    "\n",
    "                        #Calculando AUC\n",
    "                        auc = roc_auc_score(y_test5, p)\n",
    "\n",
    "                        #Calculando custo\n",
    "                        custo = funcao_custo(y_test5, p)\n",
    "\n",
    "                        ################ Calculando métricas da pipe DADOS NÃO VISTOS, subamostragem dos dados de treino ################\n",
    "                        ################ - DADOS DE VALIDACAO\n",
    "\n",
    "                        # Fazendo predição\n",
    "                        p = pipe.predict(X_valid5)\n",
    "\n",
    "                        #Calculando o recall\n",
    "                        recall_0_valid = recall_score(y_valid5, p, pos_label=0)\n",
    "                        recall_1_valid = recall_score(y_valid5, p, pos_label=1)\n",
    "\n",
    "                        #Calculando Precision\n",
    "                        precision_0_valid = precision_score(y_valid5, p, pos_label = 0)\n",
    "                        precision_1_valid = precision_score(y_valid5, p, pos_label = 1)\n",
    "\n",
    "                        #Calculando acurácia\n",
    "                        accuracy_valid = accuracy_score(y_valid5, p)\n",
    "\n",
    "                        #Calculando AUC\n",
    "                        auc_valid = roc_auc_score(y_valid5, p)\n",
    "\n",
    "                        # Calculando Custo\n",
    "                        custo_valid = funcao_custo(y_valid5, p)\n",
    "\n",
    "                        ##Media AUC valid e AUC teste\n",
    "                        auc_valid_teste = (auc + auc_valid) / 2\n",
    "\n",
    "\n",
    "                       ################ Armazenando e imprimindo os resultados  ################\n",
    "\n",
    "                        dictionary_hyperparams = dict(zip(nome_hyperparametros, hyperparametros))\n",
    "                         \n",
    "                        if num_modelo ==0:\n",
    "                            \n",
    "                            col_names_modelo1 = ['contagem_exp', 'seed'] + nome_hyperparametros + ['modelo','fator_balanceamento','num_pipe', 'qtde_features', 'features','metodo selecao', 'acuracia', 'recall_0','recall_1','prec_0','prec_1','auc','auc_valid', 'auc_valid_teste','custo']                             \n",
    "                            resultados_model1.append(np.array( [contagem_experimentos_unicos, seed] + hyperparametros +  [nome_modelo_testado,fator_balanc, num_pipe+1,k,features_selecionadas,seletor_feature, accuracy, recall_0, recall_1, precision_0, precision_1, auc, auc_valid, auc_valid_teste,custo ]))\n",
    "\n",
    "                        \n",
    "                        if num_modelo ==1:\n",
    "                            \n",
    "                            col_names_modelo2 = ['contagem_exp', 'seed'] + nome_hyperparametros + ['modelo','fator_balanceamento','num_pipe', 'qtde_features', 'features','metodo selecao', 'acuracia', 'recall_0','recall_1','prec_0','prec_1','auc','auc_valid', 'auc_valid_teste','custo']                             \n",
    "                            resultados_model2.append(np.array( [contagem_experimentos_unicos, seed] + hyperparametros +  [nome_modelo_testado,fator_balanc, num_pipe+1,k,features_selecionadas,seletor_feature, accuracy, recall_0, recall_1, precision_0, precision_1, auc, auc_valid, auc_valid_teste,custo ]))\n",
    "                        \n",
    "                        #if auc > maximo_auc:\n",
    "                        if custo < custo_minimo:\n",
    "\n",
    "                            #if metrica < 0 or metrica > limite_maximo_tolerado:\n",
    "                                print(\"============================================================================================================================\")\n",
    "                                print(\"MÍNIMO GLOBAL: NOVO MELHOR MODELO ENCONTRADO:  {} - AUC teste = {} - AUC Valid = {} - Custo erros = {}\".format(nome_modelo_testado, auc, auc_valid, custo))                   \n",
    "                                print(\"     Características dados de treino: Fator de balanceamento = {}\".format(fator_balanc))\n",
    "                                print(\"     Características pipeline: num_pipeline = {} - tipo_scaler = {}\".format(num_pipe+1, scaler))\n",
    "                                print(\"     Características do modelo: hyperparâmetros_selecionados = {}\".format(dictionary_hyperparams))\n",
    "                                print(\"     Características das features selecionadas: num_features = {} - metodo_selecao_features = {}\".format(k, seletor_feature))\n",
    "                                print(\"     Features Selecionadas = {}\".format(features_selecionadas))\n",
    "                                print(\"     DADOS TESTE - Recall 0 = {} - Recall 1 = {} \".format(recall_0,recall_1))\n",
    "                                print(\"============================================================================================================================\")\n",
    "\n",
    "\n",
    "                                melhor_modelo = pipe\n",
    "                                maximo_auc = auc\n",
    "                                custo_minimo = custo\n",
    "                                best_seed = seed\n",
    "\n",
    "                        #break"
   ]
  },
  {
   "cell_type": "markdown",
   "metadata": {},
   "source": [
    "## Resultados modelo"
   ]
  },
  {
   "cell_type": "code",
   "execution_count": 51,
   "metadata": {},
   "outputs": [
    {
     "data": {
      "text/html": [
       "<div>\n",
       "<style scoped>\n",
       "    .dataframe tbody tr th:only-of-type {\n",
       "        vertical-align: middle;\n",
       "    }\n",
       "\n",
       "    .dataframe tbody tr th {\n",
       "        vertical-align: top;\n",
       "    }\n",
       "\n",
       "    .dataframe thead th {\n",
       "        text-align: right;\n",
       "    }\n",
       "</style>\n",
       "<table border=\"1\" class=\"dataframe\">\n",
       "  <thead>\n",
       "    <tr style=\"text-align: right;\">\n",
       "      <th></th>\n",
       "      <th></th>\n",
       "      <th></th>\n",
       "      <th></th>\n",
       "      <th></th>\n",
       "      <th></th>\n",
       "      <th></th>\n",
       "      <th></th>\n",
       "      <th></th>\n",
       "      <th></th>\n",
       "      <th></th>\n",
       "      <th></th>\n",
       "      <th>contagem_exp</th>\n",
       "      <th>acuracia</th>\n",
       "      <th>recall_0</th>\n",
       "      <th>recall_1</th>\n",
       "      <th>prec_0</th>\n",
       "      <th>prec_1</th>\n",
       "      <th>auc</th>\n",
       "      <th>auc_valid</th>\n",
       "      <th>custo</th>\n",
       "      <th>media_auc_valid_teste</th>\n",
       "    </tr>\n",
       "    <tr>\n",
       "      <th>class_weight</th>\n",
       "      <th>criterion</th>\n",
       "      <th>max_depth</th>\n",
       "      <th>min_samples_leaf</th>\n",
       "      <th>min_samples_split</th>\n",
       "      <th>n_estimators</th>\n",
       "      <th>modelo</th>\n",
       "      <th>fator_balanceamento</th>\n",
       "      <th>num_pipe</th>\n",
       "      <th>qtde_features</th>\n",
       "      <th>features</th>\n",
       "      <th>metodo selecao</th>\n",
       "      <th></th>\n",
       "      <th></th>\n",
       "      <th></th>\n",
       "      <th></th>\n",
       "      <th></th>\n",
       "      <th></th>\n",
       "      <th></th>\n",
       "      <th></th>\n",
       "      <th></th>\n",
       "      <th></th>\n",
       "    </tr>\n",
       "  </thead>\n",
       "  <tbody>\n",
       "    <tr>\n",
       "      <th rowspan=\"18\" valign=\"top\">{0: 0.8352631578947368, 1: 0.16473684210526318}</th>\n",
       "      <th rowspan=\"18\" valign=\"top\">gini</th>\n",
       "      <th rowspan=\"18\" valign=\"top\">None</th>\n",
       "      <th rowspan=\"18\" valign=\"top\">1</th>\n",
       "      <th rowspan=\"18\" valign=\"top\">2</th>\n",
       "      <th rowspan=\"18\" valign=\"top\">100</th>\n",
       "      <th rowspan=\"18\" valign=\"top\">RandomForest</th>\n",
       "      <th rowspan=\"18\" valign=\"top\">0.8</th>\n",
       "      <th>1</th>\n",
       "      <th>5</th>\n",
       "      <th>Age,Previously_Insured,Vehicle_Damage,Annual_Premium,Vintage</th>\n",
       "      <th>SelectFromModel</th>\n",
       "      <td>5</td>\n",
       "      <td>0.616607</td>\n",
       "      <td>0.585257</td>\n",
       "      <td>0.841040</td>\n",
       "      <td>0.963448</td>\n",
       "      <td>0.220733</td>\n",
       "      <td>0.713149</td>\n",
       "      <td>0.868082</td>\n",
       "      <td>1935877.500</td>\n",
       "      <td>0.790615</td>\n",
       "    </tr>\n",
       "    <tr>\n",
       "      <th>4</th>\n",
       "      <th>5</th>\n",
       "      <th>Age,Annual_Premium,Previously_Insured,Vehicle_Damage,Vintage</th>\n",
       "      <th>Aleatorio</th>\n",
       "      <td>5</td>\n",
       "      <td>0.613209</td>\n",
       "      <td>0.581340</td>\n",
       "      <td>0.841362</td>\n",
       "      <td>0.963282</td>\n",
       "      <td>0.219186</td>\n",
       "      <td>0.711351</td>\n",
       "      <td>0.868350</td>\n",
       "      <td>1940307.140</td>\n",
       "      <td>0.789850</td>\n",
       "    </tr>\n",
       "    <tr>\n",
       "      <th>2</th>\n",
       "      <th>5</th>\n",
       "      <th>Age,Previously_Insured,Vehicle_Damage,Annual_Premium,Vintage</th>\n",
       "      <th>SelectFromModel</th>\n",
       "      <td>5</td>\n",
       "      <td>0.616357</td>\n",
       "      <td>0.585108</td>\n",
       "      <td>0.840077</td>\n",
       "      <td>0.963226</td>\n",
       "      <td>0.220474</td>\n",
       "      <td>0.712592</td>\n",
       "      <td>0.868778</td>\n",
       "      <td>1943463.680</td>\n",
       "      <td>0.790685</td>\n",
       "    </tr>\n",
       "    <tr>\n",
       "      <th>3</th>\n",
       "      <th>5</th>\n",
       "      <th>Age,Previously_Insured,Vehicle_Damage,Annual_Premium,Vintage</th>\n",
       "      <th>SelectFromModel</th>\n",
       "      <td>5</td>\n",
       "      <td>0.616344</td>\n",
       "      <td>0.585108</td>\n",
       "      <td>0.839970</td>\n",
       "      <td>0.963202</td>\n",
       "      <td>0.220452</td>\n",
       "      <td>0.712539</td>\n",
       "      <td>0.868109</td>\n",
       "      <td>1944277.450</td>\n",
       "      <td>0.790324</td>\n",
       "    </tr>\n",
       "    <tr>\n",
       "      <th>6</th>\n",
       "      <th>5</th>\n",
       "      <th>Age,Annual_Premium,Previously_Insured,Vehicle_Damage,Vintage</th>\n",
       "      <th>Aleatorio</th>\n",
       "      <td>5</td>\n",
       "      <td>0.613091</td>\n",
       "      <td>0.581325</td>\n",
       "      <td>0.840505</td>\n",
       "      <td>0.963090</td>\n",
       "      <td>0.219005</td>\n",
       "      <td>0.710915</td>\n",
       "      <td>0.868359</td>\n",
       "      <td>1946843.525</td>\n",
       "      <td>0.789637</td>\n",
       "    </tr>\n",
       "    <tr>\n",
       "      <th>5</th>\n",
       "      <th>5</th>\n",
       "      <th>Age,Annual_Premium,Previously_Insured,Vehicle_Damage,Vintage</th>\n",
       "      <th>Aleatorio</th>\n",
       "      <td>5</td>\n",
       "      <td>0.613038</td>\n",
       "      <td>0.581280</td>\n",
       "      <td>0.840398</td>\n",
       "      <td>0.963064</td>\n",
       "      <td>0.218965</td>\n",
       "      <td>0.710839</td>\n",
       "      <td>0.869037</td>\n",
       "      <td>1947735.970</td>\n",
       "      <td>0.789938</td>\n",
       "    </tr>\n",
       "    <tr>\n",
       "      <th>11</th>\n",
       "      <th>5</th>\n",
       "      <th>Age,Annual_Premium,Previously_Insured,Vehicle_Damage,Vintage</th>\n",
       "      <th>Aleatório e PCA k-1</th>\n",
       "      <td>5</td>\n",
       "      <td>0.601349</td>\n",
       "      <td>0.567913</td>\n",
       "      <td>0.840719</td>\n",
       "      <td>0.962300</td>\n",
       "      <td>0.213703</td>\n",
       "      <td>0.704316</td>\n",
       "      <td>0.868269</td>\n",
       "      <td>1968739.810</td>\n",
       "      <td>0.786293</td>\n",
       "    </tr>\n",
       "    <tr>\n",
       "      <th>12</th>\n",
       "      <th>5</th>\n",
       "      <th>Age,Annual_Premium,Previously_Insured,Vehicle_Damage,Vintage</th>\n",
       "      <th>Aleatório e PCA k-1</th>\n",
       "      <td>5</td>\n",
       "      <td>0.601126</td>\n",
       "      <td>0.567763</td>\n",
       "      <td>0.839970</td>\n",
       "      <td>0.962120</td>\n",
       "      <td>0.213495</td>\n",
       "      <td>0.703867</td>\n",
       "      <td>0.868225</td>\n",
       "      <td>1974698.450</td>\n",
       "      <td>0.786046</td>\n",
       "    </tr>\n",
       "    <tr>\n",
       "      <th>10</th>\n",
       "      <th>5</th>\n",
       "      <th>Age,Annual_Premium,Previously_Insured,Vehicle_Damage,Vintage</th>\n",
       "      <th>Aleatório e PCA k-1</th>\n",
       "      <td>5</td>\n",
       "      <td>0.600247</td>\n",
       "      <td>0.566731</td>\n",
       "      <td>0.840184</td>\n",
       "      <td>0.962103</td>\n",
       "      <td>0.213137</td>\n",
       "      <td>0.703458</td>\n",
       "      <td>0.867975</td>\n",
       "      <td>1974880.435</td>\n",
       "      <td>0.785716</td>\n",
       "    </tr>\n",
       "    <tr>\n",
       "      <th>15</th>\n",
       "      <th>5</th>\n",
       "      <th>Age,Annual_Premium,Previously_Insured,Vehicle_Damage,Vintage</th>\n",
       "      <th>Aleatório e PCA k-2</th>\n",
       "      <td>5</td>\n",
       "      <td>0.250203</td>\n",
       "      <td>0.168346</td>\n",
       "      <td>0.836224</td>\n",
       "      <td>0.880366</td>\n",
       "      <td>0.123154</td>\n",
       "      <td>0.502285</td>\n",
       "      <td>0.861169</td>\n",
       "      <td>2703728.825</td>\n",
       "      <td>0.681727</td>\n",
       "    </tr>\n",
       "    <tr>\n",
       "      <th>14</th>\n",
       "      <th>5</th>\n",
       "      <th>Age,Annual_Premium,Previously_Insured,Vehicle_Damage,Vintage</th>\n",
       "      <th>Aleatório e PCA k-2</th>\n",
       "      <td>5</td>\n",
       "      <td>0.249442</td>\n",
       "      <td>0.167584</td>\n",
       "      <td>0.835474</td>\n",
       "      <td>0.879404</td>\n",
       "      <td>0.122958</td>\n",
       "      <td>0.501529</td>\n",
       "      <td>0.861169</td>\n",
       "      <td>2710762.690</td>\n",
       "      <td>0.681349</td>\n",
       "    </tr>\n",
       "    <tr>\n",
       "      <th>18</th>\n",
       "      <th>5</th>\n",
       "      <th>Age,Annual_Premium,Previously_Insured,Vehicle_Damage,Vintage</th>\n",
       "      <th>Aleatório e PCA k-3</th>\n",
       "      <td>5</td>\n",
       "      <td>0.244063</td>\n",
       "      <td>0.161453</td>\n",
       "      <td>0.835474</td>\n",
       "      <td>0.875395</td>\n",
       "      <td>0.122169</td>\n",
       "      <td>0.498464</td>\n",
       "      <td>0.847084</td>\n",
       "      <td>2721514.940</td>\n",
       "      <td>0.672774</td>\n",
       "    </tr>\n",
       "    <tr>\n",
       "      <th>9</th>\n",
       "      <th>5</th>\n",
       "      <th>Age,Annual_Premium,Previously_Insured,Vehicle_Damage,Vintage</th>\n",
       "      <th>PCA k=num_feat</th>\n",
       "      <td>5</td>\n",
       "      <td>0.254638</td>\n",
       "      <td>0.174910</td>\n",
       "      <td>0.825412</td>\n",
       "      <td>0.877635</td>\n",
       "      <td>0.122605</td>\n",
       "      <td>0.500161</td>\n",
       "      <td>0.869786</td>\n",
       "      <td>2774406.820</td>\n",
       "      <td>0.684974</td>\n",
       "    </tr>\n",
       "    <tr>\n",
       "      <th>7</th>\n",
       "      <th>5</th>\n",
       "      <th>Age,Annual_Premium,Previously_Insured,Vehicle_Damage,Vintage</th>\n",
       "      <th>PCA k=num_feat</th>\n",
       "      <td>5</td>\n",
       "      <td>0.254966</td>\n",
       "      <td>0.175419</td>\n",
       "      <td>0.824449</td>\n",
       "      <td>0.877356</td>\n",
       "      <td>0.122546</td>\n",
       "      <td>0.499934</td>\n",
       "      <td>0.870117</td>\n",
       "      <td>2780839.100</td>\n",
       "      <td>0.685025</td>\n",
       "    </tr>\n",
       "    <tr>\n",
       "      <th>8</th>\n",
       "      <th>5</th>\n",
       "      <th>Age,Annual_Premium,Previously_Insured,Vehicle_Damage,Vintage</th>\n",
       "      <th>PCA k=num_feat</th>\n",
       "      <td>5</td>\n",
       "      <td>0.255517</td>\n",
       "      <td>0.176092</td>\n",
       "      <td>0.824128</td>\n",
       "      <td>0.877571</td>\n",
       "      <td>0.122592</td>\n",
       "      <td>0.500110</td>\n",
       "      <td>0.870687</td>\n",
       "      <td>2782100.285</td>\n",
       "      <td>0.685398</td>\n",
       "    </tr>\n",
       "    <tr>\n",
       "      <th>17</th>\n",
       "      <th>5</th>\n",
       "      <th>Age,Annual_Premium,Previously_Insured,Vehicle_Damage,Vintage</th>\n",
       "      <th>Aleatório e PCA k-3</th>\n",
       "      <td>5</td>\n",
       "      <td>0.246937</td>\n",
       "      <td>0.166537</td>\n",
       "      <td>0.822522</td>\n",
       "      <td>0.870428</td>\n",
       "      <td>0.121149</td>\n",
       "      <td>0.494530</td>\n",
       "      <td>0.855139</td>\n",
       "      <td>2811064.610</td>\n",
       "      <td>0.674834</td>\n",
       "    </tr>\n",
       "    <tr>\n",
       "      <th>13</th>\n",
       "      <th>5</th>\n",
       "      <th>Age,Annual_Premium,Previously_Insured,Vehicle_Damage,Vintage</th>\n",
       "      <th>Aleatório e PCA k-2</th>\n",
       "      <td>5</td>\n",
       "      <td>0.255517</td>\n",
       "      <td>0.177377</td>\n",
       "      <td>0.814922</td>\n",
       "      <td>0.872793</td>\n",
       "      <td>0.121555</td>\n",
       "      <td>0.496150</td>\n",
       "      <td>0.874568</td>\n",
       "      <td>2849829.155</td>\n",
       "      <td>0.685359</td>\n",
       "    </tr>\n",
       "    <tr>\n",
       "      <th>16</th>\n",
       "      <th>5</th>\n",
       "      <th>Age,Annual_Premium,Previously_Insured,Vehicle_Damage,Vintage</th>\n",
       "      <th>Aleatório e PCA k-3</th>\n",
       "      <td>5</td>\n",
       "      <td>0.254139</td>\n",
       "      <td>0.175927</td>\n",
       "      <td>0.814066</td>\n",
       "      <td>0.871362</td>\n",
       "      <td>0.121255</td>\n",
       "      <td>0.494996</td>\n",
       "      <td>0.873614</td>\n",
       "      <td>2858883.140</td>\n",
       "      <td>0.684305</td>\n",
       "    </tr>\n",
       "  </tbody>\n",
       "</table>\n",
       "</div>"
      ],
      "text/plain": [
       "                                                                                                                                                                                                                                                    contagem_exp  \\\n",
       "class_weight                                    criterion max_depth min_samples_leaf min_samples_split n_estimators modelo       fator_balanceamento num_pipe qtde_features features                                           metodo selecao                      \n",
       "{0: 0.8352631578947368, 1: 0.16473684210526318} gini      None      1                2                 100          RandomForest 0.8                 1        5             Age,Previously_Insured,Vehicle_Damage,Annual_Pr... SelectFromModel                 5   \n",
       "                                                                                                                                                     4        5             Age,Annual_Premium,Previously_Insured,Vehicle_D... Aleatorio                       5   \n",
       "                                                                                                                                                     2        5             Age,Previously_Insured,Vehicle_Damage,Annual_Pr... SelectFromModel                 5   \n",
       "                                                                                                                                                     3        5             Age,Previously_Insured,Vehicle_Damage,Annual_Pr... SelectFromModel                 5   \n",
       "                                                                                                                                                     6        5             Age,Annual_Premium,Previously_Insured,Vehicle_D... Aleatorio                       5   \n",
       "                                                                                                                                                     5        5             Age,Annual_Premium,Previously_Insured,Vehicle_D... Aleatorio                       5   \n",
       "                                                                                                                                                     11       5             Age,Annual_Premium,Previously_Insured,Vehicle_D... Aleatório e PCA k-1             5   \n",
       "                                                                                                                                                     12       5             Age,Annual_Premium,Previously_Insured,Vehicle_D... Aleatório e PCA k-1             5   \n",
       "                                                                                                                                                     10       5             Age,Annual_Premium,Previously_Insured,Vehicle_D... Aleatório e PCA k-1             5   \n",
       "                                                                                                                                                     15       5             Age,Annual_Premium,Previously_Insured,Vehicle_D... Aleatório e PCA k-2             5   \n",
       "                                                                                                                                                     14       5             Age,Annual_Premium,Previously_Insured,Vehicle_D... Aleatório e PCA k-2             5   \n",
       "                                                                                                                                                     18       5             Age,Annual_Premium,Previously_Insured,Vehicle_D... Aleatório e PCA k-3             5   \n",
       "                                                                                                                                                     9        5             Age,Annual_Premium,Previously_Insured,Vehicle_D... PCA k=num_feat                  5   \n",
       "                                                                                                                                                     7        5             Age,Annual_Premium,Previously_Insured,Vehicle_D... PCA k=num_feat                  5   \n",
       "                                                                                                                                                     8        5             Age,Annual_Premium,Previously_Insured,Vehicle_D... PCA k=num_feat                  5   \n",
       "                                                                                                                                                     17       5             Age,Annual_Premium,Previously_Insured,Vehicle_D... Aleatório e PCA k-3             5   \n",
       "                                                                                                                                                     13       5             Age,Annual_Premium,Previously_Insured,Vehicle_D... Aleatório e PCA k-2             5   \n",
       "                                                                                                                                                     16       5             Age,Annual_Premium,Previously_Insured,Vehicle_D... Aleatório e PCA k-3             5   \n",
       "\n",
       "                                                                                                                                                                                                                                                    acuracia  \\\n",
       "class_weight                                    criterion max_depth min_samples_leaf min_samples_split n_estimators modelo       fator_balanceamento num_pipe qtde_features features                                           metodo selecao                  \n",
       "{0: 0.8352631578947368, 1: 0.16473684210526318} gini      None      1                2                 100          RandomForest 0.8                 1        5             Age,Previously_Insured,Vehicle_Damage,Annual_Pr... SelectFromModel      0.616607   \n",
       "                                                                                                                                                     4        5             Age,Annual_Premium,Previously_Insured,Vehicle_D... Aleatorio            0.613209   \n",
       "                                                                                                                                                     2        5             Age,Previously_Insured,Vehicle_Damage,Annual_Pr... SelectFromModel      0.616357   \n",
       "                                                                                                                                                     3        5             Age,Previously_Insured,Vehicle_Damage,Annual_Pr... SelectFromModel      0.616344   \n",
       "                                                                                                                                                     6        5             Age,Annual_Premium,Previously_Insured,Vehicle_D... Aleatorio            0.613091   \n",
       "                                                                                                                                                     5        5             Age,Annual_Premium,Previously_Insured,Vehicle_D... Aleatorio            0.613038   \n",
       "                                                                                                                                                     11       5             Age,Annual_Premium,Previously_Insured,Vehicle_D... Aleatório e PCA k-1  0.601349   \n",
       "                                                                                                                                                     12       5             Age,Annual_Premium,Previously_Insured,Vehicle_D... Aleatório e PCA k-1  0.601126   \n",
       "                                                                                                                                                     10       5             Age,Annual_Premium,Previously_Insured,Vehicle_D... Aleatório e PCA k-1  0.600247   \n",
       "                                                                                                                                                     15       5             Age,Annual_Premium,Previously_Insured,Vehicle_D... Aleatório e PCA k-2  0.250203   \n",
       "                                                                                                                                                     14       5             Age,Annual_Premium,Previously_Insured,Vehicle_D... Aleatório e PCA k-2  0.249442   \n",
       "                                                                                                                                                     18       5             Age,Annual_Premium,Previously_Insured,Vehicle_D... Aleatório e PCA k-3  0.244063   \n",
       "                                                                                                                                                     9        5             Age,Annual_Premium,Previously_Insured,Vehicle_D... PCA k=num_feat       0.254638   \n",
       "                                                                                                                                                     7        5             Age,Annual_Premium,Previously_Insured,Vehicle_D... PCA k=num_feat       0.254966   \n",
       "                                                                                                                                                     8        5             Age,Annual_Premium,Previously_Insured,Vehicle_D... PCA k=num_feat       0.255517   \n",
       "                                                                                                                                                     17       5             Age,Annual_Premium,Previously_Insured,Vehicle_D... Aleatório e PCA k-3  0.246937   \n",
       "                                                                                                                                                     13       5             Age,Annual_Premium,Previously_Insured,Vehicle_D... Aleatório e PCA k-2  0.255517   \n",
       "                                                                                                                                                     16       5             Age,Annual_Premium,Previously_Insured,Vehicle_D... Aleatório e PCA k-3  0.254139   \n",
       "\n",
       "                                                                                                                                                                                                                                                    recall_0  \\\n",
       "class_weight                                    criterion max_depth min_samples_leaf min_samples_split n_estimators modelo       fator_balanceamento num_pipe qtde_features features                                           metodo selecao                  \n",
       "{0: 0.8352631578947368, 1: 0.16473684210526318} gini      None      1                2                 100          RandomForest 0.8                 1        5             Age,Previously_Insured,Vehicle_Damage,Annual_Pr... SelectFromModel      0.585257   \n",
       "                                                                                                                                                     4        5             Age,Annual_Premium,Previously_Insured,Vehicle_D... Aleatorio            0.581340   \n",
       "                                                                                                                                                     2        5             Age,Previously_Insured,Vehicle_Damage,Annual_Pr... SelectFromModel      0.585108   \n",
       "                                                                                                                                                     3        5             Age,Previously_Insured,Vehicle_Damage,Annual_Pr... SelectFromModel      0.585108   \n",
       "                                                                                                                                                     6        5             Age,Annual_Premium,Previously_Insured,Vehicle_D... Aleatorio            0.581325   \n",
       "                                                                                                                                                     5        5             Age,Annual_Premium,Previously_Insured,Vehicle_D... Aleatorio            0.581280   \n",
       "                                                                                                                                                     11       5             Age,Annual_Premium,Previously_Insured,Vehicle_D... Aleatório e PCA k-1  0.567913   \n",
       "                                                                                                                                                     12       5             Age,Annual_Premium,Previously_Insured,Vehicle_D... Aleatório e PCA k-1  0.567763   \n",
       "                                                                                                                                                     10       5             Age,Annual_Premium,Previously_Insured,Vehicle_D... Aleatório e PCA k-1  0.566731   \n",
       "                                                                                                                                                     15       5             Age,Annual_Premium,Previously_Insured,Vehicle_D... Aleatório e PCA k-2  0.168346   \n",
       "                                                                                                                                                     14       5             Age,Annual_Premium,Previously_Insured,Vehicle_D... Aleatório e PCA k-2  0.167584   \n",
       "                                                                                                                                                     18       5             Age,Annual_Premium,Previously_Insured,Vehicle_D... Aleatório e PCA k-3  0.161453   \n",
       "                                                                                                                                                     9        5             Age,Annual_Premium,Previously_Insured,Vehicle_D... PCA k=num_feat       0.174910   \n",
       "                                                                                                                                                     7        5             Age,Annual_Premium,Previously_Insured,Vehicle_D... PCA k=num_feat       0.175419   \n",
       "                                                                                                                                                     8        5             Age,Annual_Premium,Previously_Insured,Vehicle_D... PCA k=num_feat       0.176092   \n",
       "                                                                                                                                                     17       5             Age,Annual_Premium,Previously_Insured,Vehicle_D... Aleatório e PCA k-3  0.166537   \n",
       "                                                                                                                                                     13       5             Age,Annual_Premium,Previously_Insured,Vehicle_D... Aleatório e PCA k-2  0.177377   \n",
       "                                                                                                                                                     16       5             Age,Annual_Premium,Previously_Insured,Vehicle_D... Aleatório e PCA k-3  0.175927   \n",
       "\n",
       "                                                                                                                                                                                                                                                    recall_1  \\\n",
       "class_weight                                    criterion max_depth min_samples_leaf min_samples_split n_estimators modelo       fator_balanceamento num_pipe qtde_features features                                           metodo selecao                  \n",
       "{0: 0.8352631578947368, 1: 0.16473684210526318} gini      None      1                2                 100          RandomForest 0.8                 1        5             Age,Previously_Insured,Vehicle_Damage,Annual_Pr... SelectFromModel      0.841040   \n",
       "                                                                                                                                                     4        5             Age,Annual_Premium,Previously_Insured,Vehicle_D... Aleatorio            0.841362   \n",
       "                                                                                                                                                     2        5             Age,Previously_Insured,Vehicle_Damage,Annual_Pr... SelectFromModel      0.840077   \n",
       "                                                                                                                                                     3        5             Age,Previously_Insured,Vehicle_Damage,Annual_Pr... SelectFromModel      0.839970   \n",
       "                                                                                                                                                     6        5             Age,Annual_Premium,Previously_Insured,Vehicle_D... Aleatorio            0.840505   \n",
       "                                                                                                                                                     5        5             Age,Annual_Premium,Previously_Insured,Vehicle_D... Aleatorio            0.840398   \n",
       "                                                                                                                                                     11       5             Age,Annual_Premium,Previously_Insured,Vehicle_D... Aleatório e PCA k-1  0.840719   \n",
       "                                                                                                                                                     12       5             Age,Annual_Premium,Previously_Insured,Vehicle_D... Aleatório e PCA k-1  0.839970   \n",
       "                                                                                                                                                     10       5             Age,Annual_Premium,Previously_Insured,Vehicle_D... Aleatório e PCA k-1  0.840184   \n",
       "                                                                                                                                                     15       5             Age,Annual_Premium,Previously_Insured,Vehicle_D... Aleatório e PCA k-2  0.836224   \n",
       "                                                                                                                                                     14       5             Age,Annual_Premium,Previously_Insured,Vehicle_D... Aleatório e PCA k-2  0.835474   \n",
       "                                                                                                                                                     18       5             Age,Annual_Premium,Previously_Insured,Vehicle_D... Aleatório e PCA k-3  0.835474   \n",
       "                                                                                                                                                     9        5             Age,Annual_Premium,Previously_Insured,Vehicle_D... PCA k=num_feat       0.825412   \n",
       "                                                                                                                                                     7        5             Age,Annual_Premium,Previously_Insured,Vehicle_D... PCA k=num_feat       0.824449   \n",
       "                                                                                                                                                     8        5             Age,Annual_Premium,Previously_Insured,Vehicle_D... PCA k=num_feat       0.824128   \n",
       "                                                                                                                                                     17       5             Age,Annual_Premium,Previously_Insured,Vehicle_D... Aleatório e PCA k-3  0.822522   \n",
       "                                                                                                                                                     13       5             Age,Annual_Premium,Previously_Insured,Vehicle_D... Aleatório e PCA k-2  0.814922   \n",
       "                                                                                                                                                     16       5             Age,Annual_Premium,Previously_Insured,Vehicle_D... Aleatório e PCA k-3  0.814066   \n",
       "\n",
       "                                                                                                                                                                                                                                                      prec_0  \\\n",
       "class_weight                                    criterion max_depth min_samples_leaf min_samples_split n_estimators modelo       fator_balanceamento num_pipe qtde_features features                                           metodo selecao                  \n",
       "{0: 0.8352631578947368, 1: 0.16473684210526318} gini      None      1                2                 100          RandomForest 0.8                 1        5             Age,Previously_Insured,Vehicle_Damage,Annual_Pr... SelectFromModel      0.963448   \n",
       "                                                                                                                                                     4        5             Age,Annual_Premium,Previously_Insured,Vehicle_D... Aleatorio            0.963282   \n",
       "                                                                                                                                                     2        5             Age,Previously_Insured,Vehicle_Damage,Annual_Pr... SelectFromModel      0.963226   \n",
       "                                                                                                                                                     3        5             Age,Previously_Insured,Vehicle_Damage,Annual_Pr... SelectFromModel      0.963202   \n",
       "                                                                                                                                                     6        5             Age,Annual_Premium,Previously_Insured,Vehicle_D... Aleatorio            0.963090   \n",
       "                                                                                                                                                     5        5             Age,Annual_Premium,Previously_Insured,Vehicle_D... Aleatorio            0.963064   \n",
       "                                                                                                                                                     11       5             Age,Annual_Premium,Previously_Insured,Vehicle_D... Aleatório e PCA k-1  0.962300   \n",
       "                                                                                                                                                     12       5             Age,Annual_Premium,Previously_Insured,Vehicle_D... Aleatório e PCA k-1  0.962120   \n",
       "                                                                                                                                                     10       5             Age,Annual_Premium,Previously_Insured,Vehicle_D... Aleatório e PCA k-1  0.962103   \n",
       "                                                                                                                                                     15       5             Age,Annual_Premium,Previously_Insured,Vehicle_D... Aleatório e PCA k-2  0.880366   \n",
       "                                                                                                                                                     14       5             Age,Annual_Premium,Previously_Insured,Vehicle_D... Aleatório e PCA k-2  0.879404   \n",
       "                                                                                                                                                     18       5             Age,Annual_Premium,Previously_Insured,Vehicle_D... Aleatório e PCA k-3  0.875395   \n",
       "                                                                                                                                                     9        5             Age,Annual_Premium,Previously_Insured,Vehicle_D... PCA k=num_feat       0.877635   \n",
       "                                                                                                                                                     7        5             Age,Annual_Premium,Previously_Insured,Vehicle_D... PCA k=num_feat       0.877356   \n",
       "                                                                                                                                                     8        5             Age,Annual_Premium,Previously_Insured,Vehicle_D... PCA k=num_feat       0.877571   \n",
       "                                                                                                                                                     17       5             Age,Annual_Premium,Previously_Insured,Vehicle_D... Aleatório e PCA k-3  0.870428   \n",
       "                                                                                                                                                     13       5             Age,Annual_Premium,Previously_Insured,Vehicle_D... Aleatório e PCA k-2  0.872793   \n",
       "                                                                                                                                                     16       5             Age,Annual_Premium,Previously_Insured,Vehicle_D... Aleatório e PCA k-3  0.871362   \n",
       "\n",
       "                                                                                                                                                                                                                                                      prec_1  \\\n",
       "class_weight                                    criterion max_depth min_samples_leaf min_samples_split n_estimators modelo       fator_balanceamento num_pipe qtde_features features                                           metodo selecao                  \n",
       "{0: 0.8352631578947368, 1: 0.16473684210526318} gini      None      1                2                 100          RandomForest 0.8                 1        5             Age,Previously_Insured,Vehicle_Damage,Annual_Pr... SelectFromModel      0.220733   \n",
       "                                                                                                                                                     4        5             Age,Annual_Premium,Previously_Insured,Vehicle_D... Aleatorio            0.219186   \n",
       "                                                                                                                                                     2        5             Age,Previously_Insured,Vehicle_Damage,Annual_Pr... SelectFromModel      0.220474   \n",
       "                                                                                                                                                     3        5             Age,Previously_Insured,Vehicle_Damage,Annual_Pr... SelectFromModel      0.220452   \n",
       "                                                                                                                                                     6        5             Age,Annual_Premium,Previously_Insured,Vehicle_D... Aleatorio            0.219005   \n",
       "                                                                                                                                                     5        5             Age,Annual_Premium,Previously_Insured,Vehicle_D... Aleatorio            0.218965   \n",
       "                                                                                                                                                     11       5             Age,Annual_Premium,Previously_Insured,Vehicle_D... Aleatório e PCA k-1  0.213703   \n",
       "                                                                                                                                                     12       5             Age,Annual_Premium,Previously_Insured,Vehicle_D... Aleatório e PCA k-1  0.213495   \n",
       "                                                                                                                                                     10       5             Age,Annual_Premium,Previously_Insured,Vehicle_D... Aleatório e PCA k-1  0.213137   \n",
       "                                                                                                                                                     15       5             Age,Annual_Premium,Previously_Insured,Vehicle_D... Aleatório e PCA k-2  0.123154   \n",
       "                                                                                                                                                     14       5             Age,Annual_Premium,Previously_Insured,Vehicle_D... Aleatório e PCA k-2  0.122958   \n",
       "                                                                                                                                                     18       5             Age,Annual_Premium,Previously_Insured,Vehicle_D... Aleatório e PCA k-3  0.122169   \n",
       "                                                                                                                                                     9        5             Age,Annual_Premium,Previously_Insured,Vehicle_D... PCA k=num_feat       0.122605   \n",
       "                                                                                                                                                     7        5             Age,Annual_Premium,Previously_Insured,Vehicle_D... PCA k=num_feat       0.122546   \n",
       "                                                                                                                                                     8        5             Age,Annual_Premium,Previously_Insured,Vehicle_D... PCA k=num_feat       0.122592   \n",
       "                                                                                                                                                     17       5             Age,Annual_Premium,Previously_Insured,Vehicle_D... Aleatório e PCA k-3  0.121149   \n",
       "                                                                                                                                                     13       5             Age,Annual_Premium,Previously_Insured,Vehicle_D... Aleatório e PCA k-2  0.121555   \n",
       "                                                                                                                                                     16       5             Age,Annual_Premium,Previously_Insured,Vehicle_D... Aleatório e PCA k-3  0.121255   \n",
       "\n",
       "                                                                                                                                                                                                                                                         auc  \\\n",
       "class_weight                                    criterion max_depth min_samples_leaf min_samples_split n_estimators modelo       fator_balanceamento num_pipe qtde_features features                                           metodo selecao                  \n",
       "{0: 0.8352631578947368, 1: 0.16473684210526318} gini      None      1                2                 100          RandomForest 0.8                 1        5             Age,Previously_Insured,Vehicle_Damage,Annual_Pr... SelectFromModel      0.713149   \n",
       "                                                                                                                                                     4        5             Age,Annual_Premium,Previously_Insured,Vehicle_D... Aleatorio            0.711351   \n",
       "                                                                                                                                                     2        5             Age,Previously_Insured,Vehicle_Damage,Annual_Pr... SelectFromModel      0.712592   \n",
       "                                                                                                                                                     3        5             Age,Previously_Insured,Vehicle_Damage,Annual_Pr... SelectFromModel      0.712539   \n",
       "                                                                                                                                                     6        5             Age,Annual_Premium,Previously_Insured,Vehicle_D... Aleatorio            0.710915   \n",
       "                                                                                                                                                     5        5             Age,Annual_Premium,Previously_Insured,Vehicle_D... Aleatorio            0.710839   \n",
       "                                                                                                                                                     11       5             Age,Annual_Premium,Previously_Insured,Vehicle_D... Aleatório e PCA k-1  0.704316   \n",
       "                                                                                                                                                     12       5             Age,Annual_Premium,Previously_Insured,Vehicle_D... Aleatório e PCA k-1  0.703867   \n",
       "                                                                                                                                                     10       5             Age,Annual_Premium,Previously_Insured,Vehicle_D... Aleatório e PCA k-1  0.703458   \n",
       "                                                                                                                                                     15       5             Age,Annual_Premium,Previously_Insured,Vehicle_D... Aleatório e PCA k-2  0.502285   \n",
       "                                                                                                                                                     14       5             Age,Annual_Premium,Previously_Insured,Vehicle_D... Aleatório e PCA k-2  0.501529   \n",
       "                                                                                                                                                     18       5             Age,Annual_Premium,Previously_Insured,Vehicle_D... Aleatório e PCA k-3  0.498464   \n",
       "                                                                                                                                                     9        5             Age,Annual_Premium,Previously_Insured,Vehicle_D... PCA k=num_feat       0.500161   \n",
       "                                                                                                                                                     7        5             Age,Annual_Premium,Previously_Insured,Vehicle_D... PCA k=num_feat       0.499934   \n",
       "                                                                                                                                                     8        5             Age,Annual_Premium,Previously_Insured,Vehicle_D... PCA k=num_feat       0.500110   \n",
       "                                                                                                                                                     17       5             Age,Annual_Premium,Previously_Insured,Vehicle_D... Aleatório e PCA k-3  0.494530   \n",
       "                                                                                                                                                     13       5             Age,Annual_Premium,Previously_Insured,Vehicle_D... Aleatório e PCA k-2  0.496150   \n",
       "                                                                                                                                                     16       5             Age,Annual_Premium,Previously_Insured,Vehicle_D... Aleatório e PCA k-3  0.494996   \n",
       "\n",
       "                                                                                                                                                                                                                                                    auc_valid  \\\n",
       "class_weight                                    criterion max_depth min_samples_leaf min_samples_split n_estimators modelo       fator_balanceamento num_pipe qtde_features features                                           metodo selecao                   \n",
       "{0: 0.8352631578947368, 1: 0.16473684210526318} gini      None      1                2                 100          RandomForest 0.8                 1        5             Age,Previously_Insured,Vehicle_Damage,Annual_Pr... SelectFromModel       0.868082   \n",
       "                                                                                                                                                     4        5             Age,Annual_Premium,Previously_Insured,Vehicle_D... Aleatorio             0.868350   \n",
       "                                                                                                                                                     2        5             Age,Previously_Insured,Vehicle_Damage,Annual_Pr... SelectFromModel       0.868778   \n",
       "                                                                                                                                                     3        5             Age,Previously_Insured,Vehicle_Damage,Annual_Pr... SelectFromModel       0.868109   \n",
       "                                                                                                                                                     6        5             Age,Annual_Premium,Previously_Insured,Vehicle_D... Aleatorio             0.868359   \n",
       "                                                                                                                                                     5        5             Age,Annual_Premium,Previously_Insured,Vehicle_D... Aleatorio             0.869037   \n",
       "                                                                                                                                                     11       5             Age,Annual_Premium,Previously_Insured,Vehicle_D... Aleatório e PCA k-1   0.868269   \n",
       "                                                                                                                                                     12       5             Age,Annual_Premium,Previously_Insured,Vehicle_D... Aleatório e PCA k-1   0.868225   \n",
       "                                                                                                                                                     10       5             Age,Annual_Premium,Previously_Insured,Vehicle_D... Aleatório e PCA k-1   0.867975   \n",
       "                                                                                                                                                     15       5             Age,Annual_Premium,Previously_Insured,Vehicle_D... Aleatório e PCA k-2   0.861169   \n",
       "                                                                                                                                                     14       5             Age,Annual_Premium,Previously_Insured,Vehicle_D... Aleatório e PCA k-2   0.861169   \n",
       "                                                                                                                                                     18       5             Age,Annual_Premium,Previously_Insured,Vehicle_D... Aleatório e PCA k-3   0.847084   \n",
       "                                                                                                                                                     9        5             Age,Annual_Premium,Previously_Insured,Vehicle_D... PCA k=num_feat        0.869786   \n",
       "                                                                                                                                                     7        5             Age,Annual_Premium,Previously_Insured,Vehicle_D... PCA k=num_feat        0.870117   \n",
       "                                                                                                                                                     8        5             Age,Annual_Premium,Previously_Insured,Vehicle_D... PCA k=num_feat        0.870687   \n",
       "                                                                                                                                                     17       5             Age,Annual_Premium,Previously_Insured,Vehicle_D... Aleatório e PCA k-3   0.855139   \n",
       "                                                                                                                                                     13       5             Age,Annual_Premium,Previously_Insured,Vehicle_D... Aleatório e PCA k-2   0.874568   \n",
       "                                                                                                                                                     16       5             Age,Annual_Premium,Previously_Insured,Vehicle_D... Aleatório e PCA k-3   0.873614   \n",
       "\n",
       "                                                                                                                                                                                                                                                          custo  \\\n",
       "class_weight                                    criterion max_depth min_samples_leaf min_samples_split n_estimators modelo       fator_balanceamento num_pipe qtde_features features                                           metodo selecao                     \n",
       "{0: 0.8352631578947368, 1: 0.16473684210526318} gini      None      1                2                 100          RandomForest 0.8                 1        5             Age,Previously_Insured,Vehicle_Damage,Annual_Pr... SelectFromModel      1935877.500   \n",
       "                                                                                                                                                     4        5             Age,Annual_Premium,Previously_Insured,Vehicle_D... Aleatorio            1940307.140   \n",
       "                                                                                                                                                     2        5             Age,Previously_Insured,Vehicle_Damage,Annual_Pr... SelectFromModel      1943463.680   \n",
       "                                                                                                                                                     3        5             Age,Previously_Insured,Vehicle_Damage,Annual_Pr... SelectFromModel      1944277.450   \n",
       "                                                                                                                                                     6        5             Age,Annual_Premium,Previously_Insured,Vehicle_D... Aleatorio            1946843.525   \n",
       "                                                                                                                                                     5        5             Age,Annual_Premium,Previously_Insured,Vehicle_D... Aleatorio            1947735.970   \n",
       "                                                                                                                                                     11       5             Age,Annual_Premium,Previously_Insured,Vehicle_D... Aleatório e PCA k-1  1968739.810   \n",
       "                                                                                                                                                     12       5             Age,Annual_Premium,Previously_Insured,Vehicle_D... Aleatório e PCA k-1  1974698.450   \n",
       "                                                                                                                                                     10       5             Age,Annual_Premium,Previously_Insured,Vehicle_D... Aleatório e PCA k-1  1974880.435   \n",
       "                                                                                                                                                     15       5             Age,Annual_Premium,Previously_Insured,Vehicle_D... Aleatório e PCA k-2  2703728.825   \n",
       "                                                                                                                                                     14       5             Age,Annual_Premium,Previously_Insured,Vehicle_D... Aleatório e PCA k-2  2710762.690   \n",
       "                                                                                                                                                     18       5             Age,Annual_Premium,Previously_Insured,Vehicle_D... Aleatório e PCA k-3  2721514.940   \n",
       "                                                                                                                                                     9        5             Age,Annual_Premium,Previously_Insured,Vehicle_D... PCA k=num_feat       2774406.820   \n",
       "                                                                                                                                                     7        5             Age,Annual_Premium,Previously_Insured,Vehicle_D... PCA k=num_feat       2780839.100   \n",
       "                                                                                                                                                     8        5             Age,Annual_Premium,Previously_Insured,Vehicle_D... PCA k=num_feat       2782100.285   \n",
       "                                                                                                                                                     17       5             Age,Annual_Premium,Previously_Insured,Vehicle_D... Aleatório e PCA k-3  2811064.610   \n",
       "                                                                                                                                                     13       5             Age,Annual_Premium,Previously_Insured,Vehicle_D... Aleatório e PCA k-2  2849829.155   \n",
       "                                                                                                                                                     16       5             Age,Annual_Premium,Previously_Insured,Vehicle_D... Aleatório e PCA k-3  2858883.140   \n",
       "\n",
       "                                                                                                                                                                                                                                                    media_auc_valid_teste  \n",
       "class_weight                                    criterion max_depth min_samples_leaf min_samples_split n_estimators modelo       fator_balanceamento num_pipe qtde_features features                                           metodo selecao                              \n",
       "{0: 0.8352631578947368, 1: 0.16473684210526318} gini      None      1                2                 100          RandomForest 0.8                 1        5             Age,Previously_Insured,Vehicle_Damage,Annual_Pr... SelectFromModel                   0.790615  \n",
       "                                                                                                                                                     4        5             Age,Annual_Premium,Previously_Insured,Vehicle_D... Aleatorio                         0.789850  \n",
       "                                                                                                                                                     2        5             Age,Previously_Insured,Vehicle_Damage,Annual_Pr... SelectFromModel                   0.790685  \n",
       "                                                                                                                                                     3        5             Age,Previously_Insured,Vehicle_Damage,Annual_Pr... SelectFromModel                   0.790324  \n",
       "                                                                                                                                                     6        5             Age,Annual_Premium,Previously_Insured,Vehicle_D... Aleatorio                         0.789637  \n",
       "                                                                                                                                                     5        5             Age,Annual_Premium,Previously_Insured,Vehicle_D... Aleatorio                         0.789938  \n",
       "                                                                                                                                                     11       5             Age,Annual_Premium,Previously_Insured,Vehicle_D... Aleatório e PCA k-1               0.786293  \n",
       "                                                                                                                                                     12       5             Age,Annual_Premium,Previously_Insured,Vehicle_D... Aleatório e PCA k-1               0.786046  \n",
       "                                                                                                                                                     10       5             Age,Annual_Premium,Previously_Insured,Vehicle_D... Aleatório e PCA k-1               0.785716  \n",
       "                                                                                                                                                     15       5             Age,Annual_Premium,Previously_Insured,Vehicle_D... Aleatório e PCA k-2               0.681727  \n",
       "                                                                                                                                                     14       5             Age,Annual_Premium,Previously_Insured,Vehicle_D... Aleatório e PCA k-2               0.681349  \n",
       "                                                                                                                                                     18       5             Age,Annual_Premium,Previously_Insured,Vehicle_D... Aleatório e PCA k-3               0.672774  \n",
       "                                                                                                                                                     9        5             Age,Annual_Premium,Previously_Insured,Vehicle_D... PCA k=num_feat                    0.684974  \n",
       "                                                                                                                                                     7        5             Age,Annual_Premium,Previously_Insured,Vehicle_D... PCA k=num_feat                    0.685025  \n",
       "                                                                                                                                                     8        5             Age,Annual_Premium,Previously_Insured,Vehicle_D... PCA k=num_feat                    0.685398  \n",
       "                                                                                                                                                     17       5             Age,Annual_Premium,Previously_Insured,Vehicle_D... Aleatório e PCA k-3               0.674834  \n",
       "                                                                                                                                                     13       5             Age,Annual_Premium,Previously_Insured,Vehicle_D... Aleatório e PCA k-2               0.685359  \n",
       "                                                                                                                                                     16       5             Age,Annual_Premium,Previously_Insured,Vehicle_D... Aleatório e PCA k-3               0.684305  "
      ]
     },
     "execution_count": 51,
     "metadata": {},
     "output_type": "execute_result"
    }
   ],
   "source": [
    "####### Resultados Modelo 1: DecisionTree\n",
    "\n",
    "## Configurando Numero de caracteres para visualização do dataframe\n",
    "pd.set_option('display.precision',5)\n",
    "pd.reset_option('^display.',silent=True)\n",
    "\n",
    "# Transformando resultados em dataframe\n",
    "resultados_df_model1 = pd.DataFrame(np.array(resultados_model1), columns=col_names_modelo1)\n",
    "resultados_df_model1['auc'] = resultados_df_model1['auc'].astype(float, errors = 'raise')\n",
    "\n",
    "## Criando dicionário com os tipos de dados dos parâmetros e das métricas\n",
    "import itertools\n",
    "\n",
    "col_metricas = col_names_modelo1[14:]\n",
    "dict_metrics_types = dict.fromkeys(col_metricas , 'float')\n",
    "\n",
    "col_params = col_names_modelo1[:14]\n",
    "dict_params_types = dict.fromkeys(col_params , 'str')\n",
    "\n",
    "dict_data_types = itertools.chain(dict_params_types.items(),dict_metrics_types.items())\n",
    "dict_data_types = dict(dict_data_types)\n",
    "dict_data_types\n",
    "\n",
    "group_by_list = col_names_modelo1[2:14]\n",
    "\n",
    "## Agrupando por hiperparâmetros e ordenando pelas métricas\n",
    "df_agrupado = resultados_df_model1.astype(dict_data_types).groupby(group_by_list).agg({'contagem_exp': 'nunique', 'acuracia':np.mean, 'recall_0':np.mean, 'recall_1':np.mean, 'prec_0':np.mean, 'prec_1':np.mean, 'auc':np.mean, 'auc_valid': np.mean, 'custo': np.mean})\n",
    "df_agrupado['media_auc_valid_teste'] = (df_agrupado['auc'] + df_agrupado['auc_valid']) /2\n",
    "df_agrupado = df_agrupado.sort_values(by='custo', ascending=True)\n",
    "df_agrupado[0:50]"
   ]
  },
  {
   "cell_type": "markdown",
   "metadata": {},
   "source": [
    "## Seleção de candidatos"
   ]
  },
  {
   "cell_type": "code",
   "execution_count": 52,
   "metadata": {},
   "outputs": [
    {
     "data": {
      "text/html": [
       "<div>\n",
       "<style scoped>\n",
       "    .dataframe tbody tr th:only-of-type {\n",
       "        vertical-align: middle;\n",
       "    }\n",
       "\n",
       "    .dataframe tbody tr th {\n",
       "        vertical-align: top;\n",
       "    }\n",
       "\n",
       "    .dataframe thead th {\n",
       "        text-align: right;\n",
       "    }\n",
       "</style>\n",
       "<table border=\"1\" class=\"dataframe\">\n",
       "  <thead>\n",
       "    <tr style=\"text-align: right;\">\n",
       "      <th></th>\n",
       "      <th></th>\n",
       "      <th></th>\n",
       "      <th></th>\n",
       "      <th></th>\n",
       "      <th></th>\n",
       "      <th></th>\n",
       "      <th></th>\n",
       "      <th></th>\n",
       "      <th></th>\n",
       "      <th></th>\n",
       "      <th></th>\n",
       "      <th>contagem_exp</th>\n",
       "      <th>acuracia</th>\n",
       "      <th>recall_0</th>\n",
       "      <th>recall_1</th>\n",
       "      <th>prec_0</th>\n",
       "      <th>prec_1</th>\n",
       "      <th>auc</th>\n",
       "      <th>auc_valid</th>\n",
       "      <th>custo</th>\n",
       "      <th>media_auc_valid_teste</th>\n",
       "    </tr>\n",
       "    <tr>\n",
       "      <th>class_weight</th>\n",
       "      <th>criterion</th>\n",
       "      <th>max_depth</th>\n",
       "      <th>min_samples_leaf</th>\n",
       "      <th>min_samples_split</th>\n",
       "      <th>n_estimators</th>\n",
       "      <th>modelo</th>\n",
       "      <th>fator_balanceamento</th>\n",
       "      <th>num_pipe</th>\n",
       "      <th>qtde_features</th>\n",
       "      <th>features</th>\n",
       "      <th>metodo selecao</th>\n",
       "      <th></th>\n",
       "      <th></th>\n",
       "      <th></th>\n",
       "      <th></th>\n",
       "      <th></th>\n",
       "      <th></th>\n",
       "      <th></th>\n",
       "      <th></th>\n",
       "      <th></th>\n",
       "      <th></th>\n",
       "    </tr>\n",
       "  </thead>\n",
       "  <tbody>\n",
       "    <tr>\n",
       "      <th>{0: 0.8352631578947368, 1: 0.16473684210526318}</th>\n",
       "      <th>gini</th>\n",
       "      <th>None</th>\n",
       "      <th>1</th>\n",
       "      <th>2</th>\n",
       "      <th>100</th>\n",
       "      <th>RandomForest</th>\n",
       "      <th>0.8</th>\n",
       "      <th>1</th>\n",
       "      <th>5</th>\n",
       "      <th>Age,Previously_Insured,Vehicle_Damage,Annual_Premium,Vintage</th>\n",
       "      <th>SelectFromModel</th>\n",
       "      <td>5</td>\n",
       "      <td>0.616607</td>\n",
       "      <td>0.585257</td>\n",
       "      <td>0.84104</td>\n",
       "      <td>0.963448</td>\n",
       "      <td>0.220733</td>\n",
       "      <td>0.713149</td>\n",
       "      <td>0.868082</td>\n",
       "      <td>1935877.5</td>\n",
       "      <td>0.790615</td>\n",
       "    </tr>\n",
       "  </tbody>\n",
       "</table>\n",
       "</div>"
      ],
      "text/plain": [
       "                                                                                                                                                                                                                                                contagem_exp  \\\n",
       "class_weight                                    criterion max_depth min_samples_leaf min_samples_split n_estimators modelo       fator_balanceamento num_pipe qtde_features features                                           metodo selecao                  \n",
       "{0: 0.8352631578947368, 1: 0.16473684210526318} gini      None      1                2                 100          RandomForest 0.8                 1        5             Age,Previously_Insured,Vehicle_Damage,Annual_Pr... SelectFromModel             5   \n",
       "\n",
       "                                                                                                                                                                                                                                                acuracia  \\\n",
       "class_weight                                    criterion max_depth min_samples_leaf min_samples_split n_estimators modelo       fator_balanceamento num_pipe qtde_features features                                           metodo selecao              \n",
       "{0: 0.8352631578947368, 1: 0.16473684210526318} gini      None      1                2                 100          RandomForest 0.8                 1        5             Age,Previously_Insured,Vehicle_Damage,Annual_Pr... SelectFromModel  0.616607   \n",
       "\n",
       "                                                                                                                                                                                                                                                recall_0  \\\n",
       "class_weight                                    criterion max_depth min_samples_leaf min_samples_split n_estimators modelo       fator_balanceamento num_pipe qtde_features features                                           metodo selecao              \n",
       "{0: 0.8352631578947368, 1: 0.16473684210526318} gini      None      1                2                 100          RandomForest 0.8                 1        5             Age,Previously_Insured,Vehicle_Damage,Annual_Pr... SelectFromModel  0.585257   \n",
       "\n",
       "                                                                                                                                                                                                                                                recall_1  \\\n",
       "class_weight                                    criterion max_depth min_samples_leaf min_samples_split n_estimators modelo       fator_balanceamento num_pipe qtde_features features                                           metodo selecao              \n",
       "{0: 0.8352631578947368, 1: 0.16473684210526318} gini      None      1                2                 100          RandomForest 0.8                 1        5             Age,Previously_Insured,Vehicle_Damage,Annual_Pr... SelectFromModel   0.84104   \n",
       "\n",
       "                                                                                                                                                                                                                                                  prec_0  \\\n",
       "class_weight                                    criterion max_depth min_samples_leaf min_samples_split n_estimators modelo       fator_balanceamento num_pipe qtde_features features                                           metodo selecao              \n",
       "{0: 0.8352631578947368, 1: 0.16473684210526318} gini      None      1                2                 100          RandomForest 0.8                 1        5             Age,Previously_Insured,Vehicle_Damage,Annual_Pr... SelectFromModel  0.963448   \n",
       "\n",
       "                                                                                                                                                                                                                                                  prec_1  \\\n",
       "class_weight                                    criterion max_depth min_samples_leaf min_samples_split n_estimators modelo       fator_balanceamento num_pipe qtde_features features                                           metodo selecao              \n",
       "{0: 0.8352631578947368, 1: 0.16473684210526318} gini      None      1                2                 100          RandomForest 0.8                 1        5             Age,Previously_Insured,Vehicle_Damage,Annual_Pr... SelectFromModel  0.220733   \n",
       "\n",
       "                                                                                                                                                                                                                                                     auc  \\\n",
       "class_weight                                    criterion max_depth min_samples_leaf min_samples_split n_estimators modelo       fator_balanceamento num_pipe qtde_features features                                           metodo selecao              \n",
       "{0: 0.8352631578947368, 1: 0.16473684210526318} gini      None      1                2                 100          RandomForest 0.8                 1        5             Age,Previously_Insured,Vehicle_Damage,Annual_Pr... SelectFromModel  0.713149   \n",
       "\n",
       "                                                                                                                                                                                                                                                auc_valid  \\\n",
       "class_weight                                    criterion max_depth min_samples_leaf min_samples_split n_estimators modelo       fator_balanceamento num_pipe qtde_features features                                           metodo selecao               \n",
       "{0: 0.8352631578947368, 1: 0.16473684210526318} gini      None      1                2                 100          RandomForest 0.8                 1        5             Age,Previously_Insured,Vehicle_Damage,Annual_Pr... SelectFromModel   0.868082   \n",
       "\n",
       "                                                                                                                                                                                                                                                    custo  \\\n",
       "class_weight                                    criterion max_depth min_samples_leaf min_samples_split n_estimators modelo       fator_balanceamento num_pipe qtde_features features                                           metodo selecao               \n",
       "{0: 0.8352631578947368, 1: 0.16473684210526318} gini      None      1                2                 100          RandomForest 0.8                 1        5             Age,Previously_Insured,Vehicle_Damage,Annual_Pr... SelectFromModel  1935877.5   \n",
       "\n",
       "                                                                                                                                                                                                                                                media_auc_valid_teste  \n",
       "class_weight                                    criterion max_depth min_samples_leaf min_samples_split n_estimators modelo       fator_balanceamento num_pipe qtde_features features                                           metodo selecao                          \n",
       "{0: 0.8352631578947368, 1: 0.16473684210526318} gini      None      1                2                 100          RandomForest 0.8                 1        5             Age,Previously_Insured,Vehicle_Damage,Annual_Pr... SelectFromModel               0.790615  "
      ]
     },
     "execution_count": 52,
     "metadata": {},
     "output_type": "execute_result"
    }
   ],
   "source": [
    "##Candidatos: \n",
    "candidato = df_agrupado[0:1]\n",
    "candidato"
   ]
  },
  {
   "cell_type": "code",
   "execution_count": 32,
   "metadata": {},
   "outputs": [
    {
     "data": {
      "text/html": [
       "<div>\n",
       "<style scoped>\n",
       "    .dataframe tbody tr th:only-of-type {\n",
       "        vertical-align: middle;\n",
       "    }\n",
       "\n",
       "    .dataframe tbody tr th {\n",
       "        vertical-align: top;\n",
       "    }\n",
       "\n",
       "    .dataframe thead th {\n",
       "        text-align: right;\n",
       "    }\n",
       "</style>\n",
       "<table border=\"1\" class=\"dataframe\">\n",
       "  <thead>\n",
       "    <tr style=\"text-align: right;\">\n",
       "      <th></th>\n",
       "      <th>class_weight</th>\n",
       "      <th>criterion</th>\n",
       "      <th>max_depth</th>\n",
       "      <th>min_samples_leaf</th>\n",
       "      <th>min_samples_split</th>\n",
       "      <th>n_estimators</th>\n",
       "      <th>modelo</th>\n",
       "      <th>fator_balanceamento</th>\n",
       "      <th>num_pipe</th>\n",
       "      <th>qtde_features</th>\n",
       "      <th>features</th>\n",
       "      <th>metodo selecao</th>\n",
       "      <th>contagem_exp</th>\n",
       "      <th>acuracia</th>\n",
       "      <th>recall_0</th>\n",
       "      <th>recall_1</th>\n",
       "      <th>prec_0</th>\n",
       "      <th>prec_1</th>\n",
       "      <th>auc</th>\n",
       "      <th>auc_valid</th>\n",
       "      <th>custo</th>\n",
       "      <th>media_auc_valid_teste</th>\n",
       "    </tr>\n",
       "  </thead>\n",
       "  <tbody>\n",
       "    <tr>\n",
       "      <th>0</th>\n",
       "      <td>{0: 0.8352631578947368, 1: 0.16473684210526318}</td>\n",
       "      <td>gini</td>\n",
       "      <td>None</td>\n",
       "      <td>1</td>\n",
       "      <td>2</td>\n",
       "      <td>100</td>\n",
       "      <td>RandomForest</td>\n",
       "      <td>0.8</td>\n",
       "      <td>4</td>\n",
       "      <td>10</td>\n",
       "      <td>Age,Annual_Premium,Driving_License,Gender,Poli...</td>\n",
       "      <td>Aleatorio</td>\n",
       "      <td>5</td>\n",
       "      <td>0.611537</td>\n",
       "      <td>0.580179</td>\n",
       "      <td>0.836031</td>\n",
       "      <td>0.962021</td>\n",
       "      <td>0.217640</td>\n",
       "      <td>0.708105</td>\n",
       "      <td>0.880817</td>\n",
       "      <td>1982867.946</td>\n",
       "      <td>0.794461</td>\n",
       "    </tr>\n",
       "    <tr>\n",
       "      <th>1</th>\n",
       "      <td>{0: 0.8352631578947368, 1: 0.16473684210526318}</td>\n",
       "      <td>gini</td>\n",
       "      <td>None</td>\n",
       "      <td>1</td>\n",
       "      <td>2</td>\n",
       "      <td>100</td>\n",
       "      <td>RandomForest</td>\n",
       "      <td>0.8</td>\n",
       "      <td>2</td>\n",
       "      <td>5</td>\n",
       "      <td>Age,Previously_Insured,Vehicle_Damage,Annual_P...</td>\n",
       "      <td>SelectFromModel</td>\n",
       "      <td>5</td>\n",
       "      <td>0.615190</td>\n",
       "      <td>0.583586</td>\n",
       "      <td>0.841447</td>\n",
       "      <td>0.963436</td>\n",
       "      <td>0.220146</td>\n",
       "      <td>0.712516</td>\n",
       "      <td>0.867103</td>\n",
       "      <td>1935717.129</td>\n",
       "      <td>0.789810</td>\n",
       "    </tr>\n",
       "    <tr>\n",
       "      <th>2</th>\n",
       "      <td>{0: 0.8352631578947368, 1: 0.16473684210526318}</td>\n",
       "      <td>gini</td>\n",
       "      <td>None</td>\n",
       "      <td>1</td>\n",
       "      <td>2</td>\n",
       "      <td>100</td>\n",
       "      <td>RandomForest</td>\n",
       "      <td>0.8</td>\n",
       "      <td>1</td>\n",
       "      <td>5</td>\n",
       "      <td>Age,Previously_Insured,Vehicle_Damage,Annual_P...</td>\n",
       "      <td>SelectFromModel</td>\n",
       "      <td>5</td>\n",
       "      <td>0.617774</td>\n",
       "      <td>0.586576</td>\n",
       "      <td>0.841126</td>\n",
       "      <td>0.963546</td>\n",
       "      <td>0.221301</td>\n",
       "      <td>0.713851</td>\n",
       "      <td>0.868061</td>\n",
       "      <td>1932913.439</td>\n",
       "      <td>0.790956</td>\n",
       "    </tr>\n",
       "    <tr>\n",
       "      <th>3</th>\n",
       "      <td>{0: 0.8352631578947368, 1: 0.16473684210526318}</td>\n",
       "      <td>gini</td>\n",
       "      <td>None</td>\n",
       "      <td>1</td>\n",
       "      <td>2</td>\n",
       "      <td>100</td>\n",
       "      <td>RandomForest</td>\n",
       "      <td>0.8</td>\n",
       "      <td>1</td>\n",
       "      <td>5</td>\n",
       "      <td>Age,Previously_Insured,Vehicle_Damage,Annual_P...</td>\n",
       "      <td>SelectFromModel</td>\n",
       "      <td>5</td>\n",
       "      <td>0.616607</td>\n",
       "      <td>0.585257</td>\n",
       "      <td>0.841040</td>\n",
       "      <td>0.963448</td>\n",
       "      <td>0.220733</td>\n",
       "      <td>0.713149</td>\n",
       "      <td>0.868082</td>\n",
       "      <td>1935877.500</td>\n",
       "      <td>0.790615</td>\n",
       "    </tr>\n",
       "  </tbody>\n",
       "</table>\n",
       "</div>"
      ],
      "text/plain": [
       "                                      class_weight criterion max_depth  \\\n",
       "0  {0: 0.8352631578947368, 1: 0.16473684210526318}      gini      None   \n",
       "1  {0: 0.8352631578947368, 1: 0.16473684210526318}      gini      None   \n",
       "2  {0: 0.8352631578947368, 1: 0.16473684210526318}      gini      None   \n",
       "3  {0: 0.8352631578947368, 1: 0.16473684210526318}      gini      None   \n",
       "\n",
       "   min_samples_leaf  min_samples_split  n_estimators        modelo  \\\n",
       "0                 1                  2           100  RandomForest   \n",
       "1                 1                  2           100  RandomForest   \n",
       "2                 1                  2           100  RandomForest   \n",
       "3                 1                  2           100  RandomForest   \n",
       "\n",
       "   fator_balanceamento  num_pipe  qtde_features  \\\n",
       "0                  0.8         4             10   \n",
       "1                  0.8         2              5   \n",
       "2                  0.8         1              5   \n",
       "3                  0.8         1              5   \n",
       "\n",
       "                                            features   metodo selecao  \\\n",
       "0  Age,Annual_Premium,Driving_License,Gender,Poli...        Aleatorio   \n",
       "1  Age,Previously_Insured,Vehicle_Damage,Annual_P...  SelectFromModel   \n",
       "2  Age,Previously_Insured,Vehicle_Damage,Annual_P...  SelectFromModel   \n",
       "3  Age,Previously_Insured,Vehicle_Damage,Annual_P...  SelectFromModel   \n",
       "\n",
       "   contagem_exp  acuracia  recall_0  recall_1    prec_0    prec_1       auc  \\\n",
       "0             5  0.611537  0.580179  0.836031  0.962021  0.217640  0.708105   \n",
       "1             5  0.615190  0.583586  0.841447  0.963436  0.220146  0.712516   \n",
       "2             5  0.617774  0.586576  0.841126  0.963546  0.221301  0.713851   \n",
       "3             5  0.616607  0.585257  0.841040  0.963448  0.220733  0.713149   \n",
       "\n",
       "   auc_valid        custo  media_auc_valid_teste  \n",
       "0   0.880817  1982867.946               0.794461  \n",
       "1   0.867103  1935717.129               0.789810  \n",
       "2   0.868061  1932913.439               0.790956  \n",
       "3   0.868082  1935877.500               0.790615  "
      ]
     },
     "execution_count": 32,
     "metadata": {},
     "output_type": "execute_result"
    }
   ],
   "source": [
    "pd.set_option('display.max_columns', 50)\n",
    "#df_rf_candidatos = pd.DataFrame()\n",
    "\n",
    "df_rf_candidatos = pd.read_csv('df_rf_candidatos.csv')\n",
    "\n",
    "#df_rf_candidatos = df_rf_candidatos.append(candidato.reset_index(), ignore_index=True)\n",
    "\n",
    "df_rf_candidatos"
   ]
  },
  {
   "cell_type": "code",
   "execution_count": 54,
   "metadata": {},
   "outputs": [],
   "source": [
    "df_rf_candidatos.to_csv('df_rf_candidatos.csv',index=False)"
   ]
  },
  {
   "cell_type": "code",
   "execution_count": 27,
   "metadata": {},
   "outputs": [
    {
     "data": {
      "text/plain": [
       "'Age,Previously_Insured,Vehicle_Damage,Annual_Premium,Vintage'"
      ]
     },
     "execution_count": 27,
     "metadata": {},
     "output_type": "execute_result"
    }
   ],
   "source": [
    "df_rf_candidatos.features[3]"
   ]
  },
  {
   "cell_type": "markdown",
   "metadata": {},
   "source": [
    "# Persistencia do melhor modelo em disco"
   ]
  },
  {
   "cell_type": "code",
   "execution_count": 55,
   "metadata": {},
   "outputs": [
    {
     "data": {
      "text/plain": [
       "Pipeline(steps=[('scaler', StandardScaler()),\n",
       "                ('seletor',\n",
       "                 SelectFromModel(estimator=RandomForestClassifier(n_jobs=-1,\n",
       "                                                                  random_state=0),\n",
       "                                 max_features=5, threshold=-inf)),\n",
       "                ('RandomForest',\n",
       "                 RandomForestClassifier(class_weight={0: 0.8352631578947368,\n",
       "                                                      1: 0.16473684210526318},\n",
       "                                        n_jobs=-1, random_state=0))])"
      ]
     },
     "execution_count": 55,
     "metadata": {},
     "output_type": "execute_result"
    }
   ],
   "source": [
    "melhor_modelo = pipe1\n",
    "melhor_modelo"
   ]
  },
  {
   "cell_type": "code",
   "execution_count": 56,
   "metadata": {},
   "outputs": [
    {
     "data": {
      "text/plain": [
       "['modelo-RF.pkl']"
      ]
     },
     "execution_count": 56,
     "metadata": {},
     "output_type": "execute_result"
    }
   ],
   "source": [
    "import joblib\n",
    "joblib.dump(melhor_modelo, 'modelo-RF.pkl',compress=4)"
   ]
  },
  {
   "cell_type": "markdown",
   "metadata": {},
   "source": [
    "# 9 Métricas do modelo"
   ]
  },
  {
   "cell_type": "code",
   "execution_count": 60,
   "metadata": {},
   "outputs": [
    {
     "data": {
      "text/plain": [
       "Pipeline(steps=[('scaler', StandardScaler()),\n",
       "                ('seletor',\n",
       "                 SelectFromModel(estimator=RandomForestClassifier(n_jobs=-1,\n",
       "                                                                  random_state=0),\n",
       "                                 max_features=5, threshold=-inf)),\n",
       "                ('RandomForest',\n",
       "                 RandomForestClassifier(class_weight={0: 0.8352631578947368,\n",
       "                                                      1: 0.16473684210526318},\n",
       "                                        n_jobs=-1, random_state=0))])"
      ]
     },
     "execution_count": 60,
     "metadata": {},
     "output_type": "execute_result"
    }
   ],
   "source": [
    "import joblib\n",
    "import os\n",
    "model = joblib.load(open(os.path.join('modelo-RF.pkl'),\"rb\"))\n",
    "model"
   ]
  },
  {
   "cell_type": "code",
   "execution_count": 194,
   "metadata": {},
   "outputs": [
    {
     "name": "stdout",
     "output_type": "stream",
     "text": [
      "Classification Report - Test:\n",
      "               precision    recall  f1-score   support\n",
      "\n",
      "         0.0       0.96      0.59      0.73     66880\n",
      "         1.0       0.22      0.84      0.35      9342\n",
      "\n",
      "    accuracy                           0.62     76222\n",
      "   macro avg       0.59      0.71      0.54     76222\n",
      "weighted avg       0.87      0.62      0.68     76222\n",
      "\n",
      "\n",
      "Confusion Matrix Dados - Test:\n",
      " [[39145 27735]\n",
      " [ 1509  7833]]\n",
      "\n",
      "Recall_0: 0.585302033492823\n",
      "Recall_1: 0.8384714193962749\n",
      "Precision_0: 0.9628818812416983\n",
      "Precision_1: 0.22022604588394062\n",
      "Acuracia: 0.6163312429482302\n",
      "AUC: 0.7118867264445489\n"
     ]
    }
   ],
   "source": [
    "from sklearn.metrics import recall_score\n",
    "from sklearn.metrics import precision_score\n",
    "from sklearn.metrics import balanced_accuracy_score\n",
    "from sklearn.metrics import roc_auc_score\n",
    "from sklearn.metrics import accuracy_score\n",
    "\n",
    "############ INPUT:\n",
    "seed = 0\n",
    "num_pipe = 1\n",
    "fator_balanc = 0.8\n",
    "#lista_features = ['Age','Previously_Insured','Vehicle_Damage','Annual_Premium','Vintage']\n",
    "\n",
    "\n",
    "#Balanceamento\n",
    "nr = NearMiss(sampling_strategy=fator_balanc)\n",
    "X_train_valid_balanc, y_train_valid_balanc = nr.fit_resample(X_train_valid, y_train_valid)\n",
    "        \n",
    "##Holdout 70% treino e 30% validação\n",
    "X_train, X_valid, y_train, y_valid = train_test_split(X_train_valid_balanc, y_train_valid_balanc, test_size=0.3, random_state=seed, stratify=y_train_valid_balanc)\n",
    "\n",
    "## Dados treino\n",
    "#X_test\n",
    "#y_test\n",
    "\n",
    "\n",
    "#Seletor aleatório de feature\n",
    "if num_pipe == 3:\n",
    "    X_train3 = X_train3[seletor_aleatorio]\n",
    "    X_valid3 = X_valid3[seletor_aleatorio]\n",
    "\n",
    "    \n",
    "#fit treino\n",
    "model.fit(X_train,y_train)\n",
    "\n",
    "#predict teste\n",
    "p = model.predict(X_test)\n",
    "\n",
    "\n",
    "############ Métricas #################\n",
    "#Relatórios e matriz de confusao\n",
    "print(\"Classification Report - Test:\\n\",classification_report(y_test, p))\n",
    "print(\"\")\n",
    "print(\"Confusion Matrix Dados - Test:\\n\",confusion_matrix(y_test, p))\n",
    "print(\"\")\n",
    "\n",
    "\n",
    "#Calculando o recall\n",
    "recall_0 = recall_score(y_test, p, pos_label=0)\n",
    "recall_1 = recall_score(y_test, p, pos_label=1)\n",
    "\n",
    "#Calculando Precision\n",
    "precision_0 = precision_score(y_test, p, pos_label = 0)\n",
    "precision_1 = precision_score(y_test, p, pos_label = 1)\n",
    "\n",
    "#Calculando acurácia\n",
    "accuracy = accuracy_score(y_test, p)\n",
    "\n",
    "#Calculando acurácia balanceada\n",
    "accuracy_balanced = balanced_accuracy_score(y_test, p)\n",
    "\n",
    "#Calculando AUC\n",
    "auc = roc_auc_score(y_test, p)\n",
    "\n",
    "print(\"Recall_0: %s\" % (recall_0))\n",
    "print(\"Recall_1: %s\" % (recall_1))\n",
    "print(\"Precision_0: %s\" % (precision_0))\n",
    "print(\"Precision_1: %s\" % (precision_1))\n",
    "print(\"Acuracia: %s\" % (accuracy))\n",
    "#print(\"Acuracia Balanceada: %s\" % (accuracy_balanced))\n",
    "print(\"AUC: %s\" % (auc))"
   ]
  },
  {
   "cell_type": "markdown",
   "metadata": {},
   "source": [
    "## 10 Experimentos: Quantas pessoas passariam a ter interesse após oferecer 10% de desconto?\n",
    "\n",
    "\n",
    "Caso já tivessemos implementado esse modelo de Machine Learning antes de oferecer o seguro de veículos aos clientes seria possível realizar um .Predict() direto sobre a base de clientes. No entanto, parte da base de clientes foi utilizado para treinamento do modelo, portanto, para estimar quantos clientes passariam a ter interesse após a oferta de desconto iremos oferecer 10% a toda a base de testes de clientes e verificar o aumento no número de classificação de pessoas interessadas. Em seguida iremos deduzir 78% que é a taxa de Falsos Positivos (Métrica de precisão de 22% para classificação de pessoas interessadas). \n",
    "\n",
    "Uma vez realizado o predict sobre a base de testes iremos realizar uma inferência ingênua sobre o comportamento de toda a base de clientes."
   ]
  },
  {
   "cell_type": "markdown",
   "metadata": {},
   "source": [
    "## 10.1 Oferecendo 10% de desconto base de teste\n",
    "\n",
    "Iremos oferecer 10% de desconto apenas aos clientes sem interesse."
   ]
  },
  {
   "cell_type": "code",
   "execution_count": 143,
   "metadata": {},
   "outputs": [
    {
     "data": {
      "text/html": [
       "<div>\n",
       "<style scoped>\n",
       "    .dataframe tbody tr th:only-of-type {\n",
       "        vertical-align: middle;\n",
       "    }\n",
       "\n",
       "    .dataframe tbody tr th {\n",
       "        vertical-align: top;\n",
       "    }\n",
       "\n",
       "    .dataframe thead th {\n",
       "        text-align: right;\n",
       "    }\n",
       "</style>\n",
       "<table border=\"1\" class=\"dataframe\">\n",
       "  <thead>\n",
       "    <tr style=\"text-align: right;\">\n",
       "      <th></th>\n",
       "      <th>Gender</th>\n",
       "      <th>Age</th>\n",
       "      <th>Driving_License</th>\n",
       "      <th>Region_Code</th>\n",
       "      <th>Previously_Insured</th>\n",
       "      <th>Vehicle_Age</th>\n",
       "      <th>Vehicle_Damage</th>\n",
       "      <th>Annual_Premium</th>\n",
       "      <th>Policy_Sales_Channel</th>\n",
       "      <th>Vintage</th>\n",
       "    </tr>\n",
       "  </thead>\n",
       "  <tbody>\n",
       "    <tr>\n",
       "      <th>62255</th>\n",
       "      <td>1</td>\n",
       "      <td>24</td>\n",
       "      <td>1</td>\n",
       "      <td>47.0</td>\n",
       "      <td>1</td>\n",
       "      <td>0</td>\n",
       "      <td>0</td>\n",
       "      <td>15323.4</td>\n",
       "      <td>26.0</td>\n",
       "      <td>254</td>\n",
       "    </tr>\n",
       "    <tr>\n",
       "      <th>23530</th>\n",
       "      <td>0</td>\n",
       "      <td>24</td>\n",
       "      <td>1</td>\n",
       "      <td>50.0</td>\n",
       "      <td>1</td>\n",
       "      <td>0</td>\n",
       "      <td>0</td>\n",
       "      <td>54579.6</td>\n",
       "      <td>152.0</td>\n",
       "      <td>222</td>\n",
       "    </tr>\n",
       "    <tr>\n",
       "      <th>12597</th>\n",
       "      <td>1</td>\n",
       "      <td>70</td>\n",
       "      <td>1</td>\n",
       "      <td>33.0</td>\n",
       "      <td>0</td>\n",
       "      <td>1</td>\n",
       "      <td>1</td>\n",
       "      <td>30918.6</td>\n",
       "      <td>26.0</td>\n",
       "      <td>13</td>\n",
       "    </tr>\n",
       "    <tr>\n",
       "      <th>2580</th>\n",
       "      <td>0</td>\n",
       "      <td>23</td>\n",
       "      <td>1</td>\n",
       "      <td>36.0</td>\n",
       "      <td>1</td>\n",
       "      <td>0</td>\n",
       "      <td>0</td>\n",
       "      <td>32106.6</td>\n",
       "      <td>152.0</td>\n",
       "      <td>264</td>\n",
       "    </tr>\n",
       "    <tr>\n",
       "      <th>254812</th>\n",
       "      <td>1</td>\n",
       "      <td>49</td>\n",
       "      <td>1</td>\n",
       "      <td>38.0</td>\n",
       "      <td>0</td>\n",
       "      <td>1</td>\n",
       "      <td>1</td>\n",
       "      <td>24689.7</td>\n",
       "      <td>124.0</td>\n",
       "      <td>244</td>\n",
       "    </tr>\n",
       "    <tr>\n",
       "      <th>...</th>\n",
       "      <td>...</td>\n",
       "      <td>...</td>\n",
       "      <td>...</td>\n",
       "      <td>...</td>\n",
       "      <td>...</td>\n",
       "      <td>...</td>\n",
       "      <td>...</td>\n",
       "      <td>...</td>\n",
       "      <td>...</td>\n",
       "      <td>...</td>\n",
       "    </tr>\n",
       "    <tr>\n",
       "      <th>62419</th>\n",
       "      <td>0</td>\n",
       "      <td>63</td>\n",
       "      <td>1</td>\n",
       "      <td>28.0</td>\n",
       "      <td>1</td>\n",
       "      <td>1</td>\n",
       "      <td>0</td>\n",
       "      <td>79320.6</td>\n",
       "      <td>26.0</td>\n",
       "      <td>109</td>\n",
       "    </tr>\n",
       "    <tr>\n",
       "      <th>106693</th>\n",
       "      <td>1</td>\n",
       "      <td>64</td>\n",
       "      <td>1</td>\n",
       "      <td>28.0</td>\n",
       "      <td>0</td>\n",
       "      <td>2</td>\n",
       "      <td>1</td>\n",
       "      <td>27225.9</td>\n",
       "      <td>26.0</td>\n",
       "      <td>101</td>\n",
       "    </tr>\n",
       "    <tr>\n",
       "      <th>215976</th>\n",
       "      <td>0</td>\n",
       "      <td>25</td>\n",
       "      <td>1</td>\n",
       "      <td>46.0</td>\n",
       "      <td>1</td>\n",
       "      <td>0</td>\n",
       "      <td>0</td>\n",
       "      <td>21530.7</td>\n",
       "      <td>152.0</td>\n",
       "      <td>119</td>\n",
       "    </tr>\n",
       "    <tr>\n",
       "      <th>93897</th>\n",
       "      <td>0</td>\n",
       "      <td>35</td>\n",
       "      <td>1</td>\n",
       "      <td>50.0</td>\n",
       "      <td>0</td>\n",
       "      <td>1</td>\n",
       "      <td>1</td>\n",
       "      <td>36582.3</td>\n",
       "      <td>26.0</td>\n",
       "      <td>237</td>\n",
       "    </tr>\n",
       "    <tr>\n",
       "      <th>319169</th>\n",
       "      <td>1</td>\n",
       "      <td>50</td>\n",
       "      <td>1</td>\n",
       "      <td>28.0</td>\n",
       "      <td>0</td>\n",
       "      <td>1</td>\n",
       "      <td>1</td>\n",
       "      <td>47648.7</td>\n",
       "      <td>125.0</td>\n",
       "      <td>66</td>\n",
       "    </tr>\n",
       "  </tbody>\n",
       "</table>\n",
       "<p>76222 rows × 10 columns</p>\n",
       "</div>"
      ],
      "text/plain": [
       "        Gender  Age  Driving_License  Region_Code  Previously_Insured  \\\n",
       "62255        1   24                1         47.0                   1   \n",
       "23530        0   24                1         50.0                   1   \n",
       "12597        1   70                1         33.0                   0   \n",
       "2580         0   23                1         36.0                   1   \n",
       "254812       1   49                1         38.0                   0   \n",
       "...        ...  ...              ...          ...                 ...   \n",
       "62419        0   63                1         28.0                   1   \n",
       "106693       1   64                1         28.0                   0   \n",
       "215976       0   25                1         46.0                   1   \n",
       "93897        0   35                1         50.0                   0   \n",
       "319169       1   50                1         28.0                   0   \n",
       "\n",
       "        Vehicle_Age  Vehicle_Damage  Annual_Premium  Policy_Sales_Channel  \\\n",
       "62255             0               0         15323.4                  26.0   \n",
       "23530             0               0         54579.6                 152.0   \n",
       "12597             1               1         30918.6                  26.0   \n",
       "2580              0               0         32106.6                 152.0   \n",
       "254812            1               1         24689.7                 124.0   \n",
       "...             ...             ...             ...                   ...   \n",
       "62419             1               0         79320.6                  26.0   \n",
       "106693            2               1         27225.9                  26.0   \n",
       "215976            0               0         21530.7                 152.0   \n",
       "93897             1               1         36582.3                  26.0   \n",
       "319169            1               1         47648.7                 125.0   \n",
       "\n",
       "        Vintage  \n",
       "62255       254  \n",
       "23530       222  \n",
       "12597        13  \n",
       "2580        264  \n",
       "254812      244  \n",
       "...         ...  \n",
       "62419       109  \n",
       "106693      101  \n",
       "215976      119  \n",
       "93897       237  \n",
       "319169       66  \n",
       "\n",
       "[76222 rows x 10 columns]"
      ]
     },
     "execution_count": 143,
     "metadata": {},
     "output_type": "execute_result"
    }
   ],
   "source": [
    "## Copiando base de teste\n",
    "X_test_desconto = X_test.copy()\n",
    "y_test_desconto = y_test.copy()\n",
    "\n",
    "## Oferecendo 10% de desconto\n",
    "X_test_desconto['Annual_Premium'] = X_test_desconto['Annual_Premium']*0.9\n",
    "X_test_desconto"
   ]
  },
  {
   "cell_type": "markdown",
   "metadata": {},
   "source": [
    "## 10.2 Clientes interessados antes de oferecer o desconto"
   ]
  },
  {
   "cell_type": "code",
   "execution_count": null,
   "metadata": {},
   "outputs": [],
   "source": [
    "#predict teste\n",
    "p = model.predict(X_test)\n",
    "\n",
    "## matriz de confusao\n",
    "\n",
    "Matrix_confusao = confusion_matrix(y_test, p)\n",
    "print(\"Confusion Matrix teste:\\n\",Matrix_confusao)"
   ]
  },
  {
   "cell_type": "code",
   "execution_count": 145,
   "metadata": {},
   "outputs": [
    {
     "data": {
      "text/plain": [
       "35568.0"
      ]
     },
     "execution_count": 145,
     "metadata": {},
     "output_type": "execute_result"
    }
   ],
   "source": [
    "base_interessados_antes_desconto = sum(p)\n",
    "base_interessados_antes_desconto"
   ]
  },
  {
   "cell_type": "markdown",
   "metadata": {},
   "source": [
    "## 10.3 Clientes interessados após oferecer o desconto"
   ]
  },
  {
   "cell_type": "code",
   "execution_count": 146,
   "metadata": {},
   "outputs": [
    {
     "name": "stdout",
     "output_type": "stream",
     "text": [
      "Confusion Matrix teste:\n",
      " [[38798 28082]\n",
      " [ 1503  7839]]\n"
     ]
    }
   ],
   "source": [
    "#predict teste\n",
    "p = model.predict(X_test_desconto)\n",
    "\n",
    "## matriz de confusao\n",
    "\n",
    "Matrix_confusao = confusion_matrix(y_test_desconto, p)\n",
    "print(\"Confusion Matrix teste:\\n\",Matrix_confusao)"
   ]
  },
  {
   "cell_type": "markdown",
   "metadata": {},
   "source": [
    "Note que realizamos as predições oferecendo 10% de desconto também á clientes interessados e o numero de interessados de fato manteve-se estável após a oferta (de 7833 interessados para 7839), e houve um disparo no número de pessoas sem interesse que o classificador julgou ter interesse (de 27735 para 28082)"
   ]
  },
  {
   "cell_type": "code",
   "execution_count": 150,
   "metadata": {},
   "outputs": [
    {
     "data": {
      "text/plain": [
       "35921.0"
      ]
     },
     "execution_count": 150,
     "metadata": {},
     "output_type": "execute_result"
    }
   ],
   "source": [
    "base_interessados_apos_desconto = sum(p)\n",
    "base_interessados_apos_desconto"
   ]
  },
  {
   "cell_type": "code",
   "execution_count": 151,
   "metadata": {},
   "outputs": [
    {
     "data": {
      "text/plain": [
       "353.0"
      ]
     },
     "execution_count": 151,
     "metadata": {},
     "output_type": "execute_result"
    }
   ],
   "source": [
    "clientes_apos_desconto = base_interessados_apos_desconto - base_interessados_antes_desconto\n",
    "clientes_apos_desconto"
   ]
  },
  {
   "cell_type": "markdown",
   "metadata": {},
   "source": [
    "353 clientes da base de teste passariam a ter interesse após ofertar 10% de desconto, \n",
    "\n",
    "## 10.4 Deduzindo 78% de falsos positivos:"
   ]
  },
  {
   "cell_type": "code",
   "execution_count": 152,
   "metadata": {},
   "outputs": [
    {
     "data": {
      "text/plain": [
       "77"
      ]
     },
     "execution_count": 152,
     "metadata": {},
     "output_type": "execute_result"
    }
   ],
   "source": [
    "clientes_apos_desconto = int( (1-0.78)*clientes_apos_desconto )\n",
    "clientes_apos_desconto"
   ]
  },
  {
   "cell_type": "markdown",
   "metadata": {},
   "source": [
    "## 10.5 Inferindo (ingenuamente) numero de interessados sobre a base total de clientes\n",
    "\n",
    "Faremos uma inferencia ingênua de quanto seria o ganho ao oferecer 10% de desconto considerando que:\n",
    "\n",
    "- A base de teste é uma amostragem representativa da base total de clientes"
   ]
  },
  {
   "cell_type": "code",
   "execution_count": 154,
   "metadata": {},
   "outputs": [
    {
     "data": {
      "text/plain": [
       "(76222, 381109)"
      ]
     },
     "execution_count": 154,
     "metadata": {},
     "output_type": "execute_result"
    }
   ],
   "source": [
    "len(X_test), len(df)"
   ]
  },
  {
   "cell_type": "code",
   "execution_count": 155,
   "metadata": {},
   "outputs": [
    {
     "data": {
      "text/plain": [
       "384.99898979297313"
      ]
     },
     "execution_count": 155,
     "metadata": {},
     "output_type": "execute_result"
    }
   ],
   "source": [
    "ganho_interessados = len(df)/len(X_test) * clientes_apos_desconto\n",
    "ganho_interessados"
   ]
  },
  {
   "cell_type": "markdown",
   "metadata": {},
   "source": [
    "## 10.6 Ganhos financeiros ao oferecer 10% de desconto."
   ]
  },
  {
   "cell_type": "code",
   "execution_count": 157,
   "metadata": {},
   "outputs": [
    {
     "data": {
      "text/plain": [
       "313300.62792382773"
      ]
     },
     "execution_count": 157,
     "metadata": {},
     "output_type": "execute_result"
    }
   ],
   "source": [
    "ganhos_financeiros = ganho_interessados * Custo_FN\n",
    "ganhos_financeiros"
   ]
  },
  {
   "cell_type": "markdown",
   "metadata": {},
   "source": [
    "## 10.7 Deduzindo o desconto oferecido aos clientes sem interesse\n",
    "Media do valor pago pelos clientes sem interesse"
   ]
  },
  {
   "cell_type": "code",
   "execution_count": 162,
   "metadata": {},
   "outputs": [
    {
     "data": {
      "text/plain": [
       "30419.16027559891"
      ]
     },
     "execution_count": 162,
     "metadata": {},
     "output_type": "execute_result"
    }
   ],
   "source": [
    "media_seguro_saude = df[(df['Response']==0)].Annual_Premium.mean()\n",
    "media_seguro_saude"
   ]
  },
  {
   "cell_type": "code",
   "execution_count": 168,
   "metadata": {},
   "outputs": [
    {
     "data": {
      "text/plain": [
       "27377.24424803902"
      ]
     },
     "execution_count": 168,
     "metadata": {},
     "output_type": "execute_result"
    }
   ],
   "source": [
    "desconto_oferecido = media_seguro_saude*0.9\n",
    "desconto_oferecido"
   ]
  },
  {
   "cell_type": "code",
   "execution_count": 172,
   "metadata": {},
   "outputs": [
    {
     "data": {
      "text/plain": [
       "-10226910.750886679"
      ]
     },
     "execution_count": 172,
     "metadata": {},
     "output_type": "execute_result"
    }
   ],
   "source": [
    "ganho_final = ganho_interessados * (Custo_FN - desconto_oferecido )\n",
    "ganho_final"
   ]
  },
  {
   "cell_type": "markdown",
   "metadata": {},
   "source": [
    "Um seguro de veículo equivale a 813/ano , o desconto oferecido no seguro de saúde equivale a 27.377/ano. Assim sendo, não é vantajoso oferecer 10% de desconto a esses clientes.\n",
    "\n",
    "Calcularemos então qual seria o maior desconto possível para atrair esses clientes."
   ]
  },
  {
   "cell_type": "markdown",
   "metadata": {},
   "source": [
    "## 10.8 Maior desconto para atração de clientes sem gerar prejuizos"
   ]
  },
  {
   "cell_type": "markdown",
   "metadata": {},
   "source": [
    "O maior desconto possível é dado quando o ganho_final = 0\n",
    "Portanto:\n",
    "\n",
    "0 = ganho_interessados * (Custo_FN - desconto_oferecido )\n",
    "\n",
    "desconto_oferecido = Custo_FN \n",
    "desconto_oferecido =  media_seguro_saude * perc_desconto\n",
    "perc_desconto = Custo_FN / media_seguro_saude"
   ]
  },
  {
   "cell_type": "code",
   "execution_count": 174,
   "metadata": {},
   "outputs": [
    {
     "data": {
      "text/plain": [
       "0.026751889027415893"
      ]
     },
     "execution_count": 174,
     "metadata": {},
     "output_type": "execute_result"
    }
   ],
   "source": [
    "perc_desconto = Custo_FN / media_seguro_saude\n",
    "perc_desconto"
   ]
  },
  {
   "cell_type": "markdown",
   "metadata": {},
   "source": [
    "- Maior desconto que se pode oferecer sem comprometer os ganhos com o seguro de veículo é de 2.67%"
   ]
  },
  {
   "cell_type": "markdown",
   "metadata": {},
   "source": [
    "## 11 Experimentos: Quantas pessoas passariam a ter interesse após oferecer 2% de desconto?"
   ]
  },
  {
   "cell_type": "markdown",
   "metadata": {},
   "source": [
    "## Repetindo os experimentos para 2% de desconto\n",
    "\n",
    "Iremos oferecer 2% de desconto apenas aos clientes sem interesse."
   ]
  },
  {
   "cell_type": "code",
   "execution_count": 185,
   "metadata": {},
   "outputs": [
    {
     "data": {
      "text/html": [
       "<div>\n",
       "<style scoped>\n",
       "    .dataframe tbody tr th:only-of-type {\n",
       "        vertical-align: middle;\n",
       "    }\n",
       "\n",
       "    .dataframe tbody tr th {\n",
       "        vertical-align: top;\n",
       "    }\n",
       "\n",
       "    .dataframe thead th {\n",
       "        text-align: right;\n",
       "    }\n",
       "</style>\n",
       "<table border=\"1\" class=\"dataframe\">\n",
       "  <thead>\n",
       "    <tr style=\"text-align: right;\">\n",
       "      <th></th>\n",
       "      <th>Gender</th>\n",
       "      <th>Age</th>\n",
       "      <th>Driving_License</th>\n",
       "      <th>Region_Code</th>\n",
       "      <th>Previously_Insured</th>\n",
       "      <th>Vehicle_Age</th>\n",
       "      <th>Vehicle_Damage</th>\n",
       "      <th>Annual_Premium</th>\n",
       "      <th>Policy_Sales_Channel</th>\n",
       "      <th>Vintage</th>\n",
       "    </tr>\n",
       "  </thead>\n",
       "  <tbody>\n",
       "    <tr>\n",
       "      <th>62255</th>\n",
       "      <td>1</td>\n",
       "      <td>24</td>\n",
       "      <td>1</td>\n",
       "      <td>47.0</td>\n",
       "      <td>1</td>\n",
       "      <td>0</td>\n",
       "      <td>0</td>\n",
       "      <td>16685.48</td>\n",
       "      <td>26.0</td>\n",
       "      <td>254</td>\n",
       "    </tr>\n",
       "    <tr>\n",
       "      <th>23530</th>\n",
       "      <td>0</td>\n",
       "      <td>24</td>\n",
       "      <td>1</td>\n",
       "      <td>50.0</td>\n",
       "      <td>1</td>\n",
       "      <td>0</td>\n",
       "      <td>0</td>\n",
       "      <td>59431.12</td>\n",
       "      <td>152.0</td>\n",
       "      <td>222</td>\n",
       "    </tr>\n",
       "    <tr>\n",
       "      <th>12597</th>\n",
       "      <td>1</td>\n",
       "      <td>70</td>\n",
       "      <td>1</td>\n",
       "      <td>33.0</td>\n",
       "      <td>0</td>\n",
       "      <td>1</td>\n",
       "      <td>1</td>\n",
       "      <td>33666.92</td>\n",
       "      <td>26.0</td>\n",
       "      <td>13</td>\n",
       "    </tr>\n",
       "    <tr>\n",
       "      <th>2580</th>\n",
       "      <td>0</td>\n",
       "      <td>23</td>\n",
       "      <td>1</td>\n",
       "      <td>36.0</td>\n",
       "      <td>1</td>\n",
       "      <td>0</td>\n",
       "      <td>0</td>\n",
       "      <td>34960.52</td>\n",
       "      <td>152.0</td>\n",
       "      <td>264</td>\n",
       "    </tr>\n",
       "    <tr>\n",
       "      <th>254812</th>\n",
       "      <td>1</td>\n",
       "      <td>49</td>\n",
       "      <td>1</td>\n",
       "      <td>38.0</td>\n",
       "      <td>0</td>\n",
       "      <td>1</td>\n",
       "      <td>1</td>\n",
       "      <td>26884.34</td>\n",
       "      <td>124.0</td>\n",
       "      <td>244</td>\n",
       "    </tr>\n",
       "    <tr>\n",
       "      <th>...</th>\n",
       "      <td>...</td>\n",
       "      <td>...</td>\n",
       "      <td>...</td>\n",
       "      <td>...</td>\n",
       "      <td>...</td>\n",
       "      <td>...</td>\n",
       "      <td>...</td>\n",
       "      <td>...</td>\n",
       "      <td>...</td>\n",
       "      <td>...</td>\n",
       "    </tr>\n",
       "    <tr>\n",
       "      <th>62419</th>\n",
       "      <td>0</td>\n",
       "      <td>63</td>\n",
       "      <td>1</td>\n",
       "      <td>28.0</td>\n",
       "      <td>1</td>\n",
       "      <td>1</td>\n",
       "      <td>0</td>\n",
       "      <td>86371.32</td>\n",
       "      <td>26.0</td>\n",
       "      <td>109</td>\n",
       "    </tr>\n",
       "    <tr>\n",
       "      <th>106693</th>\n",
       "      <td>1</td>\n",
       "      <td>64</td>\n",
       "      <td>1</td>\n",
       "      <td>28.0</td>\n",
       "      <td>0</td>\n",
       "      <td>2</td>\n",
       "      <td>1</td>\n",
       "      <td>29645.98</td>\n",
       "      <td>26.0</td>\n",
       "      <td>101</td>\n",
       "    </tr>\n",
       "    <tr>\n",
       "      <th>215976</th>\n",
       "      <td>0</td>\n",
       "      <td>25</td>\n",
       "      <td>1</td>\n",
       "      <td>46.0</td>\n",
       "      <td>1</td>\n",
       "      <td>0</td>\n",
       "      <td>0</td>\n",
       "      <td>23444.54</td>\n",
       "      <td>152.0</td>\n",
       "      <td>119</td>\n",
       "    </tr>\n",
       "    <tr>\n",
       "      <th>93897</th>\n",
       "      <td>0</td>\n",
       "      <td>35</td>\n",
       "      <td>1</td>\n",
       "      <td>50.0</td>\n",
       "      <td>0</td>\n",
       "      <td>1</td>\n",
       "      <td>1</td>\n",
       "      <td>39834.06</td>\n",
       "      <td>26.0</td>\n",
       "      <td>237</td>\n",
       "    </tr>\n",
       "    <tr>\n",
       "      <th>319169</th>\n",
       "      <td>1</td>\n",
       "      <td>50</td>\n",
       "      <td>1</td>\n",
       "      <td>28.0</td>\n",
       "      <td>0</td>\n",
       "      <td>1</td>\n",
       "      <td>1</td>\n",
       "      <td>51884.14</td>\n",
       "      <td>125.0</td>\n",
       "      <td>66</td>\n",
       "    </tr>\n",
       "  </tbody>\n",
       "</table>\n",
       "<p>76222 rows × 10 columns</p>\n",
       "</div>"
      ],
      "text/plain": [
       "        Gender  Age  Driving_License  Region_Code  Previously_Insured  \\\n",
       "62255        1   24                1         47.0                   1   \n",
       "23530        0   24                1         50.0                   1   \n",
       "12597        1   70                1         33.0                   0   \n",
       "2580         0   23                1         36.0                   1   \n",
       "254812       1   49                1         38.0                   0   \n",
       "...        ...  ...              ...          ...                 ...   \n",
       "62419        0   63                1         28.0                   1   \n",
       "106693       1   64                1         28.0                   0   \n",
       "215976       0   25                1         46.0                   1   \n",
       "93897        0   35                1         50.0                   0   \n",
       "319169       1   50                1         28.0                   0   \n",
       "\n",
       "        Vehicle_Age  Vehicle_Damage  Annual_Premium  Policy_Sales_Channel  \\\n",
       "62255             0               0        16685.48                  26.0   \n",
       "23530             0               0        59431.12                 152.0   \n",
       "12597             1               1        33666.92                  26.0   \n",
       "2580              0               0        34960.52                 152.0   \n",
       "254812            1               1        26884.34                 124.0   \n",
       "...             ...             ...             ...                   ...   \n",
       "62419             1               0        86371.32                  26.0   \n",
       "106693            2               1        29645.98                  26.0   \n",
       "215976            0               0        23444.54                 152.0   \n",
       "93897             1               1        39834.06                  26.0   \n",
       "319169            1               1        51884.14                 125.0   \n",
       "\n",
       "        Vintage  \n",
       "62255       254  \n",
       "23530       222  \n",
       "12597        13  \n",
       "2580        264  \n",
       "254812      244  \n",
       "...         ...  \n",
       "62419       109  \n",
       "106693      101  \n",
       "215976      119  \n",
       "93897       237  \n",
       "319169       66  \n",
       "\n",
       "[76222 rows x 10 columns]"
      ]
     },
     "execution_count": 185,
     "metadata": {},
     "output_type": "execute_result"
    }
   ],
   "source": [
    "## Copiando base de teste\n",
    "X_test_desconto = X_test.copy()\n",
    "y_test_desconto = y_test.copy()\n",
    "\n",
    "## Oferecendo 10% de desconto\n",
    "X_test_desconto['Annual_Premium'] = X_test_desconto['Annual_Premium']*0.98\n",
    "X_test_desconto"
   ]
  },
  {
   "cell_type": "markdown",
   "metadata": {},
   "source": [
    "## 11.2 Clientes interessados antes de oferecer o desconto"
   ]
  },
  {
   "cell_type": "code",
   "execution_count": 186,
   "metadata": {},
   "outputs": [
    {
     "name": "stdout",
     "output_type": "stream",
     "text": [
      "Confusion Matrix teste:\n",
      " [[39145 27735]\n",
      " [ 1509  7833]]\n"
     ]
    },
    {
     "data": {
      "text/plain": [
       "35568.0"
      ]
     },
     "execution_count": 186,
     "metadata": {},
     "output_type": "execute_result"
    }
   ],
   "source": [
    "#predict teste\n",
    "p = model.predict(X_test)\n",
    "\n",
    "## matriz de confusao\n",
    "\n",
    "Matrix_confusao = confusion_matrix(y_test, p)\n",
    "print(\"Confusion Matrix teste:\\n\",Matrix_confusao)\n",
    "\n",
    "base_interessados_antes_desconto = sum(p)\n",
    "base_interessados_antes_desconto"
   ]
  },
  {
   "cell_type": "markdown",
   "metadata": {},
   "source": [
    "## 11.3 Clientes interessados após oferecer o desconto"
   ]
  },
  {
   "cell_type": "code",
   "execution_count": 187,
   "metadata": {},
   "outputs": [
    {
     "name": "stdout",
     "output_type": "stream",
     "text": [
      "Confusion Matrix teste:\n",
      " [[39129 27751]\n",
      " [ 1503  7839]]\n"
     ]
    }
   ],
   "source": [
    "#predict teste\n",
    "p = model.predict(X_test_desconto)\n",
    "\n",
    "## matriz de confusao\n",
    "\n",
    "Matrix_confusao = confusion_matrix(y_test_desconto, p)\n",
    "print(\"Confusion Matrix teste:\\n\",Matrix_confusao)"
   ]
  },
  {
   "cell_type": "markdown",
   "metadata": {},
   "source": [
    "Note que realizamos as predições oferecendo 10% de desconto também á clientes interessados e o numero de interessados de fato manteve-se estável após a oferta (de 7833 interessados para 7839), e houve um disparo no número de pessoas sem interesse que o classificador julgou ter interesse (de 27735 para 2751)"
   ]
  },
  {
   "cell_type": "code",
   "execution_count": 188,
   "metadata": {},
   "outputs": [
    {
     "data": {
      "text/plain": [
       "22.0"
      ]
     },
     "execution_count": 188,
     "metadata": {},
     "output_type": "execute_result"
    }
   ],
   "source": [
    "base_interessados_apos_desconto = sum(p)\n",
    "base_interessados_apos_desconto\n",
    "\n",
    "clientes_apos_desconto = base_interessados_apos_desconto - base_interessados_antes_desconto\n",
    "clientes_apos_desconto"
   ]
  },
  {
   "cell_type": "markdown",
   "metadata": {},
   "source": [
    "## 11.4 Deduzindo 78% de falsos positivos:"
   ]
  },
  {
   "cell_type": "code",
   "execution_count": 189,
   "metadata": {},
   "outputs": [
    {
     "data": {
      "text/plain": [
       "4"
      ]
     },
     "execution_count": 189,
     "metadata": {},
     "output_type": "execute_result"
    }
   ],
   "source": [
    "clientes_apos_desconto = int( (1-0.78)*clientes_apos_desconto )\n",
    "clientes_apos_desconto"
   ]
  },
  {
   "cell_type": "markdown",
   "metadata": {},
   "source": [
    "## 11.5 Inferindo (ingenuamente) numero de interessados sobre a base total de clientes\n",
    "Faremos uma inferencia ingênua de quanto seria o ganho ao oferecer 10% de desconto considerando que:\n",
    "\n",
    "- A base de teste é uma amostragem representativa da base total de clientes"
   ]
  },
  {
   "cell_type": "code",
   "execution_count": 192,
   "metadata": {},
   "outputs": [
    {
     "data": {
      "text/plain": [
       "19.99994752171289"
      ]
     },
     "execution_count": 192,
     "metadata": {},
     "output_type": "execute_result"
    }
   ],
   "source": [
    "ganho_interessados = len(df)/len(X_test) * clientes_apos_desconto\n",
    "ganho_interessados"
   ]
  },
  {
   "cell_type": "markdown",
   "metadata": {},
   "source": [
    "## Conclusão"
   ]
  },
  {
   "cell_type": "markdown",
   "metadata": {},
   "source": [
    "- Não é recomendável oferecer 10% de desconto aos clientes uma vez que o desconto é muito maior que o valor do seguro de veículos que a seguradora ganharia. O cenário pode mudar de acordo com os valores praticados nos seguros de saúde e seguros de veículos.\n",
    "- O maior desconto que poderia ser dado para evitar perdar e agarriar mais clientes é de 2.67%.\n",
    "- Mesmo após a oferta de 2% de desconto apenas um total de 20 clientes seriam convertidos."
   ]
  },
  {
   "cell_type": "markdown",
   "metadata": {},
   "source": [
    "## 12. Quais seriam os ganhos financeiros se antes de realizar essa pesquisa já tivessemos a maquina preditora?"
   ]
  },
  {
   "cell_type": "code",
   "execution_count": 196,
   "metadata": {},
   "outputs": [
    {
     "name": "stdout",
     "output_type": "stream",
     "text": [
      "Confusion Matrix Dados - Test:\n",
      " [[39145 27735]\n",
      " [ 1509  7833]]\n"
     ]
    }
   ],
   "source": [
    "from sklearn.metrics import recall_score\n",
    "from sklearn.metrics import precision_score\n",
    "from sklearn.metrics import balanced_accuracy_score\n",
    "from sklearn.metrics import roc_auc_score\n",
    "from sklearn.metrics import accuracy_score\n",
    "\n",
    "############ INPUT:\n",
    "seed = 0\n",
    "num_pipe = 1\n",
    "fator_balanc = 0.8\n",
    "#lista_features = ['Age','Previously_Insured','Vehicle_Damage','Annual_Premium','Vintage']\n",
    "\n",
    "\n",
    "#Balanceamento\n",
    "nr = NearMiss(sampling_strategy=fator_balanc)\n",
    "X_train_valid_balanc, y_train_valid_balanc = nr.fit_resample(X_train_valid, y_train_valid)\n",
    "        \n",
    "##Holdout 70% treino e 30% validação\n",
    "X_train, X_valid, y_train, y_valid = train_test_split(X_train_valid_balanc, y_train_valid_balanc, test_size=0.3, random_state=seed, stratify=y_train_valid_balanc)\n",
    "\n",
    "## Dados treino\n",
    "#X_test\n",
    "#y_test\n",
    "\n",
    "\n",
    "#Seletor aleatório de feature\n",
    "if num_pipe == 3:\n",
    "    X_train3 = X_train3[seletor_aleatorio]\n",
    "    X_valid3 = X_valid3[seletor_aleatorio]\n",
    "\n",
    "    \n",
    "#fit treino\n",
    "model.fit(X_train,y_train)\n",
    "\n",
    "#predict teste\n",
    "p = model.predict(X_test)\n",
    "\n",
    "############ Métricas #################\n",
    "#Relatórios e matriz de confusao\n",
    "print(\"Confusion Matrix Dados - Test:\\n\",confusion_matrix(y_test, p))"
   ]
  },
  {
   "cell_type": "markdown",
   "metadata": {},
   "source": [
    "A base de teste é 20% de todos os dados, portanto a matriz de confusão sobre toda a base de clientes seria:"
   ]
  },
  {
   "cell_type": "code",
   "execution_count": 203,
   "metadata": {},
   "outputs": [
    {
     "name": "stdout",
     "output_type": "stream",
     "text": [
      "Confusion Matrix Toda base de clientes:\n",
      " [[195725 138675]\n",
      " [  7545  39165]]\n"
     ]
    }
   ],
   "source": [
    "matriz = confusion_matrix(y_test, p)\n",
    "matriz[0][0] = matriz[0][0] / 0.2\n",
    "matriz[0][1] = matriz[0][1] / 0.2\n",
    "matriz[1][0] = matriz[1][0] / 0.2\n",
    "matriz[1][1] = matriz[1][1] / 0.2\n",
    "\n",
    "print(\"Confusion Matrix Toda base de clientes:\\n\",matriz)"
   ]
  },
  {
   "cell_type": "code",
   "execution_count": 215,
   "metadata": {},
   "outputs": [
    {
     "name": "stdout",
     "output_type": "stream",
     "text": [
      "26.225\n",
      "813.77\n"
     ]
    }
   ],
   "source": [
    "custo_abordagem = Custo_FP\n",
    "ganho_seguro = Custo_FN\n",
    "\n",
    "print(custo_abordagem)\n",
    "print(ganho_seguro)"
   ]
  },
  {
   "cell_type": "markdown",
   "metadata": {},
   "source": [
    "## 12.1 Custo total sem implementação de Machine Learning"
   ]
  },
  {
   "cell_type": "markdown",
   "metadata": {},
   "source": [
    "- 381.110 clientes seriam abordados  \n",
    "- dentre eles, 46.710 clientes seriam abordados e convertidos  "
   ]
  },
  {
   "cell_type": "code",
   "execution_count": 216,
   "metadata": {},
   "outputs": [
    {
     "data": {
      "text/plain": [
       "28016586.949999996"
      ]
     },
     "execution_count": 216,
     "metadata": {},
     "output_type": "execute_result"
    }
   ],
   "source": [
    "ganhos = (46710) * ganho_seguro\n",
    "custos = (381110) * custo_abordagem\n",
    "\n",
    "Balanco = ganhos - custos\n",
    "Balanco"
   ]
  },
  {
   "cell_type": "markdown",
   "metadata": {},
   "source": [
    "## 12.2 Custo total com implementação de Machine Learning"
   ]
  },
  {
   "cell_type": "markdown",
   "metadata": {},
   "source": [
    "Pela Matriz de confusão:\n",
    "\n",
    "- 177840 clientes seriam abordados  \n",
    "- dentre eles, 39165 clientes seriam abordados e convertidos "
   ]
  },
  {
   "cell_type": "code",
   "execution_count": 222,
   "metadata": {},
   "outputs": [
    {
     "data": {
      "text/plain": [
       "27207448.05"
      ]
     },
     "execution_count": 222,
     "metadata": {},
     "output_type": "execute_result"
    }
   ],
   "source": [
    "ganhos = (39165) * ganho_seguro\n",
    "custos = (177840) * custo_abordagem\n",
    "\n",
    "Balanco = ganhos - custos\n",
    "Balanco"
   ]
  },
  {
   "cell_type": "markdown",
   "metadata": {},
   "source": [
    "## 13 Conclusões e Recomendações Finais \n",
    "\n",
    "- Não é recomendável oferecer 10% de desconto aos clientes uma vez que o desconto é muito maior que o valor do seguro de veículos que a seguradora ganharia. O cenário pode mudar de acordo com os valores praticados nos seguros de saúde e seguros de veículos.\n",
    "- O maior desconto que poderia ser dado para evitar perdar e agarriar mais clientes é de 2.67%.\n",
    "- Mesmo após a oferta de 2% de desconto apenas um total de 20 clientes seriam convertidos.\n",
    "- Ao realizar o comparativo das operações utilizando-se Machine Learning e sem utilizar ............"
   ]
  },
  {
   "cell_type": "code",
   "execution_count": null,
   "metadata": {},
   "outputs": [],
   "source": []
  }
 ],
 "metadata": {
  "kernelspec": {
   "display_name": "Python 3",
   "language": "python",
   "name": "python3"
  },
  "language_info": {
   "codemirror_mode": {
    "name": "ipython",
    "version": 3
   },
   "file_extension": ".py",
   "mimetype": "text/x-python",
   "name": "python",
   "nbconvert_exporter": "python",
   "pygments_lexer": "ipython3",
   "version": "3.8.3"
  }
 },
 "nbformat": 4,
 "nbformat_minor": 4
}

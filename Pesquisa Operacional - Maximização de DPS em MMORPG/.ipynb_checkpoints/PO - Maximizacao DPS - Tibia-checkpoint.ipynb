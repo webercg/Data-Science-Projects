{
 "cells": [
  {
   "cell_type": "markdown",
   "metadata": {},
   "source": [
    "# Contextualização do Problema"
   ]
  },
  {
   "cell_type": "markdown",
   "metadata": {},
   "source": [
    "Tibia, lançado em 1998, é um dos primeiros MMORPGs que, mesmo após várias atualizações, mantém sua relevância como um dos maiores do gênero até hoje. As constantes melhorias no jogo introduziram uma diversidade de criaturas e locais de caça, cada uma apresentando estatísticas únicas como a vida máxima, fraquezas ou fortalezas á elementos, quantidade de golpes distintos, dano de cada golpe, dano por turno (DPS), além de outras estatísticas calculadas previamente (dado as características do meu personagem) como quantidade de turnos de dano que a criatura deve receber para morrer.\n",
    "\n",
    "Existem diversas maneiras de aumentar o dano causado pelo personagem, sendo que neste estudo focaremos em duas: as runas elementais (físico, veneno, fogo, morte, sagrado, gelo) e as runas refletoras de dano. As runas podem ser alocada apenas em 1 criatura por runa, e cada criatura, por sua vez pode ter alocada apenas 1 runa. \n",
    "\n",
    "\n",
    "As runas elementais concedem dano baseado na vida máxima da criatura e a sua chance de ativação é proporcional á quantidade de turnos de dano que ela recebe antes de morrer. Por outro lado a runa refletora de dano concede dano baseado no dano recebido pelo personagem, sua chance de ativação é proporcional á quantidade de turnos de dano que a criatura desfere antes de morrer.\n",
    "\n",
    "Os locais de caça apresentam uma diversidade de criaturas, e a proporção de sua aparição varia também de acordo com o caminho escolhido pelo jogador para explorar e enfrentá-las repetidamente, buscando pontos de experiência.\n",
    "\n",
    "O objetivo deste trabalho é responder à seguinte pergunta: dadas as restrições de alocação de runas, as características do local de caça (proporção de aparição de criaturas) e as estatísticas das criaturas, como vida máxima, dano aumentado ou reduzido á elementos, quantidade de golpes deferidos pela criatura, dano dos golpes e quantidade de golpes para derrotar cada criatura, **COMO DEVEMOS ALOCAR AS RUNAS E EM QUAIS CRIATURAS ALOCÁ-LAS PARA MAXIMIZAR O DANO ADICIONAL E EXTRAIR O MÁXIMO QUE UM LOCAL DE CAÇA, COMO O DOS ELFOS DE FOGO EM FEYRIST, PODE OFERECER?**"
   ]
  },
  {
   "cell_type": "markdown",
   "metadata": {},
   "source": [
    "# 1 Import Bibliotecas"
   ]
  },
  {
   "cell_type": "code",
   "execution_count": 1,
   "metadata": {},
   "outputs": [],
   "source": [
    "#!pip install pulp"
   ]
  },
  {
   "cell_type": "code",
   "execution_count": 2,
   "metadata": {},
   "outputs": [],
   "source": [
    "from pulp import *\n",
    "from statistics import median\n",
    "import pandas as pd"
   ]
  },
  {
   "cell_type": "markdown",
   "metadata": {},
   "source": [
    "# 2 Dados coletados"
   ]
  },
  {
   "cell_type": "markdown",
   "metadata": {},
   "source": [
    "## 2.1 Lista de dados coletados"
   ]
  },
  {
   "cell_type": "markdown",
   "metadata": {},
   "source": [
    "**vida:** Vida maxima da criatura  \n",
    "**dano_fisico:** Fator de multiplicação de dano físico que a criatura recebe  \n",
    "**dano_poison:** Fator de multiplicação de dano de veneno que a criatura recebe  \n",
    "**dano_fire:** Fator de multiplicação de dano de fogo que a criatura recebe  \n",
    "**dano_death:** Fator de multiplicação de dano de morte que a criatura recebe  \n",
    "**dano_energy:** Fator de multiplicação de dano de energia que a criatura recebe  \n",
    "**dano_holy:** Fator de multiplicação de dano sagrado que a criatura recebe  \n",
    "**dano_ice:** Fator de multiplicação de dano de gelo que a criatura recebe  \n",
    "**qtd_golpes_distintos:** Quantidade de golpes distintos que a criatura pode deferir em 1 turno  \n",
    "**dano_medio_golpe:** Dano médio dos golpes distintos que a criatura pode deferir em 1 turno  \n",
    "**proporcao_respawn:** Proporção de aparição dado o caminho escolhido para repetir no local de caça.  \n",
    "**turnos_dano_para_morte**: Média do número de turnos de dano a criatura recebe antes de morrer dado as estatisticas do meu personagem (Armas, set, rotação de magia, talentos, skills, encantamentos (imbuements), chance de dano crítico etc)  "
   ]
  },
  {
   "cell_type": "code",
   "execution_count": 3,
   "metadata": {},
   "outputs": [],
   "source": [
    "dicionario_criaturas = {'Arachnophobica':{'vida':5000,\n",
    "                                          'dano_fisico':1,\n",
    "                                          'dano_poison':1,\n",
    "                                          'dano_fire':1,\n",
    "                                          'dano_death':0.5,\n",
    "                                          'dano_energy':0.5,\n",
    "                                          'dano_holy':1.4,\n",
    "                                          'dano_ice':1,\n",
    "                                          'qtd_golpes_distintos':7,\n",
    "                                          'dano_medio_golpe':230.71,\n",
    "                                          'proporcao_respawn':0.03880,\n",
    "                                          'turnos_dano_para_morte':6},\n",
    "                        'Crazed_Summer_Vanguard':{'vida':5500,\n",
    "                                          'dano_fisico':1,\n",
    "                                          'dano_poison':1,\n",
    "                                          'dano_fire':0.5,\n",
    "                                          'dano_death':1,\n",
    "                                          'dano_energy':1,\n",
    "                                          'dano_holy':0.8,\n",
    "                                          'dano_ice':1.3,\n",
    "                                          'qtd_golpes_distintos':5,\n",
    "                                          'dano_medio_golpe':243,\n",
    "                                          'proporcao_respawn':0.3691,\n",
    "                                          'turnos_dano_para_morte':7},\n",
    "                        'Crazed_Summer_Rearguard':{'vida':5300,\n",
    "                                          'dano_fisico':1,\n",
    "                                          'dano_poison':1,\n",
    "                                          'dano_fire':0.5,\n",
    "                                          'dano_death':1,\n",
    "                                          'dano_energy':1,\n",
    "                                          'dano_holy':0.8,\n",
    "                                          'dano_ice':1.3,\n",
    "                                          'qtd_golpes_distintos':3,\n",
    "                                          'dano_medio_golpe':253.333,\n",
    "                                          'proporcao_respawn':0.3433,\n",
    "                                          'turnos_dano_para_morte':7},\n",
    "                        'Insane_Siren':{'vida':6500,\n",
    "                                          'dano_fisico':1.1,\n",
    "                                          'dano_poison':1,\n",
    "                                          'dano_fire':0.45,\n",
    "                                          'dano_death':1,\n",
    "                                          'dano_energy':1,\n",
    "                                          'dano_holy':0.75,\n",
    "                                          'dano_ice':1.2,\n",
    "                                          'qtd_golpes_distintos':7,\n",
    "                                          'dano_medio_golpe':196.43,\n",
    "                                          'proporcao_respawn':0.1888,\n",
    "                                          'turnos_dano_para_morte':7},\n",
    "                        'Lacewing_Moth':{'vida':900,\n",
    "                                          'dano_fisico':1,\n",
    "                                          'dano_poison':1,\n",
    "                                          'dano_fire':1,\n",
    "                                          'dano_death':1,\n",
    "                                          'dano_energy':1,\n",
    "                                          'dano_holy':1,\n",
    "                                          'dano_ice':1,\n",
    "                                          'qtd_golpes_distintos':2,\n",
    "                                          'dano_medio_golpe':40,\n",
    "                                          'proporcao_respawn':0.0300,\n",
    "                                          'turnos_dano_para_morte':2},\n",
    "                        'Thanatursus':{'vida':7200,\n",
    "                                          'dano_fisico':0.7,\n",
    "                                          'dano_poison':1,\n",
    "                                          'dano_fire':1,\n",
    "                                          'dano_death':1.2,\n",
    "                                          'dano_energy':0.5,\n",
    "                                          'dano_holy':0.8,\n",
    "                                          'dano_ice':1,\n",
    "                                          'qtd_golpes_distintos':5,\n",
    "                                          'dano_medio_golpe':250,\n",
    "                                          'proporcao_respawn':0.0300,\n",
    "                                          'turnos_dano_para_morte':10}\n",
    "                       }"
   ]
  },
  {
   "cell_type": "markdown",
   "metadata": {},
   "source": [
    "## 2.2 Detalhes de coleta"
   ]
  },
  {
   "cell_type": "markdown",
   "metadata": {},
   "source": [
    "- **proporcao_respawn:** Foi previamente calculado baseado no caminho repetido para caçar os montros\n",
    "- **turnos_dano_para_morte:** Foi previamente calculado baseado nas estatísticas do meu personagem, considerando a arma utilizada, o elemento da arma utilizada já descontado a fraqueza/fortaleza das criaturas ao determinado elemento, rotação de magias (exori gran, exori e exori mas), talentos (roda de habilidades, redução de cooldown exori mas, dano aumentado no exori gran), skills ( skills do personagem + loyal points + skills provenientes de consumíveis rings, amuletos e equipamentos), encantamentos (imbuements) e chance de dano crítico.\n",
    "- **danos:** Retirado do website do tibiawiki (https://www.tibiawiki.com.br/)\n",
    "- **qtd_golpes_distintos:** Retirado do website do tibiawiki (https://www.tibiawiki.com.br/)\n",
    "- **dano_medio_golpe:** Retirado do website do tibiawiki (https://www.tibiawiki.com.br/)\n"
   ]
  },
  {
   "cell_type": "markdown",
   "metadata": {},
   "source": [
    "# 3 Runas"
   ]
  },
  {
   "cell_type": "markdown",
   "metadata": {},
   "source": [
    "- As runas de dano elemental podem deferir com 10% de chance um dano correspondente á 5% da vida máxima da criatura a cada golpe aplicado \n",
    "- A runa de reflecção de dano pode refletir com 10% de chance um dano correspondente ao dano recebido pela criatura"
   ]
  },
  {
   "cell_type": "code",
   "execution_count": 4,
   "metadata": {},
   "outputs": [],
   "source": [
    "chance_ativacao_runa = 0.1\n",
    "dano_runa_elemental = 0.05"
   ]
  },
  {
   "cell_type": "code",
   "execution_count": 5,
   "metadata": {},
   "outputs": [
    {
     "data": {
      "text/plain": [
       "['dano_fisico',\n",
       " 'dano_poison',\n",
       " 'dano_fire',\n",
       " 'dano_death',\n",
       " 'dano_energy',\n",
       " 'dano_holy',\n",
       " 'dano_ice',\n",
       " 'reflect']"
      ]
     },
     "execution_count": 5,
     "metadata": {},
     "output_type": "execute_result"
    }
   ],
   "source": [
    "runas_dano_elemental =['dano_fisico','dano_poison','dano_fire','dano_death','dano_energy','dano_holy','dano_ice']\n",
    "runas_dano_refletido = ['reflect']\n",
    "runas_totais = runas_dano_elemental + runas_dano_refletido\n",
    "runas_totais"
   ]
  },
  {
   "cell_type": "markdown",
   "metadata": {},
   "source": [
    "# 3.1 Variáveis do problema de pesquisa operacional"
   ]
  },
  {
   "cell_type": "markdown",
   "metadata": {},
   "source": [
    "- Ao todo são 6 criaturas e 8 runas.\n",
    "- O jogo restringe a alocação de apenas 1 runa por criatura\n",
    "- Além disso, há restrição de cada criatura ter alocada apenas 1 runa"
   ]
  },
  {
   "cell_type": "markdown",
   "metadata": {},
   "source": [
    "Portanto, criaremos 6*8 = 48 variáveis binárias para indicar se o conjunto [runa,criatura] será habilitada (1) ou não (0)."
   ]
  },
  {
   "cell_type": "code",
   "execution_count": 6,
   "metadata": {},
   "outputs": [
    {
     "data": {
      "text/plain": [
       "['dano_fisico_Arachnophobica',\n",
       " 'dano_poison_Arachnophobica',\n",
       " 'dano_fire_Arachnophobica',\n",
       " 'dano_death_Arachnophobica',\n",
       " 'dano_energy_Arachnophobica',\n",
       " 'dano_holy_Arachnophobica',\n",
       " 'dano_ice_Arachnophobica',\n",
       " 'dano_fisico_Crazed_Summer_Vanguard',\n",
       " 'dano_poison_Crazed_Summer_Vanguard',\n",
       " 'dano_fire_Crazed_Summer_Vanguard',\n",
       " 'dano_death_Crazed_Summer_Vanguard',\n",
       " 'dano_energy_Crazed_Summer_Vanguard',\n",
       " 'dano_holy_Crazed_Summer_Vanguard',\n",
       " 'dano_ice_Crazed_Summer_Vanguard',\n",
       " 'dano_fisico_Crazed_Summer_Rearguard',\n",
       " 'dano_poison_Crazed_Summer_Rearguard',\n",
       " 'dano_fire_Crazed_Summer_Rearguard',\n",
       " 'dano_death_Crazed_Summer_Rearguard',\n",
       " 'dano_energy_Crazed_Summer_Rearguard',\n",
       " 'dano_holy_Crazed_Summer_Rearguard',\n",
       " 'dano_ice_Crazed_Summer_Rearguard',\n",
       " 'dano_fisico_Insane_Siren',\n",
       " 'dano_poison_Insane_Siren',\n",
       " 'dano_fire_Insane_Siren',\n",
       " 'dano_death_Insane_Siren',\n",
       " 'dano_energy_Insane_Siren',\n",
       " 'dano_holy_Insane_Siren',\n",
       " 'dano_ice_Insane_Siren',\n",
       " 'dano_fisico_Lacewing_Moth',\n",
       " 'dano_poison_Lacewing_Moth',\n",
       " 'dano_fire_Lacewing_Moth',\n",
       " 'dano_death_Lacewing_Moth',\n",
       " 'dano_energy_Lacewing_Moth',\n",
       " 'dano_holy_Lacewing_Moth',\n",
       " 'dano_ice_Lacewing_Moth',\n",
       " 'dano_fisico_Thanatursus',\n",
       " 'dano_poison_Thanatursus',\n",
       " 'dano_fire_Thanatursus',\n",
       " 'dano_death_Thanatursus',\n",
       " 'dano_energy_Thanatursus',\n",
       " 'dano_holy_Thanatursus',\n",
       " 'dano_ice_Thanatursus']"
      ]
     },
     "execution_count": 6,
     "metadata": {},
     "output_type": "execute_result"
    }
   ],
   "source": [
    "variaveis_runa_elemental_criatura = []\n",
    "for criatura in dicionario_criaturas.keys():\n",
    "    for runa in runas_dano_elemental:\n",
    "        variaveis_runa_elemental_criatura.append(runa + '_' + criatura)        \n",
    "variaveis_runa_elemental_criatura"
   ]
  },
  {
   "cell_type": "code",
   "execution_count": 7,
   "metadata": {},
   "outputs": [
    {
     "data": {
      "text/plain": [
       "['reflect_Arachnophobica',\n",
       " 'reflect_Crazed_Summer_Vanguard',\n",
       " 'reflect_Crazed_Summer_Rearguard',\n",
       " 'reflect_Insane_Siren',\n",
       " 'reflect_Lacewing_Moth',\n",
       " 'reflect_Thanatursus']"
      ]
     },
     "execution_count": 7,
     "metadata": {},
     "output_type": "execute_result"
    }
   ],
   "source": [
    "variaveis_runa_dano_refletido_criatura = []\n",
    "for criatura in dicionario_criaturas.keys():\n",
    "    for runa in runas_dano_refletido:\n",
    "        variaveis_runa_dano_refletido_criatura.append(runa + '_' + criatura)\n",
    "variaveis_runa_dano_refletido_criatura"
   ]
  },
  {
   "cell_type": "markdown",
   "metadata": {},
   "source": [
    "# 4 Pesquisa Operacional"
   ]
  },
  {
   "cell_type": "markdown",
   "metadata": {},
   "source": [
    "## 4.1 Criando variáveis de runas por dano elemental na vida máxima"
   ]
  },
  {
   "cell_type": "code",
   "execution_count": 8,
   "metadata": {},
   "outputs": [],
   "source": [
    "var = LpVariable.dict('Runa',(variaveis_runa_elemental_criatura), cat='Binary' ,lowBound=0)"
   ]
  },
  {
   "cell_type": "markdown",
   "metadata": {},
   "source": [
    "## 4.2 Criando variável de runa de reflect dano da criatura"
   ]
  },
  {
   "cell_type": "code",
   "execution_count": 9,
   "metadata": {},
   "outputs": [],
   "source": [
    "var2 = LpVariable.dict('Runa',(variaveis_runa_dano_refletido_criatura), cat='Binary' ,lowBound=0)"
   ]
  },
  {
   "cell_type": "code",
   "execution_count": 10,
   "metadata": {},
   "outputs": [],
   "source": [
    "#print(var)\n",
    "#print(var2)"
   ]
  },
  {
   "cell_type": "markdown",
   "metadata": {},
   "source": [
    "## 4.3 Modelo"
   ]
  },
  {
   "cell_type": "markdown",
   "metadata": {},
   "source": [
    "- Optaremos pelo modelo de maximização de DPS (dano por segundo por criatura)"
   ]
  },
  {
   "cell_type": "code",
   "execution_count": 11,
   "metadata": {},
   "outputs": [],
   "source": [
    "model = LpProblem('DPS',LpMaximize)"
   ]
  },
  {
   "cell_type": "markdown",
   "metadata": {},
   "source": [
    "## 4.4 Função objetivo\n",
    "- Maximização de DPS"
   ]
  },
  {
   "cell_type": "code",
   "execution_count": 12,
   "metadata": {},
   "outputs": [
    {
     "data": {
      "image/png": "[encoded data removed]",
      "text/plain": [
       "<IPython.core.display.Image object>"
      ]
     },
     "execution_count": 12,
     "metadata": {},
     "output_type": "execute_result"
    }
   ],
   "source": [
    "from IPython import display\n",
    "display.Image(\"funcao_objetivo.png\")"
   ]
  },
  {
   "cell_type": "markdown",
   "metadata": {},
   "source": [
    "onde:  \n",
    "  \n",
    "**c** = criatura  \n",
    "**e** = elemento  \n",
    "**Runa_ce** = Variável binária para indicar se a runa do elemento E está ativa para a criatura C  \n",
    "**P_ativ** = Chance de ativação da runa que corresponde á 10% para todos elementos   \n",
    "**DanoRuna** = Dano aplicado pela runa que corresponde áe 5% da vida máxima para todos elementos  \n",
    "**PResp_c** = Proporção que a criatura C aparece  \n",
    "**Turno_c** = Turnos de dano que a criatura C deve receber para morrer  \n",
    "**FatorDano_ce** = Fator de dano que a criatura C recebe do elemento E  \n",
    "**VidaMax_c** = Vida máxima da criatura C  \n",
    "**Runa_creflect** = Variável binária para indicar se a runa de reflect está ativa para a criatura C  \n",
    "**Golpes_c** = Números de golpes distintos que a criatura C pode deferir  \n",
    "**DanoMedioGolpe_c** = Dano médio dos golpes distintos que a criatura C pode deferir  \n",
    "\n",
    "Nesse estudo de caso n=6 criaturas e k= 7 elementos"
   ]
  },
  {
   "cell_type": "markdown",
   "metadata": {},
   "source": [
    "### 4.41 Probabilidades de ativação: Dano da runa Elemental"
   ]
  },
  {
   "cell_type": "code",
   "execution_count": 13,
   "metadata": {},
   "outputs": [],
   "source": [
    "import math  "
   ]
  },
  {
   "cell_type": "markdown",
   "metadata": {},
   "source": [
    "- Se for necessário 1 golpe para derrotar a criatura a probabilidade de ativar é de de 10%.\n",
    "- A runa elemental proca apenas 1x por criatura, então o maximo que teremos será 1 sucesso por criatura!\n",
    "\n",
    "\n",
    "A probabilidade segue uma distribuição binomial: calculando os x sucessos em n tentativas temos:\n"
   ]
  },
  {
   "cell_type": "code",
   "execution_count": 14,
   "metadata": {},
   "outputs": [
    {
     "data": {
      "image/png": "[encoded data removed]",
      "text/plain": [
       "<IPython.core.display.Image object>"
      ]
     },
     "execution_count": 14,
     "metadata": {},
     "output_type": "execute_result"
    }
   ],
   "source": [
    "display.Image(\"p(x).png\")"
   ]
  },
  {
   "cell_type": "markdown",
   "metadata": {},
   "source": [
    "dado que:"
   ]
  },
  {
   "cell_type": "code",
   "execution_count": 15,
   "metadata": {},
   "outputs": [
    {
     "data": {
      "image/png": "[encoded data removed]",
      "text/plain": [
       "<IPython.core.display.Image object>"
      ]
     },
     "execution_count": 15,
     "metadata": {},
     "output_type": "execute_result"
    }
   ],
   "source": [
    "display.Image(\"nx.png\")"
   ]
  },
  {
   "cell_type": "code",
   "execution_count": 16,
   "metadata": {},
   "outputs": [],
   "source": [
    "def prob_ativacao(chance_ativacao_runa,n,x):\n",
    "    prob = math.factorial(n) / (math.factorial(x) * math.factorial(n-x)) * (chance_ativacao_runa**x) * ((1-chance_ativacao_runa)**(n-x))\n",
    "    return prob"
   ]
  },
  {
   "cell_type": "code",
   "execution_count": 17,
   "metadata": {},
   "outputs": [
    {
     "data": {
      "text/plain": [
       "0.1"
      ]
     },
     "execution_count": 17,
     "metadata": {},
     "output_type": "execute_result"
    }
   ],
   "source": [
    "## 1 sucesso em 1 golpe (tentativa): 10%\n",
    "prob_ativacao(chance_ativacao_runa,1,1)"
   ]
  },
  {
   "cell_type": "code",
   "execution_count": 18,
   "metadata": {},
   "outputs": [
    {
     "data": {
      "text/plain": [
       "0.18000000000000002"
      ]
     },
     "execution_count": 18,
     "metadata": {},
     "output_type": "execute_result"
    }
   ],
   "source": [
    "## 1 sucesso em 2 golpes (tentativa): 18%\n",
    "prob_ativacao(chance_ativacao_runa,2,1)"
   ]
  },
  {
   "cell_type": "markdown",
   "metadata": {},
   "source": [
    "### 4.42 Probabilidade de ativação: Dano da runa refletora"
   ]
  },
  {
   "cell_type": "markdown",
   "metadata": {},
   "source": [
    "- A cada golpe recebido da criatura há uma probabilidade de 10% de procar a runa refletora.\n",
    "- A quantidade de golpes que uma criatura defere por turno varia em uma distribuição uniforme;\n",
    "- A runa refletora pode procrar multiplas vezes por criatura\n",
    "\n",
    "- A quantidade de golpes que a criatura pode dar em um turno se distribui uniformemente, na teoria. Na prática observamos que a a frequencia que a criatura defere 1 golpe só é maior do que a frequencia que ela defere n golpes com n>1.\n",
    "\n",
    "- Para fins de simplificação do modelo os golpes que a criatura defere será estimada como 0,4*golpes distintos que ela pode deferir em um turno, mas o ideal seria mensurar essa variável."
   ]
  },
  {
   "cell_type": "markdown",
   "metadata": {},
   "source": [
    "Se a criatura defere 4 golpes teremos 4 chances de procar a runa a seguinte distribuição:"
   ]
  },
  {
   "cell_type": "code",
   "execution_count": 19,
   "metadata": {},
   "outputs": [
    {
     "data": {
      "text/plain": [
       "0.6561"
      ]
     },
     "execution_count": 19,
     "metadata": {},
     "output_type": "execute_result"
    }
   ],
   "source": [
    "## 0 sucesso em 4 golpes (tentativas): 0,36%\n",
    "prob_ativacao(chance_ativacao_runa,4,0)"
   ]
  },
  {
   "cell_type": "code",
   "execution_count": 20,
   "metadata": {},
   "outputs": [
    {
     "data": {
      "text/plain": [
       "0.2916"
      ]
     },
     "execution_count": 20,
     "metadata": {},
     "output_type": "execute_result"
    }
   ],
   "source": [
    "## 1 sucesso em 4 golpes (tentativas): 0,36%\n",
    "prob_ativacao(chance_ativacao_runa,4,1)"
   ]
  },
  {
   "cell_type": "code",
   "execution_count": 21,
   "metadata": {},
   "outputs": [
    {
     "data": {
      "text/plain": [
       "0.04860000000000001"
      ]
     },
     "execution_count": 21,
     "metadata": {},
     "output_type": "execute_result"
    }
   ],
   "source": [
    "## 2 sucessos em 4 golpes (tentativas): 0,36%\n",
    "prob_ativacao(chance_ativacao_runa,4,2)"
   ]
  },
  {
   "cell_type": "code",
   "execution_count": 22,
   "metadata": {},
   "outputs": [
    {
     "data": {
      "text/plain": [
       "0.0036000000000000008"
      ]
     },
     "execution_count": 22,
     "metadata": {},
     "output_type": "execute_result"
    }
   ],
   "source": [
    "## 3 sucesso em 4 golpes (tentativas): 0,36%\n",
    "prob_ativacao(chance_ativacao_runa,4,3)"
   ]
  },
  {
   "cell_type": "code",
   "execution_count": 23,
   "metadata": {},
   "outputs": [
    {
     "data": {
      "text/plain": [
       "0.00010000000000000002"
      ]
     },
     "execution_count": 23,
     "metadata": {},
     "output_type": "execute_result"
    }
   ],
   "source": [
    "## 4 sucesso em 4 golpes (tentativas): 0,01%\n",
    "prob_ativacao(chance_ativacao_runa,4,4)"
   ]
  },
  {
   "cell_type": "markdown",
   "metadata": {},
   "source": [
    "em vez de assumir que a runa refletora irá procar uma vez (p=1) e usar a probabilidade de p(x=1), vamos realizar uma media ponderada dos sucessos pelas suas probabilidades, nesse exemplo sabemos que há 35% de chance da runa procar (1,2,3 ou 4 vezes)\n",
    "\n",
    "Encontraremos o numero de reflexões médio da seguinte forma:\n",
    "  \n",
    "  \n",
    "- Desses 35% de chance de sucesso temos:  \n",
    "  \n",
    "  \n",
    "- Há 84,8% de chance de ter apenas 1 reflexão bem sucedida  \n",
    "- 14,1% de chance de ter 2 reflexão bem sucedida  \n",
    "- 1,05% de chance de ter apenas 3 reflexão bem sucedida  \n",
    "- e 0,029% de chance de ter apenas 4 reflexão bem sucedida  \n",
    "- Totalizando 1,16 reflexões se fizermos uma média ponderada"
   ]
  },
  {
   "cell_type": "markdown",
   "metadata": {},
   "source": [
    "- Conclusão a runa refletora para uma criatura que defere 4 golpes por turno pode ativar com probabilidade de 35% e reflete o dano de 1,16 golpes"
   ]
  },
  {
   "cell_type": "code",
   "execution_count": 24,
   "metadata": {},
   "outputs": [],
   "source": [
    "def prob_runa_refletora(chance_ativacao_runa,tentativa):\n",
    "    \n",
    "    fator = 0\n",
    "    \n",
    "    for sucesso in range(1,tentativa+1):\n",
    "        if sucesso <= tentativa:\n",
    "            prob = prob_ativacao(chance_ativacao_runa,tentativa,sucesso)\n",
    "            fator =  fator + prob*sucesso\n",
    "            \n",
    "    prob_sucesso = 1-prob_ativacao(chance_ativacao_runa,tentativa,0) ### 1-prob(nao_sucesso)\n",
    "    #qtd_golpes_refletidos =  fator / prob_sucesso\n",
    "    \n",
    "    return prob_sucesso"
   ]
  },
  {
   "cell_type": "code",
   "execution_count": 25,
   "metadata": {},
   "outputs": [
    {
     "data": {
      "text/plain": [
       "0.3439"
      ]
     },
     "execution_count": 25,
     "metadata": {},
     "output_type": "execute_result"
    }
   ],
   "source": [
    "prob_runa_refletora(chance_ativacao_runa,4)"
   ]
  },
  {
   "cell_type": "code",
   "execution_count": 26,
   "metadata": {},
   "outputs": [],
   "source": [
    "def qtd_golpes_refletidos(chance_ativacao_runa,tentativa):\n",
    "    fator = 0\n",
    "    \n",
    "    for sucesso in range(1,tentativa+1):\n",
    "        if sucesso <= tentativa:\n",
    "            prob = prob_ativacao(chance_ativacao_runa,tentativa,sucesso)\n",
    "            fator =  fator + prob*sucesso\n",
    "            \n",
    "    prob_sucesso = 1-prob_ativacao(chance_ativacao_runa,tentativa,0) ### 1-prob(nao_sucesso)\n",
    "    qtd_golpes_refletidos =  fator / prob_sucesso\n",
    "    \n",
    "    return qtd_golpes_refletidos"
   ]
  },
  {
   "cell_type": "code",
   "execution_count": 27,
   "metadata": {},
   "outputs": [
    {
     "data": {
      "text/plain": [
       "1.1631288165164293"
      ]
     },
     "execution_count": 27,
     "metadata": {},
     "output_type": "execute_result"
    }
   ],
   "source": [
    "qtd_golpes_refletidos(chance_ativacao_runa,4)"
   ]
  },
  {
   "cell_type": "markdown",
   "metadata": {},
   "source": [
    "### 4. 43 Modelando função objetivo"
   ]
  },
  {
   "cell_type": "code",
   "execution_count": 28,
   "metadata": {},
   "outputs": [],
   "source": [
    "lista_equacoes = []\n",
    "\n",
    "## Percorre as criaturas\n",
    "for criatura in dicionario_criaturas.keys():\n",
    "    \n",
    "    ## Percorre todas runas elementais\n",
    "    for runa_elemental_criatura in variaveis_runa_elemental_criatura:\n",
    "                \n",
    "        ## Checa se runa_criatura corresponde a criatura do loop\n",
    "        if criatura in runa_elemental_criatura:\n",
    "            \n",
    "            ### Checa o elemento da runa:\n",
    "            index_dicionario_fator_fraqueza = runa_elemental_criatura.find('_',5)\n",
    "            dicionario_fraqueza_elemental = runa_elemental_criatura[:index_dicionario_fator_fraqueza]\n",
    "\n",
    "            ## Adiciona equação de dps por elemento por criatura\n",
    "            lista_equacoes.append(var[runa_elemental_criatura] * \n",
    "                                  prob_ativacao(chance_ativacao_runa,dicionario_criaturas[criatura]['turnos_dano_para_morte'],1) * ### Probabilidade 1 sucesso em n tentativas\n",
    "                                  dicionario_criaturas[criatura]['proporcao_respawn'] *\n",
    "                                  dicionario_criaturas[criatura][dicionario_fraqueza_elemental] *\n",
    "                                  dano_runa_elemental * \n",
    "                                  dicionario_criaturas[criatura]['vida']\n",
    "                                  )\n",
    "        \n",
    "        \n",
    "    ## Percorre todas runas refletoras:\n",
    "    for runa_refletora_criatura in variaveis_runa_dano_refletido_criatura:\n",
    "        \n",
    "        ## Checa se runa_criatura corresponde a criatura do loop\n",
    "        if criatura in runa_refletora_criatura:\n",
    "        \n",
    "            ## Adiciona equação de dps dano refletido por criatura\n",
    "            lista_equacoes.append(var2[runa_refletora_criatura] * \n",
    "                                  prob_runa_refletora(chance_ativacao_runa,dicionario_criaturas[criatura]['qtd_golpes_distintos']) * ### Probabilidade sucesso\n",
    "                                  qtd_golpes_refletidos(chance_ativacao_runa,dicionario_criaturas[criatura]['qtd_golpes_distintos']) * ## estimativa de qtd de golpes refletidos\n",
    "                                  dicionario_criaturas[criatura]['proporcao_respawn'] *\n",
    "                                  dicionario_criaturas[criatura]['dano_medio_golpe'] )\n",
    "            \n",
    "            \n",
    "model += lpSum(lista_equacoes)"
   ]
  },
  {
   "cell_type": "markdown",
   "metadata": {},
   "source": [
    "## 4.5 Restrições do modelo"
   ]
  },
  {
   "cell_type": "markdown",
   "metadata": {},
   "source": [
    "1) Cada runa pode estar alocada no máximo uma vez \n",
    "\n",
    "- Cada runa deve ter, no máximo, 1 criatura alocada (1 unico valor = 1)"
   ]
  },
  {
   "cell_type": "code",
   "execution_count": 29,
   "metadata": {},
   "outputs": [
    {
     "data": {
      "image/png": "[encoded data removed]",
      "text/plain": [
       "<IPython.core.display.Image object>"
      ]
     },
     "execution_count": 29,
     "metadata": {},
     "output_type": "execute_result"
    }
   ],
   "source": [
    "display.Image(\"eq_restricao1.png\")"
   ]
  },
  {
   "cell_type": "markdown",
   "metadata": {},
   "source": [
    "- Valido para todos elementos, fixando uma elemento, se somar todas as variáveis runas por criatura tem que ser <= 1"
   ]
  },
  {
   "cell_type": "code",
   "execution_count": 30,
   "metadata": {},
   "outputs": [
    {
     "data": {
      "image/png": "[encoded data removed]",
      "text/plain": [
       "<IPython.core.display.Image object>"
      ]
     },
     "execution_count": 30,
     "metadata": {},
     "output_type": "execute_result"
    }
   ],
   "source": [
    "display.Image(\"eq_restricao1.1.png\")"
   ]
  },
  {
   "cell_type": "markdown",
   "metadata": {},
   "source": [
    "- Fixando uma elemento, se somar todas as variáveis runas por criatura tem que ser <= 1"
   ]
  },
  {
   "cell_type": "code",
   "execution_count": 31,
   "metadata": {},
   "outputs": [
    {
     "data": {
      "text/plain": [
       "['dano_fisico',\n",
       " 'dano_poison',\n",
       " 'dano_fire',\n",
       " 'dano_death',\n",
       " 'dano_energy',\n",
       " 'dano_holy',\n",
       " 'dano_ice',\n",
       " 'reflect']"
      ]
     },
     "execution_count": 31,
     "metadata": {},
     "output_type": "execute_result"
    }
   ],
   "source": [
    "runas_totais"
   ]
  },
  {
   "cell_type": "code",
   "execution_count": 32,
   "metadata": {},
   "outputs": [],
   "source": [
    "runas_reflects_todas_criaturas = []\n",
    "\n",
    "for runa in runas_totais:\n",
    "    runas_elementais_todas_criaturas = []\n",
    "    runas_reflects_todas_criaturas = []\n",
    "    \n",
    "    runas_elementais_todas_criaturas = [i for i in list(var.keys()) if runa in i]\n",
    "    runas_reflects_todas_criaturas = [i for i in list(var2.keys()) if runa in i]\n",
    "    \n",
    "    ## capturando as variaveis e nao os nomes das variaveis\n",
    "    x_elem_values = []\n",
    "    for r1 in runas_elementais_todas_criaturas:\n",
    "        for x in var.values():\n",
    "            if r1 in str(x):\n",
    "                x_elem_values.append(x)\n",
    "\n",
    "    ## capturando as variaveis e nao os nomes das variaveis           \n",
    "    x_reflect_values = []\n",
    "    for r1 in runas_reflects_todas_criaturas:\n",
    "        for x in var2.values():\n",
    "            if r1 in str(x):\n",
    "                x_reflect_values.append(x)\n",
    "    \n",
    "    \n",
    "    if len(runas_elementais_todas_criaturas)>0:\n",
    "        model += lpSum(x_elem_values) <=1\n",
    "    else:\n",
    "        model += lpSum(x_reflect_values) <=1"
   ]
  },
  {
   "cell_type": "markdown",
   "metadata": {},
   "source": [
    "2) Cada criatura deve ter, no máximo, 1 runa alocada."
   ]
  },
  {
   "cell_type": "code",
   "execution_count": 33,
   "metadata": {},
   "outputs": [
    {
     "data": {
      "image/png": "[encoded data removed]",
      "text/plain": [
       "<IPython.core.display.Image object>"
      ]
     },
     "execution_count": 33,
     "metadata": {},
     "output_type": "execute_result"
    }
   ],
   "source": [
    "display.Image(\"eq_restricao2.png\")"
   ]
  },
  {
   "cell_type": "markdown",
   "metadata": {},
   "source": [
    "- Valido para todas criaturas, fixando um elemento, se somar todas as variáveis runas tem que ser <= 1"
   ]
  },
  {
   "cell_type": "code",
   "execution_count": 34,
   "metadata": {},
   "outputs": [],
   "source": [
    "for criatura in dicionario_criaturas.keys():\n",
    "    runas_elementais_da_criatura = [i + '_' + criatura for i in runas_dano_elemental]\n",
    "    runas_reflect_da_criatura = [i + '_' + criatura for i in runas_dano_refletido]\n",
    "    runas_possiveis_da_criatura = runas_elementais_da_criatura + runas_reflect_da_criatura\n",
    "    \n",
    "    ## capturando as variaveis e nao os nomes das variaveis (elemental)\n",
    "    x_values = []\n",
    "    for r1 in runas_elementais_da_criatura:\n",
    "        for x in var.values():\n",
    "            if r1 in str(x):\n",
    "                x_values.append(x)\n",
    "\n",
    "    ## Nao vamos resetar a lista x_values!!\n",
    "    ## capturando as variaveis e nao os nomes das variaveis (reflect)\n",
    "    for r1 in runas_reflect_da_criatura:\n",
    "        for x in var2.values():\n",
    "            if r1 in str(x):\n",
    "                x_values.append(x)\n",
    "    \n",
    "    model += lpSum(x_values) <=1 "
   ]
  },
  {
   "cell_type": "markdown",
   "metadata": {},
   "source": [
    "## 4.6 Visualizando o modelo completo"
   ]
  },
  {
   "cell_type": "code",
   "execution_count": 35,
   "metadata": {},
   "outputs": [
    {
     "name": "stdout",
     "output_type": "stream",
     "text": [
      "DPS:\n",
      "MAXIMIZE\n",
      "1.7183259000000006*Runa_dano_death_Arachnophobica + 33.84330547815001*Runa_dano_death_Crazed_Summer_Rearguard + 37.75981307175001*Runa_dano_death_Crazed_Summer_Vanguard + 22.826453832000006*Runa_dano_death_Insane_Siren + 0.243*Runa_dano_death_Lacewing_Moth + 5.020969537440001*Runa_dano_death_Thanatursus + 1.7183259000000006*Runa_dano_energy_Arachnophobica + 33.84330547815001*Runa_dano_energy_Crazed_Summer_Rearguard + 37.75981307175001*Runa_dano_energy_Crazed_Summer_Vanguard + 22.826453832000006*Runa_dano_energy_Insane_Siren + 0.243*Runa_dano_energy_Lacewing_Moth + 2.0920706406000003*Runa_dano_energy_Thanatursus + 3.4366518000000013*Runa_dano_fire_Arachnophobica + 16.921652739075004*Runa_dano_fire_Crazed_Summer_Rearguard + 18.879906535875005*Runa_dano_fire_Crazed_Summer_Vanguard + 10.271904224400002*Runa_dano_fire_Insane_Siren + 0.243*Runa_dano_fire_Lacewing_Moth + 4.1841412812000005*Runa_dano_fire_Thanatursus + 3.4366518000000013*Runa_dano_fisico_Arachnophobica + 33.84330547815001*Runa_dano_fisico_Crazed_Summer_Rearguard + 37.75981307175001*Runa_dano_fisico_Crazed_Summer_Vanguard + 25.109099215200004*Runa_dano_fisico_Insane_Siren + 0.243*Runa_dano_fisico_Lacewing_Moth + 2.9288988968400003*Runa_dano_fisico_Thanatursus + 4.811312520000001*Runa_dano_holy_Arachnophobica + 27.074644382520006*Runa_dano_holy_Crazed_Summer_Rearguard + 30.20785045740001*Runa_dano_holy_Crazed_Summer_Vanguard + 17.119840374000002*Runa_dano_holy_Insane_Siren + 0.243*Runa_dano_holy_Lacewing_Moth + 3.347313024960001*Runa_dano_holy_Thanatursus + 3.4366518000000013*Runa_dano_ice_Arachnophobica + 43.99629712159501*Runa_dano_ice_Crazed_Summer_Rearguard + 49.087756993275015*Runa_dano_ice_Crazed_Summer_Vanguard + 27.391744598400003*Runa_dano_ice_Insane_Siren + 0.243*Runa_dano_ice_Lacewing_Moth + 4.1841412812000005*Runa_dano_ice_Thanatursus + 3.4366518000000013*Runa_dano_poison_Arachnophobica + 33.84330547815001*Runa_dano_poison_Crazed_Summer_Rearguard + 37.75981307175001*Runa_dano_poison_Crazed_Summer_Vanguard + 22.826453832000006*Runa_dano_poison_Insane_Siren + 0.243*Runa_dano_poison_Lacewing_Moth + 4.1841412812000005*Runa_dano_poison_Thanatursus + 6.266083600000001*Runa_reflect_Arachnophobica + 26.090765670000003*Runa_reflect_Crazed_Summer_Rearguard + 44.845650000000006*Runa_reflect_Crazed_Summer_Vanguard + 25.9601888*Runa_reflect_Insane_Siren + 0.24*Runa_reflect_Lacewing_Moth + 3.750000000000001*Runa_reflect_Thanatursus + 0.0\n",
      "SUBJECT TO\n",
      "_C1: Runa_dano_fisico_Arachnophobica\n",
      " + Runa_dano_fisico_Crazed_Summer_Rearguard\n",
      " + Runa_dano_fisico_Crazed_Summer_Vanguard + Runa_dano_fisico_Insane_Siren\n",
      " + Runa_dano_fisico_Lacewing_Moth + Runa_dano_fisico_Thanatursus <= 1\n",
      "\n",
      "_C2: Runa_dano_poison_Arachnophobica\n",
      " + Runa_dano_poison_Crazed_Summer_Rearguard\n",
      " + Runa_dano_poison_Crazed_Summer_Vanguard + Runa_dano_poison_Insane_Siren\n",
      " + Runa_dano_poison_Lacewing_Moth + Runa_dano_poison_Thanatursus <= 1\n",
      "\n",
      "_C3: Runa_dano_fire_Arachnophobica + Runa_dano_fire_Crazed_Summer_Rearguard\n",
      " + Runa_dano_fire_Crazed_Summer_Vanguard + Runa_dano_fire_Insane_Siren\n",
      " + Runa_dano_fire_Lacewing_Moth + Runa_dano_fire_Thanatursus <= 1\n",
      "\n",
      "_C4: Runa_dano_death_Arachnophobica + Runa_dano_death_Crazed_Summer_Rearguard\n",
      " + Runa_dano_death_Crazed_Summer_Vanguard + Runa_dano_death_Insane_Siren\n",
      " + Runa_dano_death_Lacewing_Moth + Runa_dano_death_Thanatursus <= 1\n",
      "\n",
      "_C5: Runa_dano_energy_Arachnophobica\n",
      " + Runa_dano_energy_Crazed_Summer_Rearguard\n",
      " + Runa_dano_energy_Crazed_Summer_Vanguard + Runa_dano_energy_Insane_Siren\n",
      " + Runa_dano_energy_Lacewing_Moth + Runa_dano_energy_Thanatursus <= 1\n",
      "\n",
      "_C6: Runa_dano_holy_Arachnophobica + Runa_dano_holy_Crazed_Summer_Rearguard\n",
      " + Runa_dano_holy_Crazed_Summer_Vanguard + Runa_dano_holy_Insane_Siren\n",
      " + Runa_dano_holy_Lacewing_Moth + Runa_dano_holy_Thanatursus <= 1\n",
      "\n",
      "_C7: Runa_dano_ice_Arachnophobica + Runa_dano_ice_Crazed_Summer_Rearguard\n",
      " + Runa_dano_ice_Crazed_Summer_Vanguard + Runa_dano_ice_Insane_Siren\n",
      " + Runa_dano_ice_Lacewing_Moth + Runa_dano_ice_Thanatursus <= 1\n",
      "\n",
      "_C8: Runa_reflect_Arachnophobica + Runa_reflect_Crazed_Summer_Rearguard\n",
      " + Runa_reflect_Crazed_Summer_Vanguard + Runa_reflect_Insane_Siren\n",
      " + Runa_reflect_Lacewing_Moth + Runa_reflect_Thanatursus <= 1\n",
      "\n",
      "_C9: Runa_dano_death_Arachnophobica + Runa_dano_energy_Arachnophobica\n",
      " + Runa_dano_fire_Arachnophobica + Runa_dano_fisico_Arachnophobica\n",
      " + Runa_dano_holy_Arachnophobica + Runa_dano_ice_Arachnophobica\n",
      " + Runa_dano_poison_Arachnophobica + Runa_reflect_Arachnophobica <= 1\n",
      "\n",
      "_C10: Runa_dano_death_Crazed_Summer_Vanguard\n",
      " + Runa_dano_energy_Crazed_Summer_Vanguard\n",
      " + Runa_dano_fire_Crazed_Summer_Vanguard\n",
      " + Runa_dano_fisico_Crazed_Summer_Vanguard\n",
      " + Runa_dano_holy_Crazed_Summer_Vanguard\n",
      " + Runa_dano_ice_Crazed_Summer_Vanguard\n",
      " + Runa_dano_poison_Crazed_Summer_Vanguard\n",
      " + Runa_reflect_Crazed_Summer_Vanguard <= 1\n",
      "\n",
      "_C11: Runa_dano_death_Crazed_Summer_Rearguard\n",
      " + Runa_dano_energy_Crazed_Summer_Rearguard\n",
      " + Runa_dano_fire_Crazed_Summer_Rearguard\n",
      " + Runa_dano_fisico_Crazed_Summer_Rearguard\n",
      " + Runa_dano_holy_Crazed_Summer_Rearguard\n",
      " + Runa_dano_ice_Crazed_Summer_Rearguard\n",
      " + Runa_dano_poison_Crazed_Summer_Rearguard\n",
      " + Runa_reflect_Crazed_Summer_Rearguard <= 1\n",
      "\n",
      "_C12: Runa_dano_death_Insane_Siren + Runa_dano_energy_Insane_Siren\n",
      " + Runa_dano_fire_Insane_Siren + Runa_dano_fisico_Insane_Siren\n",
      " + Runa_dano_holy_Insane_Siren + Runa_dano_ice_Insane_Siren\n",
      " + Runa_dano_poison_Insane_Siren + Runa_reflect_Insane_Siren <= 1\n",
      "\n",
      "_C13: Runa_dano_death_Lacewing_Moth + Runa_dano_energy_Lacewing_Moth\n",
      " + Runa_dano_fire_Lacewing_Moth + Runa_dano_fisico_Lacewing_Moth\n",
      " + Runa_dano_holy_Lacewing_Moth + Runa_dano_ice_Lacewing_Moth\n",
      " + Runa_dano_poison_Lacewing_Moth + Runa_reflect_Lacewing_Moth <= 1\n",
      "\n",
      "_C14: Runa_dano_death_Thanatursus + Runa_dano_energy_Thanatursus\n",
      " + Runa_dano_fire_Thanatursus + Runa_dano_fisico_Thanatursus\n",
      " + Runa_dano_holy_Thanatursus + Runa_dano_ice_Thanatursus\n",
      " + Runa_dano_poison_Thanatursus + Runa_reflect_Thanatursus <= 1\n",
      "\n",
      "VARIABLES\n",
      "0 <= Runa_dano_death_Arachnophobica <= 1 Integer\n",
      "0 <= Runa_dano_death_Crazed_Summer_Rearguard <= 1 Integer\n",
      "0 <= Runa_dano_death_Crazed_Summer_Vanguard <= 1 Integer\n",
      "0 <= Runa_dano_death_Insane_Siren <= 1 Integer\n",
      "0 <= Runa_dano_death_Lacewing_Moth <= 1 Integer\n",
      "0 <= Runa_dano_death_Thanatursus <= 1 Integer\n",
      "0 <= Runa_dano_energy_Arachnophobica <= 1 Integer\n",
      "0 <= Runa_dano_energy_Crazed_Summer_Rearguard <= 1 Integer\n",
      "0 <= Runa_dano_energy_Crazed_Summer_Vanguard <= 1 Integer\n",
      "0 <= Runa_dano_energy_Insane_Siren <= 1 Integer\n",
      "0 <= Runa_dano_energy_Lacewing_Moth <= 1 Integer\n",
      "0 <= Runa_dano_energy_Thanatursus <= 1 Integer\n",
      "0 <= Runa_dano_fire_Arachnophobica <= 1 Integer\n",
      "0 <= Runa_dano_fire_Crazed_Summer_Rearguard <= 1 Integer\n",
      "0 <= Runa_dano_fire_Crazed_Summer_Vanguard <= 1 Integer\n",
      "0 <= Runa_dano_fire_Insane_Siren <= 1 Integer\n",
      "0 <= Runa_dano_fire_Lacewing_Moth <= 1 Integer\n",
      "0 <= Runa_dano_fire_Thanatursus <= 1 Integer\n",
      "0 <= Runa_dano_fisico_Arachnophobica <= 1 Integer\n",
      "0 <= Runa_dano_fisico_Crazed_Summer_Rearguard <= 1 Integer\n",
      "0 <= Runa_dano_fisico_Crazed_Summer_Vanguard <= 1 Integer\n",
      "0 <= Runa_dano_fisico_Insane_Siren <= 1 Integer\n",
      "0 <= Runa_dano_fisico_Lacewing_Moth <= 1 Integer\n",
      "0 <= Runa_dano_fisico_Thanatursus <= 1 Integer\n",
      "0 <= Runa_dano_holy_Arachnophobica <= 1 Integer\n",
      "0 <= Runa_dano_holy_Crazed_Summer_Rearguard <= 1 Integer\n",
      "0 <= Runa_dano_holy_Crazed_Summer_Vanguard <= 1 Integer\n",
      "0 <= Runa_dano_holy_Insane_Siren <= 1 Integer\n",
      "0 <= Runa_dano_holy_Lacewing_Moth <= 1 Integer\n",
      "0 <= Runa_dano_holy_Thanatursus <= 1 Integer\n",
      "0 <= Runa_dano_ice_Arachnophobica <= 1 Integer\n",
      "0 <= Runa_dano_ice_Crazed_Summer_Rearguard <= 1 Integer\n",
      "0 <= Runa_dano_ice_Crazed_Summer_Vanguard <= 1 Integer\n",
      "0 <= Runa_dano_ice_Insane_Siren <= 1 Integer\n",
      "0 <= Runa_dano_ice_Lacewing_Moth <= 1 Integer\n",
      "0 <= Runa_dano_ice_Thanatursus <= 1 Integer\n",
      "0 <= Runa_dano_poison_Arachnophobica <= 1 Integer\n",
      "0 <= Runa_dano_poison_Crazed_Summer_Rearguard <= 1 Integer\n",
      "0 <= Runa_dano_poison_Crazed_Summer_Vanguard <= 1 Integer\n",
      "0 <= Runa_dano_poison_Insane_Siren <= 1 Integer\n",
      "0 <= Runa_dano_poison_Lacewing_Moth <= 1 Integer\n",
      "0 <= Runa_dano_poison_Thanatursus <= 1 Integer\n",
      "0 <= Runa_reflect_Arachnophobica <= 1 Integer\n",
      "0 <= Runa_reflect_Crazed_Summer_Rearguard <= 1 Integer\n",
      "0 <= Runa_reflect_Crazed_Summer_Vanguard <= 1 Integer\n",
      "0 <= Runa_reflect_Insane_Siren <= 1 Integer\n",
      "0 <= Runa_reflect_Lacewing_Moth <= 1 Integer\n",
      "0 <= Runa_reflect_Thanatursus <= 1 Integer\n",
      "\n"
     ]
    }
   ],
   "source": [
    "print(model)"
   ]
  },
  {
   "cell_type": "markdown",
   "metadata": {},
   "source": [
    "# 5 Resolvendo o modelo"
   ]
  },
  {
   "cell_type": "code",
   "execution_count": 36,
   "metadata": {},
   "outputs": [],
   "source": [
    "status = model.solve()"
   ]
  },
  {
   "cell_type": "markdown",
   "metadata": {},
   "source": [
    "## 5.1 Resultados"
   ]
  },
  {
   "cell_type": "code",
   "execution_count": 37,
   "metadata": {},
   "outputs": [
    {
     "name": "stdout",
     "output_type": "stream",
     "text": [
      "A solução é considerada Optimal\n",
      "O maior DPS encontrado foi de 124.02632839423501\n",
      "\n",
      "=======================================================\n",
      "Para esse DPS as runas devem ser alocadas da seguinte forma:\n",
      "\n",
      "Runa de dano Físico:\n",
      "dano_fisico_Insane_Siren 1.0\n",
      "\n",
      "Runa de dano Poison:\n",
      "dano_poison_Lacewing_Moth 1.0\n",
      "\n",
      "Runa de dano Fire:\n",
      "\n",
      "Runa de dano Death:\n",
      "dano_death_Thanatursus 1.0\n",
      "\n",
      "Runa de dano Energy:\n",
      "\n",
      "Runa de dano Holy:\n",
      "dano_holy_Arachnophobica 1.0\n",
      "\n",
      "Runa de dano Ice:\n",
      "dano_ice_Crazed_Summer_Rearguard 1.0\n",
      "\n",
      "Runa de reflect de dano:\n",
      "reflect_Crazed_Summer_Vanguard 1.0\n"
     ]
    }
   ],
   "source": [
    "print(f'A solução é considerada {LpStatus[status]}')\n",
    "print(f'O maior DPS encontrado foi de {value(model.objective)}')\n",
    "print(\"\")\n",
    "print(\"=======================================================\")\n",
    "print(\"Para esse DPS as runas devem ser alocadas da seguinte forma:\")\n",
    "\n",
    "print(\"\")\n",
    "print(\"Runa de dano Físico:\")\n",
    "runas = [i for i in var.keys() if 'dano_fisico' in i]\n",
    "for runa in runas:\n",
    "    if value(var[runa])!=0:\n",
    "        print(runa,value(var[runa]))\n",
    "        \n",
    "print(\"\")\n",
    "print(\"Runa de dano Poison:\")\n",
    "runas = [i for i in var.keys() if 'dano_poison' in i]\n",
    "for runa in runas:\n",
    "    if value(var[runa])!=0:\n",
    "        print(runa,value(var[runa]))\n",
    "        \n",
    "print(\"\")\n",
    "print(\"Runa de dano Fire:\")\n",
    "runas = [i for i in var.keys() if 'dano_fire' in i]\n",
    "for runa in runas:\n",
    "    if value(var[runa])!=0:\n",
    "        print(runa,value(var[runa]))\n",
    "        \n",
    "print(\"\")\n",
    "print(\"Runa de dano Death:\")\n",
    "runas = [i for i in var.keys() if 'dano_death' in i]\n",
    "for runa in runas:\n",
    "    if value(var[runa])!=0:\n",
    "        print(runa,value(var[runa]))\n",
    "        \n",
    "print(\"\")\n",
    "print(\"Runa de dano Energy:\")\n",
    "runas = [i for i in var.keys() if 'dano_energy' in i]\n",
    "for runa in runas:\n",
    "    if value(var[runa])!=0:\n",
    "        print(runa,value(var[runa]))\n",
    "        \n",
    "print(\"\")\n",
    "print(\"Runa de dano Holy:\")\n",
    "runas = [i for i in var.keys() if 'dano_holy' in i]\n",
    "for runa in runas:\n",
    "    if value(var[runa])!=0:\n",
    "        print(runa,value(var[runa]))\n",
    "        \n",
    "print(\"\")\n",
    "print(\"Runa de dano Ice:\")\n",
    "runas = [i for i in var.keys() if 'dano_ice' in i]\n",
    "for runa in runas:\n",
    "    if value(var[runa])!=0:\n",
    "        print(runa,value(var[runa]))\n",
    "        \n",
    "print(\"\")\n",
    "print(\"Runa de reflect de dano:\")\n",
    "runas = [i for i in var2.keys() if 'reflect' in i]\n",
    "for runa in runas:\n",
    "    if value(var2[runa])!=0:\n",
    "        print(runa,value(var2[runa]))"
   ]
  },
  {
   "cell_type": "markdown",
   "metadata": {},
   "source": [
    "# 6 Avaliação dos resultados"
   ]
  },
  {
   "cell_type": "markdown",
   "metadata": {},
   "source": [
    "- Dano Físico: Insane_Siren\n",
    "- Dano Poison: Lacewing_Moth\n",
    "- Dano Fire: -\n",
    "- Dano Death: Thanatursus\n",
    "- Dano Energy: -\n",
    "- Dano Holy: Arachnophobica\n",
    "- Dano Ice: Crazed_Summer_Rearguard\n",
    "- Dano Refletor: Crazed_Summer_Vanguard"
   ]
  },
  {
   "cell_type": "code",
   "execution_count": 38,
   "metadata": {},
   "outputs": [],
   "source": [
    "import pandas as pd\n",
    "import numpy as np\n",
    "\n",
    "df_resultados = pd.DataFrame()\n",
    "\n",
    "for criatura in dicionario_criaturas.keys():\n",
    "   \n",
    "    DPS_fisico = (prob_ativacao(chance_ativacao_runa,dicionario_criaturas[criatura]['turnos_dano_para_morte'],1) * ### Probabilidade 1 sucesso em n tentativas\n",
    "    dicionario_criaturas[criatura]['proporcao_respawn'] *  dicionario_criaturas[criatura]['dano_fisico'] * dano_runa_elemental *  dicionario_criaturas[criatura]['vida'])\n",
    "    \n",
    "    DPS_poison = (prob_ativacao(chance_ativacao_runa,dicionario_criaturas[criatura]['turnos_dano_para_morte'],1) * ### Probabilidade 1 sucesso em n tentativas\n",
    "    dicionario_criaturas[criatura]['proporcao_respawn'] * dicionario_criaturas[criatura]['dano_poison'] *dano_runa_elemental * dicionario_criaturas[criatura]['vida'])\n",
    "                    \n",
    "    DPS_fire = (prob_ativacao(chance_ativacao_runa,dicionario_criaturas[criatura]['turnos_dano_para_morte'],1) * ### Probabilidade 1 sucesso em n tentativas\n",
    "    dicionario_criaturas[criatura]['proporcao_respawn'] * dicionario_criaturas[criatura]['dano_fire'] *dano_runa_elemental * dicionario_criaturas[criatura]['vida'])\n",
    "    \n",
    "    DPS_death = (prob_ativacao(chance_ativacao_runa,dicionario_criaturas[criatura]['turnos_dano_para_morte'],1) * ### Probabilidade 1 sucesso em n tentativas\n",
    "    dicionario_criaturas[criatura]['proporcao_respawn'] * dicionario_criaturas[criatura]['dano_death'] *dano_runa_elemental *  dicionario_criaturas[criatura]['vida'])\n",
    "    \n",
    "    DPS_energy = (prob_ativacao(chance_ativacao_runa,dicionario_criaturas[criatura]['turnos_dano_para_morte'],1) * ### Probabilidade 1 sucesso em n tentativas\n",
    "    dicionario_criaturas[criatura]['proporcao_respawn'] * dicionario_criaturas[criatura]['dano_energy'] *dano_runa_elemental * dicionario_criaturas[criatura]['vida'])\n",
    "    \n",
    "    DPS_holy = (prob_ativacao(chance_ativacao_runa,dicionario_criaturas[criatura]['turnos_dano_para_morte'],1) * ### Probabilidade 1 sucesso em n tentativas\n",
    "    dicionario_criaturas[criatura]['proporcao_respawn'] * dicionario_criaturas[criatura]['dano_holy'] *dano_runa_elemental * dicionario_criaturas[criatura]['vida'])\n",
    "    \n",
    "    DPS_ice = (prob_ativacao(chance_ativacao_runa,dicionario_criaturas[criatura]['turnos_dano_para_morte'],1) * ### Probabilidade 1 sucesso em n tentativas\n",
    "    dicionario_criaturas[criatura]['proporcao_respawn'] * dicionario_criaturas[criatura]['dano_ice'] *dano_runa_elemental * dicionario_criaturas[criatura]['vida'])\n",
    "    \n",
    "    DPS_reflect =  (prob_runa_refletora(chance_ativacao_runa,dicionario_criaturas[criatura]['qtd_golpes_distintos']) * ### Probabilidade sucesso\n",
    "    qtd_golpes_refletidos(chance_ativacao_runa,dicionario_criaturas[criatura]['qtd_golpes_distintos']) * ### Qtde de golpes refletidos com sucesso\n",
    "    dicionario_criaturas[criatura]['proporcao_respawn'] * dicionario_criaturas[criatura]['dano_medio_golpe'])\n",
    "    \n",
    "    df_resultados_iteracao = pd.DataFrame(np.array([[criatura, DPS_fisico,DPS_poison,DPS_fire,DPS_death,DPS_energy,DPS_holy,DPS_ice,DPS_reflect]]), columns=['criatura','fisico','poison','fire','death','energy','holy','ice','reflect'])  \n",
    "    df_resultados = pd.concat([df_resultados,df_resultados_iteracao])\n"
   ]
  },
  {
   "cell_type": "code",
   "execution_count": 39,
   "metadata": {},
   "outputs": [
    {
     "data": {
      "text/html": [
       "<div>\n",
       "<style scoped>\n",
       "    .dataframe tbody tr th:only-of-type {\n",
       "        vertical-align: middle;\n",
       "    }\n",
       "\n",
       "    .dataframe tbody tr th {\n",
       "        vertical-align: top;\n",
       "    }\n",
       "\n",
       "    .dataframe thead th {\n",
       "        text-align: right;\n",
       "    }\n",
       "</style>\n",
       "<table border=\"1\" class=\"dataframe\">\n",
       "  <thead>\n",
       "    <tr style=\"text-align: right;\">\n",
       "      <th></th>\n",
       "      <th>criatura</th>\n",
       "      <th>fisico</th>\n",
       "      <th>poison</th>\n",
       "      <th>fire</th>\n",
       "      <th>death</th>\n",
       "      <th>energy</th>\n",
       "      <th>holy</th>\n",
       "      <th>ice</th>\n",
       "      <th>reflect</th>\n",
       "    </tr>\n",
       "  </thead>\n",
       "  <tbody>\n",
       "    <tr>\n",
       "      <th>0</th>\n",
       "      <td>Arachnophobica</td>\n",
       "      <td>3.437</td>\n",
       "      <td>3.437</td>\n",
       "      <td>3.437</td>\n",
       "      <td>1.718</td>\n",
       "      <td>1.718</td>\n",
       "      <td>4.811</td>\n",
       "      <td>3.437</td>\n",
       "      <td>6.266</td>\n",
       "    </tr>\n",
       "    <tr>\n",
       "      <th>0</th>\n",
       "      <td>Crazed_Summer_Vanguard</td>\n",
       "      <td>37.760</td>\n",
       "      <td>37.760</td>\n",
       "      <td>18.880</td>\n",
       "      <td>37.760</td>\n",
       "      <td>37.760</td>\n",
       "      <td>30.208</td>\n",
       "      <td>49.088</td>\n",
       "      <td>44.846</td>\n",
       "    </tr>\n",
       "    <tr>\n",
       "      <th>0</th>\n",
       "      <td>Crazed_Summer_Rearguard</td>\n",
       "      <td>33.843</td>\n",
       "      <td>33.843</td>\n",
       "      <td>16.922</td>\n",
       "      <td>33.843</td>\n",
       "      <td>33.843</td>\n",
       "      <td>27.075</td>\n",
       "      <td>43.996</td>\n",
       "      <td>26.091</td>\n",
       "    </tr>\n",
       "    <tr>\n",
       "      <th>0</th>\n",
       "      <td>Insane_Siren</td>\n",
       "      <td>25.109</td>\n",
       "      <td>22.826</td>\n",
       "      <td>10.272</td>\n",
       "      <td>22.826</td>\n",
       "      <td>22.826</td>\n",
       "      <td>17.120</td>\n",
       "      <td>27.392</td>\n",
       "      <td>25.960</td>\n",
       "    </tr>\n",
       "    <tr>\n",
       "      <th>0</th>\n",
       "      <td>Lacewing_Moth</td>\n",
       "      <td>0.243</td>\n",
       "      <td>0.243</td>\n",
       "      <td>0.243</td>\n",
       "      <td>0.243</td>\n",
       "      <td>0.243</td>\n",
       "      <td>0.243</td>\n",
       "      <td>0.243</td>\n",
       "      <td>0.240</td>\n",
       "    </tr>\n",
       "    <tr>\n",
       "      <th>0</th>\n",
       "      <td>Thanatursus</td>\n",
       "      <td>2.929</td>\n",
       "      <td>4.184</td>\n",
       "      <td>4.184</td>\n",
       "      <td>5.021</td>\n",
       "      <td>2.092</td>\n",
       "      <td>3.347</td>\n",
       "      <td>4.184</td>\n",
       "      <td>3.750</td>\n",
       "    </tr>\n",
       "  </tbody>\n",
       "</table>\n",
       "</div>"
      ],
      "text/plain": [
       "                  criatura  fisico  poison    fire   death  energy    holy  \\\n",
       "0           Arachnophobica   3.437   3.437   3.437   1.718   1.718   4.811   \n",
       "0   Crazed_Summer_Vanguard  37.760  37.760  18.880  37.760  37.760  30.208   \n",
       "0  Crazed_Summer_Rearguard  33.843  33.843  16.922  33.843  33.843  27.075   \n",
       "0             Insane_Siren  25.109  22.826  10.272  22.826  22.826  17.120   \n",
       "0            Lacewing_Moth   0.243   0.243   0.243   0.243   0.243   0.243   \n",
       "0              Thanatursus   2.929   4.184   4.184   5.021   2.092   3.347   \n",
       "\n",
       "      ice  reflect  \n",
       "0   3.437    6.266  \n",
       "0  49.088   44.846  \n",
       "0  43.996   26.091  \n",
       "0  27.392   25.960  \n",
       "0   0.243    0.240  \n",
       "0   4.184    3.750  "
      ]
     },
     "execution_count": 39,
     "metadata": {},
     "output_type": "execute_result"
    }
   ],
   "source": [
    "for col in df_resultados.columns[1:]:\n",
    "    df_resultados[col] = df_resultados[col].apply(lambda x: round(float(x),3))\n",
    "df_resultados"
   ]
  },
  {
   "cell_type": "markdown",
   "metadata": {},
   "source": [
    "- Dano Físico: Insane_Siren\n",
    "- Dano Poison: Lacewing_Moth\n",
    "- Dano Fire: -\n",
    "- Dano Death: Thanatursus\n",
    "- Dano Energy: -\n",
    "- Dano Holy: Arachnophobica\n",
    "- Dano Ice: Crazed_Summer_Rearguard\n",
    "- Dano Refletor: Crazed_Summer_Vanguard"
   ]
  },
  {
   "cell_type": "code",
   "execution_count": 40,
   "metadata": {},
   "outputs": [
    {
     "data": {
      "text/plain": [
       "124.02600000000001"
      ]
     },
     "execution_count": 40,
     "metadata": {},
     "output_type": "execute_result"
    }
   ],
   "source": [
    "df_resultados[df_resultados['criatura']=='Insane_Siren']['fisico'].values[0]+\\\n",
    "df_resultados[df_resultados['criatura']=='Lacewing_Moth']['poison'].values[0]+\\\n",
    "df_resultados[df_resultados['criatura']=='Thanatursus']['death'].values[0]+\\\n",
    "df_resultados[df_resultados['criatura']=='Arachnophobica']['holy'].values[0]+\\\n",
    "df_resultados[df_resultados['criatura']=='Crazed_Summer_Rearguard']['ice'].values[0]+\\\n",
    "df_resultados[df_resultados['criatura']=='Crazed_Summer_Vanguard']['reflect'].values[0]"
   ]
  },
  {
   "cell_type": "code",
   "execution_count": 42,
   "metadata": {},
   "outputs": [
    {
     "data": {
      "text/plain": [
       "124.02600000000001"
      ]
     },
     "execution_count": 42,
     "metadata": {},
     "output_type": "execute_result"
    }
   ],
   "source": [
    "25.109+0.243+5.021+4.811+43.996+44.846"
   ]
  },
  {
   "cell_type": "code",
   "execution_count": 41,
   "metadata": {},
   "outputs": [
    {
     "data": {
      "text/plain": [
       "124.02632839423501"
      ]
     },
     "execution_count": 41,
     "metadata": {},
     "output_type": "execute_result"
    }
   ],
   "source": [
    "value(model.objective)"
   ]
  },
  {
   "cell_type": "markdown",
   "metadata": {},
   "source": [
    "- Não há qualquer outra combinação de runas que supere o DPS adicional de 121.90 de dano por criatura.  Vamos checar se essa afirmação é realmente correta utilizando a força bruta."
   ]
  },
  {
   "cell_type": "markdown",
   "metadata": {},
   "source": [
    "# 7 Validação dos resultados - por meio da força bruta"
   ]
  },
  {
   "cell_type": "code",
   "execution_count": 42,
   "metadata": {},
   "outputs": [],
   "source": [
    "lista_de_listas = []\n",
    "for criatura in df_resultados.criatura.unique():\n",
    "    lista_danos = df_resultados[df_resultados['criatura']==criatura].values[0][1:].tolist()\n",
    "    lista_de_listas.append(lista_danos)"
   ]
  },
  {
   "cell_type": "code",
   "execution_count": 43,
   "metadata": {},
   "outputs": [
    {
     "data": {
      "text/html": [
       "<div>\n",
       "<style scoped>\n",
       "    .dataframe tbody tr th:only-of-type {\n",
       "        vertical-align: middle;\n",
       "    }\n",
       "\n",
       "    .dataframe tbody tr th {\n",
       "        vertical-align: top;\n",
       "    }\n",
       "\n",
       "    .dataframe thead th {\n",
       "        text-align: right;\n",
       "    }\n",
       "</style>\n",
       "<table border=\"1\" class=\"dataframe\">\n",
       "  <thead>\n",
       "    <tr style=\"text-align: right;\">\n",
       "      <th></th>\n",
       "      <th>criatura</th>\n",
       "      <th>fisico</th>\n",
       "      <th>poison</th>\n",
       "      <th>fire</th>\n",
       "      <th>death</th>\n",
       "      <th>energy</th>\n",
       "      <th>holy</th>\n",
       "      <th>ice</th>\n",
       "      <th>reflect</th>\n",
       "    </tr>\n",
       "  </thead>\n",
       "  <tbody>\n",
       "    <tr>\n",
       "      <th>0</th>\n",
       "      <td>Arachnophobica</td>\n",
       "      <td>3.437</td>\n",
       "      <td>3.437</td>\n",
       "      <td>3.437</td>\n",
       "      <td>1.718</td>\n",
       "      <td>1.718</td>\n",
       "      <td>4.811</td>\n",
       "      <td>3.437</td>\n",
       "      <td>6.266</td>\n",
       "    </tr>\n",
       "    <tr>\n",
       "      <th>0</th>\n",
       "      <td>Crazed_Summer_Vanguard</td>\n",
       "      <td>37.760</td>\n",
       "      <td>37.760</td>\n",
       "      <td>18.880</td>\n",
       "      <td>37.760</td>\n",
       "      <td>37.760</td>\n",
       "      <td>30.208</td>\n",
       "      <td>49.088</td>\n",
       "      <td>44.846</td>\n",
       "    </tr>\n",
       "    <tr>\n",
       "      <th>0</th>\n",
       "      <td>Crazed_Summer_Rearguard</td>\n",
       "      <td>33.843</td>\n",
       "      <td>33.843</td>\n",
       "      <td>16.922</td>\n",
       "      <td>33.843</td>\n",
       "      <td>33.843</td>\n",
       "      <td>27.075</td>\n",
       "      <td>43.996</td>\n",
       "      <td>26.091</td>\n",
       "    </tr>\n",
       "    <tr>\n",
       "      <th>0</th>\n",
       "      <td>Insane_Siren</td>\n",
       "      <td>25.109</td>\n",
       "      <td>22.826</td>\n",
       "      <td>10.272</td>\n",
       "      <td>22.826</td>\n",
       "      <td>22.826</td>\n",
       "      <td>17.120</td>\n",
       "      <td>27.392</td>\n",
       "      <td>25.960</td>\n",
       "    </tr>\n",
       "    <tr>\n",
       "      <th>0</th>\n",
       "      <td>Lacewing_Moth</td>\n",
       "      <td>0.243</td>\n",
       "      <td>0.243</td>\n",
       "      <td>0.243</td>\n",
       "      <td>0.243</td>\n",
       "      <td>0.243</td>\n",
       "      <td>0.243</td>\n",
       "      <td>0.243</td>\n",
       "      <td>0.240</td>\n",
       "    </tr>\n",
       "    <tr>\n",
       "      <th>0</th>\n",
       "      <td>Thanatursus</td>\n",
       "      <td>2.929</td>\n",
       "      <td>4.184</td>\n",
       "      <td>4.184</td>\n",
       "      <td>5.021</td>\n",
       "      <td>2.092</td>\n",
       "      <td>3.347</td>\n",
       "      <td>4.184</td>\n",
       "      <td>3.750</td>\n",
       "    </tr>\n",
       "  </tbody>\n",
       "</table>\n",
       "</div>"
      ],
      "text/plain": [
       "                  criatura  fisico  poison    fire   death  energy    holy  \\\n",
       "0           Arachnophobica   3.437   3.437   3.437   1.718   1.718   4.811   \n",
       "0   Crazed_Summer_Vanguard  37.760  37.760  18.880  37.760  37.760  30.208   \n",
       "0  Crazed_Summer_Rearguard  33.843  33.843  16.922  33.843  33.843  27.075   \n",
       "0             Insane_Siren  25.109  22.826  10.272  22.826  22.826  17.120   \n",
       "0            Lacewing_Moth   0.243   0.243   0.243   0.243   0.243   0.243   \n",
       "0              Thanatursus   2.929   4.184   4.184   5.021   2.092   3.347   \n",
       "\n",
       "      ice  reflect  \n",
       "0   3.437    6.266  \n",
       "0  49.088   44.846  \n",
       "0  43.996   26.091  \n",
       "0  27.392   25.960  \n",
       "0   0.243    0.240  \n",
       "0   4.184    3.750  "
      ]
     },
     "execution_count": 43,
     "metadata": {},
     "output_type": "execute_result"
    }
   ],
   "source": [
    "df_resultados"
   ]
  },
  {
   "cell_type": "code",
   "execution_count": 44,
   "metadata": {},
   "outputs": [
    {
     "data": {
      "text/plain": [
       "[[3.437, 3.437, 3.437, 1.718, 1.718, 4.811, 3.437, 6.266],\n",
       " [37.76, 37.76, 18.88, 37.76, 37.76, 30.208, 49.088, 44.846],\n",
       " [33.843, 33.843, 16.922, 33.843, 33.843, 27.075, 43.996, 26.091],\n",
       " [25.109, 22.826, 10.272, 22.826, 22.826, 17.12, 27.392, 25.96],\n",
       " [0.243, 0.243, 0.243, 0.243, 0.243, 0.243, 0.243, 0.24],\n",
       " [2.929, 4.184, 4.184, 5.021, 2.092, 3.347, 4.184, 3.75]]"
      ]
     },
     "execution_count": 44,
     "metadata": {},
     "output_type": "execute_result"
    }
   ],
   "source": [
    "lista_de_listas"
   ]
  },
  {
   "cell_type": "code",
   "execution_count": 45,
   "metadata": {},
   "outputs": [
    {
     "name": "stdout",
     "output_type": "stream",
     "text": [
      "encontrado novo DPS maximo de 84.53499999999998, com elementos 3.437,37.76,16.922,22.826,0.243,3.347\n",
      "encontrado novo DPS maximo de 85.37199999999999, com elementos 3.437,37.76,16.922,22.826,0.243,4.184\n",
      "encontrado novo DPS maximo de 86.20899999999999, com elementos 3.437,37.76,16.922,22.826,0.243,5.021\n",
      "encontrado novo DPS maximo de 87.84599999999999, com elementos 3.437,37.76,16.922,27.392,0.243,2.092\n",
      "encontrado novo DPS maximo de 89.10099999999998, com elementos 3.437,37.76,16.922,27.392,0.243,3.347\n",
      "encontrado novo DPS maximo de 89.50399999999999, com elementos 3.437,37.76,16.922,27.392,0.243,3.75\n",
      "encontrado novo DPS maximo de 90.77499999999999, com elementos 3.437,37.76,16.922,27.392,0.243,5.021\n",
      "encontrado novo DPS maximo de 101.45599999999997, com elementos 3.437,37.76,33.843,22.826,0.243,3.347\n",
      "encontrado novo DPS maximo de 102.29299999999998, com elementos 3.437,37.76,33.843,22.826,0.243,4.184\n",
      "encontrado novo DPS maximo de 104.76699999999998, com elementos 3.437,37.76,33.843,27.392,0.243,2.092\n",
      "encontrado novo DPS maximo de 106.02199999999998, com elementos 3.437,37.76,33.843,27.392,0.243,3.347\n",
      "encontrado novo DPS maximo de 106.42499999999998, com elementos 3.437,37.76,33.843,27.392,0.243,3.75\n",
      "encontrado novo DPS maximo de 106.85899999999998, com elementos 3.437,37.76,33.843,27.392,0.243,4.184\n",
      "encontrado novo DPS maximo de 107.69599999999998, com elementos 3.437,37.76,33.843,27.392,0.243,5.021\n",
      "encontrado novo DPS maximo de 110.354, com elementos 3.437,37.76,43.996,22.826,0.243,2.092\n",
      "encontrado novo DPS maximo de 111.609, com elementos 3.437,37.76,43.996,22.826,0.243,3.347\n",
      "encontrado novo DPS maximo de 112.012, com elementos 3.437,37.76,43.996,22.826,0.243,3.75\n",
      "encontrado novo DPS maximo de 112.446, com elementos 3.437,37.76,43.996,22.826,0.243,4.184\n",
      "encontrado novo DPS maximo de 113.283, com elementos 3.437,37.76,43.996,22.826,0.243,5.021\n",
      "encontrado novo DPS maximo de 116.41699999999999, com elementos 3.437,37.76,43.996,25.96,0.243,5.021\n",
      "encontrado novo DPS maximo de 117.592, com elementos 3.437,49.088,33.843,25.96,0.243,5.021\n",
      "encontrado novo DPS maximo de 120.36899999999999, com elementos 3.437,44.846,43.996,22.826,0.243,5.021\n",
      "encontrado novo DPS maximo de 122.652, com elementos 3.437,44.846,43.996,25.109,0.243,5.021\n",
      "encontrado novo DPS maximo de 123.189, com elementos 4.811,44.846,43.996,25.109,0.243,4.184\n",
      "encontrado novo DPS maximo de 124.026, com elementos 4.811,44.846,43.996,25.109,0.243,5.021\n"
     ]
    }
   ],
   "source": [
    "lista_indexes = [0,1,2,3,4,5,6,7]\n",
    "DPS_max = 0\n",
    "n_iteracao=0\n",
    "\n",
    "## Loop criatura 1\n",
    "for index_elemento1 in lista_indexes:\n",
    "    elemento1 = lista_de_listas[0][index_elemento1]\n",
    "    nova_lista_indexes = [i for i in lista_indexes if i!=index_elemento1]\n",
    "\n",
    "    ## Loop criatura 2\n",
    "    for index_elemento2 in nova_lista_indexes:\n",
    "        elemento2 = lista_de_listas[1][index_elemento2]\n",
    "        nova_lista_indexes = [i for i in lista_indexes if i not in [index_elemento1,index_elemento2]]\n",
    "        \n",
    "        ## Loop criatura 3        \n",
    "        for index_elemento3 in nova_lista_indexes:\n",
    "            elemento3 = lista_de_listas[2][index_elemento3]\n",
    "            nova_lista_indexes = [i for i in lista_indexes if i not in [index_elemento1,index_elemento2,index_elemento3]]\n",
    "            \n",
    "            ## Loop criatura 4        \n",
    "            for index_elemento4 in nova_lista_indexes:\n",
    "                elemento4 = lista_de_listas[3][index_elemento4]\n",
    "                nova_lista_indexes = [i for i in lista_indexes if i not in [index_elemento1,index_elemento2,index_elemento3,index_elemento4]]\n",
    "\n",
    "                ## Loop criatura 5      \n",
    "                for index_elemento5 in nova_lista_indexes:\n",
    "                    elemento5 = lista_de_listas[4][index_elemento5]\n",
    "                    nova_lista_indexes = [i for i in lista_indexes if i not in [index_elemento1,index_elemento2,index_elemento3,index_elemento4,index_elemento5]]\n",
    "\n",
    "                    \n",
    "                    ## Loop criatura 6     \n",
    "                    for index_elemento6 in nova_lista_indexes:\n",
    "                        elemento6 = lista_de_listas[5][index_elemento6]\n",
    "                        nova_lista_indexes = [i for i in lista_indexes if i not in [index_elemento1,index_elemento2,index_elemento3,index_elemento4,index_elemento5,index_elemento6]]\n",
    "\n",
    "                        DPS = elemento1+elemento2+elemento3+elemento4+elemento5+elemento6\n",
    "                        n_iteracao = n_iteracao+1\n",
    "                        if DPS > DPS_max:\n",
    "                            print(f'encontrado novo DPS maximo de {DPS}, com elementos {elemento1},{elemento2},{elemento3},{elemento4},{elemento5},{elemento6}')\n",
    "                            DPS_max = DPS"
   ]
  },
  {
   "cell_type": "code",
   "execution_count": 46,
   "metadata": {},
   "outputs": [
    {
     "name": "stdout",
     "output_type": "stream",
     "text": [
      "20160\n"
     ]
    }
   ],
   "source": [
    "print(n_iteracao)"
   ]
  },
  {
   "cell_type": "markdown",
   "metadata": {},
   "source": [
    "**Foi encontrado o max dps de 124.026 com a composição de runas identicas a encontradas na solução anterior:**"
   ]
  },
  {
   "cell_type": "code",
   "execution_count": 48,
   "metadata": {},
   "outputs": [
    {
     "data": {
      "text/html": [
       "<div>\n",
       "<style scoped>\n",
       "    .dataframe tbody tr th:only-of-type {\n",
       "        vertical-align: middle;\n",
       "    }\n",
       "\n",
       "    .dataframe tbody tr th {\n",
       "        vertical-align: top;\n",
       "    }\n",
       "\n",
       "    .dataframe thead th {\n",
       "        text-align: right;\n",
       "    }\n",
       "</style>\n",
       "<table border=\"1\" class=\"dataframe\">\n",
       "  <thead>\n",
       "    <tr style=\"text-align: right;\">\n",
       "      <th></th>\n",
       "      <th>criatura</th>\n",
       "      <th>fisico</th>\n",
       "      <th>poison</th>\n",
       "      <th>fire</th>\n",
       "      <th>death</th>\n",
       "      <th>energy</th>\n",
       "      <th>holy</th>\n",
       "      <th>ice</th>\n",
       "      <th>reflect</th>\n",
       "    </tr>\n",
       "  </thead>\n",
       "  <tbody>\n",
       "    <tr>\n",
       "      <th>0</th>\n",
       "      <td>Arachnophobica</td>\n",
       "      <td>3.437</td>\n",
       "      <td>3.437</td>\n",
       "      <td>3.437</td>\n",
       "      <td>1.718</td>\n",
       "      <td>1.718</td>\n",
       "      <td>4.811</td>\n",
       "      <td>3.437</td>\n",
       "      <td>6.266</td>\n",
       "    </tr>\n",
       "    <tr>\n",
       "      <th>0</th>\n",
       "      <td>Crazed_Summer_Vanguard</td>\n",
       "      <td>37.760</td>\n",
       "      <td>37.760</td>\n",
       "      <td>18.880</td>\n",
       "      <td>37.760</td>\n",
       "      <td>37.760</td>\n",
       "      <td>30.208</td>\n",
       "      <td>49.088</td>\n",
       "      <td>44.846</td>\n",
       "    </tr>\n",
       "    <tr>\n",
       "      <th>0</th>\n",
       "      <td>Crazed_Summer_Rearguard</td>\n",
       "      <td>33.843</td>\n",
       "      <td>33.843</td>\n",
       "      <td>16.922</td>\n",
       "      <td>33.843</td>\n",
       "      <td>33.843</td>\n",
       "      <td>27.075</td>\n",
       "      <td>43.996</td>\n",
       "      <td>26.091</td>\n",
       "    </tr>\n",
       "    <tr>\n",
       "      <th>0</th>\n",
       "      <td>Insane_Siren</td>\n",
       "      <td>25.109</td>\n",
       "      <td>22.826</td>\n",
       "      <td>10.272</td>\n",
       "      <td>22.826</td>\n",
       "      <td>22.826</td>\n",
       "      <td>17.120</td>\n",
       "      <td>27.392</td>\n",
       "      <td>25.960</td>\n",
       "    </tr>\n",
       "    <tr>\n",
       "      <th>0</th>\n",
       "      <td>Lacewing_Moth</td>\n",
       "      <td>0.243</td>\n",
       "      <td>0.243</td>\n",
       "      <td>0.243</td>\n",
       "      <td>0.243</td>\n",
       "      <td>0.243</td>\n",
       "      <td>0.243</td>\n",
       "      <td>0.243</td>\n",
       "      <td>0.240</td>\n",
       "    </tr>\n",
       "    <tr>\n",
       "      <th>0</th>\n",
       "      <td>Thanatursus</td>\n",
       "      <td>2.929</td>\n",
       "      <td>4.184</td>\n",
       "      <td>4.184</td>\n",
       "      <td>5.021</td>\n",
       "      <td>2.092</td>\n",
       "      <td>3.347</td>\n",
       "      <td>4.184</td>\n",
       "      <td>3.750</td>\n",
       "    </tr>\n",
       "  </tbody>\n",
       "</table>\n",
       "</div>"
      ],
      "text/plain": [
       "                  criatura  fisico  poison    fire   death  energy    holy  \\\n",
       "0           Arachnophobica   3.437   3.437   3.437   1.718   1.718   4.811   \n",
       "0   Crazed_Summer_Vanguard  37.760  37.760  18.880  37.760  37.760  30.208   \n",
       "0  Crazed_Summer_Rearguard  33.843  33.843  16.922  33.843  33.843  27.075   \n",
       "0             Insane_Siren  25.109  22.826  10.272  22.826  22.826  17.120   \n",
       "0            Lacewing_Moth   0.243   0.243   0.243   0.243   0.243   0.243   \n",
       "0              Thanatursus   2.929   4.184   4.184   5.021   2.092   3.347   \n",
       "\n",
       "      ice  reflect  \n",
       "0   3.437    6.266  \n",
       "0  49.088   44.846  \n",
       "0  43.996   26.091  \n",
       "0  27.392   25.960  \n",
       "0   0.243    0.240  \n",
       "0   4.184    3.750  "
      ]
     },
     "execution_count": 48,
     "metadata": {},
     "output_type": "execute_result"
    }
   ],
   "source": [
    "df_resultados"
   ]
  },
  {
   "cell_type": "markdown",
   "metadata": {},
   "source": [
    "Arachnophobica: 4.811 -> holy  \n",
    "Crazed_Summer_Vanguard: 42.721 -> reflect  \n",
    "Crazed_Summer_Rearguard: 27.413 -> ice  \n",
    "Insane_Siren: 25.109 -> fisico  \n",
    "Lacewing_Moth: 0.243 -> poison ou fire  \n",
    "Thanatursus: 5.021 -> death  "
   ]
  },
  {
   "cell_type": "markdown",
   "metadata": {},
   "source": [
    "# 8 Comentários"
   ]
  },
  {
   "cell_type": "markdown",
   "metadata": {},
   "source": [
    "- Ambas as técnicas convergiram para a mesma resposta.\n",
    "- Observa-se que a runa de dano de Fogo não foi escolhida no algoritmo, possivelmente devido à resistência das criaturas enfrentadas ao fogo no local de caça."
   ]
  },
  {
   "cell_type": "code",
   "execution_count": null,
   "metadata": {},
   "outputs": [],
   "source": []
  }
 ],
 "metadata": {
  "kernelspec": {
   "display_name": "Python 3",
   "language": "python",
   "name": "python3"
  },
  "language_info": {
   "codemirror_mode": {
    "name": "ipython",
    "version": 3
   },
   "file_extension": ".py",
   "mimetype": "text/x-python",
   "name": "python",
   "nbconvert_exporter": "python",
   "pygments_lexer": "ipython3",
   "version": "3.8.3"
  }
 },
 "nbformat": 4,
 "nbformat_minor": 4
}

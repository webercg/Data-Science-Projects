{
 "cells": [
  {
   "cell_type": "markdown",
   "metadata": {},
   "source": [
    "# Problema"
   ]
  },
  {
   "cell_type": "markdown",
   "metadata": {},
   "source": [
    "Tibia é um dos primeiros MMORPGs, lançado em 1998 sobreviveu á muitas atualizações e é considerado um dos maiores MMORPGS até hoje. As novas atualizações trouxeram uma variedade de criaturas e muitos locais de caça. Cada criatura possui suas estatisticas básicas, como a vida máxima, fraquezas ou fortalezas á elementos, quantidade de golpes distintos, dano de cada golpe, dano por turno (DPS). Além de outras estatísticas calculadas previamente (dado as características do meu personagem) como quantidade de turnos de dano que a criatura deve receber para morrer.\n",
    "\n",
    "Há muitas formas de aumentar o dano que seu personagem pode causar, a que vamos explorar nesse estudo são duas as runas elementais (físico, veneno, fogo, morte, sagrado, gelo) e as runas refletoras de dano. Só podemos alocar uma criatura por runa e cada criatura, por sua vez, pode estar alocada apenas em 1 runa.\n",
    "\n",
    "As runas elementais concedem dano baseado na vida máxima da criatura e a sua chance de ativação é proporcional á quantidade de turnos de dano que ela recebe antes de morrer. Já a runa refletora de dano concede dano baseado no dano recebido pelo personagem e, portanto sua chance de ativação é proporcional á quantidade de turnos de dano que a criatura defere antes de morrer.\n",
    "\n",
    "Os locais de caça apresentam uma variedade de criaturas, a proporção que elas aparecem variam também de acordo com o caminho que o jogador escolhe explorar e repetir para matá-las e adquirir pontos de experiência.\n",
    "\n",
    "Esse trabalho visa a responder a seguinte pergunta:\n",
    "\n",
    "Dado as restrições de alocação de runas, as características do local de caça (proporção de aparição de criaturas), as estatisticas das criaturas como a vida máxima, dano aumentado ou reduzido á elementos, quantidade de golpes, dano dos golpes, quantidade de golpes para criatura morrer, etc. **Como devemos alocar as runas e em quais criaturas alocar de forma a maximizar o o dano adicional para extrair o máximo que um local de caça pode oferecer?**\n",
    "\n",
    "Faremos um estudo de caso para o local de caça dos elfos de fogo localizados em Feyrist."
   ]
  },
  {
   "cell_type": "markdown",
   "metadata": {},
   "source": [
    "# 1 Import Bibliotecas"
   ]
  },
  {
   "cell_type": "code",
   "execution_count": 1,
   "metadata": {},
   "outputs": [],
   "source": [
    "#!pip install pulp"
   ]
  },
  {
   "cell_type": "code",
   "execution_count": 2,
   "metadata": {},
   "outputs": [],
   "source": [
    "from pulp import *"
   ]
  },
  {
   "cell_type": "markdown",
   "metadata": {},
   "source": [
    "# 2 Dados coletados"
   ]
  },
  {
   "cell_type": "markdown",
   "metadata": {},
   "source": [
    "## 2.1 Lista de dados coletados"
   ]
  },
  {
   "cell_type": "markdown",
   "metadata": {},
   "source": [
    "**vida:** Vida maxima da criatura  \n",
    "**dano_fisico:** Fator de multiplicação de dano físico que a criatura recebe  \n",
    "**dano_poison:** Fator de multiplicação de dano de veneno que a criatura recebe  \n",
    "**dano_fire:** Fator de multiplicação de dano de fogo que a criatura recebe  \n",
    "**dano_death:** Fator de multiplicação de dano de morte que a criatura recebe  \n",
    "**dano_energy:** Fator de multiplicação de dano de energia que a criatura recebe  \n",
    "**dano_holy:** Fator de multiplicação de dano sagrado que a criatura recebe  \n",
    "**dano_ice:** Fator de multiplicação de dano de gelo que a criatura recebe  \n",
    "**qtd_golpes_distintos:** Quantidade de golpes distintos que a criatura pode deferir em 1 turno  \n",
    "**dano_medio_golpe:** Dano médio dos golpes distintos que a criatura pode deferir em 1 turno  \n",
    "**proporcao_respawn:** Proporção de aparição da criatura em número de criaturas dado o caminho da caçada.  \n",
    "**turnos_dano_para_morte**: Média do número de turnos de dano a criatura recebe antes de morrer dado as estatisticas do meu personagem (Armas, set, rotação de magia, talentos, skills, encantamentos (imbuements), chance de dano crítico etc)  "
   ]
  },
  {
   "cell_type": "code",
   "execution_count": 3,
   "metadata": {},
   "outputs": [],
   "source": [
    "dicionario_criaturas = {'Arachnophobica':{'vida':5000,\n",
    "                                          'dano_fisico':1,\n",
    "                                          'dano_poison':1,\n",
    "                                          'dano_fire':1,\n",
    "                                          'dano_death':0.5,\n",
    "                                          'dano_energy':0.5,\n",
    "                                          'dano_holy':1.4,\n",
    "                                          'dano_ice':1,\n",
    "                                          'qtd_golpes_distintos':7,\n",
    "                                          'dano_medio_golpe':230.71,\n",
    "                                          'proporcao_respawn':0.03880,\n",
    "                                          'turnos_dano_para_morte':6},\n",
    "                        'Crazed_Summer_Vanguard':{'vida':5500,\n",
    "                                          'dano_fisico':1,\n",
    "                                          'dano_poison':1,\n",
    "                                          'dano_fire':0.5,\n",
    "                                          'dano_death':1,\n",
    "                                          'dano_energy':1,\n",
    "                                          'dano_holy':0.8,\n",
    "                                          'dano_ice':1.3,\n",
    "                                          'qtd_golpes_distintos':5,\n",
    "                                          'dano_medio_golpe':243,\n",
    "                                          'proporcao_respawn':0.3691,\n",
    "                                          'turnos_dano_para_morte':7},\n",
    "                        'Crazed_Summer_Rearguard':{'vida':5300,\n",
    "                                          'dano_fisico':1,\n",
    "                                          'dano_poison':1,\n",
    "                                          'dano_fire':0.5,\n",
    "                                          'dano_death':1,\n",
    "                                          'dano_energy':1,\n",
    "                                          'dano_holy':0.8,\n",
    "                                          'dano_ice':1.3,\n",
    "                                          'qtd_golpes_distintos':3,\n",
    "                                          'dano_medio_golpe':253.333,\n",
    "                                          'proporcao_respawn':0.3433,\n",
    "                                          'turnos_dano_para_morte':7},\n",
    "                        'Insane_Siren':{'vida':6500,\n",
    "                                          'dano_fisico':1.1,\n",
    "                                          'dano_poison':1,\n",
    "                                          'dano_fire':0.45,\n",
    "                                          'dano_death':1,\n",
    "                                          'dano_energy':1,\n",
    "                                          'dano_holy':0.75,\n",
    "                                          'dano_ice':1.2,\n",
    "                                          'qtd_golpes_distintos':7,\n",
    "                                          'dano_medio_golpe':196.43,\n",
    "                                          'proporcao_respawn':0.1888,\n",
    "                                          'turnos_dano_para_morte':7},\n",
    "                        'Lacewing_Moth':{'vida':900,\n",
    "                                          'dano_fisico':1,\n",
    "                                          'dano_poison':1,\n",
    "                                          'dano_fire':1,\n",
    "                                          'dano_death':1,\n",
    "                                          'dano_energy':1,\n",
    "                                          'dano_holy':1,\n",
    "                                          'dano_ice':1,\n",
    "                                          'qtd_golpes_distintos':2,\n",
    "                                          'dano_medio_golpe':40,\n",
    "                                          'proporcao_respawn':0.0300,\n",
    "                                          'turnos_dano_para_morte':2},\n",
    "                        'Thanatursus':{'vida':7200,\n",
    "                                          'dano_fisico':0.7,\n",
    "                                          'dano_poison':1,\n",
    "                                          'dano_fire':1,\n",
    "                                          'dano_death':1.2,\n",
    "                                          'dano_energy':0.5,\n",
    "                                          'dano_holy':0.8,\n",
    "                                          'dano_ice':1,\n",
    "                                          'qtd_golpes_distintos':5,\n",
    "                                          'dano_medio_golpe':250,\n",
    "                                          'proporcao_respawn':0.0300,\n",
    "                                          'turnos_dano_para_morte':10}\n",
    "                       }"
   ]
  },
  {
   "cell_type": "markdown",
   "metadata": {},
   "source": [
    "## 2.2 Detalhes de coleta"
   ]
  },
  {
   "cell_type": "markdown",
   "metadata": {},
   "source": [
    "- **proporcao_respawn:** Foi previamente calculado baseado no caminho repetido para caçar os montros\n",
    "- **turnos_dano_para_morte:** Foi previamente calculado baseado nas estatísticas do meu personagem, considerando a arma utilizada, o elemento da arma utilizada já descontado a fraqueza/fortaleza das criaturas ao determinado elemento, rotação de magias (exori gran, exori e exori mas), talentos (roda de habilidades, redução de cooldown exori mas, dano aumentado no exori gran), skills ( skills do personagem + loyal points + skills provenientes de consumíveis rings, amuletos e equipamentos), encantamentos (imbuements) e chance de dano crítico.\n",
    "- **danos:** Retirado do website do tibiawiki (https://www.tibiawiki.com.br/)\n",
    "- **qtd_golpes_distintos:** Retirado do website do tibiawiki (https://www.tibiawiki.com.br/)\n",
    "- **dano_medio_golpe:** Retirado do website do tibiawiki (https://www.tibiawiki.com.br/)\n"
   ]
  },
  {
   "cell_type": "markdown",
   "metadata": {},
   "source": [
    "# 3 Runas"
   ]
  },
  {
   "cell_type": "markdown",
   "metadata": {},
   "source": [
    "- As runas de dano elemental podem deferir com 10% de chance um dano correspondente á 5% da vida máxima da criatura a cada golpe aplicado \n",
    "- A runa de reflecção de dano pode refletir com 10% de chance um dano correspondente ao dano recebido pela criatura"
   ]
  },
  {
   "cell_type": "code",
   "execution_count": 4,
   "metadata": {},
   "outputs": [],
   "source": [
    "chance_ativacao_runa = 0.1\n",
    "dano_runa_elemental = 0.05"
   ]
  },
  {
   "cell_type": "code",
   "execution_count": 5,
   "metadata": {},
   "outputs": [
    {
     "data": {
      "text/plain": [
       "['dano_fisico',\n",
       " 'dano_poison',\n",
       " 'dano_fire',\n",
       " 'dano_death',\n",
       " 'dano_energy',\n",
       " 'dano_holy',\n",
       " 'dano_ice',\n",
       " 'reflect']"
      ]
     },
     "execution_count": 5,
     "metadata": {},
     "output_type": "execute_result"
    }
   ],
   "source": [
    "runas_dano_elemental =['dano_fisico','dano_poison','dano_fire','dano_death','dano_energy','dano_holy','dano_ice']\n",
    "runas_dano_refletido = ['reflect']\n",
    "runas_totais = runas_dano_elemental + runas_dano_refletido\n",
    "runas_totais"
   ]
  },
  {
   "cell_type": "markdown",
   "metadata": {},
   "source": [
    "# 3.1 Variáveis do problema de pesquisa operacional"
   ]
  },
  {
   "cell_type": "markdown",
   "metadata": {},
   "source": [
    "- Ao todo são 6 criaturas e 8 runas.\n",
    "- O jogo restringe a alocação de apenas 1 runa por criatura\n",
    "- Além disso, há restrição de cada criatura ter alocada apenas 1 runa"
   ]
  },
  {
   "cell_type": "markdown",
   "metadata": {},
   "source": [
    "Portanto, criaremos 6*8 = 48 variáveis binárias para indicar se o conjunto [runa,criatura] será habilitada (1) ou não (0)."
   ]
  },
  {
   "cell_type": "code",
   "execution_count": 6,
   "metadata": {},
   "outputs": [
    {
     "data": {
      "text/plain": [
       "['dano_fisico_Arachnophobica',\n",
       " 'dano_poison_Arachnophobica',\n",
       " 'dano_fire_Arachnophobica',\n",
       " 'dano_death_Arachnophobica',\n",
       " 'dano_energy_Arachnophobica',\n",
       " 'dano_holy_Arachnophobica',\n",
       " 'dano_ice_Arachnophobica',\n",
       " 'dano_fisico_Crazed_Summer_Vanguard',\n",
       " 'dano_poison_Crazed_Summer_Vanguard',\n",
       " 'dano_fire_Crazed_Summer_Vanguard',\n",
       " 'dano_death_Crazed_Summer_Vanguard',\n",
       " 'dano_energy_Crazed_Summer_Vanguard',\n",
       " 'dano_holy_Crazed_Summer_Vanguard',\n",
       " 'dano_ice_Crazed_Summer_Vanguard',\n",
       " 'dano_fisico_Crazed_Summer_Rearguard',\n",
       " 'dano_poison_Crazed_Summer_Rearguard',\n",
       " 'dano_fire_Crazed_Summer_Rearguard',\n",
       " 'dano_death_Crazed_Summer_Rearguard',\n",
       " 'dano_energy_Crazed_Summer_Rearguard',\n",
       " 'dano_holy_Crazed_Summer_Rearguard',\n",
       " 'dano_ice_Crazed_Summer_Rearguard',\n",
       " 'dano_fisico_Insane_Siren',\n",
       " 'dano_poison_Insane_Siren',\n",
       " 'dano_fire_Insane_Siren',\n",
       " 'dano_death_Insane_Siren',\n",
       " 'dano_energy_Insane_Siren',\n",
       " 'dano_holy_Insane_Siren',\n",
       " 'dano_ice_Insane_Siren',\n",
       " 'dano_fisico_Lacewing_Moth',\n",
       " 'dano_poison_Lacewing_Moth',\n",
       " 'dano_fire_Lacewing_Moth',\n",
       " 'dano_death_Lacewing_Moth',\n",
       " 'dano_energy_Lacewing_Moth',\n",
       " 'dano_holy_Lacewing_Moth',\n",
       " 'dano_ice_Lacewing_Moth',\n",
       " 'dano_fisico_Thanatursus',\n",
       " 'dano_poison_Thanatursus',\n",
       " 'dano_fire_Thanatursus',\n",
       " 'dano_death_Thanatursus',\n",
       " 'dano_energy_Thanatursus',\n",
       " 'dano_holy_Thanatursus',\n",
       " 'dano_ice_Thanatursus']"
      ]
     },
     "execution_count": 6,
     "metadata": {},
     "output_type": "execute_result"
    }
   ],
   "source": [
    "variaveis_runa_elemental_criatura = []\n",
    "for criatura in dicionario_criaturas.keys():\n",
    "    for runa in runas_dano_elemental:\n",
    "        variaveis_runa_elemental_criatura.append(runa + '_' + criatura)        \n",
    "variaveis_runa_elemental_criatura"
   ]
  },
  {
   "cell_type": "code",
   "execution_count": 7,
   "metadata": {},
   "outputs": [
    {
     "data": {
      "text/plain": [
       "['reflect_Arachnophobica',\n",
       " 'reflect_Crazed_Summer_Vanguard',\n",
       " 'reflect_Crazed_Summer_Rearguard',\n",
       " 'reflect_Insane_Siren',\n",
       " 'reflect_Lacewing_Moth',\n",
       " 'reflect_Thanatursus']"
      ]
     },
     "execution_count": 7,
     "metadata": {},
     "output_type": "execute_result"
    }
   ],
   "source": [
    "variaveis_runa_dano_refletido_criatura = []\n",
    "for criatura in dicionario_criaturas.keys():\n",
    "    for runa in runas_dano_refletido:\n",
    "        variaveis_runa_dano_refletido_criatura.append(runa + '_' + criatura)\n",
    "variaveis_runa_dano_refletido_criatura"
   ]
  },
  {
   "cell_type": "markdown",
   "metadata": {},
   "source": [
    "# Pesquisa Operacional"
   ]
  },
  {
   "cell_type": "markdown",
   "metadata": {},
   "source": [
    "## Criando variáveis de runas por dano elemental na vida máxima"
   ]
  },
  {
   "cell_type": "code",
   "execution_count": 8,
   "metadata": {},
   "outputs": [],
   "source": [
    "var = LpVariable.dict('Runa',(variaveis_runa_elemental_criatura), cat='Binary' ,lowBound=0)"
   ]
  },
  {
   "cell_type": "markdown",
   "metadata": {},
   "source": [
    "## Criando variável de runa de reflect dano da criatura"
   ]
  },
  {
   "cell_type": "code",
   "execution_count": 9,
   "metadata": {},
   "outputs": [],
   "source": [
    "var2 = LpVariable.dict('Runa',(variaveis_runa_dano_refletido_criatura), cat='Binary' ,lowBound=0)"
   ]
  },
  {
   "cell_type": "code",
   "execution_count": 10,
   "metadata": {},
   "outputs": [],
   "source": [
    "#print(var)\n",
    "#print(var2)"
   ]
  },
  {
   "cell_type": "markdown",
   "metadata": {},
   "source": [
    "## Modelo"
   ]
  },
  {
   "cell_type": "markdown",
   "metadata": {},
   "source": [
    "- Optaremos pelo modelo de maximização de DPS (dano por segundo por criatura)"
   ]
  },
  {
   "cell_type": "code",
   "execution_count": 11,
   "metadata": {},
   "outputs": [],
   "source": [
    "model = LpProblem('DPS',LpMaximize)"
   ]
  },
  {
   "cell_type": "markdown",
   "metadata": {},
   "source": [
    "## Função objetivo\n",
    "- Maximização de DPS"
   ]
  },
  {
   "cell_type": "code",
   "execution_count": 12,
   "metadata": {},
   "outputs": [
    {
     "data": {
      "image/png": "[encoded data removed]",
      "text/plain": [
       "<IPython.core.display.Image object>"
      ]
     },
     "execution_count": 12,
     "metadata": {},
     "output_type": "execute_result"
    }
   ],
   "source": [
    "from IPython import display\n",
    "display.Image(\"funcao_objetivo.png\")"
   ]
  },
  {
   "cell_type": "markdown",
   "metadata": {},
   "source": [
    "onde:  \n",
    "  \n",
    "**c** = criatura  \n",
    "**e** = elemento  \n",
    "**Runa_ce** = Variável binária para indicar se a runa do elemento E está ativa para a criatura C  \n",
    "**P_ativ** = Chance de ativação da runa que corresponde á 10% para todos elementos   \n",
    "**DanoRuna** = Dano aplicado pela runa que corresponde áe 5% da vida máxima para todos elementos  \n",
    "**PResp_c** = Proporção que a criatura C aparece  \n",
    "**Turno_c** = Turnos de dano que a criatura C deve receber para morrer  \n",
    "**FatorDano_ce** = Fator de dano que a criatura C recebe do elemento E  \n",
    "**VidaMax_c** = Vida máxima da criatura C  \n",
    "**Runa_creflect** = Variável binária para indicar se a runa de reflect está ativa para a criatura C  \n",
    "**Golpes_c** = Números de golpes distintos que a criatura C pode deferir  \n",
    "**DanoMedioGolpe_c** = Dano médio dos golpes distintos que a criatura C pode deferir  \n",
    "\n",
    "Nesse estudo de caso n=6 criaturas e k= 7 elementos"
   ]
  },
  {
   "cell_type": "code",
   "execution_count": 13,
   "metadata": {},
   "outputs": [],
   "source": [
    "lista_equacoes = []\n",
    "\n",
    "## Percorre as criaturas\n",
    "for criatura in dicionario_criaturas.keys():\n",
    "    \n",
    "    ## Percorre todas runas elementais\n",
    "    for runa_elemental_criatura in variaveis_runa_elemental_criatura:\n",
    "                \n",
    "        ## Checa se runa_criatura corresponde a criatura do loop\n",
    "        if criatura in runa_elemental_criatura:\n",
    "            \n",
    "            ### Checa o elemento da runa:\n",
    "            index_dicionario_fator_fraqueza = runa_elemental_criatura.find('_',5)\n",
    "            dicionario_fraqueza_elemental = runa_elemental_criatura[:index_dicionario_fator_fraqueza]\n",
    "\n",
    "            ## Adiciona equação de dps por elemento por criatura\n",
    "            lista_equacoes.append(var[runa_elemental_criatura] * chance_ativacao_runa * \n",
    "                                  dicionario_criaturas[criatura]['proporcao_respawn'] *\n",
    "                                  dicionario_criaturas[criatura]['turnos_dano_para_morte'] *\n",
    "                                  dicionario_criaturas[criatura][dicionario_fraqueza_elemental] *\n",
    "                                  dano_runa_elemental * \n",
    "                                  dicionario_criaturas[criatura]['vida']\n",
    "                                  )\n",
    "        \n",
    "        \n",
    "    ## Percorre todas runas refletoras:\n",
    "    for runa_refletora_criatura in variaveis_runa_dano_refletido_criatura:\n",
    "        \n",
    "        ## Checa se runa_criatura corresponde a criatura do loop\n",
    "        if criatura in runa_refletora_criatura:\n",
    "        \n",
    "            ## Adiciona equação de dps dano refletido por criatura\n",
    "            lista_equacoes.append(var2[runa_refletora_criatura] * chance_ativacao_runa *\n",
    "                          dicionario_criaturas[criatura]['proporcao_respawn'] *\n",
    "                          dicionario_criaturas[criatura]['qtd_golpes_distintos'] * \n",
    "                          dicionario_criaturas[criatura]['dano_medio_golpe'] )\n",
    "            \n",
    "            \n",
    "model += lpSum(lista_equacoes)"
   ]
  },
  {
   "cell_type": "markdown",
   "metadata": {},
   "source": [
    "## Restrições do modelo"
   ]
  },
  {
   "cell_type": "markdown",
   "metadata": {},
   "source": [
    "1) Cada runa pode estar alocada no máximo uma vez em um único monstro"
   ]
  },
  {
   "cell_type": "code",
   "execution_count": 14,
   "metadata": {},
   "outputs": [
    {
     "data": {
      "text/plain": [
       "['dano_fisico',\n",
       " 'dano_poison',\n",
       " 'dano_fire',\n",
       " 'dano_death',\n",
       " 'dano_energy',\n",
       " 'dano_holy',\n",
       " 'dano_ice',\n",
       " 'reflect']"
      ]
     },
     "execution_count": 14,
     "metadata": {},
     "output_type": "execute_result"
    }
   ],
   "source": [
    "runas_totais"
   ]
  },
  {
   "cell_type": "code",
   "execution_count": 15,
   "metadata": {},
   "outputs": [],
   "source": [
    "runas_reflects_todas_criaturas = []\n",
    "\n",
    "for runa in runas_totais:\n",
    "    runas_elementais_todas_criaturas = []\n",
    "    runas_reflects_todas_criaturas = []\n",
    "    \n",
    "    runas_elementais_todas_criaturas = [i for i in list(var.keys()) if runa in i]\n",
    "    runas_reflects_todas_criaturas = [i for i in list(var2.keys()) if runa in i]\n",
    "    \n",
    "    ## capturando as variaveis e nao os nomes das variaveis\n",
    "    x_elem_values = []\n",
    "    for r1 in runas_elementais_todas_criaturas:\n",
    "        for x in var.values():\n",
    "            if r1 in str(x):\n",
    "                x_elem_values.append(x)\n",
    "\n",
    "    ## capturando as variaveis e nao os nomes das variaveis           \n",
    "    x_reflect_values = []\n",
    "    for r1 in runas_reflects_todas_criaturas:\n",
    "        for x in var2.values():\n",
    "            if r1 in str(x):\n",
    "                x_reflect_values.append(x)\n",
    "    \n",
    "    \n",
    "    if len(runas_elementais_todas_criaturas)>0:\n",
    "        model += lpSum(x_elem_values) <=1\n",
    "    else:\n",
    "        model += lpSum(x_reflect_values) <=1"
   ]
  },
  {
   "cell_type": "markdown",
   "metadata": {},
   "source": [
    "2) Cada criatura pode ter apenas 1 runa alocada"
   ]
  },
  {
   "cell_type": "code",
   "execution_count": 16,
   "metadata": {},
   "outputs": [],
   "source": [
    "for criatura in dicionario_criaturas.keys():\n",
    "    runas_elementais_da_criatura = [i + '_' + criatura for i in runas_dano_elemental]\n",
    "    runas_reflect_da_criatura = [i + '_' + criatura for i in runas_dano_refletido]\n",
    "    runas_possiveis_da_criatura = runas_elementais_da_criatura + runas_reflect_da_criatura\n",
    "    \n",
    "    ## capturando as variaveis e nao os nomes das variaveis (elemental)\n",
    "    x_values = []\n",
    "    for r1 in runas_elementais_da_criatura:\n",
    "        for x in var.values():\n",
    "            if r1 in str(x):\n",
    "                x_values.append(x)\n",
    "\n",
    "    ## Nao vamos resetar a lista x_values!!\n",
    "    ## capturando as variaveis e nao os nomes das variaveis (reflect)\n",
    "    for r1 in runas_reflect_da_criatura:\n",
    "        for x in var2.values():\n",
    "            if r1 in str(x):\n",
    "                x_values.append(x)\n",
    "    \n",
    "    model += lpSum(x_values) <=1 "
   ]
  },
  {
   "cell_type": "markdown",
   "metadata": {},
   "source": [
    "## Visualizando o modelo completo"
   ]
  },
  {
   "cell_type": "code",
   "execution_count": 17,
   "metadata": {},
   "outputs": [
    {
     "name": "stdout",
     "output_type": "stream",
     "text": [
      "DPS:\n",
      "MAXIMIZE\n",
      "2.91*Runa_dano_death_Arachnophobica + 63.68215*Runa_dano_death_Crazed_Summer_Rearguard + 71.05175*Runa_dano_death_Crazed_Summer_Vanguard + 42.952*Runa_dano_death_Insane_Siren + 0.27*Runa_dano_death_Lacewing_Moth + 12.959999999999999*Runa_dano_death_Thanatursus + 2.91*Runa_dano_energy_Arachnophobica + 63.68215*Runa_dano_energy_Crazed_Summer_Rearguard + 71.05175*Runa_dano_energy_Crazed_Summer_Vanguard + 42.952*Runa_dano_energy_Insane_Siren + 0.27*Runa_dano_energy_Lacewing_Moth + 5.4*Runa_dano_energy_Thanatursus + 5.82*Runa_dano_fire_Arachnophobica + 31.841075*Runa_dano_fire_Crazed_Summer_Rearguard + 35.525875*Runa_dano_fire_Crazed_Summer_Vanguard + 19.328400000000002*Runa_dano_fire_Insane_Siren + 0.27*Runa_dano_fire_Lacewing_Moth + 10.8*Runa_dano_fire_Thanatursus + 5.82*Runa_dano_fisico_Arachnophobica + 63.68215*Runa_dano_fisico_Crazed_Summer_Rearguard + 71.05175*Runa_dano_fisico_Crazed_Summer_Vanguard + 47.24720000000001*Runa_dano_fisico_Insane_Siren + 0.27*Runa_dano_fisico_Lacewing_Moth + 7.56*Runa_dano_fisico_Thanatursus + 8.148000000000001*Runa_dano_holy_Arachnophobica + 50.94572*Runa_dano_holy_Crazed_Summer_Rearguard + 56.8414*Runa_dano_holy_Crazed_Summer_Vanguard + 32.214*Runa_dano_holy_Insane_Siren + 0.27*Runa_dano_holy_Lacewing_Moth + 8.64*Runa_dano_holy_Thanatursus + 5.82*Runa_dano_ice_Arachnophobica + 82.786795*Runa_dano_ice_Crazed_Summer_Rearguard + 92.367275*Runa_dano_ice_Crazed_Summer_Vanguard + 51.5424*Runa_dano_ice_Insane_Siren + 0.27*Runa_dano_ice_Lacewing_Moth + 10.8*Runa_dano_ice_Thanatursus + 5.82*Runa_dano_poison_Arachnophobica + 63.68215*Runa_dano_poison_Crazed_Summer_Rearguard + 71.05175*Runa_dano_poison_Crazed_Summer_Vanguard + 42.952*Runa_dano_poison_Insane_Siren + 0.27*Runa_dano_poison_Lacewing_Moth + 10.8*Runa_dano_poison_Thanatursus + 6.2660836*Runa_reflect_Arachnophobica + 26.09076567*Runa_reflect_Crazed_Summer_Rearguard + 44.84565*Runa_reflect_Crazed_Summer_Vanguard + 25.9601888*Runa_reflect_Insane_Siren + 0.24*Runa_reflect_Lacewing_Moth + 3.75*Runa_reflect_Thanatursus + 0.0\n",
      "SUBJECT TO\n",
      "_C1: Runa_dano_fisico_Arachnophobica\n",
      " + Runa_dano_fisico_Crazed_Summer_Rearguard\n",
      " + Runa_dano_fisico_Crazed_Summer_Vanguard + Runa_dano_fisico_Insane_Siren\n",
      " + Runa_dano_fisico_Lacewing_Moth + Runa_dano_fisico_Thanatursus <= 1\n",
      "\n",
      "_C2: Runa_dano_poison_Arachnophobica\n",
      " + Runa_dano_poison_Crazed_Summer_Rearguard\n",
      " + Runa_dano_poison_Crazed_Summer_Vanguard + Runa_dano_poison_Insane_Siren\n",
      " + Runa_dano_poison_Lacewing_Moth + Runa_dano_poison_Thanatursus <= 1\n",
      "\n",
      "_C3: Runa_dano_fire_Arachnophobica + Runa_dano_fire_Crazed_Summer_Rearguard\n",
      " + Runa_dano_fire_Crazed_Summer_Vanguard + Runa_dano_fire_Insane_Siren\n",
      " + Runa_dano_fire_Lacewing_Moth + Runa_dano_fire_Thanatursus <= 1\n",
      "\n",
      "_C4: Runa_dano_death_Arachnophobica + Runa_dano_death_Crazed_Summer_Rearguard\n",
      " + Runa_dano_death_Crazed_Summer_Vanguard + Runa_dano_death_Insane_Siren\n",
      " + Runa_dano_death_Lacewing_Moth + Runa_dano_death_Thanatursus <= 1\n",
      "\n",
      "_C5: Runa_dano_energy_Arachnophobica\n",
      " + Runa_dano_energy_Crazed_Summer_Rearguard\n",
      " + Runa_dano_energy_Crazed_Summer_Vanguard + Runa_dano_energy_Insane_Siren\n",
      " + Runa_dano_energy_Lacewing_Moth + Runa_dano_energy_Thanatursus <= 1\n",
      "\n",
      "_C6: Runa_dano_holy_Arachnophobica + Runa_dano_holy_Crazed_Summer_Rearguard\n",
      " + Runa_dano_holy_Crazed_Summer_Vanguard + Runa_dano_holy_Insane_Siren\n",
      " + Runa_dano_holy_Lacewing_Moth + Runa_dano_holy_Thanatursus <= 1\n",
      "\n",
      "_C7: Runa_dano_ice_Arachnophobica + Runa_dano_ice_Crazed_Summer_Rearguard\n",
      " + Runa_dano_ice_Crazed_Summer_Vanguard + Runa_dano_ice_Insane_Siren\n",
      " + Runa_dano_ice_Lacewing_Moth + Runa_dano_ice_Thanatursus <= 1\n",
      "\n",
      "_C8: Runa_reflect_Arachnophobica + Runa_reflect_Crazed_Summer_Rearguard\n",
      " + Runa_reflect_Crazed_Summer_Vanguard + Runa_reflect_Insane_Siren\n",
      " + Runa_reflect_Lacewing_Moth + Runa_reflect_Thanatursus <= 1\n",
      "\n",
      "_C9: Runa_dano_death_Arachnophobica + Runa_dano_energy_Arachnophobica\n",
      " + Runa_dano_fire_Arachnophobica + Runa_dano_fisico_Arachnophobica\n",
      " + Runa_dano_holy_Arachnophobica + Runa_dano_ice_Arachnophobica\n",
      " + Runa_dano_poison_Arachnophobica + Runa_reflect_Arachnophobica <= 1\n",
      "\n",
      "_C10: Runa_dano_death_Crazed_Summer_Vanguard\n",
      " + Runa_dano_energy_Crazed_Summer_Vanguard\n",
      " + Runa_dano_fire_Crazed_Summer_Vanguard\n",
      " + Runa_dano_fisico_Crazed_Summer_Vanguard\n",
      " + Runa_dano_holy_Crazed_Summer_Vanguard\n",
      " + Runa_dano_ice_Crazed_Summer_Vanguard\n",
      " + Runa_dano_poison_Crazed_Summer_Vanguard\n",
      " + Runa_reflect_Crazed_Summer_Vanguard <= 1\n",
      "\n",
      "_C11: Runa_dano_death_Crazed_Summer_Rearguard\n",
      " + Runa_dano_energy_Crazed_Summer_Rearguard\n",
      " + Runa_dano_fire_Crazed_Summer_Rearguard\n",
      " + Runa_dano_fisico_Crazed_Summer_Rearguard\n",
      " + Runa_dano_holy_Crazed_Summer_Rearguard\n",
      " + Runa_dano_ice_Crazed_Summer_Rearguard\n",
      " + Runa_dano_poison_Crazed_Summer_Rearguard\n",
      " + Runa_reflect_Crazed_Summer_Rearguard <= 1\n",
      "\n",
      "_C12: Runa_dano_death_Insane_Siren + Runa_dano_energy_Insane_Siren\n",
      " + Runa_dano_fire_Insane_Siren + Runa_dano_fisico_Insane_Siren\n",
      " + Runa_dano_holy_Insane_Siren + Runa_dano_ice_Insane_Siren\n",
      " + Runa_dano_poison_Insane_Siren + Runa_reflect_Insane_Siren <= 1\n",
      "\n",
      "_C13: Runa_dano_death_Lacewing_Moth + Runa_dano_energy_Lacewing_Moth\n",
      " + Runa_dano_fire_Lacewing_Moth + Runa_dano_fisico_Lacewing_Moth\n",
      " + Runa_dano_holy_Lacewing_Moth + Runa_dano_ice_Lacewing_Moth\n",
      " + Runa_dano_poison_Lacewing_Moth + Runa_reflect_Lacewing_Moth <= 1\n",
      "\n",
      "_C14: Runa_dano_death_Thanatursus + Runa_dano_energy_Thanatursus\n",
      " + Runa_dano_fire_Thanatursus + Runa_dano_fisico_Thanatursus\n",
      " + Runa_dano_holy_Thanatursus + Runa_dano_ice_Thanatursus\n",
      " + Runa_dano_poison_Thanatursus + Runa_reflect_Thanatursus <= 1\n",
      "\n",
      "VARIABLES\n",
      "0 <= Runa_dano_death_Arachnophobica <= 1 Integer\n",
      "0 <= Runa_dano_death_Crazed_Summer_Rearguard <= 1 Integer\n",
      "0 <= Runa_dano_death_Crazed_Summer_Vanguard <= 1 Integer\n",
      "0 <= Runa_dano_death_Insane_Siren <= 1 Integer\n",
      "0 <= Runa_dano_death_Lacewing_Moth <= 1 Integer\n",
      "0 <= Runa_dano_death_Thanatursus <= 1 Integer\n",
      "0 <= Runa_dano_energy_Arachnophobica <= 1 Integer\n",
      "0 <= Runa_dano_energy_Crazed_Summer_Rearguard <= 1 Integer\n",
      "0 <= Runa_dano_energy_Crazed_Summer_Vanguard <= 1 Integer\n",
      "0 <= Runa_dano_energy_Insane_Siren <= 1 Integer\n",
      "0 <= Runa_dano_energy_Lacewing_Moth <= 1 Integer\n",
      "0 <= Runa_dano_energy_Thanatursus <= 1 Integer\n",
      "0 <= Runa_dano_fire_Arachnophobica <= 1 Integer\n",
      "0 <= Runa_dano_fire_Crazed_Summer_Rearguard <= 1 Integer\n",
      "0 <= Runa_dano_fire_Crazed_Summer_Vanguard <= 1 Integer\n",
      "0 <= Runa_dano_fire_Insane_Siren <= 1 Integer\n",
      "0 <= Runa_dano_fire_Lacewing_Moth <= 1 Integer\n",
      "0 <= Runa_dano_fire_Thanatursus <= 1 Integer\n",
      "0 <= Runa_dano_fisico_Arachnophobica <= 1 Integer\n",
      "0 <= Runa_dano_fisico_Crazed_Summer_Rearguard <= 1 Integer\n",
      "0 <= Runa_dano_fisico_Crazed_Summer_Vanguard <= 1 Integer\n",
      "0 <= Runa_dano_fisico_Insane_Siren <= 1 Integer\n",
      "0 <= Runa_dano_fisico_Lacewing_Moth <= 1 Integer\n",
      "0 <= Runa_dano_fisico_Thanatursus <= 1 Integer\n",
      "0 <= Runa_dano_holy_Arachnophobica <= 1 Integer\n",
      "0 <= Runa_dano_holy_Crazed_Summer_Rearguard <= 1 Integer\n",
      "0 <= Runa_dano_holy_Crazed_Summer_Vanguard <= 1 Integer\n",
      "0 <= Runa_dano_holy_Insane_Siren <= 1 Integer\n",
      "0 <= Runa_dano_holy_Lacewing_Moth <= 1 Integer\n",
      "0 <= Runa_dano_holy_Thanatursus <= 1 Integer\n",
      "0 <= Runa_dano_ice_Arachnophobica <= 1 Integer\n",
      "0 <= Runa_dano_ice_Crazed_Summer_Rearguard <= 1 Integer\n",
      "0 <= Runa_dano_ice_Crazed_Summer_Vanguard <= 1 Integer\n",
      "0 <= Runa_dano_ice_Insane_Siren <= 1 Integer\n",
      "0 <= Runa_dano_ice_Lacewing_Moth <= 1 Integer\n",
      "0 <= Runa_dano_ice_Thanatursus <= 1 Integer\n",
      "0 <= Runa_dano_poison_Arachnophobica <= 1 Integer\n",
      "0 <= Runa_dano_poison_Crazed_Summer_Rearguard <= 1 Integer\n",
      "0 <= Runa_dano_poison_Crazed_Summer_Vanguard <= 1 Integer\n",
      "0 <= Runa_dano_poison_Insane_Siren <= 1 Integer\n",
      "0 <= Runa_dano_poison_Lacewing_Moth <= 1 Integer\n",
      "0 <= Runa_dano_poison_Thanatursus <= 1 Integer\n",
      "0 <= Runa_reflect_Arachnophobica <= 1 Integer\n",
      "0 <= Runa_reflect_Crazed_Summer_Rearguard <= 1 Integer\n",
      "0 <= Runa_reflect_Crazed_Summer_Vanguard <= 1 Integer\n",
      "0 <= Runa_reflect_Insane_Siren <= 1 Integer\n",
      "0 <= Runa_reflect_Lacewing_Moth <= 1 Integer\n",
      "0 <= Runa_reflect_Thanatursus <= 1 Integer\n",
      "\n"
     ]
    }
   ],
   "source": [
    "print(model)"
   ]
  },
  {
   "cell_type": "markdown",
   "metadata": {},
   "source": [
    "# Resolvendo o modelo"
   ]
  },
  {
   "cell_type": "code",
   "execution_count": 18,
   "metadata": {},
   "outputs": [],
   "source": [
    "status = model.solve()"
   ]
  },
  {
   "cell_type": "markdown",
   "metadata": {},
   "source": [
    "## Resultados"
   ]
  },
  {
   "cell_type": "code",
   "execution_count": 19,
   "metadata": {},
   "outputs": [
    {
     "name": "stdout",
     "output_type": "stream",
     "text": [
      "A solução é considerada Optimal\n",
      "O maior DPS encontrado foi de 224.67462500000005\n",
      "\n",
      "=======================================================\n",
      "Para esse DPS as runas devem ser alocadas da seguinte forma:\n",
      "\n",
      "Runa de dano Físico:\n",
      "dano_fisico_Insane_Siren 1.0\n",
      "\n",
      "Runa de dano Poison:\n",
      "dano_poison_Lacewing_Moth 1.0\n",
      "\n",
      "Runa de dano Fire:\n",
      "\n",
      "Runa de dano Death:\n",
      "dano_death_Thanatursus 1.0\n",
      "\n",
      "Runa de dano Energy:\n",
      "dano_energy_Crazed_Summer_Rearguard 1.0\n",
      "\n",
      "Runa de dano Holy:\n",
      "dano_holy_Arachnophobica 1.0\n",
      "\n",
      "Runa de dano Ice:\n",
      "dano_ice_Crazed_Summer_Vanguard 1.0\n",
      "\n",
      "Runa de reflect de dano:\n"
     ]
    }
   ],
   "source": [
    "print(f'A solução é considerada {LpStatus[status]}')\n",
    "print(f'O maior DPS encontrado foi de {value(model.objective)}')\n",
    "print(\"\")\n",
    "print(\"=======================================================\")\n",
    "print(\"Para esse DPS as runas devem ser alocadas da seguinte forma:\")\n",
    "\n",
    "print(\"\")\n",
    "print(\"Runa de dano Físico:\")\n",
    "runas = [i for i in var.keys() if 'dano_fisico' in i]\n",
    "for runa in runas:\n",
    "    if value(var[runa])!=0:\n",
    "        print(runa,value(var[runa]))\n",
    "        \n",
    "print(\"\")\n",
    "print(\"Runa de dano Poison:\")\n",
    "runas = [i for i in var.keys() if 'dano_poison' in i]\n",
    "for runa in runas:\n",
    "    if value(var[runa])!=0:\n",
    "        print(runa,value(var[runa]))\n",
    "        \n",
    "print(\"\")\n",
    "print(\"Runa de dano Fire:\")\n",
    "runas = [i for i in var.keys() if 'dano_fire' in i]\n",
    "for runa in runas:\n",
    "    if value(var[runa])!=0:\n",
    "        print(runa,value(var[runa]))\n",
    "        \n",
    "print(\"\")\n",
    "print(\"Runa de dano Death:\")\n",
    "runas = [i for i in var.keys() if 'dano_death' in i]\n",
    "for runa in runas:\n",
    "    if value(var[runa])!=0:\n",
    "        print(runa,value(var[runa]))\n",
    "        \n",
    "print(\"\")\n",
    "print(\"Runa de dano Energy:\")\n",
    "runas = [i for i in var.keys() if 'dano_energy' in i]\n",
    "for runa in runas:\n",
    "    if value(var[runa])!=0:\n",
    "        print(runa,value(var[runa]))\n",
    "        \n",
    "print(\"\")\n",
    "print(\"Runa de dano Holy:\")\n",
    "runas = [i for i in var.keys() if 'dano_holy' in i]\n",
    "for runa in runas:\n",
    "    if value(var[runa])!=0:\n",
    "        print(runa,value(var[runa]))\n",
    "        \n",
    "print(\"\")\n",
    "print(\"Runa de dano Ice:\")\n",
    "runas = [i for i in var.keys() if 'dano_ice' in i]\n",
    "for runa in runas:\n",
    "    if value(var[runa])!=0:\n",
    "        print(runa,value(var[runa]))\n",
    "        \n",
    "print(\"\")\n",
    "print(\"Runa de reflect de dano:\")\n",
    "runas = [i for i in var2.keys() if 'reflect' in i]\n",
    "for runa in runas:\n",
    "    if value(var2[runa])!=0:\n",
    "        print(runa,value(var2[runa]))"
   ]
  },
  {
   "cell_type": "markdown",
   "metadata": {},
   "source": [
    "# Avaliação dos resultados"
   ]
  },
  {
   "cell_type": "markdown",
   "metadata": {},
   "source": [
    "- Dano Físico: Insane_Siren\n",
    "- Dano Poison: Lacewing_Moth\n",
    "- Dano Death: Thanatursus\n",
    "- Dano Energy: Crazed_Summer_Rearguard\n",
    "- Dano Holy: Arachnophobica\n",
    "- Dano Ice: Crazed_Summer_Vanguard"
   ]
  },
  {
   "cell_type": "code",
   "execution_count": 20,
   "metadata": {},
   "outputs": [],
   "source": [
    "import pandas as pd\n",
    "import numpy as np\n",
    "\n",
    "df_resultados = pd.DataFrame()\n",
    "\n",
    "for criatura in dicionario_criaturas.keys():\n",
    "   \n",
    "    DPS_fisico = chance_ativacao_runa * dicionario_criaturas[criatura]['proporcao_respawn'] * dicionario_criaturas[criatura]['turnos_dano_para_morte'] * dicionario_criaturas[criatura]['dano_fisico'] * dano_runa_elemental *  dicionario_criaturas[criatura]['vida']\n",
    "    \n",
    "    DPS_poison = chance_ativacao_runa *   dicionario_criaturas[criatura]['proporcao_respawn'] *dicionario_criaturas[criatura]['turnos_dano_para_morte'] *dicionario_criaturas[criatura]['dano_poison'] *dano_runa_elemental * dicionario_criaturas[criatura]['vida']\n",
    "                    \n",
    "    DPS_fire = chance_ativacao_runa *   dicionario_criaturas[criatura]['proporcao_respawn'] *dicionario_criaturas[criatura]['turnos_dano_para_morte'] *dicionario_criaturas[criatura]['dano_fire'] *dano_runa_elemental * dicionario_criaturas[criatura]['vida']\n",
    "    \n",
    "    DPS_death = chance_ativacao_runa *   dicionario_criaturas[criatura]['proporcao_respawn'] *dicionario_criaturas[criatura]['turnos_dano_para_morte'] *dicionario_criaturas[criatura]['dano_death'] *dano_runa_elemental *  dicionario_criaturas[criatura]['vida']\n",
    "    \n",
    "    DPS_energy = chance_ativacao_runa *   dicionario_criaturas[criatura]['proporcao_respawn'] *dicionario_criaturas[criatura]['turnos_dano_para_morte'] *dicionario_criaturas[criatura]['dano_energy'] *dano_runa_elemental * dicionario_criaturas[criatura]['vida']\n",
    "    \n",
    "    DPS_holy = chance_ativacao_runa *   dicionario_criaturas[criatura]['proporcao_respawn'] *dicionario_criaturas[criatura]['turnos_dano_para_morte'] *dicionario_criaturas[criatura]['dano_holy'] *dano_runa_elemental * dicionario_criaturas[criatura]['vida']\n",
    "    \n",
    "    DPS_ice = chance_ativacao_runa *   dicionario_criaturas[criatura]['proporcao_respawn'] *dicionario_criaturas[criatura]['turnos_dano_para_morte'] *dicionario_criaturas[criatura]['dano_ice'] *dano_runa_elemental * dicionario_criaturas[criatura]['vida']\n",
    "    \n",
    "    DPS_reflect = chance_ativacao_runa *  dicionario_criaturas[criatura]['proporcao_respawn'] * dicionario_criaturas[criatura]['qtd_golpes_distintos'] * dicionario_criaturas[criatura]['dano_medio_golpe'] \n",
    "\n",
    "    df_resultados_iteracao = pd.DataFrame(np.array([[criatura, DPS_fisico,DPS_poison,DPS_fire,DPS_death,DPS_energy,DPS_holy,DPS_ice,DPS_reflect]]), columns=['criatura','fisico','poison','fire','death','energy','holy','ice','reflect'])  \n",
    "    df_resultados = pd.concat([df_resultados,df_resultados_iteracao])\n"
   ]
  },
  {
   "cell_type": "code",
   "execution_count": 21,
   "metadata": {},
   "outputs": [
    {
     "data": {
      "text/html": [
       "<div>\n",
       "<style scoped>\n",
       "    .dataframe tbody tr th:only-of-type {\n",
       "        vertical-align: middle;\n",
       "    }\n",
       "\n",
       "    .dataframe tbody tr th {\n",
       "        vertical-align: top;\n",
       "    }\n",
       "\n",
       "    .dataframe thead th {\n",
       "        text-align: right;\n",
       "    }\n",
       "</style>\n",
       "<table border=\"1\" class=\"dataframe\">\n",
       "  <thead>\n",
       "    <tr style=\"text-align: right;\">\n",
       "      <th></th>\n",
       "      <th>criatura</th>\n",
       "      <th>fisico</th>\n",
       "      <th>poison</th>\n",
       "      <th>fire</th>\n",
       "      <th>death</th>\n",
       "      <th>energy</th>\n",
       "      <th>holy</th>\n",
       "      <th>ice</th>\n",
       "      <th>reflect</th>\n",
       "    </tr>\n",
       "  </thead>\n",
       "  <tbody>\n",
       "    <tr>\n",
       "      <th>0</th>\n",
       "      <td>Arachnophobica</td>\n",
       "      <td>5.820</td>\n",
       "      <td>5.820</td>\n",
       "      <td>5.820</td>\n",
       "      <td>2.910</td>\n",
       "      <td>2.910</td>\n",
       "      <td>8.148</td>\n",
       "      <td>5.820</td>\n",
       "      <td>6.266</td>\n",
       "    </tr>\n",
       "    <tr>\n",
       "      <th>0</th>\n",
       "      <td>Crazed_Summer_Vanguard</td>\n",
       "      <td>71.052</td>\n",
       "      <td>71.052</td>\n",
       "      <td>35.526</td>\n",
       "      <td>71.052</td>\n",
       "      <td>71.052</td>\n",
       "      <td>56.841</td>\n",
       "      <td>92.367</td>\n",
       "      <td>44.846</td>\n",
       "    </tr>\n",
       "    <tr>\n",
       "      <th>0</th>\n",
       "      <td>Crazed_Summer_Rearguard</td>\n",
       "      <td>63.682</td>\n",
       "      <td>63.682</td>\n",
       "      <td>31.841</td>\n",
       "      <td>63.682</td>\n",
       "      <td>63.682</td>\n",
       "      <td>50.946</td>\n",
       "      <td>82.787</td>\n",
       "      <td>26.091</td>\n",
       "    </tr>\n",
       "    <tr>\n",
       "      <th>0</th>\n",
       "      <td>Insane_Siren</td>\n",
       "      <td>47.247</td>\n",
       "      <td>42.952</td>\n",
       "      <td>19.328</td>\n",
       "      <td>42.952</td>\n",
       "      <td>42.952</td>\n",
       "      <td>32.214</td>\n",
       "      <td>51.542</td>\n",
       "      <td>25.960</td>\n",
       "    </tr>\n",
       "    <tr>\n",
       "      <th>0</th>\n",
       "      <td>Lacewing_Moth</td>\n",
       "      <td>0.270</td>\n",
       "      <td>0.270</td>\n",
       "      <td>0.270</td>\n",
       "      <td>0.270</td>\n",
       "      <td>0.270</td>\n",
       "      <td>0.270</td>\n",
       "      <td>0.270</td>\n",
       "      <td>0.240</td>\n",
       "    </tr>\n",
       "    <tr>\n",
       "      <th>0</th>\n",
       "      <td>Thanatursus</td>\n",
       "      <td>7.560</td>\n",
       "      <td>10.800</td>\n",
       "      <td>10.800</td>\n",
       "      <td>12.960</td>\n",
       "      <td>5.400</td>\n",
       "      <td>8.640</td>\n",
       "      <td>10.800</td>\n",
       "      <td>3.750</td>\n",
       "    </tr>\n",
       "  </tbody>\n",
       "</table>\n",
       "</div>"
      ],
      "text/plain": [
       "                  criatura  fisico  poison    fire   death  energy    holy  \\\n",
       "0           Arachnophobica   5.820   5.820   5.820   2.910   2.910   8.148   \n",
       "0   Crazed_Summer_Vanguard  71.052  71.052  35.526  71.052  71.052  56.841   \n",
       "0  Crazed_Summer_Rearguard  63.682  63.682  31.841  63.682  63.682  50.946   \n",
       "0             Insane_Siren  47.247  42.952  19.328  42.952  42.952  32.214   \n",
       "0            Lacewing_Moth   0.270   0.270   0.270   0.270   0.270   0.270   \n",
       "0              Thanatursus   7.560  10.800  10.800  12.960   5.400   8.640   \n",
       "\n",
       "      ice  reflect  \n",
       "0   5.820    6.266  \n",
       "0  92.367   44.846  \n",
       "0  82.787   26.091  \n",
       "0  51.542   25.960  \n",
       "0   0.270    0.240  \n",
       "0  10.800    3.750  "
      ]
     },
     "execution_count": 21,
     "metadata": {},
     "output_type": "execute_result"
    }
   ],
   "source": [
    "for col in df_resultados.columns[1:]:\n",
    "    df_resultados[col] = df_resultados[col].apply(lambda x: round(float(x),3))\n",
    "df_resultados"
   ]
  },
  {
   "cell_type": "markdown",
   "metadata": {},
   "source": [
    "- Dano Físico: Insane_Siren\n",
    "- Dano Poison: Lacewing_Moth\n",
    "- Dano Death: Thanatursus\n",
    "- Dano Energy: Crazed_Summer_Rearguard\n",
    "- Dano Holy: Arachnophobica\n",
    "- Dano Ice: Crazed_Summer_Vanguard"
   ]
  },
  {
   "cell_type": "code",
   "execution_count": 22,
   "metadata": {},
   "outputs": [
    {
     "data": {
      "text/plain": [
       "224.67400000000004"
      ]
     },
     "execution_count": 22,
     "metadata": {},
     "output_type": "execute_result"
    }
   ],
   "source": [
    "47.247+0.270+12.960+63.682+8.148+92.367"
   ]
  },
  {
   "cell_type": "code",
   "execution_count": 23,
   "metadata": {},
   "outputs": [
    {
     "data": {
      "text/plain": [
       "224.67462500000005"
      ]
     },
     "execution_count": 23,
     "metadata": {},
     "output_type": "execute_result"
    }
   ],
   "source": [
    "value(model.objective)"
   ]
  },
  {
   "cell_type": "markdown",
   "metadata": {},
   "source": [
    "- Não há qualquer outra combinação de runas que supere o DPS adicional de 224.67 de dano por criatura.  Vamos checar se essa afirmação é realmente correta utilizando a força bruta."
   ]
  },
  {
   "cell_type": "markdown",
   "metadata": {},
   "source": [
    "# Validação dos resultados - por meio da força bruta"
   ]
  },
  {
   "cell_type": "code",
   "execution_count": 24,
   "metadata": {},
   "outputs": [],
   "source": [
    "lista_de_listas = []\n",
    "for criatura in df_resultados.criatura.unique():\n",
    "    lista_danos = df_resultados[df_resultados['criatura']==criatura].values[0][1:].tolist()\n",
    "    lista_de_listas.append(lista_danos)"
   ]
  },
  {
   "cell_type": "code",
   "execution_count": 25,
   "metadata": {},
   "outputs": [
    {
     "data": {
      "text/html": [
       "<div>\n",
       "<style scoped>\n",
       "    .dataframe tbody tr th:only-of-type {\n",
       "        vertical-align: middle;\n",
       "    }\n",
       "\n",
       "    .dataframe tbody tr th {\n",
       "        vertical-align: top;\n",
       "    }\n",
       "\n",
       "    .dataframe thead th {\n",
       "        text-align: right;\n",
       "    }\n",
       "</style>\n",
       "<table border=\"1\" class=\"dataframe\">\n",
       "  <thead>\n",
       "    <tr style=\"text-align: right;\">\n",
       "      <th></th>\n",
       "      <th>criatura</th>\n",
       "      <th>fisico</th>\n",
       "      <th>poison</th>\n",
       "      <th>fire</th>\n",
       "      <th>death</th>\n",
       "      <th>energy</th>\n",
       "      <th>holy</th>\n",
       "      <th>ice</th>\n",
       "      <th>reflect</th>\n",
       "    </tr>\n",
       "  </thead>\n",
       "  <tbody>\n",
       "    <tr>\n",
       "      <th>0</th>\n",
       "      <td>Arachnophobica</td>\n",
       "      <td>5.820</td>\n",
       "      <td>5.820</td>\n",
       "      <td>5.820</td>\n",
       "      <td>2.910</td>\n",
       "      <td>2.910</td>\n",
       "      <td>8.148</td>\n",
       "      <td>5.820</td>\n",
       "      <td>6.266</td>\n",
       "    </tr>\n",
       "    <tr>\n",
       "      <th>0</th>\n",
       "      <td>Crazed_Summer_Vanguard</td>\n",
       "      <td>71.052</td>\n",
       "      <td>71.052</td>\n",
       "      <td>35.526</td>\n",
       "      <td>71.052</td>\n",
       "      <td>71.052</td>\n",
       "      <td>56.841</td>\n",
       "      <td>92.367</td>\n",
       "      <td>44.846</td>\n",
       "    </tr>\n",
       "    <tr>\n",
       "      <th>0</th>\n",
       "      <td>Crazed_Summer_Rearguard</td>\n",
       "      <td>63.682</td>\n",
       "      <td>63.682</td>\n",
       "      <td>31.841</td>\n",
       "      <td>63.682</td>\n",
       "      <td>63.682</td>\n",
       "      <td>50.946</td>\n",
       "      <td>82.787</td>\n",
       "      <td>26.091</td>\n",
       "    </tr>\n",
       "    <tr>\n",
       "      <th>0</th>\n",
       "      <td>Insane_Siren</td>\n",
       "      <td>47.247</td>\n",
       "      <td>42.952</td>\n",
       "      <td>19.328</td>\n",
       "      <td>42.952</td>\n",
       "      <td>42.952</td>\n",
       "      <td>32.214</td>\n",
       "      <td>51.542</td>\n",
       "      <td>25.960</td>\n",
       "    </tr>\n",
       "    <tr>\n",
       "      <th>0</th>\n",
       "      <td>Lacewing_Moth</td>\n",
       "      <td>0.270</td>\n",
       "      <td>0.270</td>\n",
       "      <td>0.270</td>\n",
       "      <td>0.270</td>\n",
       "      <td>0.270</td>\n",
       "      <td>0.270</td>\n",
       "      <td>0.270</td>\n",
       "      <td>0.240</td>\n",
       "    </tr>\n",
       "    <tr>\n",
       "      <th>0</th>\n",
       "      <td>Thanatursus</td>\n",
       "      <td>7.560</td>\n",
       "      <td>10.800</td>\n",
       "      <td>10.800</td>\n",
       "      <td>12.960</td>\n",
       "      <td>5.400</td>\n",
       "      <td>8.640</td>\n",
       "      <td>10.800</td>\n",
       "      <td>3.750</td>\n",
       "    </tr>\n",
       "  </tbody>\n",
       "</table>\n",
       "</div>"
      ],
      "text/plain": [
       "                  criatura  fisico  poison    fire   death  energy    holy  \\\n",
       "0           Arachnophobica   5.820   5.820   5.820   2.910   2.910   8.148   \n",
       "0   Crazed_Summer_Vanguard  71.052  71.052  35.526  71.052  71.052  56.841   \n",
       "0  Crazed_Summer_Rearguard  63.682  63.682  31.841  63.682  63.682  50.946   \n",
       "0             Insane_Siren  47.247  42.952  19.328  42.952  42.952  32.214   \n",
       "0            Lacewing_Moth   0.270   0.270   0.270   0.270   0.270   0.270   \n",
       "0              Thanatursus   7.560  10.800  10.800  12.960   5.400   8.640   \n",
       "\n",
       "      ice  reflect  \n",
       "0   5.820    6.266  \n",
       "0  92.367   44.846  \n",
       "0  82.787   26.091  \n",
       "0  51.542   25.960  \n",
       "0   0.270    0.240  \n",
       "0  10.800    3.750  "
      ]
     },
     "execution_count": 25,
     "metadata": {},
     "output_type": "execute_result"
    }
   ],
   "source": [
    "df_resultados"
   ]
  },
  {
   "cell_type": "code",
   "execution_count": 26,
   "metadata": {},
   "outputs": [
    {
     "data": {
      "text/plain": [
       "[[5.82, 5.82, 5.82, 2.91, 2.91, 8.148, 5.82, 6.266],\n",
       " [71.052, 71.052, 35.526, 71.052, 71.052, 56.841, 92.367, 44.846],\n",
       " [63.682, 63.682, 31.841, 63.682, 63.682, 50.946, 82.787, 26.091],\n",
       " [47.247, 42.952, 19.328, 42.952, 42.952, 32.214, 51.542, 25.96],\n",
       " [0.27, 0.27, 0.27, 0.27, 0.27, 0.27, 0.27, 0.24],\n",
       " [7.56, 10.8, 10.8, 12.96, 5.4, 8.64, 10.8, 3.75]]"
      ]
     },
     "execution_count": 26,
     "metadata": {},
     "output_type": "execute_result"
    }
   ],
   "source": [
    "lista_de_listas"
   ]
  },
  {
   "cell_type": "code",
   "execution_count": 27,
   "metadata": {},
   "outputs": [
    {
     "name": "stdout",
     "output_type": "stream",
     "text": [
      "encontrado novo DPS maximo de 160.57500000000005, com elementos 5.82,71.052,31.841,42.952,0.27,8.64\n",
      "encontrado novo DPS maximo de 162.73500000000004, com elementos 5.82,71.052,31.841,42.952,0.27,10.8\n",
      "encontrado novo DPS maximo de 164.89500000000004, com elementos 5.82,71.052,31.841,42.952,0.27,12.96\n",
      "encontrado novo DPS maximo de 165.92500000000004, com elementos 5.82,71.052,31.841,51.542,0.27,5.4\n",
      "encontrado novo DPS maximo de 169.16500000000002, com elementos 5.82,71.052,31.841,51.542,0.27,8.64\n",
      "encontrado novo DPS maximo de 173.48500000000004, com elementos 5.82,71.052,31.841,51.542,0.27,12.96\n",
      "encontrado novo DPS maximo de 192.41600000000005, com elementos 5.82,71.052,63.682,42.952,0.27,8.64\n",
      "encontrado novo DPS maximo de 194.57600000000005, com elementos 5.82,71.052,63.682,42.952,0.27,10.8\n",
      "encontrado novo DPS maximo de 197.76600000000005, com elementos 5.82,71.052,63.682,51.542,0.27,5.4\n",
      "encontrado novo DPS maximo de 201.00600000000003, com elementos 5.82,71.052,63.682,51.542,0.27,8.64\n",
      "encontrado novo DPS maximo de 203.16600000000005, com elementos 5.82,71.052,63.682,51.542,0.27,10.8\n",
      "encontrado novo DPS maximo de 205.32600000000005, com elementos 5.82,71.052,63.682,51.542,0.27,12.96\n",
      "encontrado novo DPS maximo de 208.28100000000003, com elementos 5.82,71.052,82.787,42.952,0.27,5.4\n",
      "encontrado novo DPS maximo de 211.52100000000002, com elementos 5.82,71.052,82.787,42.952,0.27,8.64\n",
      "encontrado novo DPS maximo de 213.68100000000004, com elementos 5.82,71.052,82.787,42.952,0.27,10.8\n",
      "encontrado novo DPS maximo de 215.84100000000004, com elementos 5.82,71.052,82.787,42.952,0.27,12.96\n",
      "encontrado novo DPS maximo de 215.89100000000005, com elementos 5.82,92.367,63.682,42.952,0.27,10.8\n",
      "encontrado novo DPS maximo de 218.05100000000004, com elementos 5.82,92.367,63.682,42.952,0.27,12.96\n",
      "encontrado novo DPS maximo de 220.13600000000002, com elementos 5.82,71.052,82.787,47.247,0.27,12.96\n",
      "encontrado novo DPS maximo de 220.18600000000006, com elementos 5.82,92.367,63.682,47.247,0.27,10.8\n",
      "encontrado novo DPS maximo de 222.34600000000006, com elementos 5.82,92.367,63.682,47.247,0.27,12.96\n",
      "encontrado novo DPS maximo de 222.46400000000006, com elementos 8.148,71.052,82.787,47.247,0.27,12.96\n",
      "encontrado novo DPS maximo de 224.67400000000004, com elementos 8.148,92.367,63.682,47.247,0.27,12.96\n"
     ]
    }
   ],
   "source": [
    "lista_indexes = [0,1,2,3,4,5,6]\n",
    "DPS_max = 0\n",
    "\n",
    "## Loop criatura 1\n",
    "for index_elemento1 in lista_indexes:\n",
    "    elemento1 = lista_de_listas[0][index_elemento1]\n",
    "    nova_lista_indexes = [i for i in lista_indexes if i!=index_elemento1]\n",
    "\n",
    "    ## Loop criatura 2\n",
    "    for index_elemento2 in nova_lista_indexes:\n",
    "        elemento2 = lista_de_listas[1][index_elemento2]\n",
    "        nova_lista_indexes = [i for i in lista_indexes if i not in [index_elemento1,index_elemento2]]\n",
    "        \n",
    "        ## Loop criatura 3        \n",
    "        for index_elemento3 in nova_lista_indexes:\n",
    "            elemento3 = lista_de_listas[2][index_elemento3]\n",
    "            nova_lista_indexes = [i for i in lista_indexes if i not in [index_elemento1,index_elemento2,index_elemento3]]\n",
    "            \n",
    "            ## Loop criatura 4        \n",
    "            for index_elemento4 in nova_lista_indexes:\n",
    "                elemento4 = lista_de_listas[3][index_elemento4]\n",
    "                nova_lista_indexes = [i for i in lista_indexes if i not in [index_elemento1,index_elemento2,index_elemento3,index_elemento4]]\n",
    "\n",
    "                ## Loop criatura 5      \n",
    "                for index_elemento5 in nova_lista_indexes:\n",
    "                    elemento5 = lista_de_listas[4][index_elemento5]\n",
    "                    nova_lista_indexes = [i for i in lista_indexes if i not in [index_elemento1,index_elemento2,index_elemento3,index_elemento4,index_elemento5]]\n",
    "\n",
    "                    \n",
    "                    ## Loop criatura 6     \n",
    "                    for index_elemento6 in nova_lista_indexes:\n",
    "                        elemento6 = lista_de_listas[5][index_elemento6]\n",
    "                        nova_lista_indexes = [i for i in lista_indexes if i not in [index_elemento1,index_elemento2,index_elemento3,index_elemento4,index_elemento5,index_elemento6]]\n",
    "\n",
    "                        DPS = elemento1+elemento2+elemento3+elemento4+elemento5+elemento6\n",
    "                        if DPS > DPS_max:\n",
    "                            print(f'encontrado novo DPS maximo de {DPS}, com elementos {elemento1},{elemento2},{elemento3},{elemento4},{elemento5},{elemento6}')\n",
    "                            DPS_max = DPS"
   ]
  },
  {
   "cell_type": "markdown",
   "metadata": {},
   "source": [
    "**Foi encontrado o max dps de 224.67 com a composição de runas identicas a encontradas na solução anterior:**"
   ]
  },
  {
   "cell_type": "code",
   "execution_count": 28,
   "metadata": {},
   "outputs": [
    {
     "data": {
      "text/html": [
       "<div>\n",
       "<style scoped>\n",
       "    .dataframe tbody tr th:only-of-type {\n",
       "        vertical-align: middle;\n",
       "    }\n",
       "\n",
       "    .dataframe tbody tr th {\n",
       "        vertical-align: top;\n",
       "    }\n",
       "\n",
       "    .dataframe thead th {\n",
       "        text-align: right;\n",
       "    }\n",
       "</style>\n",
       "<table border=\"1\" class=\"dataframe\">\n",
       "  <thead>\n",
       "    <tr style=\"text-align: right;\">\n",
       "      <th></th>\n",
       "      <th>criatura</th>\n",
       "      <th>fisico</th>\n",
       "      <th>poison</th>\n",
       "      <th>fire</th>\n",
       "      <th>death</th>\n",
       "      <th>energy</th>\n",
       "      <th>holy</th>\n",
       "      <th>ice</th>\n",
       "      <th>reflect</th>\n",
       "    </tr>\n",
       "  </thead>\n",
       "  <tbody>\n",
       "    <tr>\n",
       "      <th>0</th>\n",
       "      <td>Arachnophobica</td>\n",
       "      <td>5.820</td>\n",
       "      <td>5.820</td>\n",
       "      <td>5.820</td>\n",
       "      <td>2.910</td>\n",
       "      <td>2.910</td>\n",
       "      <td>8.148</td>\n",
       "      <td>5.820</td>\n",
       "      <td>6.266</td>\n",
       "    </tr>\n",
       "    <tr>\n",
       "      <th>0</th>\n",
       "      <td>Crazed_Summer_Vanguard</td>\n",
       "      <td>71.052</td>\n",
       "      <td>71.052</td>\n",
       "      <td>35.526</td>\n",
       "      <td>71.052</td>\n",
       "      <td>71.052</td>\n",
       "      <td>56.841</td>\n",
       "      <td>92.367</td>\n",
       "      <td>44.846</td>\n",
       "    </tr>\n",
       "    <tr>\n",
       "      <th>0</th>\n",
       "      <td>Crazed_Summer_Rearguard</td>\n",
       "      <td>63.682</td>\n",
       "      <td>63.682</td>\n",
       "      <td>31.841</td>\n",
       "      <td>63.682</td>\n",
       "      <td>63.682</td>\n",
       "      <td>50.946</td>\n",
       "      <td>82.787</td>\n",
       "      <td>26.091</td>\n",
       "    </tr>\n",
       "    <tr>\n",
       "      <th>0</th>\n",
       "      <td>Insane_Siren</td>\n",
       "      <td>47.247</td>\n",
       "      <td>42.952</td>\n",
       "      <td>19.328</td>\n",
       "      <td>42.952</td>\n",
       "      <td>42.952</td>\n",
       "      <td>32.214</td>\n",
       "      <td>51.542</td>\n",
       "      <td>25.960</td>\n",
       "    </tr>\n",
       "    <tr>\n",
       "      <th>0</th>\n",
       "      <td>Lacewing_Moth</td>\n",
       "      <td>0.270</td>\n",
       "      <td>0.270</td>\n",
       "      <td>0.270</td>\n",
       "      <td>0.270</td>\n",
       "      <td>0.270</td>\n",
       "      <td>0.270</td>\n",
       "      <td>0.270</td>\n",
       "      <td>0.240</td>\n",
       "    </tr>\n",
       "    <tr>\n",
       "      <th>0</th>\n",
       "      <td>Thanatursus</td>\n",
       "      <td>7.560</td>\n",
       "      <td>10.800</td>\n",
       "      <td>10.800</td>\n",
       "      <td>12.960</td>\n",
       "      <td>5.400</td>\n",
       "      <td>8.640</td>\n",
       "      <td>10.800</td>\n",
       "      <td>3.750</td>\n",
       "    </tr>\n",
       "  </tbody>\n",
       "</table>\n",
       "</div>"
      ],
      "text/plain": [
       "                  criatura  fisico  poison    fire   death  energy    holy  \\\n",
       "0           Arachnophobica   5.820   5.820   5.820   2.910   2.910   8.148   \n",
       "0   Crazed_Summer_Vanguard  71.052  71.052  35.526  71.052  71.052  56.841   \n",
       "0  Crazed_Summer_Rearguard  63.682  63.682  31.841  63.682  63.682  50.946   \n",
       "0             Insane_Siren  47.247  42.952  19.328  42.952  42.952  32.214   \n",
       "0            Lacewing_Moth   0.270   0.270   0.270   0.270   0.270   0.270   \n",
       "0              Thanatursus   7.560  10.800  10.800  12.960   5.400   8.640   \n",
       "\n",
       "      ice  reflect  \n",
       "0   5.820    6.266  \n",
       "0  92.367   44.846  \n",
       "0  82.787   26.091  \n",
       "0  51.542   25.960  \n",
       "0   0.270    0.240  \n",
       "0  10.800    3.750  "
      ]
     },
     "execution_count": 28,
     "metadata": {},
     "output_type": "execute_result"
    }
   ],
   "source": [
    "df_resultados"
   ]
  },
  {
   "cell_type": "markdown",
   "metadata": {},
   "source": [
    "Arachnophobica: 8.148 -> holy  \n",
    "Crazed_Summer_Vanguard: 92.367 -> ice  \n",
    "Crazed_Summer_Rearguard: 63.682 -> energy  \n",
    "Insane_Siren: 47.247 -> fisico  \n",
    "Lacewing_Moth: 0.27 -> poison ou fire  \n",
    "Thanatursus: 12.96 -> death  "
   ]
  },
  {
   "cell_type": "code",
   "execution_count": null,
   "metadata": {},
   "outputs": [],
   "source": []
  }
 ],
 "metadata": {
  "kernelspec": {
   "display_name": "Python 3",
   "language": "python",
   "name": "python3"
  },
  "language_info": {
   "codemirror_mode": {
    "name": "ipython",
    "version": 3
   },
   "file_extension": ".py",
   "mimetype": "text/x-python",
   "name": "python",
   "nbconvert_exporter": "python",
   "pygments_lexer": "ipython3",
   "version": "3.8.3"
  }
 },
 "nbformat": 4,
 "nbformat_minor": 4
}
